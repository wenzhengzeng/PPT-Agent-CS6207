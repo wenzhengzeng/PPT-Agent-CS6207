{
 "cells": [
  {
   "cell_type": "code",
   "execution_count": 1,
   "metadata": {},
   "outputs": [
    {
     "name": "stderr",
     "output_type": "stream",
     "text": [
      "/Users/yyyang/miniconda3/envs/ppt/lib/python3.11/site-packages/tqdm/auto.py:21: TqdmWarning: IProgress not found. Please update jupyter and ipywidgets. See https://ipywidgets.readthedocs.io/en/stable/user_install.html\n",
      "  from .autonotebook import tqdm as notebook_tqdm\n"
     ]
    }
   ],
   "source": [
    "%load_ext autoreload\n",
    "%autoreload 2\n",
    "\n",
    "import hashlib\n",
    "import json\n",
    "import os\n",
    "import sys\n",
    "import uuid\n",
    "from copy import deepcopy\n",
    "from datetime import datetime\n",
    "\n",
    "import PIL.Image\n",
    "import torch\n",
    "\n",
    "# PYTHONPATH=PPTAgent/src:$PYTHONPATH\n",
    "os.sys.path.append('./src')\n",
    "\n",
    "# --- imports from your project ---\n",
    "from FlagEmbedding import BGEM3FlagModel\n",
    "from marker.models import create_model_dict\n",
    "import induct\n",
    "from llms import LLM, setup_models\n",
    "import pptgen\n",
    "from model_utils import get_image_model, parse_pdf\n",
    "from multimodal import ImageLabler\n",
    "from presentation import Presentation\n",
    "from utils import Config, is_image_path, pjoin, ppt_to_images\n",
    "from doc_handling import refine_document\n",
    "from topic_gen import topic_generate\n",
    "\n",
    "# load api key\n",
    "with open('api_key.json', 'r') as f:\n",
    "    api_key = json.load(f)\n",
    "    openai_api_key = api_key['openai_api_key']\n",
    "\n",
    "LLM_MODEL = LLM(model=\"gpt-4o-2024-11-20\",\n",
    "                api_key=openai_api_key)\n",
    "\n",
    "\n",
    "RUNS_DIR = \"runs\"\n",
    "STAGES = [\n",
    "    \"PPT Parsing\",\n",
    "    \"PDF/Topic Parsing\",\n",
    "    \"Slide Induction\",\n",
    "    \"PPT Generation\",\n",
    "    \"Success!\",\n",
    "]\n",
    "CAPTION_PROMPT_PATH = \"prompts/caption.txt\"\n",
    "# For demonstration, let's load exactly 1 model (instead of multiple).\n",
    "NUM_MODELS = 1\n",
    "DEVICE_COUNT = torch.cuda.device_count() or torch.mps.device_count()\n",
    "\n",
    "\n",
    "# --- **Task Configuration** ---\n",
    "output_dir = None\n",
    "# pdf = \"./examples/DeepSeek-R1-short.pdf\"\n",
    "pdf = None\n",
    "# ppt = \"./examples/default_template_unedit.pptx\"\n",
    "ppt = \"./examples/default_template-5p.pptx\"\n",
    "topic = \"Introduce the history of OpenAI\"  # won't be used if pdf is provided\n",
    "slides = 5"
   ]
  },
  {
   "cell_type": "code",
   "execution_count": 2,
   "metadata": {},
   "outputs": [
    {
     "name": "stdout",
     "output_type": "stream",
     "text": [
      "[INFO] Setting up models...\n"
     ]
    },
    {
     "data": {
      "text/html": [
       "<pre style=\"white-space:pre;overflow-x:auto;line-height:normal;font-family:Menlo,'DejaVu Sans Mono',consolas,'Courier New',monospace\"><span style=\"color: #008000; text-decoration-color: #008000\">Primary models connected successfully: gpt-4o-</span><span style=\"color: #008080; text-decoration-color: #008080; font-weight: bold\">2024</span><span style=\"color: #008000; text-decoration-color: #008000\">-</span><span style=\"color: #008080; text-decoration-color: #008080; font-weight: bold\">11</span><span style=\"color: #008000; text-decoration-color: #008000\">-</span><span style=\"color: #008080; text-decoration-color: #008080; font-weight: bold\">20</span><span style=\"color: #008000; text-decoration-color: #008000\"> and gpt-4o-</span><span style=\"color: #008080; text-decoration-color: #008080; font-weight: bold\">2024</span><span style=\"color: #008000; text-decoration-color: #008000\">-</span><span style=\"color: #008080; text-decoration-color: #008080; font-weight: bold\">11</span><span style=\"color: #008000; text-decoration-color: #008000\">-</span><span style=\"color: #008080; text-decoration-color: #008080; font-weight: bold\">20</span>\n",
       "</pre>\n"
      ],
      "text/plain": [
       "\u001b[32mPrimary models connected successfully: gpt-4o-\u001b[0m\u001b[1;36m2024\u001b[0m\u001b[32m-\u001b[0m\u001b[1;36m11\u001b[0m\u001b[32m-\u001b[0m\u001b[1;36m20\u001b[0m\u001b[32m and gpt-4o-\u001b[0m\u001b[1;36m2024\u001b[0m\u001b[32m-\u001b[0m\u001b[1;36m11\u001b[0m\u001b[32m-\u001b[0m\u001b[1;36m20\u001b[0m\n"
      ]
     },
     "metadata": {},
     "output_type": "display_data"
    },
    {
     "name": "stdout",
     "output_type": "stream",
     "text": [
      "[DONE] Presentation generation complete.\n"
     ]
    }
   ],
   "source": [
    "# If user doesn't specify output_dir, create a unique one.\n",
    "if not output_dir:\n",
    "    dt_str = datetime.now().strftime(\"%Y%m%d_%H%M%S\")\n",
    "    unique_id = str(uuid.uuid4())[:8]\n",
    "    project_id = f\"{dt_str}_{unique_id}\"\n",
    "    output_dir = os.path.join(RUNS_DIR, project_id)\n",
    "else:\n",
    "    project_id = output_dir.split('/')[-1]\n",
    "\n",
    "# Basic checks\n",
    "if pdf is None and topic is None:\n",
    "    print(\"[ERROR] Must provide either --pdf or --topic.\")\n",
    "    sys.exit(1)\n",
    "if pdf and not os.path.exists(pdf):\n",
    "    print(f\"[ERROR] PDF file not found: {pdf}\")\n",
    "    sys.exit(1)\n",
    "\n",
    "print(\"[INFO] Setting up models...\")\n",
    "language_model = LLM_MODEL\n",
    "vision_model = LLM_MODEL\n",
    "setup_models(language_model, vision_model)\n",
    "\n",
    "ppt_template_path=ppt\n",
    "pdf_path=pdf\n",
    "topic=topic\n",
    "slides_count=slides\n",
    "output_dir=output_dir\n",
    "\n",
    "print(\"[DONE] Presentation generation complete.\")"
   ]
  },
  {
   "cell_type": "code",
   "execution_count": 3,
   "metadata": {},
   "outputs": [
    {
     "name": "stdout",
     "output_type": "stream",
     "text": [
      "[INFO] Using run directory: runs/20250202_215225_6eab0d6a\n"
     ]
    },
    {
     "name": "stderr",
     "output_type": "stream",
     "text": [
      "Fetching 30 files: 100%|██████████| 30/30 [00:00<00:00, 303202.70it/s]\n",
      "/Users/yyyang/miniconda3/envs/ppt/lib/python3.11/site-packages/FlagEmbedding/BGE_M3/modeling.py:335: FutureWarning: You are using `torch.load` with `weights_only=False` (the current default value), which uses the default pickle module implicitly. It is possible to construct malicious pickle data which will execute arbitrary code during unpickling (See https://github.com/pytorch/pytorch/blob/main/SECURITY.md#untrusted-models for more details). In a future release, the default value for `weights_only` will be flipped to `True`. This limits the functions that could be executed during unpickling. Arbitrary objects will no longer be allowed to be loaded via this mode unless they are explicitly allowlisted by the user via `torch.serialization.add_safe_globals`. We recommend you start setting `weights_only=True` for any use case where you don't have full control of the loaded file. Please open an issue on GitHub for any issues related to this experimental feature.\n",
      "  colbert_state_dict = torch.load(os.path.join(model_dir, 'colbert_linear.pt'), map_location='cpu')\n",
      "/Users/yyyang/miniconda3/envs/ppt/lib/python3.11/site-packages/FlagEmbedding/BGE_M3/modeling.py:336: FutureWarning: You are using `torch.load` with `weights_only=False` (the current default value), which uses the default pickle module implicitly. It is possible to construct malicious pickle data which will execute arbitrary code during unpickling (See https://github.com/pytorch/pytorch/blob/main/SECURITY.md#untrusted-models for more details). In a future release, the default value for `weights_only` will be flipped to `True`. This limits the functions that could be executed during unpickling. Arbitrary objects will no longer be allowed to be loaded via this mode unless they are explicitly allowlisted by the user via `torch.serialization.add_safe_globals`. We recommend you start setting `weights_only=True` for any use case where you don't have full control of the loaded file. Please open an issue on GitHub for any issues related to this experimental feature.\n",
      "  sparse_state_dict = torch.load(os.path.join(model_dir, 'sparse_linear.pt'), map_location='cpu')\n",
      "/Users/yyyang/miniconda3/envs/ppt/lib/python3.11/site-packages/transformers/models/vit/feature_extraction_vit.py:28: FutureWarning: The class ViTFeatureExtractor is deprecated and will be removed in version 5 of Transformers. Please use ViTImageProcessor instead.\n",
      "  warnings.warn(\n"
     ]
    },
    {
     "name": "stdout",
     "output_type": "stream",
     "text": [
      "Loaded layout model datalab-to/surya_layout on device mps with dtype torch.float16\n",
      "Loaded texify model to mps with torch.float16 dtype\n"
     ]
    },
    {
     "name": "stderr",
     "output_type": "stream",
     "text": [
      "Using a slow image processor as `use_fast` is unset and a slow processor was saved with this model. `use_fast=True` will be the default behavior in v4.48, even if the model was saved with a slow processor. This will result in minor differences in outputs. You'll still be able to use a slow processor with `use_fast=False`.\n"
     ]
    },
    {
     "name": "stdout",
     "output_type": "stream",
     "text": [
      "Loaded recognition model vikp/surya_rec2 on device mps with dtype torch.float16\n",
      "Loaded table recognition model vikp/surya_tablerec on device mps with dtype torch.float16\n",
      "Loaded detection model vikp/surya_det3 on device mps with dtype torch.float16\n"
     ]
    }
   ],
   "source": [
    "\"\"\"\n",
    "Given a PPT template and either a PDF file or a topic string,\n",
    "generate a final presentation (pptx).\n",
    "\"\"\"\n",
    "\n",
    "# Create the run folder\n",
    "os.makedirs(output_dir, exist_ok=True)\n",
    "print(f\"[INFO] Using run directory: {output_dir}\")\n",
    "\n",
    "# -- 1. Load models (text, image, marker) --\n",
    "# Here we do a simpler single-model approach\n",
    "text_model = BGEM3FlagModel(\"BAAI/bge-m3\", use_fp16=True, device=0)\n",
    "image_model = get_image_model(device=0)\n",
    "marker_model = create_model_dict(device=0, dtype=torch.float16)\n"
   ]
  },
  {
   "cell_type": "code",
   "execution_count": 4,
   "metadata": {},
   "outputs": [
    {
     "name": "stdout",
     "output_type": "stream",
     "text": [
      "[INFO] PPT Template MD5: f94b6c959a5907804512df07ddfbbbd6\n"
     ]
    }
   ],
   "source": [
    "# -- 2. Prepare the config objects --\n",
    "generation_config = Config(output_dir)\n",
    "# We'll store the \"pptx\" in a unique subfolder for safety.\n",
    "pptx_md5 = hashlib.md5(open(ppt_template_path, \"rb\").read()).hexdigest()\n",
    "pptx_config = Config(pjoin(RUNS_DIR, project_id, \"pptx\", pptx_md5))\n",
    "os.makedirs(pptx_config.RUN_DIR, exist_ok=True)\n",
    "\n",
    "# If you want to copy the PPT template into the \"pptx\" folder for caching:\n",
    "if not os.path.exists(pjoin(pptx_config.RUN_DIR, \"source.pptx\")):\n",
    "    os.system(f\"cp '{ppt_template_path}' '{pjoin(pptx_config.RUN_DIR, 'source.pptx')}'\")\n",
    "\n",
    "print(f\"[INFO] PPT Template MD5: {pptx_md5}\")\n"
   ]
  },
  {
   "cell_type": "code",
   "execution_count": 5,
   "metadata": {},
   "outputs": [
    {
     "name": "stdout",
     "output_type": "stream",
     "text": [
      "[STAGE] PPT Parsing\n"
     ]
    },
    {
     "data": {
      "text/plain": [
       "{}"
      ]
     },
     "execution_count": 5,
     "metadata": {},
     "output_type": "execute_result"
    }
   ],
   "source": [
    "# -- 3. Parse the PPT Template into a Presentation object --\n",
    "print(\"[STAGE] PPT Parsing\")\n",
    "presentation = Presentation.from_file(\n",
    "    pjoin(pptx_config.RUN_DIR, \"source.pptx\"), pptx_config\n",
    ")\n",
    "ppt_image_folder = pjoin(pptx_config.RUN_DIR, \"slide_images\")\n",
    "\n",
    "if not os.path.exists(ppt_image_folder) or len(os.listdir(ppt_image_folder)) == 0:\n",
    "    ppt_to_images(pjoin(pptx_config.RUN_DIR, \"source.pptx\"), ppt_image_folder)\n",
    "    # Because your original code expects the slides to be renamed to slide_{i:04d}.jpg,\n",
    "    # handle index alignment & remove error slides if any:\n",
    "    for err_idx, _ in presentation.error_history:\n",
    "        err_path = pjoin(ppt_image_folder, f\"slide_{err_idx:04d}.jpg\")\n",
    "        if os.path.exists(err_path):\n",
    "            os.remove(err_path)\n",
    "    # rename real_idx => slide_idx\n",
    "    for i, slide in enumerate(presentation.slides, start=1):\n",
    "        slide.slide_idx = i\n",
    "        old_name = pjoin(ppt_image_folder, f\"slide_{slide.real_idx:04d}.jpg\")\n",
    "        new_name = pjoin(ppt_image_folder, f\"slide_{slide.slide_idx:04d}.jpg\")\n",
    "        if os.path.exists(old_name):\n",
    "            os.rename(old_name, new_name)\n",
    "\n",
    "# You may optionally caption each slide image:\n",
    "labler = ImageLabler(vision_model=vision_model, presentation=presentation, config=pptx_config)\n",
    "labler.caption_images()"
   ]
  },
  {
   "cell_type": "code",
   "execution_count": 6,
   "metadata": {},
   "outputs": [
    {
     "name": "stdout",
     "output_type": "stream",
     "text": [
      "[STAGE] PDF/Topic Parsing\n",
      "[INFO] Generating from topic: 'Introduce the history of OpenAI'\n"
     ]
    },
    {
     "data": {
      "text/html": [
       "<pre style=\"white-space:pre;overflow-x:auto;line-height:normal;font-family:Menlo,'DejaVu Sans Mono',consolas,'Courier New',monospace\"><span style=\"color: #008000; text-decoration-color: #008000\">sending messages to: gpt-4o-</span><span style=\"color: #008080; text-decoration-color: #008080; font-weight: bold\">2024</span><span style=\"color: #008000; text-decoration-color: #008000\">-</span><span style=\"color: #008080; text-decoration-color: #008080; font-weight: bold\">11</span><span style=\"color: #008000; text-decoration-color: #008000\">-</span><span style=\"color: #008080; text-decoration-color: #008080; font-weight: bold\">20</span><span style=\"color: #008000; text-decoration-color: #008000\">, message </span><span style=\"color: #008000; text-decoration-color: #008000; font-weight: bold\">(</span><span style=\"color: #008000; text-decoration-color: #008000\">truncated</span><span style=\"color: #008000; text-decoration-color: #008000; font-weight: bold\">)</span><span style=\"color: #008000; text-decoration-color: #008000\">: </span><span style=\"color: #008000; text-decoration-color: #008000; font-weight: bold\">[{</span><span style=\"color: #008000; text-decoration-color: #008000\">'role'</span><span style=\"color: #008000; text-decoration-color: #008000\">: </span><span style=\"color: #008000; text-decoration-color: #008000\">'system'</span><span style=\"color: #008000; text-decoration-color: #008000\">, </span><span style=\"color: #008000; text-decoration-color: #008000\">'content'</span><span style=\"color: #008000; text-decoration-color: #008000\">: </span><span style=\"color: #008000; text-decoration-color: #008000; font-weight: bold\">[{</span><span style=\"color: #008000; text-decoration-color: #008000\">'type'</span><span style=\"color: #008000; text-decoration-color: #008000\">: </span><span style=\"color: #008000; text-decoration-color: #008000\">'text'</span><span style=\"color: #008000; text-decoration-color: #008000\">, </span>\n",
       "<span style=\"color: #008000; text-decoration-color: #008000\">'text'</span><span style=\"color: #008000; text-decoration-color: #008000\">: </span><span style=\"color: #008000; text-decoration-color: #008000\">'You are a document content divider and extractor specialist, expert in dividing and extracting content </span>\n",
       "<span style=\"color: #008000; text-decoration-color: #008000\">from various types of topics and reorganizing it into a two-level json format for later PPT generation.'</span><span style=\"color: #008000; text-decoration-color: #008000; font-weight: bold\">}]}</span><span style=\"color: #008000; text-decoration-color: #008000\">, </span>\n",
       "<span style=\"color: #008000; text-decoration-color: #008000\">'[{\"role\": \"user\", \"content\": [{\"type\": \"text\", \"text\": \"\\\\nBased on given markdown topic, generate a JSON output </span>\n",
       "<span style=\"color: #008000; text-decoration-color: #008000\">for later PPT generation, make sure the output is concise and focused.\\\\n\\\\nPlease generate a detailed presentation</span>\n",
       "<span style=\"color: #008000; text-decoration-color: #008000\">planning document about given topic. Detail to about 250 words. \\\\n\\\\nFollow the JSON format of the example </span>\n",
       "<span style=\"color: #008000; text-decoration-color: #008000\">output:\\\\n{\\\\n    \\\\\"metadata\\\\\": {\\\\n        \\\\\"title\\\\\": \\\\\"title of document\\\\\",\\\\n        \\\\\"author\\\\\": \\\\\"name</span>\n",
       "<span style=\"color: #008000; text-decoration-color: #008000\">of authors\\\\\",\\\\n        \\\\\"publish date\\\\\": \\\\\"date of publication\\\\\",\\\\n        \\\\\"organization\\\\\": \\\\\"name of </span>\n",
       "<span style=\"color: #008000; text-decoration-color: #008000\">organization\\\\\"\\\\n    },\\\\n    \\\\\"sections\\\\\": [\\\\n        {\\\\n            \\\\\"title\\\\\": \\\\\"title of section1\\\\\",\\\\n</span>\n",
       "<span style=\"color: #008000; text-decoration-color: #008000\">\\\\\"subsections\\\\\": [\\\\n                {\\\\n                    \\\\\"title\\\\\": \\\\\"title of subsection1.1\\\\\",\\\\n       </span>\n",
       "<span style=\"color: #008000; text-decoration-color: #008000\">\\\\\"content\\\\\": \\\\\"content of subsection1.1\\\\\"\\\\n                },\\\\n                {\\\\n                    </span>\n",
       "<span style=\"color: #008000; text-decoration-color: #008000\">\\\\\"title\\\\\": \\\\\"title of subsection1.2\\\\\",\\\\n                    \\\\\"content\\\\\": \\\\\"content of subsection1.2\\\\\"\\\\n  </span>\n",
       "<span style=\"color: #008000; text-decoration-color: #008000\">}\\\\n            ]\\\\n        },\\\\n        {\\\\n            \\\\\"title\\\\\": \\\\\"title of section2\\\\\",\\\\n            </span>\n",
       "<span style=\"color: #008000; text-decoration-color: #008000\">\\\\\"subsections\\\\\": [\\\\n                {\\\\n                    \\\\\"title\\\\\": \\\\\"title of subsection2.1\\\\\",\\\\n       </span>\n",
       "<span style=\"color: #008000; text-decoration-color: #008000\">\\\\\"content\\\\\": \\\\\"content of subsection2.1\\\\\"\\\\n                }\\\\n            ]\\\\n        }\\\\n    </span>\n",
       "<span style=\"color: #008000; text-decoration-color: #008000\">]\\\\n}\\\\n\\\\nGiven Topic: \\\\nIntroduce the history of OpenAI\\\\n\\\\nOutput:\"}]}]'</span><span style=\"color: #008000; text-decoration-color: #008000; font-weight: bold\">]</span>\n",
       "</pre>\n"
      ],
      "text/plain": [
       "\u001b[32msending messages to: gpt-4o-\u001b[0m\u001b[1;36m2024\u001b[0m\u001b[32m-\u001b[0m\u001b[1;36m11\u001b[0m\u001b[32m-\u001b[0m\u001b[1;36m20\u001b[0m\u001b[32m, message \u001b[0m\u001b[1;32m(\u001b[0m\u001b[32mtruncated\u001b[0m\u001b[1;32m)\u001b[0m\u001b[32m: \u001b[0m\u001b[1;32m[\u001b[0m\u001b[1;32m{\u001b[0m\u001b[32m'role'\u001b[0m\u001b[32m: \u001b[0m\u001b[32m'system'\u001b[0m\u001b[32m, \u001b[0m\u001b[32m'content'\u001b[0m\u001b[32m: \u001b[0m\u001b[1;32m[\u001b[0m\u001b[1;32m{\u001b[0m\u001b[32m'type'\u001b[0m\u001b[32m: \u001b[0m\u001b[32m'text'\u001b[0m\u001b[32m, \u001b[0m\n",
       "\u001b[32m'text'\u001b[0m\u001b[32m: \u001b[0m\u001b[32m'You are a document content divider and extractor specialist, expert in dividing and extracting content \u001b[0m\n",
       "\u001b[32mfrom various types of topics and reorganizing it into a two-level json format for later PPT generation.'\u001b[0m\u001b[1;32m}\u001b[0m\u001b[1;32m]\u001b[0m\u001b[1;32m}\u001b[0m\u001b[32m, \u001b[0m\n",
       "\u001b[32m'\u001b[0m\u001b[32m[\u001b[0m\u001b[32m{\u001b[0m\u001b[32m\"role\": \"user\", \"content\": \u001b[0m\u001b[32m[\u001b[0m\u001b[32m{\u001b[0m\u001b[32m\"type\": \"text\", \"text\": \"\\\\nBased on given markdown topic, generate a JSON output \u001b[0m\n",
       "\u001b[32mfor later PPT generation, make sure the output is concise and focused.\\\\n\\\\nPlease generate a detailed presentation\u001b[0m\n",
       "\u001b[32mplanning document about given topic. Detail to about 250 words. \\\\n\\\\nFollow the JSON format of the example \u001b[0m\n",
       "\u001b[32moutput:\\\\n\u001b[0m\u001b[32m{\u001b[0m\u001b[32m\\\\n    \\\\\"metadata\\\\\": \u001b[0m\u001b[32m{\u001b[0m\u001b[32m\\\\n        \\\\\"title\\\\\": \\\\\"title of document\\\\\",\\\\n        \\\\\"author\\\\\": \\\\\"name\u001b[0m\n",
       "\u001b[32mof authors\\\\\",\\\\n        \\\\\"publish date\\\\\": \\\\\"date of publication\\\\\",\\\\n        \\\\\"organization\\\\\": \\\\\"name of \u001b[0m\n",
       "\u001b[32morganization\\\\\"\\\\n    \u001b[0m\u001b[32m}\u001b[0m\u001b[32m,\\\\n    \\\\\"sections\\\\\": \u001b[0m\u001b[32m[\u001b[0m\u001b[32m\\\\n        \u001b[0m\u001b[32m{\u001b[0m\u001b[32m\\\\n            \\\\\"title\\\\\": \\\\\"title of section1\\\\\",\\\\n\u001b[0m\n",
       "\u001b[32m\\\\\"subsections\\\\\": \u001b[0m\u001b[32m[\u001b[0m\u001b[32m\\\\n                \u001b[0m\u001b[32m{\u001b[0m\u001b[32m\\\\n                    \\\\\"title\\\\\": \\\\\"title of subsection1.1\\\\\",\\\\n       \u001b[0m\n",
       "\u001b[32m\\\\\"content\\\\\": \\\\\"content of subsection1.1\\\\\"\\\\n                \u001b[0m\u001b[32m}\u001b[0m\u001b[32m,\\\\n                \u001b[0m\u001b[32m{\u001b[0m\u001b[32m\\\\n                    \u001b[0m\n",
       "\u001b[32m\\\\\"title\\\\\": \\\\\"title of subsection1.2\\\\\",\\\\n                    \\\\\"content\\\\\": \\\\\"content of subsection1.2\\\\\"\\\\n  \u001b[0m\n",
       "\u001b[32m}\u001b[0m\u001b[32m\\\\n            \u001b[0m\u001b[32m]\u001b[0m\u001b[32m\\\\n        \u001b[0m\u001b[32m}\u001b[0m\u001b[32m,\\\\n        \u001b[0m\u001b[32m{\u001b[0m\u001b[32m\\\\n            \\\\\"title\\\\\": \\\\\"title of section2\\\\\",\\\\n            \u001b[0m\n",
       "\u001b[32m\\\\\"subsections\\\\\": \u001b[0m\u001b[32m[\u001b[0m\u001b[32m\\\\n                \u001b[0m\u001b[32m{\u001b[0m\u001b[32m\\\\n                    \\\\\"title\\\\\": \\\\\"title of subsection2.1\\\\\",\\\\n       \u001b[0m\n",
       "\u001b[32m\\\\\"content\\\\\": \\\\\"content of subsection2.1\\\\\"\\\\n                \u001b[0m\u001b[32m}\u001b[0m\u001b[32m\\\\n            \u001b[0m\u001b[32m]\u001b[0m\u001b[32m\\\\n        \u001b[0m\u001b[32m}\u001b[0m\u001b[32m\\\\n    \u001b[0m\n",
       "\u001b[32m]\u001b[0m\u001b[32m\\\\n\u001b[0m\u001b[32m}\u001b[0m\u001b[32m\\\\n\\\\nGiven Topic: \\\\nIntroduce the history of OpenAI\\\\n\\\\nOutput:\"\u001b[0m\u001b[32m}\u001b[0m\u001b[32m]\u001b[0m\u001b[32m}\u001b[0m\u001b[32m]\u001b[0m\u001b[32m'\u001b[0m\u001b[1;32m]\u001b[0m\n"
      ]
     },
     "metadata": {},
     "output_type": "display_data"
    },
    {
     "data": {
      "text/html": [
       "<pre style=\"white-space:pre;overflow-x:auto;line-height:normal;font-family:Menlo,'DejaVu Sans Mono',consolas,'Courier New',monospace\"><span style=\"color: #800000; text-decoration-color: #800000\">response from gpt-4o-</span><span style=\"color: #008080; text-decoration-color: #008080; font-weight: bold\">2024</span><span style=\"color: #800000; text-decoration-color: #800000\">-</span><span style=\"color: #008080; text-decoration-color: #008080; font-weight: bold\">11</span><span style=\"color: #800000; text-decoration-color: #800000\">-</span><span style=\"color: #008080; text-decoration-color: #008080; font-weight: bold\">20</span><span style=\"color: #800000; text-decoration-color: #800000\">: ```json</span>\n",
       "<span style=\"color: #800000; text-decoration-color: #800000; font-weight: bold\">{</span>\n",
       "<span style=\"color: #800000; text-decoration-color: #800000\">    </span><span style=\"color: #008000; text-decoration-color: #008000\">\"metadata\"</span><span style=\"color: #800000; text-decoration-color: #800000\">: </span><span style=\"color: #800000; text-decoration-color: #800000; font-weight: bold\">{</span>\n",
       "<span style=\"color: #800000; text-decoration-color: #800000\">        </span><span style=\"color: #008000; text-decoration-color: #008000\">\"title\"</span><span style=\"color: #800000; text-decoration-color: #800000\">: </span><span style=\"color: #008000; text-decoration-color: #008000\">\"The History of OpenAI\"</span><span style=\"color: #800000; text-decoration-color: #800000\">,</span>\n",
       "<span style=\"color: #800000; text-decoration-color: #800000\">        </span><span style=\"color: #008000; text-decoration-color: #008000\">\"author\"</span><span style=\"color: #800000; text-decoration-color: #800000\">: </span><span style=\"color: #008000; text-decoration-color: #008000\">\"OpenAI Documentation Team\"</span><span style=\"color: #800000; text-decoration-color: #800000\">,</span>\n",
       "<span style=\"color: #800000; text-decoration-color: #800000\">        </span><span style=\"color: #008000; text-decoration-color: #008000\">\"publish date\"</span><span style=\"color: #800000; text-decoration-color: #800000\">: </span><span style=\"color: #008000; text-decoration-color: #008000\">\"October 2023\"</span><span style=\"color: #800000; text-decoration-color: #800000\">,</span>\n",
       "<span style=\"color: #800000; text-decoration-color: #800000\">        </span><span style=\"color: #008000; text-decoration-color: #008000\">\"organization\"</span><span style=\"color: #800000; text-decoration-color: #800000\">: </span><span style=\"color: #008000; text-decoration-color: #008000\">\"OpenAI\"</span>\n",
       "<span style=\"color: #800000; text-decoration-color: #800000\">    </span><span style=\"color: #800000; text-decoration-color: #800000; font-weight: bold\">}</span><span style=\"color: #800000; text-decoration-color: #800000\">,</span>\n",
       "<span style=\"color: #800000; text-decoration-color: #800000\">    </span><span style=\"color: #008000; text-decoration-color: #008000\">\"sections\"</span><span style=\"color: #800000; text-decoration-color: #800000\">: </span><span style=\"color: #800000; text-decoration-color: #800000; font-weight: bold\">[</span>\n",
       "<span style=\"color: #800000; text-decoration-color: #800000\">        </span><span style=\"color: #800000; text-decoration-color: #800000; font-weight: bold\">{</span>\n",
       "<span style=\"color: #800000; text-decoration-color: #800000\">            </span><span style=\"color: #008000; text-decoration-color: #008000\">\"title\"</span><span style=\"color: #800000; text-decoration-color: #800000\">: </span><span style=\"color: #008000; text-decoration-color: #008000\">\"Formation and Vision\"</span><span style=\"color: #800000; text-decoration-color: #800000\">,</span>\n",
       "<span style=\"color: #800000; text-decoration-color: #800000\">            </span><span style=\"color: #008000; text-decoration-color: #008000\">\"subsections\"</span><span style=\"color: #800000; text-decoration-color: #800000\">: </span><span style=\"color: #800000; text-decoration-color: #800000; font-weight: bold\">[</span>\n",
       "<span style=\"color: #800000; text-decoration-color: #800000\">                </span><span style=\"color: #800000; text-decoration-color: #800000; font-weight: bold\">{</span>\n",
       "<span style=\"color: #800000; text-decoration-color: #800000\">                    </span><span style=\"color: #008000; text-decoration-color: #008000\">\"title\"</span><span style=\"color: #800000; text-decoration-color: #800000\">: </span><span style=\"color: #008000; text-decoration-color: #008000\">\"Founding and Motivation\"</span><span style=\"color: #800000; text-decoration-color: #800000\">,</span>\n",
       "<span style=\"color: #800000; text-decoration-color: #800000\">                    </span><span style=\"color: #008000; text-decoration-color: #008000\">\"content\"</span><span style=\"color: #800000; text-decoration-color: #800000\">: </span><span style=\"color: #008000; text-decoration-color: #008000\">\"OpenAI was founded in December 2015 by Elon Musk, Sam Altman, Greg Brockman, Ilya </span>\n",
       "<span style=\"color: #008000; text-decoration-color: #008000\">Sutskever, Wojciech Zaremba, and John Schulman, among others. The organization was established to ensure artificial</span>\n",
       "<span style=\"color: #008000; text-decoration-color: #008000\">general intelligence (AGI) benefits all humanity and to research AI with a focus on safety and ethical </span>\n",
       "<span style=\"color: #008000; text-decoration-color: #008000\">considerations.\"</span>\n",
       "<span style=\"color: #800000; text-decoration-color: #800000\">                </span><span style=\"color: #800000; text-decoration-color: #800000; font-weight: bold\">}</span><span style=\"color: #800000; text-decoration-color: #800000\">,</span>\n",
       "<span style=\"color: #800000; text-decoration-color: #800000\">                </span><span style=\"color: #800000; text-decoration-color: #800000; font-weight: bold\">{</span>\n",
       "<span style=\"color: #800000; text-decoration-color: #800000\">                    </span><span style=\"color: #008000; text-decoration-color: #008000\">\"title\"</span><span style=\"color: #800000; text-decoration-color: #800000\">: </span><span style=\"color: #008000; text-decoration-color: #008000\">\"Non-Profit Roots\"</span><span style=\"color: #800000; text-decoration-color: #800000\">,</span>\n",
       "<span style=\"color: #800000; text-decoration-color: #800000\">                    </span><span style=\"color: #008000; text-decoration-color: #008000\">\"content\"</span><span style=\"color: #800000; text-decoration-color: #800000\">: </span><span style=\"color: #008000; text-decoration-color: #008000\">\"Initially set up as a non-profit, OpenAI aimed to prioritize broad societal benefit</span>\n",
       "<span style=\"color: #008000; text-decoration-color: #008000\">over profit motives. Early projects focused on transparency, collaboration, and open access to AI advancements.\"</span>\n",
       "<span style=\"color: #800000; text-decoration-color: #800000\">                </span><span style=\"color: #800000; text-decoration-color: #800000; font-weight: bold\">}</span>\n",
       "<span style=\"color: #800000; text-decoration-color: #800000\">            </span><span style=\"color: #800000; text-decoration-color: #800000; font-weight: bold\">]</span>\n",
       "<span style=\"color: #800000; text-decoration-color: #800000\">        </span><span style=\"color: #800000; text-decoration-color: #800000; font-weight: bold\">}</span><span style=\"color: #800000; text-decoration-color: #800000\">,</span>\n",
       "<span style=\"color: #800000; text-decoration-color: #800000\">        </span><span style=\"color: #800000; text-decoration-color: #800000; font-weight: bold\">{</span>\n",
       "<span style=\"color: #800000; text-decoration-color: #800000\">            </span><span style=\"color: #008000; text-decoration-color: #008000\">\"title\"</span><span style=\"color: #800000; text-decoration-color: #800000\">: </span><span style=\"color: #008000; text-decoration-color: #008000\">\"Key Milestones and Achievements\"</span><span style=\"color: #800000; text-decoration-color: #800000\">,</span>\n",
       "<span style=\"color: #800000; text-decoration-color: #800000\">            </span><span style=\"color: #008000; text-decoration-color: #008000\">\"subsections\"</span><span style=\"color: #800000; text-decoration-color: #800000\">: </span><span style=\"color: #800000; text-decoration-color: #800000; font-weight: bold\">[</span>\n",
       "<span style=\"color: #800000; text-decoration-color: #800000\">                </span><span style=\"color: #800000; text-decoration-color: #800000; font-weight: bold\">{</span>\n",
       "<span style=\"color: #800000; text-decoration-color: #800000\">                    </span><span style=\"color: #008000; text-decoration-color: #008000\">\"title\"</span><span style=\"color: #800000; text-decoration-color: #800000\">: </span><span style=\"color: #008000; text-decoration-color: #008000\">\"Technical Breakthroughs\"</span><span style=\"color: #800000; text-decoration-color: #800000\">,</span>\n",
       "<span style=\"color: #800000; text-decoration-color: #800000\">                    </span><span style=\"color: #008000; text-decoration-color: #008000\">\"content\"</span><span style=\"color: #800000; text-decoration-color: #800000\">: </span><span style=\"color: #008000; text-decoration-color: #008000\">\"OpenAI made significant contributions to AI with the development of groundbreaking </span>\n",
       "<span style=\"color: #008000; text-decoration-color: #008000\">models like GPT series (Generative Pre-trained Transformers) and DALL·E. These models demonstrated state-of-the-art</span>\n",
       "<span style=\"color: #008000; text-decoration-color: #008000\">capabilities in natural language processing and image generation.\"</span>\n",
       "<span style=\"color: #800000; text-decoration-color: #800000\">                </span><span style=\"color: #800000; text-decoration-color: #800000; font-weight: bold\">}</span><span style=\"color: #800000; text-decoration-color: #800000\">,</span>\n",
       "<span style=\"color: #800000; text-decoration-color: #800000\">                </span><span style=\"color: #800000; text-decoration-color: #800000; font-weight: bold\">{</span>\n",
       "<span style=\"color: #800000; text-decoration-color: #800000\">                    </span><span style=\"color: #008000; text-decoration-color: #008000\">\"title\"</span><span style=\"color: #800000; text-decoration-color: #800000\">: </span><span style=\"color: #008000; text-decoration-color: #008000\">\"Transition to OpenAI LP\"</span><span style=\"color: #800000; text-decoration-color: #800000\">,</span>\n",
       "<span style=\"color: #800000; text-decoration-color: #800000\">                    </span><span style=\"color: #008000; text-decoration-color: #008000\">\"content\"</span><span style=\"color: #800000; text-decoration-color: #800000\">: </span><span style=\"color: #008000; text-decoration-color: #008000\">\"In 2019, OpenAI transitioned to a capped-profit model as OpenAI LP to attract </span>\n",
       "<span style=\"color: #008000; text-decoration-color: #008000\">funding while adhering to its mission. Microsoft became a key partner, investing $1 billion and providing </span>\n",
       "<span style=\"color: #008000; text-decoration-color: #008000\">computational resources.\"</span>\n",
       "<span style=\"color: #800000; text-decoration-color: #800000\">                </span><span style=\"color: #800000; text-decoration-color: #800000; font-weight: bold\">}</span><span style=\"color: #800000; text-decoration-color: #800000\">,</span>\n",
       "<span style=\"color: #800000; text-decoration-color: #800000\">                </span><span style=\"color: #800000; text-decoration-color: #800000; font-weight: bold\">{</span>\n",
       "<span style=\"color: #800000; text-decoration-color: #800000\">                    </span><span style=\"color: #008000; text-decoration-color: #008000\">\"title\"</span><span style=\"color: #800000; text-decoration-color: #800000\">: </span><span style=\"color: #008000; text-decoration-color: #008000\">\"AI Democratization\"</span><span style=\"color: #800000; text-decoration-color: #800000\">,</span>\n",
       "<span style=\"color: #800000; text-decoration-color: #800000\">                    </span><span style=\"color: #008000; text-decoration-color: #008000\">\"content\"</span><span style=\"color: #800000; text-decoration-color: #800000\">: </span><span style=\"color: #008000; text-decoration-color: #008000\">\"OpenAI has prioritized making its technologies accessible through platforms such as</span>\n",
       "<span style=\"color: #008000; text-decoration-color: #008000\">the OpenAI API, enabling developers and organizations to integrate AI into various applications while ensuring </span>\n",
       "<span style=\"color: #008000; text-decoration-color: #008000\">ethical use.\"</span>\n",
       "<span style=\"color: #800000; text-decoration-color: #800000\">                </span><span style=\"color: #800000; text-decoration-color: #800000; font-weight: bold\">}</span>\n",
       "<span style=\"color: #800000; text-decoration-color: #800000\">            </span><span style=\"color: #800000; text-decoration-color: #800000; font-weight: bold\">]</span>\n",
       "<span style=\"color: #800000; text-decoration-color: #800000\">        </span><span style=\"color: #800000; text-decoration-color: #800000; font-weight: bold\">}</span><span style=\"color: #800000; text-decoration-color: #800000\">,</span>\n",
       "<span style=\"color: #800000; text-decoration-color: #800000\">        </span><span style=\"color: #800000; text-decoration-color: #800000; font-weight: bold\">{</span>\n",
       "<span style=\"color: #800000; text-decoration-color: #800000\">            </span><span style=\"color: #008000; text-decoration-color: #008000\">\"title\"</span><span style=\"color: #800000; text-decoration-color: #800000\">: </span><span style=\"color: #008000; text-decoration-color: #008000\">\"The Future of OpenAI\"</span><span style=\"color: #800000; text-decoration-color: #800000\">,</span>\n",
       "<span style=\"color: #800000; text-decoration-color: #800000\">            </span><span style=\"color: #008000; text-decoration-color: #008000\">\"subsections\"</span><span style=\"color: #800000; text-decoration-color: #800000\">: </span><span style=\"color: #800000; text-decoration-color: #800000; font-weight: bold\">[</span>\n",
       "<span style=\"color: #800000; text-decoration-color: #800000\">                </span><span style=\"color: #800000; text-decoration-color: #800000; font-weight: bold\">{</span>\n",
       "<span style=\"color: #800000; text-decoration-color: #800000\">                    </span><span style=\"color: #008000; text-decoration-color: #008000\">\"title\"</span><span style=\"color: #800000; text-decoration-color: #800000\">: </span><span style=\"color: #008000; text-decoration-color: #008000\">\"Continued Ethical Leadership\"</span><span style=\"color: #800000; text-decoration-color: #800000\">,</span>\n",
       "<span style=\"color: #800000; text-decoration-color: #800000\">                    </span><span style=\"color: #008000; text-decoration-color: #008000\">\"content\"</span><span style=\"color: #800000; text-decoration-color: #800000\">: </span><span style=\"color: #008000; text-decoration-color: #008000\">\"OpenAI remains committed to advancing AGI responsibly, ensuring both societal </span>\n",
       "<span style=\"color: #008000; text-decoration-color: #008000\">benefit and safety protocols in AI development. Its vision includes collaborating with stakeholders globally to </span>\n",
       "<span style=\"color: #008000; text-decoration-color: #008000\">navigate the challenges and opportunities AGI presents.\"</span>\n",
       "<span style=\"color: #800000; text-decoration-color: #800000\">                </span><span style=\"color: #800000; text-decoration-color: #800000; font-weight: bold\">}</span>\n",
       "<span style=\"color: #800000; text-decoration-color: #800000\">            </span><span style=\"color: #800000; text-decoration-color: #800000; font-weight: bold\">]</span>\n",
       "<span style=\"color: #800000; text-decoration-color: #800000\">        </span><span style=\"color: #800000; text-decoration-color: #800000; font-weight: bold\">}</span>\n",
       "<span style=\"color: #800000; text-decoration-color: #800000\">    </span><span style=\"color: #800000; text-decoration-color: #800000; font-weight: bold\">]</span>\n",
       "<span style=\"color: #800000; text-decoration-color: #800000; font-weight: bold\">}</span>\n",
       "<span style=\"color: #800000; text-decoration-color: #800000\">```</span>\n",
       "</pre>\n"
      ],
      "text/plain": [
       "\u001b[31mresponse from gpt-4o-\u001b[0m\u001b[1;36m2024\u001b[0m\u001b[31m-\u001b[0m\u001b[1;36m11\u001b[0m\u001b[31m-\u001b[0m\u001b[1;36m20\u001b[0m\u001b[31m: ```json\u001b[0m\n",
       "\u001b[1;31m{\u001b[0m\n",
       "\u001b[31m    \u001b[0m\u001b[32m\"metadata\"\u001b[0m\u001b[31m: \u001b[0m\u001b[1;31m{\u001b[0m\n",
       "\u001b[31m        \u001b[0m\u001b[32m\"title\"\u001b[0m\u001b[31m: \u001b[0m\u001b[32m\"The History of OpenAI\"\u001b[0m\u001b[31m,\u001b[0m\n",
       "\u001b[31m        \u001b[0m\u001b[32m\"author\"\u001b[0m\u001b[31m: \u001b[0m\u001b[32m\"OpenAI Documentation Team\"\u001b[0m\u001b[31m,\u001b[0m\n",
       "\u001b[31m        \u001b[0m\u001b[32m\"publish date\"\u001b[0m\u001b[31m: \u001b[0m\u001b[32m\"October 2023\"\u001b[0m\u001b[31m,\u001b[0m\n",
       "\u001b[31m        \u001b[0m\u001b[32m\"organization\"\u001b[0m\u001b[31m: \u001b[0m\u001b[32m\"OpenAI\"\u001b[0m\n",
       "\u001b[31m    \u001b[0m\u001b[1;31m}\u001b[0m\u001b[31m,\u001b[0m\n",
       "\u001b[31m    \u001b[0m\u001b[32m\"sections\"\u001b[0m\u001b[31m: \u001b[0m\u001b[1;31m[\u001b[0m\n",
       "\u001b[31m        \u001b[0m\u001b[1;31m{\u001b[0m\n",
       "\u001b[31m            \u001b[0m\u001b[32m\"title\"\u001b[0m\u001b[31m: \u001b[0m\u001b[32m\"Formation and Vision\"\u001b[0m\u001b[31m,\u001b[0m\n",
       "\u001b[31m            \u001b[0m\u001b[32m\"subsections\"\u001b[0m\u001b[31m: \u001b[0m\u001b[1;31m[\u001b[0m\n",
       "\u001b[31m                \u001b[0m\u001b[1;31m{\u001b[0m\n",
       "\u001b[31m                    \u001b[0m\u001b[32m\"title\"\u001b[0m\u001b[31m: \u001b[0m\u001b[32m\"Founding and Motivation\"\u001b[0m\u001b[31m,\u001b[0m\n",
       "\u001b[31m                    \u001b[0m\u001b[32m\"content\"\u001b[0m\u001b[31m: \u001b[0m\u001b[32m\"OpenAI was founded in December 2015 by Elon Musk, Sam Altman, Greg Brockman, Ilya \u001b[0m\n",
       "\u001b[32mSutskever, Wojciech Zaremba, and John Schulman, among others. The organization was established to ensure artificial\u001b[0m\n",
       "\u001b[32mgeneral intelligence \u001b[0m\u001b[32m(\u001b[0m\u001b[32mAGI\u001b[0m\u001b[32m)\u001b[0m\u001b[32m benefits all humanity and to research AI with a focus on safety and ethical \u001b[0m\n",
       "\u001b[32mconsiderations.\"\u001b[0m\n",
       "\u001b[31m                \u001b[0m\u001b[1;31m}\u001b[0m\u001b[31m,\u001b[0m\n",
       "\u001b[31m                \u001b[0m\u001b[1;31m{\u001b[0m\n",
       "\u001b[31m                    \u001b[0m\u001b[32m\"title\"\u001b[0m\u001b[31m: \u001b[0m\u001b[32m\"Non-Profit Roots\"\u001b[0m\u001b[31m,\u001b[0m\n",
       "\u001b[31m                    \u001b[0m\u001b[32m\"content\"\u001b[0m\u001b[31m: \u001b[0m\u001b[32m\"Initially set up as a non-profit, OpenAI aimed to prioritize broad societal benefit\u001b[0m\n",
       "\u001b[32mover profit motives. Early projects focused on transparency, collaboration, and open access to AI advancements.\"\u001b[0m\n",
       "\u001b[31m                \u001b[0m\u001b[1;31m}\u001b[0m\n",
       "\u001b[31m            \u001b[0m\u001b[1;31m]\u001b[0m\n",
       "\u001b[31m        \u001b[0m\u001b[1;31m}\u001b[0m\u001b[31m,\u001b[0m\n",
       "\u001b[31m        \u001b[0m\u001b[1;31m{\u001b[0m\n",
       "\u001b[31m            \u001b[0m\u001b[32m\"title\"\u001b[0m\u001b[31m: \u001b[0m\u001b[32m\"Key Milestones and Achievements\"\u001b[0m\u001b[31m,\u001b[0m\n",
       "\u001b[31m            \u001b[0m\u001b[32m\"subsections\"\u001b[0m\u001b[31m: \u001b[0m\u001b[1;31m[\u001b[0m\n",
       "\u001b[31m                \u001b[0m\u001b[1;31m{\u001b[0m\n",
       "\u001b[31m                    \u001b[0m\u001b[32m\"title\"\u001b[0m\u001b[31m: \u001b[0m\u001b[32m\"Technical Breakthroughs\"\u001b[0m\u001b[31m,\u001b[0m\n",
       "\u001b[31m                    \u001b[0m\u001b[32m\"content\"\u001b[0m\u001b[31m: \u001b[0m\u001b[32m\"OpenAI made significant contributions to AI with the development of groundbreaking \u001b[0m\n",
       "\u001b[32mmodels like GPT series \u001b[0m\u001b[32m(\u001b[0m\u001b[32mGenerative Pre-trained Transformers\u001b[0m\u001b[32m)\u001b[0m\u001b[32m and DALL·E. These models demonstrated state-of-the-art\u001b[0m\n",
       "\u001b[32mcapabilities in natural language processing and image generation.\"\u001b[0m\n",
       "\u001b[31m                \u001b[0m\u001b[1;31m}\u001b[0m\u001b[31m,\u001b[0m\n",
       "\u001b[31m                \u001b[0m\u001b[1;31m{\u001b[0m\n",
       "\u001b[31m                    \u001b[0m\u001b[32m\"title\"\u001b[0m\u001b[31m: \u001b[0m\u001b[32m\"Transition to OpenAI LP\"\u001b[0m\u001b[31m,\u001b[0m\n",
       "\u001b[31m                    \u001b[0m\u001b[32m\"content\"\u001b[0m\u001b[31m: \u001b[0m\u001b[32m\"In 2019, OpenAI transitioned to a capped-profit model as OpenAI LP to attract \u001b[0m\n",
       "\u001b[32mfunding while adhering to its mission. Microsoft became a key partner, investing $1 billion and providing \u001b[0m\n",
       "\u001b[32mcomputational resources.\"\u001b[0m\n",
       "\u001b[31m                \u001b[0m\u001b[1;31m}\u001b[0m\u001b[31m,\u001b[0m\n",
       "\u001b[31m                \u001b[0m\u001b[1;31m{\u001b[0m\n",
       "\u001b[31m                    \u001b[0m\u001b[32m\"title\"\u001b[0m\u001b[31m: \u001b[0m\u001b[32m\"AI Democratization\"\u001b[0m\u001b[31m,\u001b[0m\n",
       "\u001b[31m                    \u001b[0m\u001b[32m\"content\"\u001b[0m\u001b[31m: \u001b[0m\u001b[32m\"OpenAI has prioritized making its technologies accessible through platforms such as\u001b[0m\n",
       "\u001b[32mthe OpenAI API, enabling developers and organizations to integrate AI into various applications while ensuring \u001b[0m\n",
       "\u001b[32methical use.\"\u001b[0m\n",
       "\u001b[31m                \u001b[0m\u001b[1;31m}\u001b[0m\n",
       "\u001b[31m            \u001b[0m\u001b[1;31m]\u001b[0m\n",
       "\u001b[31m        \u001b[0m\u001b[1;31m}\u001b[0m\u001b[31m,\u001b[0m\n",
       "\u001b[31m        \u001b[0m\u001b[1;31m{\u001b[0m\n",
       "\u001b[31m            \u001b[0m\u001b[32m\"title\"\u001b[0m\u001b[31m: \u001b[0m\u001b[32m\"The Future of OpenAI\"\u001b[0m\u001b[31m,\u001b[0m\n",
       "\u001b[31m            \u001b[0m\u001b[32m\"subsections\"\u001b[0m\u001b[31m: \u001b[0m\u001b[1;31m[\u001b[0m\n",
       "\u001b[31m                \u001b[0m\u001b[1;31m{\u001b[0m\n",
       "\u001b[31m                    \u001b[0m\u001b[32m\"title\"\u001b[0m\u001b[31m: \u001b[0m\u001b[32m\"Continued Ethical Leadership\"\u001b[0m\u001b[31m,\u001b[0m\n",
       "\u001b[31m                    \u001b[0m\u001b[32m\"content\"\u001b[0m\u001b[31m: \u001b[0m\u001b[32m\"OpenAI remains committed to advancing AGI responsibly, ensuring both societal \u001b[0m\n",
       "\u001b[32mbenefit and safety protocols in AI development. Its vision includes collaborating with stakeholders globally to \u001b[0m\n",
       "\u001b[32mnavigate the challenges and opportunities AGI presents.\"\u001b[0m\n",
       "\u001b[31m                \u001b[0m\u001b[1;31m}\u001b[0m\n",
       "\u001b[31m            \u001b[0m\u001b[1;31m]\u001b[0m\n",
       "\u001b[31m        \u001b[0m\u001b[1;31m}\u001b[0m\n",
       "\u001b[31m    \u001b[0m\u001b[1;31m]\u001b[0m\n",
       "\u001b[1;31m}\u001b[0m\n",
       "\u001b[31m```\u001b[0m\n"
      ]
     },
     "metadata": {},
     "output_type": "display_data"
    }
   ],
   "source": [
    "# -- 4. Parse PDF or use a text topic to get doc_json --\n",
    "print(\"[STAGE] PDF/Topic Parsing\")\n",
    "if pdf_path:\n",
    "    # We’ll store PDF results under runs/pdf/<md5>/...\n",
    "    pdf_md5 = hashlib.md5(open(pdf_path, \"rb\").read()).hexdigest()\n",
    "    parsedpdf_dir = pjoin(RUNS_DIR, project_id, \"pdf\", pdf_md5)\n",
    "    os.makedirs(parsedpdf_dir, exist_ok=True)\n",
    "    # If the refined document is not cached, parse the PDF text & refine\n",
    "    refined_doc_json_path = pjoin(parsedpdf_dir, \"refined_doc.json\")\n",
    "    if not os.path.exists(refined_doc_json_path):\n",
    "        print(\"[INFO] Parsing PDF ...\")\n",
    "        text_content = parse_pdf(pdf_path, parsedpdf_dir, marker_model)\n",
    "        # Optional: also caption images found in PDF\n",
    "        caption_json_path = pjoin(parsedpdf_dir, \"caption.json\")\n",
    "        if not os.path.exists(caption_json_path):\n",
    "            with open(CAPTION_PROMPT_PATH, \"r\", encoding=\"utf-8\") as f:\n",
    "                caption_prompt = f.read()\n",
    "            images_info = {}\n",
    "            for k in os.listdir(parsedpdf_dir):\n",
    "                if is_image_path(k):\n",
    "                    img_path = pjoin(parsedpdf_dir, k)\n",
    "                    try:\n",
    "                        text_cap = vision_model(caption_prompt, [img_path])\n",
    "                        with PIL.Image.open(img_path) as img:\n",
    "                            size = img.size\n",
    "                        images_info[img_path] = [text_cap, size]\n",
    "                    except Exception as e:\n",
    "                        print(f\"[ERROR] Could not caption {k}: {str(e)}\")\n",
    "            with open(caption_json_path, \"w\", encoding=\"utf-8\") as f:\n",
    "                json.dump(images_info, f, ensure_ascii=False, indent=4)\n",
    "\n",
    "        # Now refine the markdown doc => JSON\n",
    "        doc_json = refine_document(language_model, text_content)\n",
    "        json.dump(doc_json, open(refined_doc_json_path, \"w\"), indent=4)\n",
    "    else:\n",
    "        print(\"[INFO] Using cached refined_doc.json\")\n",
    "        doc_json = json.load(open(refined_doc_json_path, \"r\"))\n",
    "    # Also load the PDF's image captions (if you want them for generation):\n",
    "    caption_json_path = pjoin(parsedpdf_dir, \"caption.json\")\n",
    "    images = json.load(open(caption_json_path)) if os.path.exists(caption_json_path) else {}\n",
    "    \n",
    "else:\n",
    "    # If no PDF, we assume we have a text topic\n",
    "    print(f\"[INFO] Generating from topic: '{topic}'\")\n",
    "    pdf_md5 = topic  # just reuse the \"pdf\" variable for your code’s logic\n",
    "    doc_json = topic_generate(language_model, topic)\n",
    "    \n",
    "    # save doc_json to file\n",
    "    topic_doc_json_path = pjoin(RUNS_DIR, project_id, \"text_topic\", pdf_md5)\n",
    "    os.makedirs(topic_doc_json_path, exist_ok=True)\n",
    "    json.dump(doc_json, open(pjoin(topic_doc_json_path, \"topic_doc.json\"), \"w\"), indent=4)\n",
    "    images = {}\n"
   ]
  },
  {
   "cell_type": "code",
   "execution_count": 7,
   "metadata": {},
   "outputs": [
    {
     "name": "stdout",
     "output_type": "stream",
     "text": [
      "[STAGE] Slide Induction\n"
     ]
    },
    {
     "data": {
      "text/html": [
       "<pre style=\"white-space:pre;overflow-x:auto;line-height:normal;font-family:Menlo,'DejaVu Sans Mono',consolas,'Courier New',monospace\"><span style=\"color: #008000; text-decoration-color: #008000\">sending messages to: gpt-4o-</span><span style=\"color: #008080; text-decoration-color: #008080; font-weight: bold\">2024</span><span style=\"color: #008000; text-decoration-color: #008000\">-</span><span style=\"color: #008080; text-decoration-color: #008080; font-weight: bold\">11</span><span style=\"color: #008000; text-decoration-color: #008000\">-</span><span style=\"color: #008080; text-decoration-color: #008080; font-weight: bold\">20</span><span style=\"color: #008000; text-decoration-color: #008000\">, message </span><span style=\"color: #008000; text-decoration-color: #008000; font-weight: bold\">(</span><span style=\"color: #008000; text-decoration-color: #008000\">truncated</span><span style=\"color: #008000; text-decoration-color: #008000; font-weight: bold\">)</span><span style=\"color: #008000; text-decoration-color: #008000\">: </span><span style=\"color: #008000; text-decoration-color: #008000; font-weight: bold\">[{</span><span style=\"color: #008000; text-decoration-color: #008000\">'role'</span><span style=\"color: #008000; text-decoration-color: #008000\">: </span><span style=\"color: #008000; text-decoration-color: #008000\">'system'</span><span style=\"color: #008000; text-decoration-color: #008000\">, </span><span style=\"color: #008000; text-decoration-color: #008000\">'content'</span><span style=\"color: #008000; text-decoration-color: #008000\">: </span><span style=\"color: #008000; text-decoration-color: #008000; font-weight: bold\">[{</span><span style=\"color: #008000; text-decoration-color: #008000\">'type'</span><span style=\"color: #008000; text-decoration-color: #008000\">: </span><span style=\"color: #008000; text-decoration-color: #008000\">'text'</span><span style=\"color: #008000; text-decoration-color: #008000\">, </span>\n",
       "<span style=\"color: #008000; text-decoration-color: #008000\">'text'</span><span style=\"color: #008000; text-decoration-color: #008000\">: </span><span style=\"color: #008000; text-decoration-color: #008000\">'You are an expert presentation analyst specializing in categorizing PowerPoint slides, particularly </span>\n",
       "<span style=\"color: #008000; text-decoration-color: #008000\">skilled at identifying structural slides (such as Opening, Transitions, and Ending slides) that guide the flow of </span>\n",
       "<span style=\"color: #008000; text-decoration-color: #008000\">the presentation.'</span><span style=\"color: #008000; text-decoration-color: #008000; font-weight: bold\">}]}</span><span style=\"color: #008000; text-decoration-color: #008000\">, </span><span style=\"color: #008000; text-decoration-color: #008000\">'[{\"role\": \"user\", \"content\": [{\"type\": \"text\", \"text\": \"\\\\nInstructions:\\\\n\\\\t1.\\\\tAnalyze </span>\n",
       "<span style=\"color: #008000; text-decoration-color: #008000\">provided slides and identify structural slides (such as Opening and Ending) based on their </span>\n",
       "<span style=\"color: #008000; text-decoration-color: #008000\">content.\\\\n\\\\t2.\\\\tCategory names for structural slides should be simple, reflect their function, and not contain </span>\n",
       "<span style=\"color: #008000; text-decoration-color: #008000\">any specific details(such as the name of any entity).\\\\n\\\\t3.\\\\tOpening and Ending slides are typically located at </span>\n",
       "<span style=\"color: #008000; text-decoration-color: #008000\">the beginning or end of the presentation and may consist of only one slide.\\\\n\\\\t4.\\\\tOther structural categories </span>\n",
       "<span style=\"color: #008000; text-decoration-color: #008000\">should include multiple slides that share similar text elements (e.g., titles or \\\\\"Table of Contents\\\\\"). </span>\n",
       "<span style=\"color: #008000; text-decoration-color: #008000\">Moreover, they should not convey any specific information and serve as a guide for the presentation.\\\\n\\\\nExample </span>\n",
       "<span style=\"color: #008000; text-decoration-color: #008000\">output:\\\\n```json\\\\n{\\\\n    \\\\\"opening\\\\\": [1],\\\\n    \\\\\"table of contents\\\\\": [2, 5],\\\\n    \\\\\"ending\\\\\": </span>\n",
       "<span style=\"color: #008000; text-decoration-color: #008000\">[10]\\\\n}\\\\n```\\\\n\\\\nInput: Slide 1 of 5\\\\nTitle:Tourism &amp; Culture:\\\\nTourism &amp; Culture:\\\\nAPPRECIATING THE TANGIBLE</span>\n",
       "<span style=\"color: #008000; text-decoration-color: #008000\">&amp; THE INTANGIBLE OF BHUBANESWAR THROUGH CULTURAL TOURISM\\\\nBy Ayona Bhaduri\\\\n----\\\\nSlide 2 of 5\\\\nTitle:What is </span>\n",
       "<span style=\"color: #008000; text-decoration-color: #008000\">culture?\\\\nWhat is culture?\\\\nIn Sri Aurobindo’s words,\\\\nThe culture of a people may be described as the </span>\n",
       "<span style=\"color: #008000; text-decoration-color: #008000\">expression of a consciousness of life which formulates itself in three aspects.\\\\nThere is a side of thought, of </span>\n",
       "<span style=\"color: #008000; text-decoration-color: #008000\">ideal, of upward will and soul’s aspiration, which is reflected in the people’s philosophy and religion.\\\\nThere is</span>\n",
       "<span style=\"color: #008000; text-decoration-color: #008000\">a side of creative self-expression and appreciative aesthesis, intelligence and imagination, which finds expression</span>\n",
       "<span style=\"color: #008000; text-decoration-color: #008000\">in its art, poetry, literature, music, dance\\\\nAnd, there is a side of practical and outward formulation, which is </span>\n",
       "<span style=\"color: #008000; text-decoration-color: #008000\">provided for in its society and politics\\\\n----\\\\nSlide 3 of 5\\\\nTitle:What is Tourism?\\\\nWhat is Tourism?\\\\nThe </span>\n",
       "<span style=\"color: #008000; text-decoration-color: #008000\">World Tourism Organisation defines tourism in terms which go\\\\n“ beyond the common perception of tourism as being </span>\n",
       "<span style=\"color: #008000; text-decoration-color: #008000\">limited to holiday activity only”, as people “ travelling to and staying in places outside their usual environment </span>\n",
       "<span style=\"color: #008000; text-decoration-color: #008000\">for not more than one consecutive year for leisure, business and other purposes”\\\\nIts importance was recognised in</span>\n",
       "<span style=\"color: #008000; text-decoration-color: #008000\">the Manila Declaration on World Tourism of 1980 as an activity essential to the life of nations because of its </span>\n",
       "<span style=\"color: #008000; text-decoration-color: #008000\">direct effects on the social, cultural, educational, and economic sectors of national societies and on their </span>\n",
       "<span style=\"color: #008000; text-decoration-color: #008000\">international relations\\\\nToday, tourism is a major source of income for many countries, and affects the economy of</span>\n",
       "<span style=\"color: #008000; text-decoration-color: #008000\">both the source and the host countries, in some cases being of vital importance\\\\n----\\\\nSlide 4 of 5\\\\nTitle:What </span>\n",
       "<span style=\"color: #008000; text-decoration-color: #008000\">do we mean by Cultural Tourism?\\\\nWhat do we mean by Cultural Tourism?\\\\nCultural Tourism is the subset of tourism </span>\n",
       "<span style=\"color: #008000; text-decoration-color: #008000\">concerned with a particular country or region’s culture, specifically the lifestyle of the people in those </span>\n",
       "<span style=\"color: #008000; text-decoration-color: #008000\">geographical areas, the history of those people, their art and craft, their language and literature, their </span>\n",
       "<span style=\"color: #008000; text-decoration-color: #008000\">architecture, their religion, and all other elements that have helped shape their way of life.\\\\n\\\\nEvery race has </span>\n",
       "<span style=\"color: #008000; text-decoration-color: #008000\">something essential to contribute to the world’s civilisation in the course of its own self-expression and </span>\n",
       "<span style=\"color: #008000; text-decoration-color: #008000\">self-realisation. \\\\nAnd the essential contribution of India is simply her Indianness. \\\\nAll that India has to </span>\n",
       "<span style=\"color: #008000; text-decoration-color: #008000\">offer to the world proceeds from her philosophy. \\\\nThat this philosophy has held India together and seen her </span>\n",
       "<span style=\"color: #008000; text-decoration-color: #008000\">through many upheavals – political, social, economic, intellectual, is brought to the fore when Max Muller, the </span>\n",
       "<span style=\"color: #008000; text-decoration-color: #008000\">famous scholar and Orientalist, remarks, ‘There is, in fact, an unbroken continuity between the most modern and the</span>\n",
       "<span style=\"color: #008000; text-decoration-color: #008000\">most ancient phases of Hindu thought, extending over more than three thousand years.’\\\\n----\\\\nSlide 5 of </span>\n",
       "<span style=\"color: #008000; text-decoration-color: #008000\">5\\\\nTitle:Bhubaneswar – The Temple City of India\\\\nBhubaneswar – The Temple City of India\\\\nThe land of Odisha is a</span>\n",
       "<span style=\"color: #008000; text-decoration-color: #008000\">thriving example of India’s exquisite cultural heritage – be it tangible, as observed in Orissan sculpture and </span>\n",
       "<span style=\"color: #008000; text-decoration-color: #008000\">architecture, or intangible, as in the rich legacy of Odissi dance and allied arts.\\\\nWithin it, the city of </span>\n",
       "<span style=\"color: #008000; text-decoration-color: #008000\">Bhubaneswar is found to be a confluence of Hindu, Buddhist and Jain heritage boasting of some of the finest </span>\n",
       "<span style=\"color: #008000; text-decoration-color: #008000\">Kalingan temples. With many 6th-13th century CE Hindu temples, which span the entire spectrum of Kalinga </span>\n",
       "<span style=\"color: #008000; text-decoration-color: #008000\">architecture, Bhubaneswar is often referred to as a \\\\\"Temple City of India\\\\\".\\\\nAlong with the old town, the </span>\n",
       "<span style=\"color: #008000; text-decoration-color: #008000\">region, historically was often depicted as Ekamra Kshetra (Temple City). With the diverse ranges of heritage </span>\n",
       "<span style=\"color: #008000; text-decoration-color: #008000\">resources, it showcases significant sacred cultural landscape components which have evolved with the support of </span>\n",
       "<span style=\"color: #008000; text-decoration-color: #008000\">available natural resource base and cultural trigger. \\\\nAlthough the modern city of Bhubaneswar was formally </span>\n",
       "<span style=\"color: #008000; text-decoration-color: #008000\">established only in 1948, the history of the areas in and around the present-day city can be traced to 3rd century </span>\n",
       "<span style=\"color: #008000; text-decoration-color: #008000\">BCE and earlier. With Puri and Konark it forms the Swarna Tribhuja (Golden Triangle), one of eastern India\\'s most </span>\n",
       "<span style=\"color: #008000; text-decoration-color: #008000\">visited destinations.\\\\n\\\\nOutput:\"}]}]'</span><span style=\"color: #008000; text-decoration-color: #008000; font-weight: bold\">]</span>\n",
       "</pre>\n"
      ],
      "text/plain": [
       "\u001b[32msending messages to: gpt-4o-\u001b[0m\u001b[1;36m2024\u001b[0m\u001b[32m-\u001b[0m\u001b[1;36m11\u001b[0m\u001b[32m-\u001b[0m\u001b[1;36m20\u001b[0m\u001b[32m, message \u001b[0m\u001b[1;32m(\u001b[0m\u001b[32mtruncated\u001b[0m\u001b[1;32m)\u001b[0m\u001b[32m: \u001b[0m\u001b[1;32m[\u001b[0m\u001b[1;32m{\u001b[0m\u001b[32m'role'\u001b[0m\u001b[32m: \u001b[0m\u001b[32m'system'\u001b[0m\u001b[32m, \u001b[0m\u001b[32m'content'\u001b[0m\u001b[32m: \u001b[0m\u001b[1;32m[\u001b[0m\u001b[1;32m{\u001b[0m\u001b[32m'type'\u001b[0m\u001b[32m: \u001b[0m\u001b[32m'text'\u001b[0m\u001b[32m, \u001b[0m\n",
       "\u001b[32m'text'\u001b[0m\u001b[32m: \u001b[0m\u001b[32m'You are an expert presentation analyst specializing in categorizing PowerPoint slides, particularly \u001b[0m\n",
       "\u001b[32mskilled at identifying structural slides \u001b[0m\u001b[32m(\u001b[0m\u001b[32msuch as Opening, Transitions, and Ending slides\u001b[0m\u001b[32m)\u001b[0m\u001b[32m that guide the flow of \u001b[0m\n",
       "\u001b[32mthe presentation.'\u001b[0m\u001b[1;32m}\u001b[0m\u001b[1;32m]\u001b[0m\u001b[1;32m}\u001b[0m\u001b[32m, \u001b[0m\u001b[32m'\u001b[0m\u001b[32m[\u001b[0m\u001b[32m{\u001b[0m\u001b[32m\"role\": \"user\", \"content\": \u001b[0m\u001b[32m[\u001b[0m\u001b[32m{\u001b[0m\u001b[32m\"type\": \"text\", \"text\": \"\\\\nInstructions:\\\\n\\\\t1.\\\\tAnalyze \u001b[0m\n",
       "\u001b[32mprovided slides and identify structural slides \u001b[0m\u001b[32m(\u001b[0m\u001b[32msuch as Opening and Ending\u001b[0m\u001b[32m)\u001b[0m\u001b[32m based on their \u001b[0m\n",
       "\u001b[32mcontent.\\\\n\\\\t2.\\\\tCategory names for structural slides should be simple, reflect their function, and not contain \u001b[0m\n",
       "\u001b[32many specific details\u001b[0m\u001b[32m(\u001b[0m\u001b[32msuch as the name of any entity\u001b[0m\u001b[32m)\u001b[0m\u001b[32m.\\\\n\\\\t3.\\\\tOpening and Ending slides are typically located at \u001b[0m\n",
       "\u001b[32mthe beginning or end of the presentation and may consist of only one slide.\\\\n\\\\t4.\\\\tOther structural categories \u001b[0m\n",
       "\u001b[32mshould include multiple slides that share similar text elements \u001b[0m\u001b[32m(\u001b[0m\u001b[32me.g., titles or \\\\\"Table of Contents\\\\\"\u001b[0m\u001b[32m)\u001b[0m\u001b[32m. \u001b[0m\n",
       "\u001b[32mMoreover, they should not convey any specific information and serve as a guide for the presentation.\\\\n\\\\nExample \u001b[0m\n",
       "\u001b[32moutput:\\\\n```json\\\\n\u001b[0m\u001b[32m{\u001b[0m\u001b[32m\\\\n    \\\\\"opening\\\\\": \u001b[0m\u001b[32m[\u001b[0m\u001b[32m1\u001b[0m\u001b[32m]\u001b[0m\u001b[32m,\\\\n    \\\\\"table of contents\\\\\": \u001b[0m\u001b[32m[\u001b[0m\u001b[32m2, 5\u001b[0m\u001b[32m]\u001b[0m\u001b[32m,\\\\n    \\\\\"ending\\\\\": \u001b[0m\n",
       "\u001b[32m[\u001b[0m\u001b[32m10\u001b[0m\u001b[32m]\u001b[0m\u001b[32m\\\\n\u001b[0m\u001b[32m}\u001b[0m\u001b[32m\\\\n```\\\\n\\\\nInput: Slide 1 of 5\\\\nTitle:Tourism & Culture:\\\\nTourism & Culture:\\\\nAPPRECIATING THE TANGIBLE\u001b[0m\n",
       "\u001b[32m& THE INTANGIBLE OF BHUBANESWAR THROUGH CULTURAL TOURISM\\\\nBy Ayona Bhaduri\\\\n----\\\\nSlide 2 of 5\\\\nTitle:What is \u001b[0m\n",
       "\u001b[32mculture?\\\\nWhat is culture?\\\\nIn Sri Aurobindo’s words,\\\\nThe culture of a people may be described as the \u001b[0m\n",
       "\u001b[32mexpression of a consciousness of life which formulates itself in three aspects.\\\\nThere is a side of thought, of \u001b[0m\n",
       "\u001b[32mideal, of upward will and soul’s aspiration, which is reflected in the people’s philosophy and religion.\\\\nThere is\u001b[0m\n",
       "\u001b[32ma side of creative self-expression and appreciative aesthesis, intelligence and imagination, which finds expression\u001b[0m\n",
       "\u001b[32min its art, poetry, literature, music, dance\\\\nAnd, there is a side of practical and outward formulation, which is \u001b[0m\n",
       "\u001b[32mprovided for in its society and politics\\\\n----\\\\nSlide 3 of 5\\\\nTitle:What is Tourism?\\\\nWhat is Tourism?\\\\nThe \u001b[0m\n",
       "\u001b[32mWorld Tourism Organisation defines tourism in terms which go\\\\n“ beyond the common perception of tourism as being \u001b[0m\n",
       "\u001b[32mlimited to holiday activity only”, as people “ travelling to and staying in places outside their usual environment \u001b[0m\n",
       "\u001b[32mfor not more than one consecutive year for leisure, business and other purposes”\\\\nIts importance was recognised in\u001b[0m\n",
       "\u001b[32mthe Manila Declaration on World Tourism of 1980 as an activity essential to the life of nations because of its \u001b[0m\n",
       "\u001b[32mdirect effects on the social, cultural, educational, and economic sectors of national societies and on their \u001b[0m\n",
       "\u001b[32minternational relations\\\\nToday, tourism is a major source of income for many countries, and affects the economy of\u001b[0m\n",
       "\u001b[32mboth the source and the host countries, in some cases being of vital importance\\\\n----\\\\nSlide 4 of 5\\\\nTitle:What \u001b[0m\n",
       "\u001b[32mdo we mean by Cultural Tourism?\\\\nWhat do we mean by Cultural Tourism?\\\\nCultural Tourism is the subset of tourism \u001b[0m\n",
       "\u001b[32mconcerned with a particular country or region’s culture, specifically the lifestyle of the people in those \u001b[0m\n",
       "\u001b[32mgeographical areas, the history of those people, their art and craft, their language and literature, their \u001b[0m\n",
       "\u001b[32marchitecture, their religion, and all other elements that have helped shape their way of life.\\\\n\\\\nEvery race has \u001b[0m\n",
       "\u001b[32msomething essential to contribute to the world’s civilisation in the course of its own self-expression and \u001b[0m\n",
       "\u001b[32mself-realisation. \\\\nAnd the essential contribution of India is simply her Indianness. \\\\nAll that India has to \u001b[0m\n",
       "\u001b[32moffer to the world proceeds from her philosophy. \\\\nThat this philosophy has held India together and seen her \u001b[0m\n",
       "\u001b[32mthrough many upheavals – political, social, economic, intellectual, is brought to the fore when Max Muller, the \u001b[0m\n",
       "\u001b[32mfamous scholar and Orientalist, remarks, ‘There is, in fact, an unbroken continuity between the most modern and the\u001b[0m\n",
       "\u001b[32mmost ancient phases of Hindu thought, extending over more than three thousand years.’\\\\n----\\\\nSlide 5 of \u001b[0m\n",
       "\u001b[32m5\\\\nTitle:Bhubaneswar – The Temple City of India\\\\nBhubaneswar – The Temple City of India\\\\nThe land of Odisha is a\u001b[0m\n",
       "\u001b[32mthriving example of India’s exquisite cultural heritage – be it tangible, as observed in Orissan sculpture and \u001b[0m\n",
       "\u001b[32marchitecture, or intangible, as in the rich legacy of Odissi dance and allied arts.\\\\nWithin it, the city of \u001b[0m\n",
       "\u001b[32mBhubaneswar is found to be a confluence of Hindu, Buddhist and Jain heritage boasting of some of the finest \u001b[0m\n",
       "\u001b[32mKalingan temples. With many 6th-13th century CE Hindu temples, which span the entire spectrum of Kalinga \u001b[0m\n",
       "\u001b[32marchitecture, Bhubaneswar is often referred to as a \\\\\"Temple City of India\\\\\".\\\\nAlong with the old town, the \u001b[0m\n",
       "\u001b[32mregion, historically was often depicted as Ekamra Kshetra \u001b[0m\u001b[32m(\u001b[0m\u001b[32mTemple City\u001b[0m\u001b[32m)\u001b[0m\u001b[32m. With the diverse ranges of heritage \u001b[0m\n",
       "\u001b[32mresources, it showcases significant sacred cultural landscape components which have evolved with the support of \u001b[0m\n",
       "\u001b[32mavailable natural resource base and cultural trigger. \\\\nAlthough the modern city of Bhubaneswar was formally \u001b[0m\n",
       "\u001b[32mestablished only in 1948, the history of the areas in and around the present-day city can be traced to 3rd century \u001b[0m\n",
       "\u001b[32mBCE and earlier. With Puri and Konark it forms the Swarna Tribhuja \u001b[0m\u001b[32m(\u001b[0m\u001b[32mGolden Triangle\u001b[0m\u001b[32m)\u001b[0m\u001b[32m, one of eastern India\\'s most \u001b[0m\n",
       "\u001b[32mvisited destinations.\\\\n\\\\nOutput:\"\u001b[0m\u001b[32m}\u001b[0m\u001b[32m]\u001b[0m\u001b[32m}\u001b[0m\u001b[32m]\u001b[0m\u001b[32m'\u001b[0m\u001b[1;32m]\u001b[0m\n"
      ]
     },
     "metadata": {},
     "output_type": "display_data"
    },
    {
     "data": {
      "text/html": [
       "<pre style=\"white-space:pre;overflow-x:auto;line-height:normal;font-family:Menlo,'DejaVu Sans Mono',consolas,'Courier New',monospace\"><span style=\"color: #800000; text-decoration-color: #800000\">response from gpt-4o-</span><span style=\"color: #008080; text-decoration-color: #008080; font-weight: bold\">2024</span><span style=\"color: #800000; text-decoration-color: #800000\">-</span><span style=\"color: #008080; text-decoration-color: #008080; font-weight: bold\">11</span><span style=\"color: #800000; text-decoration-color: #800000\">-</span><span style=\"color: #008080; text-decoration-color: #008080; font-weight: bold\">20</span><span style=\"color: #800000; text-decoration-color: #800000\">: ```json</span>\n",
       "<span style=\"color: #800000; text-decoration-color: #800000; font-weight: bold\">{</span>\n",
       "<span style=\"color: #800000; text-decoration-color: #800000\">    </span><span style=\"color: #008000; text-decoration-color: #008000\">\"opening\"</span><span style=\"color: #800000; text-decoration-color: #800000\">: </span><span style=\"color: #800000; text-decoration-color: #800000; font-weight: bold\">[</span><span style=\"color: #008080; text-decoration-color: #008080; font-weight: bold\">1</span><span style=\"color: #800000; text-decoration-color: #800000; font-weight: bold\">]</span>\n",
       "<span style=\"color: #800000; text-decoration-color: #800000; font-weight: bold\">}</span>\n",
       "<span style=\"color: #800000; text-decoration-color: #800000\">```</span>\n",
       "</pre>\n"
      ],
      "text/plain": [
       "\u001b[31mresponse from gpt-4o-\u001b[0m\u001b[1;36m2024\u001b[0m\u001b[31m-\u001b[0m\u001b[1;36m11\u001b[0m\u001b[31m-\u001b[0m\u001b[1;36m20\u001b[0m\u001b[31m: ```json\u001b[0m\n",
       "\u001b[1;31m{\u001b[0m\n",
       "\u001b[31m    \u001b[0m\u001b[32m\"opening\"\u001b[0m\u001b[31m: \u001b[0m\u001b[1;31m[\u001b[0m\u001b[1;36m1\u001b[0m\u001b[1;31m]\u001b[0m\n",
       "\u001b[1;31m}\u001b[0m\n",
       "\u001b[31m```\u001b[0m\n"
      ]
     },
     "metadata": {},
     "output_type": "display_data"
    },
    {
     "data": {
      "text/html": [
       "<pre style=\"white-space:pre;overflow-x:auto;line-height:normal;font-family:Menlo,'DejaVu Sans Mono',consolas,'Courier New',monospace\"><span style=\"color: #008000; text-decoration-color: #008000\">sending messages to: gpt-4o-</span><span style=\"color: #008080; text-decoration-color: #008080; font-weight: bold\">2024</span><span style=\"color: #008000; text-decoration-color: #008000\">-</span><span style=\"color: #008080; text-decoration-color: #008080; font-weight: bold\">11</span><span style=\"color: #008000; text-decoration-color: #008000\">-</span><span style=\"color: #008080; text-decoration-color: #008080; font-weight: bold\">20</span><span style=\"color: #008000; text-decoration-color: #008000\">, message </span><span style=\"color: #008000; text-decoration-color: #008000; font-weight: bold\">(</span><span style=\"color: #008000; text-decoration-color: #008000\">truncated</span><span style=\"color: #008000; text-decoration-color: #008000; font-weight: bold\">)</span><span style=\"color: #008000; text-decoration-color: #008000\">: </span><span style=\"color: #008000; text-decoration-color: #008000; font-weight: bold\">[{</span><span style=\"color: #008000; text-decoration-color: #008000\">'role'</span><span style=\"color: #008000; text-decoration-color: #008000\">: </span><span style=\"color: #008000; text-decoration-color: #008000\">'system'</span><span style=\"color: #008000; text-decoration-color: #008000\">, </span><span style=\"color: #008000; text-decoration-color: #008000\">'content'</span><span style=\"color: #008000; text-decoration-color: #008000\">: </span><span style=\"color: #008000; text-decoration-color: #008000; font-weight: bold\">[{</span><span style=\"color: #008000; text-decoration-color: #008000\">'type'</span><span style=\"color: #008000; text-decoration-color: #008000\">: </span><span style=\"color: #008000; text-decoration-color: #008000\">'text'</span><span style=\"color: #008000; text-decoration-color: #008000\">, </span>\n",
       "<span style=\"color: #008000; text-decoration-color: #008000\">'text'</span><span style=\"color: #008000; text-decoration-color: #008000\">: </span><span style=\"color: #008000; text-decoration-color: #008000\">'You are a helpful assistant'</span><span style=\"color: #008000; text-decoration-color: #008000; font-weight: bold\">}]}</span><span style=\"color: #008000; text-decoration-color: #008000\">, </span><span style=\"color: #008000; text-decoration-color: #008000\">'[{\"role\": \"user\", \"content\": [{\"type\": \"text\", \"text\": \"Analyze the </span>\n",
       "<span style=\"color: #008000; text-decoration-color: #008000\">content layout and media types in the provided slide images.\\\\nYour objective is to provide a concise, descriptive </span>\n",
       "<span style=\"color: #008000; text-decoration-color: #008000\">title that captures purely the layout pattern.\\\\nRequirements:\\\\nFocus on HOW content is structured and presented, </span>\n",
       "<span style=\"color: #008000; text-decoration-color: #008000\">not WHAT the content is\\\\nDescribe the visual arrangement and interaction between different content types (text, </span>\n",
       "<span style=\"color: #008000; text-decoration-color: #008000\">images, diagrams, etc.)\\\\n\\\\nAvoid:\\\\nSpecific topics or subjects\\\\nDetailed content descriptions\\\\n\\\\n\\\\nYou </span>\n",
       "<span style=\"color: #008000; text-decoration-color: #008000\">cannot use the following layout names:\\\\n[\\'opening:text\\']\\\\n\\\\nExample Outputs:\\\\nCentral Image with explanatory </span>\n",
       "<span style=\"color: #008000; text-decoration-color: #008000\">text\\\\nGrowth Overview Illustrated with the Chart\\\\nPicture and illustrative key points\\\\nPlain Bullet </span>\n",
       "<span style=\"color: #008000; text-decoration-color: #008000\">Points\\\\n\\\\nOutput: Provide a one-line layout pattern title.\"}, {\"type\": \"image_url\", \"image_url\": {\"url\": </span>\n",
       "<span style=\"color: #008000; text-decoration-color: #008000\">\"data:image/jpeg;base64,&lt;BASE64_IMAGE_DATA_REDACTED&gt;\"}}]}]'</span><span style=\"color: #008000; text-decoration-color: #008000; font-weight: bold\">]</span>\n",
       "</pre>\n"
      ],
      "text/plain": [
       "\u001b[32msending messages to: gpt-4o-\u001b[0m\u001b[1;36m2024\u001b[0m\u001b[32m-\u001b[0m\u001b[1;36m11\u001b[0m\u001b[32m-\u001b[0m\u001b[1;36m20\u001b[0m\u001b[32m, message \u001b[0m\u001b[1;32m(\u001b[0m\u001b[32mtruncated\u001b[0m\u001b[1;32m)\u001b[0m\u001b[32m: \u001b[0m\u001b[1;32m[\u001b[0m\u001b[1;32m{\u001b[0m\u001b[32m'role'\u001b[0m\u001b[32m: \u001b[0m\u001b[32m'system'\u001b[0m\u001b[32m, \u001b[0m\u001b[32m'content'\u001b[0m\u001b[32m: \u001b[0m\u001b[1;32m[\u001b[0m\u001b[1;32m{\u001b[0m\u001b[32m'type'\u001b[0m\u001b[32m: \u001b[0m\u001b[32m'text'\u001b[0m\u001b[32m, \u001b[0m\n",
       "\u001b[32m'text'\u001b[0m\u001b[32m: \u001b[0m\u001b[32m'You are a helpful assistant'\u001b[0m\u001b[1;32m}\u001b[0m\u001b[1;32m]\u001b[0m\u001b[1;32m}\u001b[0m\u001b[32m, \u001b[0m\u001b[32m'\u001b[0m\u001b[32m[\u001b[0m\u001b[32m{\u001b[0m\u001b[32m\"role\": \"user\", \"content\": \u001b[0m\u001b[32m[\u001b[0m\u001b[32m{\u001b[0m\u001b[32m\"type\": \"text\", \"text\": \"Analyze the \u001b[0m\n",
       "\u001b[32mcontent layout and media types in the provided slide images.\\\\nYour objective is to provide a concise, descriptive \u001b[0m\n",
       "\u001b[32mtitle that captures purely the layout pattern.\\\\nRequirements:\\\\nFocus on HOW content is structured and presented, \u001b[0m\n",
       "\u001b[32mnot WHAT the content is\\\\nDescribe the visual arrangement and interaction between different content types \u001b[0m\u001b[32m(\u001b[0m\u001b[32mtext, \u001b[0m\n",
       "\u001b[32mimages, diagrams, etc.\u001b[0m\u001b[32m)\u001b[0m\u001b[32m\\\\n\\\\nAvoid:\\\\nSpecific topics or subjects\\\\nDetailed content descriptions\\\\n\\\\n\\\\nYou \u001b[0m\n",
       "\u001b[32mcannot use the following layout names:\\\\n\u001b[0m\u001b[32m[\u001b[0m\u001b[32m\\'opening:text\\'\u001b[0m\u001b[32m]\u001b[0m\u001b[32m\\\\n\\\\nExample Outputs:\\\\nCentral Image with explanatory \u001b[0m\n",
       "\u001b[32mtext\\\\nGrowth Overview Illustrated with the Chart\\\\nPicture and illustrative key points\\\\nPlain Bullet \u001b[0m\n",
       "\u001b[32mPoints\\\\n\\\\nOutput: Provide a one-line layout pattern title.\"\u001b[0m\u001b[32m}\u001b[0m\u001b[32m, \u001b[0m\u001b[32m{\u001b[0m\u001b[32m\"type\": \"image_url\", \"image_url\": \u001b[0m\u001b[32m{\u001b[0m\u001b[32m\"url\": \u001b[0m\n",
       "\u001b[32m\"data:image/jpeg;base64,\u001b[0m\u001b[32m<\u001b[0m\u001b[32mBASE64_IMAGE_DATA_REDACTED\u001b[0m\u001b[32m>\u001b[0m\u001b[32m\"\u001b[0m\u001b[32m}\u001b[0m\u001b[32m}\u001b[0m\u001b[32m]\u001b[0m\u001b[32m}\u001b[0m\u001b[32m]\u001b[0m\u001b[32m'\u001b[0m\u001b[1;32m]\u001b[0m\n"
      ]
     },
     "metadata": {},
     "output_type": "display_data"
    },
    {
     "data": {
      "text/html": [
       "<pre style=\"white-space:pre;overflow-x:auto;line-height:normal;font-family:Menlo,'DejaVu Sans Mono',consolas,'Courier New',monospace\"><span style=\"color: #800000; text-decoration-color: #800000\">response from gpt-4o-</span><span style=\"color: #008080; text-decoration-color: #008080; font-weight: bold\">2024</span><span style=\"color: #800000; text-decoration-color: #800000\">-</span><span style=\"color: #008080; text-decoration-color: #008080; font-weight: bold\">11</span><span style=\"color: #800000; text-decoration-color: #800000\">-</span><span style=\"color: #008080; text-decoration-color: #008080; font-weight: bold\">20</span><span style=\"color: #800000; text-decoration-color: #800000\">: Text-Centered Slide with Bullet Points</span>\n",
       "</pre>\n"
      ],
      "text/plain": [
       "\u001b[31mresponse from gpt-4o-\u001b[0m\u001b[1;36m2024\u001b[0m\u001b[31m-\u001b[0m\u001b[1;36m11\u001b[0m\u001b[31m-\u001b[0m\u001b[1;36m20\u001b[0m\u001b[31m: Text-Centered Slide with Bullet Points\u001b[0m\n"
      ]
     },
     "metadata": {},
     "output_type": "display_data"
    },
    {
     "data": {
      "text/html": [
       "<pre style=\"white-space:pre;overflow-x:auto;line-height:normal;font-family:Menlo,'DejaVu Sans Mono',consolas,'Courier New',monospace\"><span style=\"color: #008000; text-decoration-color: #008000\">sending messages to: gpt-4o-</span><span style=\"color: #008080; text-decoration-color: #008080; font-weight: bold\">2024</span><span style=\"color: #008000; text-decoration-color: #008000\">-</span><span style=\"color: #008080; text-decoration-color: #008080; font-weight: bold\">11</span><span style=\"color: #008000; text-decoration-color: #008000\">-</span><span style=\"color: #008080; text-decoration-color: #008080; font-weight: bold\">20</span><span style=\"color: #008000; text-decoration-color: #008000\">, message </span><span style=\"color: #008000; text-decoration-color: #008000; font-weight: bold\">(</span><span style=\"color: #008000; text-decoration-color: #008000\">truncated</span><span style=\"color: #008000; text-decoration-color: #008000; font-weight: bold\">)</span><span style=\"color: #008000; text-decoration-color: #008000\">: </span><span style=\"color: #008000; text-decoration-color: #008000; font-weight: bold\">[{</span><span style=\"color: #008000; text-decoration-color: #008000\">'role'</span><span style=\"color: #008000; text-decoration-color: #008000\">: </span><span style=\"color: #008000; text-decoration-color: #008000\">'system'</span><span style=\"color: #008000; text-decoration-color: #008000\">, </span><span style=\"color: #008000; text-decoration-color: #008000\">'content'</span><span style=\"color: #008000; text-decoration-color: #008000\">: </span><span style=\"color: #008000; text-decoration-color: #008000; font-weight: bold\">[{</span><span style=\"color: #008000; text-decoration-color: #008000\">'type'</span><span style=\"color: #008000; text-decoration-color: #008000\">: </span><span style=\"color: #008000; text-decoration-color: #008000\">'text'</span><span style=\"color: #008000; text-decoration-color: #008000\">, </span>\n",
       "<span style=\"color: #008000; text-decoration-color: #008000\">'text'</span><span style=\"color: #008000; text-decoration-color: #008000\">: </span><span style=\"color: #008000; text-decoration-color: #008000\">'You are a helpful assistant'</span><span style=\"color: #008000; text-decoration-color: #008000; font-weight: bold\">}]}</span><span style=\"color: #008000; text-decoration-color: #008000\">, </span><span style=\"color: #008000; text-decoration-color: #008000\">'[{\"role\": \"user\", \"content\": [{\"type\": \"text\", \"text\": \"Please analyze </span>\n",
       "<span style=\"color: #008000; text-decoration-color: #008000\">the slide elements and create a structured template schema in JSON format. The schema should:\\\\n\\\\n1. Identify key </span>\n",
       "<span style=\"color: #008000; text-decoration-color: #008000\">content elements (both text and images) that make up the slide\\\\n2. For each element, specify:\\\\n   - \\\\\"name\\\\\": </span>\n",
       "<span style=\"color: #008000; text-decoration-color: #008000\">The role of the element, such as \\\\\"main title\\\\\", \\\\\"content bullets\\\\\", \\\\\"main image\\\\\", \\\\\"presenters\\\\\", </span>\n",
       "<span style=\"color: #008000; text-decoration-color: #008000\">\\\\\"background information\\\\\", \\\\\"acknowledgments\\\\\", \\\\\"data\\\\\", etc.\\\\n   - \\\\\"description\\\\\": A clear description</span>\n",
       "<span style=\"color: #008000; text-decoration-color: #008000\">of the element\\'s purpose, do not mention any detail\\\\n   - \\\\\"type\\\\\": Literal[\\\\\"text\\\\\", \\\\\"image\\\\\"]\\\\n   - </span>\n",
       "<span style=\"color: #008000; text-decoration-color: #008000\">\\\\\"data\\\\\":\\\\n      * For text elements: The actual text content as string or array in paragraph level(&lt;p&gt; or </span>\n",
       "<span style=\"color: #008000; text-decoration-color: #008000\">&lt;li&gt;)\\\\n      * For image elements: Use the `alt` attribute of the &lt;img&gt; tag as the data of the image\\\\n\\\\nExample </span>\n",
       "<span style=\"color: #008000; text-decoration-color: #008000\">format:\\\\n{\\\\n  \\\\\"element_name\\\\\": {\\\\n    \\\\\"description\\\\\": \\\\\"purpose of this element\\\\\", # do not mention any </span>\n",
       "<span style=\"color: #008000; text-decoration-color: #008000\">detail, just purpose\\\\n    \\\\\"type\\\\\": \\\\\"text\\\\\" or \\\\\"image\\\\\",\\\\n    \\\\\"data\\\\\": [\\\\\"text1\\\\\", \\\\\"text2\\\\\"] or </span>\n",
       "<span style=\"color: #008000; text-decoration-color: #008000\">[\\\\\"logo:...\\\\\", \\\\\"logo:...\\\\\"]\\\\n  }\\\\n}\\\\nInput:\\\\n&lt;!DOCTYPE html&gt;\\\\n&lt;html&gt;\\\\n&lt;title&gt;Tourism &amp; </span>\n",
       "<span style=\"color: #008000; text-decoration-color: #008000\">Culture:&lt;/title&gt;\\\\n&lt;body style=\\\\\"width:960pt; height:540pt;\\\\\"&gt;\\\\n&lt;div&gt;\\\\n\\\\t&lt;p&gt;Tourism &amp; </span>\n",
       "<span style=\"color: #008000; text-decoration-color: #008000\">Culture:&lt;/p&gt;\\\\n&lt;/div&gt;\\\\n\\\\n&lt;div&gt;\\\\n\\\\t&lt;p style=\\'font-size: 24pt\\'&gt;APPRECIATING THE TANGIBLE &amp; THE INTANGIBLE OF </span>\n",
       "<span style=\"color: #008000; text-decoration-color: #008000\">BHUBANESWAR THROUGH CULTURAL TOURISM&lt;/p&gt;\\\\n\\\\t&lt;p style=\\'font-size: 20pt\\'&gt;By Ayona Bhaduri </span>\n",
       "<span style=\"color: #008000; text-decoration-color: #008000\">&lt;/p&gt;\\\\n&lt;/div&gt;\\\\n&lt;/body&gt;\\\\n&lt;/html&gt;\\\\n\\\\n\\\\nOutput: Please provide a schema that could be used as a template for </span>\n",
       "<span style=\"color: #008000; text-decoration-color: #008000\">creating similar slides\"}]}]'</span><span style=\"color: #008000; text-decoration-color: #008000; font-weight: bold\">]</span>\n",
       "</pre>\n"
      ],
      "text/plain": [
       "\u001b[32msending messages to: gpt-4o-\u001b[0m\u001b[1;36m2024\u001b[0m\u001b[32m-\u001b[0m\u001b[1;36m11\u001b[0m\u001b[32m-\u001b[0m\u001b[1;36m20\u001b[0m\u001b[32m, message \u001b[0m\u001b[1;32m(\u001b[0m\u001b[32mtruncated\u001b[0m\u001b[1;32m)\u001b[0m\u001b[32m: \u001b[0m\u001b[1;32m[\u001b[0m\u001b[1;32m{\u001b[0m\u001b[32m'role'\u001b[0m\u001b[32m: \u001b[0m\u001b[32m'system'\u001b[0m\u001b[32m, \u001b[0m\u001b[32m'content'\u001b[0m\u001b[32m: \u001b[0m\u001b[1;32m[\u001b[0m\u001b[1;32m{\u001b[0m\u001b[32m'type'\u001b[0m\u001b[32m: \u001b[0m\u001b[32m'text'\u001b[0m\u001b[32m, \u001b[0m\n",
       "\u001b[32m'text'\u001b[0m\u001b[32m: \u001b[0m\u001b[32m'You are a helpful assistant'\u001b[0m\u001b[1;32m}\u001b[0m\u001b[1;32m]\u001b[0m\u001b[1;32m}\u001b[0m\u001b[32m, \u001b[0m\u001b[32m'\u001b[0m\u001b[32m[\u001b[0m\u001b[32m{\u001b[0m\u001b[32m\"role\": \"user\", \"content\": \u001b[0m\u001b[32m[\u001b[0m\u001b[32m{\u001b[0m\u001b[32m\"type\": \"text\", \"text\": \"Please analyze \u001b[0m\n",
       "\u001b[32mthe slide elements and create a structured template schema in JSON format. The schema should:\\\\n\\\\n1. Identify key \u001b[0m\n",
       "\u001b[32mcontent elements \u001b[0m\u001b[32m(\u001b[0m\u001b[32mboth text and images\u001b[0m\u001b[32m)\u001b[0m\u001b[32m that make up the slide\\\\n2. For each element, specify:\\\\n   - \\\\\"name\\\\\": \u001b[0m\n",
       "\u001b[32mThe role of the element, such as \\\\\"main title\\\\\", \\\\\"content bullets\\\\\", \\\\\"main image\\\\\", \\\\\"presenters\\\\\", \u001b[0m\n",
       "\u001b[32m\\\\\"background information\\\\\", \\\\\"acknowledgments\\\\\", \\\\\"data\\\\\", etc.\\\\n   - \\\\\"description\\\\\": A clear description\u001b[0m\n",
       "\u001b[32mof the element\\'s purpose, do not mention any detail\\\\n   - \\\\\"type\\\\\": Literal\u001b[0m\u001b[32m[\u001b[0m\u001b[32m\\\\\"text\\\\\", \\\\\"image\\\\\"\u001b[0m\u001b[32m]\u001b[0m\u001b[32m\\\\n   - \u001b[0m\n",
       "\u001b[32m\\\\\"data\\\\\":\\\\n      * For text elements: The actual text content as string or array in paragraph level\u001b[0m\u001b[32m(\u001b[0m\u001b[32m<\u001b[0m\u001b[32mp\u001b[0m\u001b[32m> or \u001b[0m\n",
       "\u001b[32m<li>\u001b[0m\u001b[32m)\u001b[0m\u001b[32m\\\\n      * For image elements: Use the `alt` attribute of the <img> tag as the data of the image\\\\n\\\\nExample \u001b[0m\n",
       "\u001b[32mformat:\\\\n\u001b[0m\u001b[32m{\u001b[0m\u001b[32m\\\\n  \\\\\"element_name\\\\\": \u001b[0m\u001b[32m{\u001b[0m\u001b[32m\\\\n    \\\\\"description\\\\\": \\\\\"purpose of this element\\\\\", # do not mention any \u001b[0m\n",
       "\u001b[32mdetail, just purpose\\\\n    \\\\\"type\\\\\": \\\\\"text\\\\\" or \\\\\"image\\\\\",\\\\n    \\\\\"data\\\\\": \u001b[0m\u001b[32m[\u001b[0m\u001b[32m\\\\\"text1\\\\\", \\\\\"text2\\\\\"\u001b[0m\u001b[32m]\u001b[0m\u001b[32m or \u001b[0m\n",
       "\u001b[32m[\u001b[0m\u001b[32m\\\\\"logo:...\\\\\", \\\\\"logo:...\\\\\"\u001b[0m\u001b[32m]\u001b[0m\u001b[32m\\\\n  \u001b[0m\u001b[32m}\u001b[0m\u001b[32m\\\\n\u001b[0m\u001b[32m}\u001b[0m\u001b[32m\\\\nInput:\\\\n<!DOCTYPE html>\\\\n<html>\\\\n<title>Tourism & \u001b[0m\n",
       "\u001b[32mCulture:</title>\\\\n<body \u001b[0m\u001b[32mstyle\u001b[0m\u001b[32m=\\\\\"width:960pt; height:540pt;\\\\\">\\\\n<div>\\\\n\\\\t<p>Tourism & \u001b[0m\n",
       "\u001b[32mCulture:</p>\\\\n</div>\\\\n\\\\n<div>\\\\n\\\\t<p \u001b[0m\u001b[32mstyle\u001b[0m\u001b[32m=\\'font-size: 24pt\\'>APPRECIATING THE TANGIBLE & THE INTANGIBLE OF \u001b[0m\n",
       "\u001b[32mBHUBANESWAR THROUGH CULTURAL TOURISM</p>\\\\n\\\\t<p \u001b[0m\u001b[32mstyle\u001b[0m\u001b[32m=\\'font-size: 20pt\\'>By Ayona Bhaduri \u001b[0m\n",
       "\u001b[32m</p>\\\\n</div>\\\\n</body>\\\\n</html\u001b[0m\u001b[32m>\u001b[0m\u001b[32m\\\\n\\\\n\\\\nOutput: Please provide a schema that could be used as a template for \u001b[0m\n",
       "\u001b[32mcreating similar slides\"\u001b[0m\u001b[32m}\u001b[0m\u001b[32m]\u001b[0m\u001b[32m}\u001b[0m\u001b[32m]\u001b[0m\u001b[32m'\u001b[0m\u001b[1;32m]\u001b[0m\n"
      ]
     },
     "metadata": {},
     "output_type": "display_data"
    },
    {
     "data": {
      "text/html": [
       "<pre style=\"white-space:pre;overflow-x:auto;line-height:normal;font-family:Menlo,'DejaVu Sans Mono',consolas,'Courier New',monospace\"><span style=\"color: #800000; text-decoration-color: #800000\">response from gpt-4o-</span><span style=\"color: #008080; text-decoration-color: #008080; font-weight: bold\">2024</span><span style=\"color: #800000; text-decoration-color: #800000\">-</span><span style=\"color: #008080; text-decoration-color: #008080; font-weight: bold\">11</span><span style=\"color: #800000; text-decoration-color: #800000\">-</span><span style=\"color: #008080; text-decoration-color: #008080; font-weight: bold\">20</span><span style=\"color: #800000; text-decoration-color: #800000\">: Here is the structured JSON schema template based on the provided slide content. </span>\n",
       "<span style=\"color: #800000; text-decoration-color: #800000\">It identifies the key content elements, their purpose, content type, and data:</span>\n",
       "\n",
       "<span style=\"color: #800000; text-decoration-color: #800000\">```json</span>\n",
       "<span style=\"color: #800000; text-decoration-color: #800000; font-weight: bold\">{</span>\n",
       "<span style=\"color: #800000; text-decoration-color: #800000\">  </span><span style=\"color: #008000; text-decoration-color: #008000\">\"slide_title\"</span><span style=\"color: #800000; text-decoration-color: #800000\">: </span><span style=\"color: #800000; text-decoration-color: #800000; font-weight: bold\">{</span>\n",
       "<span style=\"color: #800000; text-decoration-color: #800000\">    </span><span style=\"color: #008000; text-decoration-color: #008000\">\"description\"</span><span style=\"color: #800000; text-decoration-color: #800000\">: </span><span style=\"color: #008000; text-decoration-color: #008000\">\"The main title describing the subject of the slide.\"</span><span style=\"color: #800000; text-decoration-color: #800000\">,</span>\n",
       "<span style=\"color: #800000; text-decoration-color: #800000\">    </span><span style=\"color: #008000; text-decoration-color: #008000\">\"type\"</span><span style=\"color: #800000; text-decoration-color: #800000\">: </span><span style=\"color: #008000; text-decoration-color: #008000\">\"text\"</span><span style=\"color: #800000; text-decoration-color: #800000\">,</span>\n",
       "<span style=\"color: #800000; text-decoration-color: #800000\">    </span><span style=\"color: #008000; text-decoration-color: #008000\">\"data\"</span><span style=\"color: #800000; text-decoration-color: #800000\">: </span><span style=\"color: #800000; text-decoration-color: #800000; font-weight: bold\">[</span><span style=\"color: #008000; text-decoration-color: #008000\">\"Tourism &amp; Culture:\"</span><span style=\"color: #800000; text-decoration-color: #800000; font-weight: bold\">]</span>\n",
       "<span style=\"color: #800000; text-decoration-color: #800000\">  </span><span style=\"color: #800000; text-decoration-color: #800000; font-weight: bold\">}</span><span style=\"color: #800000; text-decoration-color: #800000\">,</span>\n",
       "<span style=\"color: #800000; text-decoration-color: #800000\">  </span><span style=\"color: #008000; text-decoration-color: #008000\">\"main_heading\"</span><span style=\"color: #800000; text-decoration-color: #800000\">: </span><span style=\"color: #800000; text-decoration-color: #800000; font-weight: bold\">{</span>\n",
       "<span style=\"color: #800000; text-decoration-color: #800000\">    </span><span style=\"color: #008000; text-decoration-color: #008000\">\"description\"</span><span style=\"color: #800000; text-decoration-color: #800000\">: </span><span style=\"color: #008000; text-decoration-color: #008000\">\"The central or main heading that introduces the core theme or message of the slide.\"</span><span style=\"color: #800000; text-decoration-color: #800000\">,</span>\n",
       "<span style=\"color: #800000; text-decoration-color: #800000\">    </span><span style=\"color: #008000; text-decoration-color: #008000\">\"type\"</span><span style=\"color: #800000; text-decoration-color: #800000\">: </span><span style=\"color: #008000; text-decoration-color: #008000\">\"text\"</span><span style=\"color: #800000; text-decoration-color: #800000\">,</span>\n",
       "<span style=\"color: #800000; text-decoration-color: #800000\">    </span><span style=\"color: #008000; text-decoration-color: #008000\">\"data\"</span><span style=\"color: #800000; text-decoration-color: #800000\">: </span><span style=\"color: #800000; text-decoration-color: #800000; font-weight: bold\">[</span><span style=\"color: #008000; text-decoration-color: #008000\">\"APPRECIATING THE TANGIBLE &amp; THE INTANGIBLE OF BHUBANESWAR THROUGH CULTURAL TOURISM\"</span><span style=\"color: #800000; text-decoration-color: #800000; font-weight: bold\">]</span>\n",
       "<span style=\"color: #800000; text-decoration-color: #800000\">  </span><span style=\"color: #800000; text-decoration-color: #800000; font-weight: bold\">}</span><span style=\"color: #800000; text-decoration-color: #800000\">,</span>\n",
       "<span style=\"color: #800000; text-decoration-color: #800000\">  </span><span style=\"color: #008000; text-decoration-color: #008000\">\"presenter\"</span><span style=\"color: #800000; text-decoration-color: #800000\">: </span><span style=\"color: #800000; text-decoration-color: #800000; font-weight: bold\">{</span>\n",
       "<span style=\"color: #800000; text-decoration-color: #800000\">    </span><span style=\"color: #008000; text-decoration-color: #008000\">\"description\"</span><span style=\"color: #800000; text-decoration-color: #800000\">: </span><span style=\"color: #008000; text-decoration-color: #008000\">\"The name of the person or entity presenting the content of the slide.\"</span><span style=\"color: #800000; text-decoration-color: #800000\">,</span>\n",
       "<span style=\"color: #800000; text-decoration-color: #800000\">    </span><span style=\"color: #008000; text-decoration-color: #008000\">\"type\"</span><span style=\"color: #800000; text-decoration-color: #800000\">: </span><span style=\"color: #008000; text-decoration-color: #008000\">\"text\"</span><span style=\"color: #800000; text-decoration-color: #800000\">,</span>\n",
       "<span style=\"color: #800000; text-decoration-color: #800000\">    </span><span style=\"color: #008000; text-decoration-color: #008000\">\"data\"</span><span style=\"color: #800000; text-decoration-color: #800000\">: </span><span style=\"color: #800000; text-decoration-color: #800000; font-weight: bold\">[</span><span style=\"color: #008000; text-decoration-color: #008000\">\"By Ayona Bhaduri\"</span><span style=\"color: #800000; text-decoration-color: #800000; font-weight: bold\">]</span>\n",
       "<span style=\"color: #800000; text-decoration-color: #800000\">  </span><span style=\"color: #800000; text-decoration-color: #800000; font-weight: bold\">}</span>\n",
       "<span style=\"color: #800000; text-decoration-color: #800000; font-weight: bold\">}</span>\n",
       "<span style=\"color: #800000; text-decoration-color: #800000\">```</span>\n",
       "\n",
       "<span style=\"color: #800000; text-decoration-color: #800000\">This JSON schema template serves as a guide to creating similar slides by identifying essential elements and their </span>\n",
       "<span style=\"color: #800000; text-decoration-color: #800000\">corresponding purposes. The `</span><span style=\"color: #008000; text-decoration-color: #008000\">\"data\"</span><span style=\"color: #800000; text-decoration-color: #800000\">` field should be updated with appropriate content as needed for new slides.</span>\n",
       "</pre>\n"
      ],
      "text/plain": [
       "\u001b[31mresponse from gpt-4o-\u001b[0m\u001b[1;36m2024\u001b[0m\u001b[31m-\u001b[0m\u001b[1;36m11\u001b[0m\u001b[31m-\u001b[0m\u001b[1;36m20\u001b[0m\u001b[31m: Here is the structured JSON schema template based on the provided slide content. \u001b[0m\n",
       "\u001b[31mIt identifies the key content elements, their purpose, content type, and data:\u001b[0m\n",
       "\n",
       "\u001b[31m```json\u001b[0m\n",
       "\u001b[1;31m{\u001b[0m\n",
       "\u001b[31m  \u001b[0m\u001b[32m\"slide_title\"\u001b[0m\u001b[31m: \u001b[0m\u001b[1;31m{\u001b[0m\n",
       "\u001b[31m    \u001b[0m\u001b[32m\"description\"\u001b[0m\u001b[31m: \u001b[0m\u001b[32m\"The main title describing the subject of the slide.\"\u001b[0m\u001b[31m,\u001b[0m\n",
       "\u001b[31m    \u001b[0m\u001b[32m\"type\"\u001b[0m\u001b[31m: \u001b[0m\u001b[32m\"text\"\u001b[0m\u001b[31m,\u001b[0m\n",
       "\u001b[31m    \u001b[0m\u001b[32m\"data\"\u001b[0m\u001b[31m: \u001b[0m\u001b[1;31m[\u001b[0m\u001b[32m\"Tourism & Culture:\"\u001b[0m\u001b[1;31m]\u001b[0m\n",
       "\u001b[31m  \u001b[0m\u001b[1;31m}\u001b[0m\u001b[31m,\u001b[0m\n",
       "\u001b[31m  \u001b[0m\u001b[32m\"main_heading\"\u001b[0m\u001b[31m: \u001b[0m\u001b[1;31m{\u001b[0m\n",
       "\u001b[31m    \u001b[0m\u001b[32m\"description\"\u001b[0m\u001b[31m: \u001b[0m\u001b[32m\"The central or main heading that introduces the core theme or message of the slide.\"\u001b[0m\u001b[31m,\u001b[0m\n",
       "\u001b[31m    \u001b[0m\u001b[32m\"type\"\u001b[0m\u001b[31m: \u001b[0m\u001b[32m\"text\"\u001b[0m\u001b[31m,\u001b[0m\n",
       "\u001b[31m    \u001b[0m\u001b[32m\"data\"\u001b[0m\u001b[31m: \u001b[0m\u001b[1;31m[\u001b[0m\u001b[32m\"APPRECIATING THE TANGIBLE & THE INTANGIBLE OF BHUBANESWAR THROUGH CULTURAL TOURISM\"\u001b[0m\u001b[1;31m]\u001b[0m\n",
       "\u001b[31m  \u001b[0m\u001b[1;31m}\u001b[0m\u001b[31m,\u001b[0m\n",
       "\u001b[31m  \u001b[0m\u001b[32m\"presenter\"\u001b[0m\u001b[31m: \u001b[0m\u001b[1;31m{\u001b[0m\n",
       "\u001b[31m    \u001b[0m\u001b[32m\"description\"\u001b[0m\u001b[31m: \u001b[0m\u001b[32m\"The name of the person or entity presenting the content of the slide.\"\u001b[0m\u001b[31m,\u001b[0m\n",
       "\u001b[31m    \u001b[0m\u001b[32m\"type\"\u001b[0m\u001b[31m: \u001b[0m\u001b[32m\"text\"\u001b[0m\u001b[31m,\u001b[0m\n",
       "\u001b[31m    \u001b[0m\u001b[32m\"data\"\u001b[0m\u001b[31m: \u001b[0m\u001b[1;31m[\u001b[0m\u001b[32m\"By Ayona Bhaduri\"\u001b[0m\u001b[1;31m]\u001b[0m\n",
       "\u001b[31m  \u001b[0m\u001b[1;31m}\u001b[0m\n",
       "\u001b[1;31m}\u001b[0m\n",
       "\u001b[31m```\u001b[0m\n",
       "\n",
       "\u001b[31mThis JSON schema template serves as a guide to creating similar slides by identifying essential elements and their \u001b[0m\n",
       "\u001b[31mcorresponding purposes. The `\u001b[0m\u001b[32m\"data\"\u001b[0m\u001b[31m` field should be updated with appropriate content as needed for new slides.\u001b[0m\n"
      ]
     },
     "metadata": {},
     "output_type": "display_data"
    },
    {
     "data": {
      "text/html": [
       "<pre style=\"white-space:pre;overflow-x:auto;line-height:normal;font-family:Menlo,'DejaVu Sans Mono',consolas,'Courier New',monospace\"><span style=\"color: #008000; text-decoration-color: #008000\">sending messages to: gpt-4o-</span><span style=\"color: #008080; text-decoration-color: #008080; font-weight: bold\">2024</span><span style=\"color: #008000; text-decoration-color: #008000\">-</span><span style=\"color: #008080; text-decoration-color: #008080; font-weight: bold\">11</span><span style=\"color: #008000; text-decoration-color: #008000\">-</span><span style=\"color: #008080; text-decoration-color: #008080; font-weight: bold\">20</span><span style=\"color: #008000; text-decoration-color: #008000\">, message </span><span style=\"color: #008000; text-decoration-color: #008000; font-weight: bold\">(</span><span style=\"color: #008000; text-decoration-color: #008000\">truncated</span><span style=\"color: #008000; text-decoration-color: #008000; font-weight: bold\">)</span><span style=\"color: #008000; text-decoration-color: #008000\">: </span><span style=\"color: #008000; text-decoration-color: #008000; font-weight: bold\">[{</span><span style=\"color: #008000; text-decoration-color: #008000\">'role'</span><span style=\"color: #008000; text-decoration-color: #008000\">: </span><span style=\"color: #008000; text-decoration-color: #008000\">'system'</span><span style=\"color: #008000; text-decoration-color: #008000\">, </span><span style=\"color: #008000; text-decoration-color: #008000\">'content'</span><span style=\"color: #008000; text-decoration-color: #008000\">: </span><span style=\"color: #008000; text-decoration-color: #008000; font-weight: bold\">[{</span><span style=\"color: #008000; text-decoration-color: #008000\">'type'</span><span style=\"color: #008000; text-decoration-color: #008000\">: </span><span style=\"color: #008000; text-decoration-color: #008000\">'text'</span><span style=\"color: #008000; text-decoration-color: #008000\">, </span>\n",
       "<span style=\"color: #008000; text-decoration-color: #008000\">'text'</span><span style=\"color: #008000; text-decoration-color: #008000\">: </span><span style=\"color: #008000; text-decoration-color: #008000\">'You are a helpful assistant'</span><span style=\"color: #008000; text-decoration-color: #008000; font-weight: bold\">}]}</span><span style=\"color: #008000; text-decoration-color: #008000\">, </span><span style=\"color: #008000; text-decoration-color: #008000\">'[{\"role\": \"user\", \"content\": [{\"type\": \"text\", \"text\": \"Please analyze </span>\n",
       "<span style=\"color: #008000; text-decoration-color: #008000\">the slide elements and create a structured template schema in JSON format. The schema should:\\\\n\\\\n1. Identify key </span>\n",
       "<span style=\"color: #008000; text-decoration-color: #008000\">content elements (both text and images) that make up the slide\\\\n2. For each element, specify:\\\\n   - \\\\\"name\\\\\": </span>\n",
       "<span style=\"color: #008000; text-decoration-color: #008000\">The role of the element, such as \\\\\"main title\\\\\", \\\\\"content bullets\\\\\", \\\\\"main image\\\\\", \\\\\"presenters\\\\\", </span>\n",
       "<span style=\"color: #008000; text-decoration-color: #008000\">\\\\\"background information\\\\\", \\\\\"acknowledgments\\\\\", \\\\\"data\\\\\", etc.\\\\n   - \\\\\"description\\\\\": A clear description</span>\n",
       "<span style=\"color: #008000; text-decoration-color: #008000\">of the element\\'s purpose, do not mention any detail\\\\n   - \\\\\"type\\\\\": Literal[\\\\\"text\\\\\", \\\\\"image\\\\\"]\\\\n   - </span>\n",
       "<span style=\"color: #008000; text-decoration-color: #008000\">\\\\\"data\\\\\":\\\\n      * For text elements: The actual text content as string or array in paragraph level(&lt;p&gt; or </span>\n",
       "<span style=\"color: #008000; text-decoration-color: #008000\">&lt;li&gt;)\\\\n      * For image elements: Use the `alt` attribute of the &lt;img&gt; tag as the data of the image\\\\n\\\\nExample </span>\n",
       "<span style=\"color: #008000; text-decoration-color: #008000\">format:\\\\n{\\\\n  \\\\\"element_name\\\\\": {\\\\n    \\\\\"description\\\\\": \\\\\"purpose of this element\\\\\", # do not mention any </span>\n",
       "<span style=\"color: #008000; text-decoration-color: #008000\">detail, just purpose\\\\n    \\\\\"type\\\\\": \\\\\"text\\\\\" or \\\\\"image\\\\\",\\\\n    \\\\\"data\\\\\": [\\\\\"text1\\\\\", \\\\\"text2\\\\\"] or </span>\n",
       "<span style=\"color: #008000; text-decoration-color: #008000\">[\\\\\"logo:...\\\\\", \\\\\"logo:...\\\\\"]\\\\n  }\\\\n}\\\\nInput:\\\\n&lt;!DOCTYPE html&gt;\\\\n&lt;html&gt;\\\\n&lt;title&gt;What is </span>\n",
       "<span style=\"color: #008000; text-decoration-color: #008000\">Tourism?&lt;/title&gt;\\\\n&lt;body style=\\\\\"width:960pt; height:540pt;\\\\\"&gt;\\\\n&lt;div&gt;\\\\n\\\\t&lt;p&gt;What is </span>\n",
       "<span style=\"color: #008000; text-decoration-color: #008000\">Tourism?&lt;/p&gt;\\\\n&lt;/div&gt;\\\\n\\\\n&lt;div style=\\'font-size: 20pt\\'&gt;\\\\n\\\\t&lt;p&gt;The World Tourism Organisation defines tourism </span>\n",
       "<span style=\"color: #008000; text-decoration-color: #008000\">in terms which go&lt;/p&gt;\\\\n\\\\t&lt;p&gt;“ beyond the common perception of tourism as being limited to holiday activity only”,</span>\n",
       "<span style=\"color: #008000; text-decoration-color: #008000\">as people “ travelling to and staying in places outside their usual environment for not more than one consecutive </span>\n",
       "<span style=\"color: #008000; text-decoration-color: #008000\">year for leisure, business and other purposes”&lt;/p&gt;\\\\n\\\\t&lt;p&gt;Its importance was recognised in the Manila Declaration </span>\n",
       "<span style=\"color: #008000; text-decoration-color: #008000\">on World Tourism of 1980 as an activity essential to the life of nations because of its direct effects on the </span>\n",
       "<span style=\"color: #008000; text-decoration-color: #008000\">social, cultural, educational, and economic sectors of national societies and on their international </span>\n",
       "<span style=\"color: #008000; text-decoration-color: #008000\">relations&lt;/p&gt;\\\\n\\\\t&lt;p&gt;Today, tourism is a major source of income for many countries, and affects the economy of </span>\n",
       "<span style=\"color: #008000; text-decoration-color: #008000\">both the source and the host countries, in some cases being of vital </span>\n",
       "<span style=\"color: #008000; text-decoration-color: #008000\">importance&lt;/p&gt;\\\\n&lt;/div&gt;\\\\n&lt;/body&gt;\\\\n&lt;/html&gt;\\\\n\\\\n\\\\nOutput: Please provide a schema that could be used as a </span>\n",
       "<span style=\"color: #008000; text-decoration-color: #008000\">template for creating similar slides\"}]}]'</span><span style=\"color: #008000; text-decoration-color: #008000; font-weight: bold\">]</span>\n",
       "</pre>\n"
      ],
      "text/plain": [
       "\u001b[32msending messages to: gpt-4o-\u001b[0m\u001b[1;36m2024\u001b[0m\u001b[32m-\u001b[0m\u001b[1;36m11\u001b[0m\u001b[32m-\u001b[0m\u001b[1;36m20\u001b[0m\u001b[32m, message \u001b[0m\u001b[1;32m(\u001b[0m\u001b[32mtruncated\u001b[0m\u001b[1;32m)\u001b[0m\u001b[32m: \u001b[0m\u001b[1;32m[\u001b[0m\u001b[1;32m{\u001b[0m\u001b[32m'role'\u001b[0m\u001b[32m: \u001b[0m\u001b[32m'system'\u001b[0m\u001b[32m, \u001b[0m\u001b[32m'content'\u001b[0m\u001b[32m: \u001b[0m\u001b[1;32m[\u001b[0m\u001b[1;32m{\u001b[0m\u001b[32m'type'\u001b[0m\u001b[32m: \u001b[0m\u001b[32m'text'\u001b[0m\u001b[32m, \u001b[0m\n",
       "\u001b[32m'text'\u001b[0m\u001b[32m: \u001b[0m\u001b[32m'You are a helpful assistant'\u001b[0m\u001b[1;32m}\u001b[0m\u001b[1;32m]\u001b[0m\u001b[1;32m}\u001b[0m\u001b[32m, \u001b[0m\u001b[32m'\u001b[0m\u001b[32m[\u001b[0m\u001b[32m{\u001b[0m\u001b[32m\"role\": \"user\", \"content\": \u001b[0m\u001b[32m[\u001b[0m\u001b[32m{\u001b[0m\u001b[32m\"type\": \"text\", \"text\": \"Please analyze \u001b[0m\n",
       "\u001b[32mthe slide elements and create a structured template schema in JSON format. The schema should:\\\\n\\\\n1. Identify key \u001b[0m\n",
       "\u001b[32mcontent elements \u001b[0m\u001b[32m(\u001b[0m\u001b[32mboth text and images\u001b[0m\u001b[32m)\u001b[0m\u001b[32m that make up the slide\\\\n2. For each element, specify:\\\\n   - \\\\\"name\\\\\": \u001b[0m\n",
       "\u001b[32mThe role of the element, such as \\\\\"main title\\\\\", \\\\\"content bullets\\\\\", \\\\\"main image\\\\\", \\\\\"presenters\\\\\", \u001b[0m\n",
       "\u001b[32m\\\\\"background information\\\\\", \\\\\"acknowledgments\\\\\", \\\\\"data\\\\\", etc.\\\\n   - \\\\\"description\\\\\": A clear description\u001b[0m\n",
       "\u001b[32mof the element\\'s purpose, do not mention any detail\\\\n   - \\\\\"type\\\\\": Literal\u001b[0m\u001b[32m[\u001b[0m\u001b[32m\\\\\"text\\\\\", \\\\\"image\\\\\"\u001b[0m\u001b[32m]\u001b[0m\u001b[32m\\\\n   - \u001b[0m\n",
       "\u001b[32m\\\\\"data\\\\\":\\\\n      * For text elements: The actual text content as string or array in paragraph level\u001b[0m\u001b[32m(\u001b[0m\u001b[32m<\u001b[0m\u001b[32mp\u001b[0m\u001b[32m> or \u001b[0m\n",
       "\u001b[32m<li>\u001b[0m\u001b[32m)\u001b[0m\u001b[32m\\\\n      * For image elements: Use the `alt` attribute of the <img> tag as the data of the image\\\\n\\\\nExample \u001b[0m\n",
       "\u001b[32mformat:\\\\n\u001b[0m\u001b[32m{\u001b[0m\u001b[32m\\\\n  \\\\\"element_name\\\\\": \u001b[0m\u001b[32m{\u001b[0m\u001b[32m\\\\n    \\\\\"description\\\\\": \\\\\"purpose of this element\\\\\", # do not mention any \u001b[0m\n",
       "\u001b[32mdetail, just purpose\\\\n    \\\\\"type\\\\\": \\\\\"text\\\\\" or \\\\\"image\\\\\",\\\\n    \\\\\"data\\\\\": \u001b[0m\u001b[32m[\u001b[0m\u001b[32m\\\\\"text1\\\\\", \\\\\"text2\\\\\"\u001b[0m\u001b[32m]\u001b[0m\u001b[32m or \u001b[0m\n",
       "\u001b[32m[\u001b[0m\u001b[32m\\\\\"logo:...\\\\\", \\\\\"logo:...\\\\\"\u001b[0m\u001b[32m]\u001b[0m\u001b[32m\\\\n  \u001b[0m\u001b[32m}\u001b[0m\u001b[32m\\\\n\u001b[0m\u001b[32m}\u001b[0m\u001b[32m\\\\nInput:\\\\n<!DOCTYPE html>\\\\n<html>\\\\n<title>What is \u001b[0m\n",
       "\u001b[32mTourism?</title>\\\\n<body \u001b[0m\u001b[32mstyle\u001b[0m\u001b[32m=\\\\\"width:960pt; height:540pt;\\\\\">\\\\n<div>\\\\n\\\\t<p>What is \u001b[0m\n",
       "\u001b[32mTourism?</p>\\\\n</div>\\\\n\\\\n<div \u001b[0m\u001b[32mstyle\u001b[0m\u001b[32m=\\'font-size: 20pt\\'>\\\\n\\\\t<p>The World Tourism Organisation defines tourism \u001b[0m\n",
       "\u001b[32min terms which go</p>\\\\n\\\\t<p>“ beyond the common perception of tourism as being limited to holiday activity only”,\u001b[0m\n",
       "\u001b[32mas people “ travelling to and staying in places outside their usual environment for not more than one consecutive \u001b[0m\n",
       "\u001b[32myear for leisure, business and other purposes”</p>\\\\n\\\\t<p>Its importance was recognised in the Manila Declaration \u001b[0m\n",
       "\u001b[32mon World Tourism of 1980 as an activity essential to the life of nations because of its direct effects on the \u001b[0m\n",
       "\u001b[32msocial, cultural, educational, and economic sectors of national societies and on their international \u001b[0m\n",
       "\u001b[32mrelations</p>\\\\n\\\\t<p>Today, tourism is a major source of income for many countries, and affects the economy of \u001b[0m\n",
       "\u001b[32mboth the source and the host countries, in some cases being of vital \u001b[0m\n",
       "\u001b[32mimportance</p>\\\\n</div>\\\\n</body>\\\\n</html\u001b[0m\u001b[32m>\u001b[0m\u001b[32m\\\\n\\\\n\\\\nOutput: Please provide a schema that could be used as a \u001b[0m\n",
       "\u001b[32mtemplate for creating similar slides\"\u001b[0m\u001b[32m}\u001b[0m\u001b[32m]\u001b[0m\u001b[32m}\u001b[0m\u001b[32m]\u001b[0m\u001b[32m'\u001b[0m\u001b[1;32m]\u001b[0m\n"
      ]
     },
     "metadata": {},
     "output_type": "display_data"
    },
    {
     "data": {
      "text/html": [
       "<pre style=\"white-space:pre;overflow-x:auto;line-height:normal;font-family:Menlo,'DejaVu Sans Mono',consolas,'Courier New',monospace\"><span style=\"color: #800000; text-decoration-color: #800000\">response from gpt-4o-</span><span style=\"color: #008080; text-decoration-color: #008080; font-weight: bold\">2024</span><span style=\"color: #800000; text-decoration-color: #800000\">-</span><span style=\"color: #008080; text-decoration-color: #008080; font-weight: bold\">11</span><span style=\"color: #800000; text-decoration-color: #800000\">-</span><span style=\"color: #008080; text-decoration-color: #008080; font-weight: bold\">20</span><span style=\"color: #800000; text-decoration-color: #800000\">: Here is a structured JSON schema for creating similar slides based on the provided</span>\n",
       "<span style=\"color: #800000; text-decoration-color: #800000\">HTML input.</span>\n",
       "\n",
       "<span style=\"color: #800000; text-decoration-color: #800000\">```json</span>\n",
       "<span style=\"color: #800000; text-decoration-color: #800000; font-weight: bold\">{</span>\n",
       "<span style=\"color: #800000; text-decoration-color: #800000\">  </span><span style=\"color: #008000; text-decoration-color: #008000\">\"main_title\"</span><span style=\"color: #800000; text-decoration-color: #800000\">: </span><span style=\"color: #800000; text-decoration-color: #800000; font-weight: bold\">{</span>\n",
       "<span style=\"color: #800000; text-decoration-color: #800000\">    </span><span style=\"color: #008000; text-decoration-color: #008000\">\"description\"</span><span style=\"color: #800000; text-decoration-color: #800000\">: </span><span style=\"color: #008000; text-decoration-color: #008000\">\"The primary heading that introduces the main topic of the slide\"</span><span style=\"color: #800000; text-decoration-color: #800000\">,</span>\n",
       "<span style=\"color: #800000; text-decoration-color: #800000\">    </span><span style=\"color: #008000; text-decoration-color: #008000\">\"type\"</span><span style=\"color: #800000; text-decoration-color: #800000\">: </span><span style=\"color: #008000; text-decoration-color: #008000\">\"text\"</span><span style=\"color: #800000; text-decoration-color: #800000\">,</span>\n",
       "<span style=\"color: #800000; text-decoration-color: #800000\">    </span><span style=\"color: #008000; text-decoration-color: #008000\">\"data\"</span><span style=\"color: #800000; text-decoration-color: #800000\">: </span><span style=\"color: #800000; text-decoration-color: #800000; font-weight: bold\">[</span><span style=\"color: #008000; text-decoration-color: #008000\">\"What is Tourism?\"</span><span style=\"color: #800000; text-decoration-color: #800000; font-weight: bold\">]</span>\n",
       "<span style=\"color: #800000; text-decoration-color: #800000\">  </span><span style=\"color: #800000; text-decoration-color: #800000; font-weight: bold\">}</span><span style=\"color: #800000; text-decoration-color: #800000\">,</span>\n",
       "<span style=\"color: #800000; text-decoration-color: #800000\">  </span><span style=\"color: #008000; text-decoration-color: #008000\">\"content_text\"</span><span style=\"color: #800000; text-decoration-color: #800000\">: </span><span style=\"color: #800000; text-decoration-color: #800000; font-weight: bold\">{</span>\n",
       "<span style=\"color: #800000; text-decoration-color: #800000\">    </span><span style=\"color: #008000; text-decoration-color: #008000\">\"description\"</span><span style=\"color: #800000; text-decoration-color: #800000\">: </span><span style=\"color: #008000; text-decoration-color: #008000\">\"The body text providing detailed explanations, definitions, or information related to the </span>\n",
       "<span style=\"color: #008000; text-decoration-color: #008000\">topic\"</span><span style=\"color: #800000; text-decoration-color: #800000\">,</span>\n",
       "<span style=\"color: #800000; text-decoration-color: #800000\">    </span><span style=\"color: #008000; text-decoration-color: #008000\">\"type\"</span><span style=\"color: #800000; text-decoration-color: #800000\">: </span><span style=\"color: #008000; text-decoration-color: #008000\">\"text\"</span><span style=\"color: #800000; text-decoration-color: #800000\">,</span>\n",
       "<span style=\"color: #800000; text-decoration-color: #800000\">    </span><span style=\"color: #008000; text-decoration-color: #008000\">\"data\"</span><span style=\"color: #800000; text-decoration-color: #800000\">: </span><span style=\"color: #800000; text-decoration-color: #800000; font-weight: bold\">[</span>\n",
       "<span style=\"color: #800000; text-decoration-color: #800000\">      </span><span style=\"color: #008000; text-decoration-color: #008000\">\"The World Tourism Organisation defines tourism in terms which go\"</span><span style=\"color: #800000; text-decoration-color: #800000\">,</span>\n",
       "<span style=\"color: #800000; text-decoration-color: #800000\">      </span><span style=\"color: #008000; text-decoration-color: #008000\">\"“ beyond the common perception of tourism as being limited to holiday activity only”, as people “ travelling</span>\n",
       "<span style=\"color: #008000; text-decoration-color: #008000\">to and staying in places outside their usual environment for not more than one consecutive year for leisure, </span>\n",
       "<span style=\"color: #008000; text-decoration-color: #008000\">business and other purposes”\"</span><span style=\"color: #800000; text-decoration-color: #800000\">,</span>\n",
       "<span style=\"color: #800000; text-decoration-color: #800000\">      </span><span style=\"color: #008000; text-decoration-color: #008000\">\"Its importance was recognised in the Manila Declaration on World Tourism of 1980 as an activity essential to</span>\n",
       "<span style=\"color: #008000; text-decoration-color: #008000\">the life of nations because of its direct effects on the social, cultural, educational, and economic sectors of </span>\n",
       "<span style=\"color: #008000; text-decoration-color: #008000\">national societies and on their international relations\"</span><span style=\"color: #800000; text-decoration-color: #800000\">,</span>\n",
       "<span style=\"color: #800000; text-decoration-color: #800000\">      </span><span style=\"color: #008000; text-decoration-color: #008000\">\"Today, tourism is a major source of income for many countries, and affects the economy of both the source </span>\n",
       "<span style=\"color: #008000; text-decoration-color: #008000\">and the host countries, in some cases being of vital importance\"</span>\n",
       "<span style=\"color: #800000; text-decoration-color: #800000\">    </span><span style=\"color: #800000; text-decoration-color: #800000; font-weight: bold\">]</span>\n",
       "<span style=\"color: #800000; text-decoration-color: #800000\">  </span><span style=\"color: #800000; text-decoration-color: #800000; font-weight: bold\">}</span>\n",
       "<span style=\"color: #800000; text-decoration-color: #800000; font-weight: bold\">}</span>\n",
       "<span style=\"color: #800000; text-decoration-color: #800000\">```</span>\n",
       "\n",
       "<span style=\"color: #800000; text-decoration-color: #800000\">### Explanation</span>\n",
       "<span style=\"color: #008080; text-decoration-color: #008080; font-weight: bold\">1</span><span style=\"color: #800000; text-decoration-color: #800000\">. **main_title**: Represents the slide's main title, extracted from the first `</span><span style=\"color: #800000; text-decoration-color: #800000; font-weight: bold\">&lt;</span><span style=\"color: #ff00ff; text-decoration-color: #ff00ff; font-weight: bold\">p</span><span style=\"color: #000000; text-decoration-color: #000000\">&gt;` element.</span>\n",
       "<span style=\"color: #008080; text-decoration-color: #008080; font-weight: bold\">2</span><span style=\"color: #000000; text-decoration-color: #000000\">. **content_text**: Represents the body text, composed of multiple `&lt;p</span><span style=\"color: #800000; text-decoration-color: #800000; font-weight: bold\">&gt;</span><span style=\"color: #800000; text-decoration-color: #800000\">` paragraphs that elaborate on the topic.</span>\n",
       "\n",
       "<span style=\"color: #800000; text-decoration-color: #800000\">This schema can serve as a baseline for structuring similar slides, ensuring consistent organization and clear </span>\n",
       "<span style=\"color: #800000; text-decoration-color: #800000\">specification of elements. If future slides include images or additional structured content, corresponding new </span>\n",
       "<span style=\"color: #800000; text-decoration-color: #800000\">elements can be added to the schema.</span>\n",
       "</pre>\n"
      ],
      "text/plain": [
       "\u001b[31mresponse from gpt-4o-\u001b[0m\u001b[1;36m2024\u001b[0m\u001b[31m-\u001b[0m\u001b[1;36m11\u001b[0m\u001b[31m-\u001b[0m\u001b[1;36m20\u001b[0m\u001b[31m: Here is a structured JSON schema for creating similar slides based on the provided\u001b[0m\n",
       "\u001b[31mHTML input.\u001b[0m\n",
       "\n",
       "\u001b[31m```json\u001b[0m\n",
       "\u001b[1;31m{\u001b[0m\n",
       "\u001b[31m  \u001b[0m\u001b[32m\"main_title\"\u001b[0m\u001b[31m: \u001b[0m\u001b[1;31m{\u001b[0m\n",
       "\u001b[31m    \u001b[0m\u001b[32m\"description\"\u001b[0m\u001b[31m: \u001b[0m\u001b[32m\"The primary heading that introduces the main topic of the slide\"\u001b[0m\u001b[31m,\u001b[0m\n",
       "\u001b[31m    \u001b[0m\u001b[32m\"type\"\u001b[0m\u001b[31m: \u001b[0m\u001b[32m\"text\"\u001b[0m\u001b[31m,\u001b[0m\n",
       "\u001b[31m    \u001b[0m\u001b[32m\"data\"\u001b[0m\u001b[31m: \u001b[0m\u001b[1;31m[\u001b[0m\u001b[32m\"What is Tourism?\"\u001b[0m\u001b[1;31m]\u001b[0m\n",
       "\u001b[31m  \u001b[0m\u001b[1;31m}\u001b[0m\u001b[31m,\u001b[0m\n",
       "\u001b[31m  \u001b[0m\u001b[32m\"content_text\"\u001b[0m\u001b[31m: \u001b[0m\u001b[1;31m{\u001b[0m\n",
       "\u001b[31m    \u001b[0m\u001b[32m\"description\"\u001b[0m\u001b[31m: \u001b[0m\u001b[32m\"The body text providing detailed explanations, definitions, or information related to the \u001b[0m\n",
       "\u001b[32mtopic\"\u001b[0m\u001b[31m,\u001b[0m\n",
       "\u001b[31m    \u001b[0m\u001b[32m\"type\"\u001b[0m\u001b[31m: \u001b[0m\u001b[32m\"text\"\u001b[0m\u001b[31m,\u001b[0m\n",
       "\u001b[31m    \u001b[0m\u001b[32m\"data\"\u001b[0m\u001b[31m: \u001b[0m\u001b[1;31m[\u001b[0m\n",
       "\u001b[31m      \u001b[0m\u001b[32m\"The World Tourism Organisation defines tourism in terms which go\"\u001b[0m\u001b[31m,\u001b[0m\n",
       "\u001b[31m      \u001b[0m\u001b[32m\"“ beyond the common perception of tourism as being limited to holiday activity only”, as people “ travelling\u001b[0m\n",
       "\u001b[32mto and staying in places outside their usual environment for not more than one consecutive year for leisure, \u001b[0m\n",
       "\u001b[32mbusiness and other purposes”\"\u001b[0m\u001b[31m,\u001b[0m\n",
       "\u001b[31m      \u001b[0m\u001b[32m\"Its importance was recognised in the Manila Declaration on World Tourism of 1980 as an activity essential to\u001b[0m\n",
       "\u001b[32mthe life of nations because of its direct effects on the social, cultural, educational, and economic sectors of \u001b[0m\n",
       "\u001b[32mnational societies and on their international relations\"\u001b[0m\u001b[31m,\u001b[0m\n",
       "\u001b[31m      \u001b[0m\u001b[32m\"Today, tourism is a major source of income for many countries, and affects the economy of both the source \u001b[0m\n",
       "\u001b[32mand the host countries, in some cases being of vital importance\"\u001b[0m\n",
       "\u001b[31m    \u001b[0m\u001b[1;31m]\u001b[0m\n",
       "\u001b[31m  \u001b[0m\u001b[1;31m}\u001b[0m\n",
       "\u001b[1;31m}\u001b[0m\n",
       "\u001b[31m```\u001b[0m\n",
       "\n",
       "\u001b[31m### Explanation\u001b[0m\n",
       "\u001b[1;36m1\u001b[0m\u001b[31m. **main_title**: Represents the slide's main title, extracted from the first `\u001b[0m\u001b[1;31m<\u001b[0m\u001b[1;95mp\u001b[0m\u001b[39m>` element.\u001b[0m\n",
       "\u001b[1;36m2\u001b[0m\u001b[39m. **content_text**: Represents the body text, composed of multiple `<p\u001b[0m\u001b[1;31m>\u001b[0m\u001b[31m` paragraphs that elaborate on the topic.\u001b[0m\n",
       "\n",
       "\u001b[31mThis schema can serve as a baseline for structuring similar slides, ensuring consistent organization and clear \u001b[0m\n",
       "\u001b[31mspecification of elements. If future slides include images or additional structured content, corresponding new \u001b[0m\n",
       "\u001b[31melements can be added to the schema.\u001b[0m\n"
      ]
     },
     "metadata": {},
     "output_type": "display_data"
    },
    {
     "name": "stdout",
     "output_type": "stream",
     "text": [
      "Slide Induction:\n",
      "defaultdict(<function SlideInducter.__init__.<locals>.<lambda> at 0x3ea538360>, {'opening:text': defaultdict(<class 'list'>, {'slides': [1], 'template_id': 1, 'content_schema': {'slide_title': {'description': 'The main title describing the subject of the slide.', 'type': 'text', 'data': ['Tourism & Culture:']}, 'main_heading': {'description': 'The central or main heading that introduces the core theme or message of the slide.', 'type': 'text', 'data': ['APPRECIATING THE TANGIBLE & THE INTANGIBLE OF BHUBANESWAR THROUGH CULTURAL TOURISM']}, 'presenter': {'description': 'The name of the person or entity presenting the content of the slide.', 'type': 'text', 'data': ['By Ayona Bhaduri']}}}), 'Text-Centered Slide with Bullet Points:text': defaultdict(<class 'list'>, {'template_id': 3, 'slides': [3, 5, 4, 2], 'content_schema': {'main_title': {'description': 'The primary heading that introduces the main topic of the slide', 'type': 'text', 'data': ['What is Tourism?']}, 'content_text': {'description': 'The body text providing detailed explanations, definitions, or information related to the topic', 'type': 'text', 'data': ['The World Tourism Organisation defines tourism in terms which go', '“ beyond the common perception of tourism as being limited to holiday activity only”, as people “ travelling to and staying in places outside their usual environment for not more than one consecutive year for leisure, business and other purposes”', 'Its importance was recognised in the Manila Declaration on World Tourism of 1980 as an activity essential to the life of nations because of its direct effects on the social, cultural, educational, and economic sectors of national societies and on their international relations', 'Today, tourism is a major source of income for many countries, and affects the economy of both the source and the host countries, in some cases being of vital importance']}}}), 'functional_keys': ['opening:text']})\n"
     ]
    }
   ],
   "source": [
    "# -- 5. Slide Induction (looking at the PPT structure) --\n",
    "print(\"[STAGE] Slide Induction\")\n",
    "template_img_dir = pjoin(pptx_config.RUN_DIR, \"template_images\")\n",
    "if not os.path.exists(template_img_dir) or len(os.listdir(template_img_dir)) == 0:\n",
    "    # Save a stripped version of the PPT\n",
    "    deepcopy(presentation).save(\n",
    "        pjoin(pptx_config.RUN_DIR, \"template.pptx\"), layout_only=False\n",
    "    )\n",
    "    ppt_to_images(\n",
    "        pjoin(pptx_config.RUN_DIR, \"template.pptx\"), template_img_dir\n",
    "    )\n",
    "\n",
    "template_presentation = Presentation.from_file(\n",
    "    pjoin(pptx_config.RUN_DIR, \"template.pptx\"), pptx_config\n",
    ")\n",
    "\n",
    "slide_inducter = induct.SlideInducter(\n",
    "    vision_model,\n",
    "    language_model,\n",
    "    presentation,\n",
    "    ppt_image_folder,\n",
    "    template_img_dir,\n",
    "    pptx_config,\n",
    "    image_model,\n",
    "    \"inference_script\",  # or \"backend\", up to you\n",
    ")\n",
    "slide_induction = slide_inducter.content_induct()\n",
    "print(f\"Slide Induction:\\n{slide_induction}\")"
   ]
  },
  {
   "cell_type": "code",
   "execution_count": 8,
   "metadata": {},
   "outputs": [
    {
     "name": "stdout",
     "output_type": "stream",
     "text": [
      "[STAGE] PPT Generation\n"
     ]
    },
    {
     "data": {
      "text/html": [
       "<pre style=\"white-space:pre;overflow-x:auto;line-height:normal;font-family:Menlo,'DejaVu Sans Mono',consolas,'Courier New',monospace\"><span style=\"color: #008000; text-decoration-color: #008000\">sending messages to: gpt-4o-</span><span style=\"color: #008080; text-decoration-color: #008080; font-weight: bold\">2024</span><span style=\"color: #008000; text-decoration-color: #008000\">-</span><span style=\"color: #008080; text-decoration-color: #008080; font-weight: bold\">11</span><span style=\"color: #008000; text-decoration-color: #008000\">-</span><span style=\"color: #008080; text-decoration-color: #008080; font-weight: bold\">20</span><span style=\"color: #008000; text-decoration-color: #008000\">, message </span><span style=\"color: #008000; text-decoration-color: #008000; font-weight: bold\">(</span><span style=\"color: #008000; text-decoration-color: #008000\">truncated</span><span style=\"color: #008000; text-decoration-color: #008000; font-weight: bold\">)</span><span style=\"color: #008000; text-decoration-color: #008000\">: </span><span style=\"color: #008000; text-decoration-color: #008000; font-weight: bold\">[{</span><span style=\"color: #008000; text-decoration-color: #008000\">'role'</span><span style=\"color: #008000; text-decoration-color: #008000\">: </span><span style=\"color: #008000; text-decoration-color: #008000\">'system'</span><span style=\"color: #008000; text-decoration-color: #008000\">, </span><span style=\"color: #008000; text-decoration-color: #008000\">'content'</span><span style=\"color: #008000; text-decoration-color: #008000\">: </span><span style=\"color: #008000; text-decoration-color: #008000; font-weight: bold\">[{</span><span style=\"color: #008000; text-decoration-color: #008000\">'type'</span><span style=\"color: #008000; text-decoration-color: #008000\">: </span><span style=\"color: #008000; text-decoration-color: #008000\">'text'</span><span style=\"color: #008000; text-decoration-color: #008000\">, </span>\n",
       "<span style=\"color: #008000; text-decoration-color: #008000\">'text'</span><span style=\"color: #008000; text-decoration-color: #008000\">: </span><span style=\"color: #008000; text-decoration-color: #008000\">'You are a professional presentation designer tasked with creating structured Presentation outlines. The </span>\n",
       "<span style=\"color: #008000; text-decoration-color: #008000\">final deliverable should be formatted as a JSON object. Please ensure that no layouts other than those provided are</span>\n",
       "<span style=\"color: #008000; text-decoration-color: #008000\">utilized in the outline.\\n'</span><span style=\"color: #008000; text-decoration-color: #008000; font-weight: bold\">}]}</span><span style=\"color: #008000; text-decoration-color: #008000\">, </span><span style=\"color: #008000; text-decoration-color: #008000\">'[{\"role\": \"user\", \"content\": [{\"type\": \"text\", \"text\": \"Instructions:\\\\nReview the</span>\n",
       "<span style=\"color: #008000; text-decoration-color: #008000\">provided document overview, image captions, and available layouts.\\\\nThen, create a structured presentation outline</span>\n",
       "<span style=\"color: #008000; text-decoration-color: #008000\">by following these guidelines:\\\\n  1. Ensure the number of slides matches the specified requirement.\\\\n  2. Use </span>\n",
       "<span style=\"color: #008000; text-decoration-color: #008000\">structural layouts only for structural slides to make the presentation more engaging (eg. use opening and ending </span>\n",
       "<span style=\"color: #008000; text-decoration-color: #008000\">slides once each).\\\\n  3. Analyze the content and media types specified in the provided layouts to optimize slide </span>\n",
       "<span style=\"color: #008000; text-decoration-color: #008000\">design.\\\\n  4. Utilize high-quality, topic-related images to make the presentation more engaging (use layouts with </span>\n",
       "<span style=\"color: #008000; text-decoration-color: #008000\">media type=image for related ).\\\\n\\\\nFor each slide, provide:\\\\n  - Slide Purpose: A high-level summary of the </span>\n",
       "<span style=\"color: #008000; text-decoration-color: #008000\">slide\\'s objective, used as the key for the dictionary item.\\\\n  - Layout: Choose an appropriate layout from the </span>\n",
       "<span style=\"color: #008000; text-decoration-color: #008000\">provided options, tailored to the slide\\'s purpose and media type.\\\\n  - Slide Description: A concise description </span>\n",
       "<span style=\"color: #008000; text-decoration-color: #008000\">of the slide\\'s content.\\\\n  - Subsection Keys: Relevant subsection titles that relate to the slide\\'s </span>\n",
       "<span style=\"color: #008000; text-decoration-color: #008000\">content.\\\\n\\\\nPlease provide your output in JSON format.\\\\n\\\\nThe Number of Slides in Your Output JSON MUST BE </span>\n",
       "<span style=\"color: #008000; text-decoration-color: #008000\">EQUAL to the Number of Slides: 5\\\\nFor the layouts, usually, first slide is the opening, last slide is the ending, </span>\n",
       "<span style=\"color: #008000; text-decoration-color: #008000\">and the other slides are the content slides (choose from the content layouts).\\\\n\\\\nExample Output for a 3-slide </span>\n",
       "<span style=\"color: #008000; text-decoration-color: #008000\">presentation:\\\\n{\\\\n   \\\\\"Opening of the XX\\\\\": {\\\\n      \\\\\"layout\\\\\": \\\\\"opening(media_type)\\\\\",\\\\n      </span>\n",
       "<span style=\"color: #008000; text-decoration-color: #008000\">\\\\\"subsections\\\\\": [],\\\\n      \\\\\"description\\\\\": \\\\\"...\\\\\"\\\\n   },\\\\n   \\\\\"Introduction to the XX\\\\\": {\\\\n      </span>\n",
       "<span style=\"color: #008000; text-decoration-color: #008000\">\\\\\"layout\\\\\": \\\\\"layout1(media_type)\\\\\", # select from given layouts(structural or content)\\\\n      </span>\n",
       "<span style=\"color: #008000; text-decoration-color: #008000\">\\\\\"subsections\\\\\": [\\\\\"Title of Subsection 1.1\\\\\", \\\\\"Title of Subsection 1.2\\\\\"],\\\\n      \\\\\"description\\\\\": </span>\n",
       "<span style=\"color: #008000; text-decoration-color: #008000\">\\\\\"...\\\\\"\\\\n  },\\\\n  ...,\\\\n  \\\\\"Ending of the XX\\\\\": {\\\\n      \\\\\"layout\\\\\": \\\\\"ending(media_type)\\\\\",\\\\n      </span>\n",
       "<span style=\"color: #008000; text-decoration-color: #008000\">\\\\\"subsections\\\\\": [],\\\\n      \\\\\"description\\\\\": \\\\\"...\\\\\"\\\\n  }\\\\n}\\\\n\\\\nInput:\\\\n{\\'metadata\\': {\\'title\\': </span>\n",
       "<span style=\"color: #008000; text-decoration-color: #008000\">\\'The History of OpenAI\\', \\'author\\': \\'OpenAI Documentation Team\\', \\'publish date\\': \\'October 2023\\', </span>\n",
       "<span style=\"color: #008000; text-decoration-color: #008000\">\\'organization\\': \\'OpenAI\\'}, \\'sections\\': [{\\'title\\': \\'Formation and Vision\\', \\'subsections\\': [{\\'title\\': </span>\n",
       "<span style=\"color: #008000; text-decoration-color: #008000\">\\'Founding and Motivation\\'}, {\\'title\\': \\'Non-Profit Roots\\'}]}, {\\'title\\': \\'Key Milestones and Achievements\\',</span>\n",
       "<span style=\"color: #008000; text-decoration-color: #008000\">\\'subsections\\': [{\\'title\\': \\'Technical Breakthroughs\\'}, {\\'title\\': \\'Transition to OpenAI LP\\'}, {\\'title\\': </span>\n",
       "<span style=\"color: #008000; text-decoration-color: #008000\">\\'AI Democratization\\'}]}, {\\'title\\': \\'The Future of OpenAI\\', \\'subsections\\': [{\\'title\\': \\'Continued Ethical </span>\n",
       "<span style=\"color: #008000; text-decoration-color: #008000\">Leadership\\'}]}]}\\\\n\\\\nAvailable Images:\\\\n\\\\n\\\\n# you can only use the following layouts\\\\nContent </span>\n",
       "<span style=\"color: #008000; text-decoration-color: #008000\">Layouts:\\\\nText-Centered Slide with Bullet Points:text\\\\nfunctional_keys\\\\n\\\\nStructural </span>\n",
       "<span style=\"color: #008000; text-decoration-color: #008000\">Layouts:\\\\nopening:text\\\\n\\\\nOutput:\"}]}]'</span><span style=\"color: #008000; text-decoration-color: #008000; font-weight: bold\">]</span>\n",
       "</pre>\n"
      ],
      "text/plain": [
       "\u001b[32msending messages to: gpt-4o-\u001b[0m\u001b[1;36m2024\u001b[0m\u001b[32m-\u001b[0m\u001b[1;36m11\u001b[0m\u001b[32m-\u001b[0m\u001b[1;36m20\u001b[0m\u001b[32m, message \u001b[0m\u001b[1;32m(\u001b[0m\u001b[32mtruncated\u001b[0m\u001b[1;32m)\u001b[0m\u001b[32m: \u001b[0m\u001b[1;32m[\u001b[0m\u001b[1;32m{\u001b[0m\u001b[32m'role'\u001b[0m\u001b[32m: \u001b[0m\u001b[32m'system'\u001b[0m\u001b[32m, \u001b[0m\u001b[32m'content'\u001b[0m\u001b[32m: \u001b[0m\u001b[1;32m[\u001b[0m\u001b[1;32m{\u001b[0m\u001b[32m'type'\u001b[0m\u001b[32m: \u001b[0m\u001b[32m'text'\u001b[0m\u001b[32m, \u001b[0m\n",
       "\u001b[32m'text'\u001b[0m\u001b[32m: \u001b[0m\u001b[32m'You are a professional presentation designer tasked with creating structured Presentation outlines. The \u001b[0m\n",
       "\u001b[32mfinal deliverable should be formatted as a JSON object. Please ensure that no layouts other than those provided are\u001b[0m\n",
       "\u001b[32mutilized in the outline.\\n'\u001b[0m\u001b[1;32m}\u001b[0m\u001b[1;32m]\u001b[0m\u001b[1;32m}\u001b[0m\u001b[32m, \u001b[0m\u001b[32m'\u001b[0m\u001b[32m[\u001b[0m\u001b[32m{\u001b[0m\u001b[32m\"role\": \"user\", \"content\": \u001b[0m\u001b[32m[\u001b[0m\u001b[32m{\u001b[0m\u001b[32m\"type\": \"text\", \"text\": \"Instructions:\\\\nReview the\u001b[0m\n",
       "\u001b[32mprovided document overview, image captions, and available layouts.\\\\nThen, create a structured presentation outline\u001b[0m\n",
       "\u001b[32mby following these guidelines:\\\\n  1. Ensure the number of slides matches the specified requirement.\\\\n  2. Use \u001b[0m\n",
       "\u001b[32mstructural layouts only for structural slides to make the presentation more engaging \u001b[0m\u001b[32m(\u001b[0m\u001b[32meg. use opening and ending \u001b[0m\n",
       "\u001b[32mslides once each\u001b[0m\u001b[32m)\u001b[0m\u001b[32m.\\\\n  3. Analyze the content and media types specified in the provided layouts to optimize slide \u001b[0m\n",
       "\u001b[32mdesign.\\\\n  4. Utilize high-quality, topic-related images to make the presentation more engaging \u001b[0m\u001b[32m(\u001b[0m\u001b[32muse layouts with \u001b[0m\n",
       "\u001b[32mmedia \u001b[0m\u001b[32mtype\u001b[0m\u001b[32m=\u001b[0m\u001b[32mimage\u001b[0m\u001b[32m for related \u001b[0m\u001b[32m)\u001b[0m\u001b[32m.\\\\n\\\\nFor each slide, provide:\\\\n  - Slide Purpose: A high-level summary of the \u001b[0m\n",
       "\u001b[32mslide\\'s objective, used as the key for the dictionary item.\\\\n  - Layout: Choose an appropriate layout from the \u001b[0m\n",
       "\u001b[32mprovided options, tailored to the slide\\'s purpose and media type.\\\\n  - Slide Description: A concise description \u001b[0m\n",
       "\u001b[32mof the slide\\'s content.\\\\n  - Subsection Keys: Relevant subsection titles that relate to the slide\\'s \u001b[0m\n",
       "\u001b[32mcontent.\\\\n\\\\nPlease provide your output in JSON format.\\\\n\\\\nThe Number of Slides in Your Output JSON MUST BE \u001b[0m\n",
       "\u001b[32mEQUAL to the Number of Slides: 5\\\\nFor the layouts, usually, first slide is the opening, last slide is the ending, \u001b[0m\n",
       "\u001b[32mand the other slides are the content slides \u001b[0m\u001b[32m(\u001b[0m\u001b[32mchoose from the content layouts\u001b[0m\u001b[32m)\u001b[0m\u001b[32m.\\\\n\\\\nExample Output for a 3-slide \u001b[0m\n",
       "\u001b[32mpresentation:\\\\n\u001b[0m\u001b[32m{\u001b[0m\u001b[32m\\\\n   \\\\\"Opening of the XX\\\\\": \u001b[0m\u001b[32m{\u001b[0m\u001b[32m\\\\n      \\\\\"layout\\\\\": \\\\\"opening\u001b[0m\u001b[32m(\u001b[0m\u001b[32mmedia_type\u001b[0m\u001b[32m)\u001b[0m\u001b[32m\\\\\",\\\\n      \u001b[0m\n",
       "\u001b[32m\\\\\"subsections\\\\\": \u001b[0m\u001b[32m[\u001b[0m\u001b[32m]\u001b[0m\u001b[32m,\\\\n      \\\\\"description\\\\\": \\\\\"...\\\\\"\\\\n   \u001b[0m\u001b[32m}\u001b[0m\u001b[32m,\\\\n   \\\\\"Introduction to the XX\\\\\": \u001b[0m\u001b[32m{\u001b[0m\u001b[32m\\\\n      \u001b[0m\n",
       "\u001b[32m\\\\\"layout\\\\\": \\\\\"layout1\u001b[0m\u001b[32m(\u001b[0m\u001b[32mmedia_type\u001b[0m\u001b[32m)\u001b[0m\u001b[32m\\\\\", # select from given layouts\u001b[0m\u001b[32m(\u001b[0m\u001b[32mstructural or content\u001b[0m\u001b[32m)\u001b[0m\u001b[32m\\\\n      \u001b[0m\n",
       "\u001b[32m\\\\\"subsections\\\\\": \u001b[0m\u001b[32m[\u001b[0m\u001b[32m\\\\\"Title of Subsection 1.1\\\\\", \\\\\"Title of Subsection 1.2\\\\\"\u001b[0m\u001b[32m]\u001b[0m\u001b[32m,\\\\n      \\\\\"description\\\\\": \u001b[0m\n",
       "\u001b[32m\\\\\"...\\\\\"\\\\n  \u001b[0m\u001b[32m}\u001b[0m\u001b[32m,\\\\n  ...,\\\\n  \\\\\"Ending of the XX\\\\\": \u001b[0m\u001b[32m{\u001b[0m\u001b[32m\\\\n      \\\\\"layout\\\\\": \\\\\"ending\u001b[0m\u001b[32m(\u001b[0m\u001b[32mmedia_type\u001b[0m\u001b[32m)\u001b[0m\u001b[32m\\\\\",\\\\n      \u001b[0m\n",
       "\u001b[32m\\\\\"subsections\\\\\": \u001b[0m\u001b[32m[\u001b[0m\u001b[32m]\u001b[0m\u001b[32m,\\\\n      \\\\\"description\\\\\": \\\\\"...\\\\\"\\\\n  \u001b[0m\u001b[32m}\u001b[0m\u001b[32m\\\\n\u001b[0m\u001b[32m}\u001b[0m\u001b[32m\\\\n\\\\nInput:\\\\n\u001b[0m\u001b[32m{\u001b[0m\u001b[32m\\'metadata\\': \u001b[0m\u001b[32m{\u001b[0m\u001b[32m\\'title\\': \u001b[0m\n",
       "\u001b[32m\\'The History of OpenAI\\', \\'author\\': \\'OpenAI Documentation Team\\', \\'publish date\\': \\'October 2023\\', \u001b[0m\n",
       "\u001b[32m\\'organization\\': \\'OpenAI\\'\u001b[0m\u001b[32m}\u001b[0m\u001b[32m, \\'sections\\': \u001b[0m\u001b[32m[\u001b[0m\u001b[32m{\u001b[0m\u001b[32m\\'title\\': \\'Formation and Vision\\', \\'subsections\\': \u001b[0m\u001b[32m[\u001b[0m\u001b[32m{\u001b[0m\u001b[32m\\'title\\': \u001b[0m\n",
       "\u001b[32m\\'Founding and Motivation\\'\u001b[0m\u001b[32m}\u001b[0m\u001b[32m, \u001b[0m\u001b[32m{\u001b[0m\u001b[32m\\'title\\': \\'Non-Profit Roots\\'\u001b[0m\u001b[32m}\u001b[0m\u001b[32m]\u001b[0m\u001b[32m}\u001b[0m\u001b[32m, \u001b[0m\u001b[32m{\u001b[0m\u001b[32m\\'title\\': \\'Key Milestones and Achievements\\',\u001b[0m\n",
       "\u001b[32m\\'subsections\\': \u001b[0m\u001b[32m[\u001b[0m\u001b[32m{\u001b[0m\u001b[32m\\'title\\': \\'Technical Breakthroughs\\'\u001b[0m\u001b[32m}\u001b[0m\u001b[32m, \u001b[0m\u001b[32m{\u001b[0m\u001b[32m\\'title\\': \\'Transition to OpenAI LP\\'\u001b[0m\u001b[32m}\u001b[0m\u001b[32m, \u001b[0m\u001b[32m{\u001b[0m\u001b[32m\\'title\\': \u001b[0m\n",
       "\u001b[32m\\'AI Democratization\\'\u001b[0m\u001b[32m}\u001b[0m\u001b[32m]\u001b[0m\u001b[32m}\u001b[0m\u001b[32m, \u001b[0m\u001b[32m{\u001b[0m\u001b[32m\\'title\\': \\'The Future of OpenAI\\', \\'subsections\\': \u001b[0m\u001b[32m[\u001b[0m\u001b[32m{\u001b[0m\u001b[32m\\'title\\': \\'Continued Ethical \u001b[0m\n",
       "\u001b[32mLeadership\\'\u001b[0m\u001b[32m}\u001b[0m\u001b[32m]\u001b[0m\u001b[32m}\u001b[0m\u001b[32m]\u001b[0m\u001b[32m}\u001b[0m\u001b[32m\\\\n\\\\nAvailable Images:\\\\n\\\\n\\\\n# you can only use the following layouts\\\\nContent \u001b[0m\n",
       "\u001b[32mLayouts:\\\\nText-Centered Slide with Bullet Points:text\\\\nfunctional_keys\\\\n\\\\nStructural \u001b[0m\n",
       "\u001b[32mLayouts:\\\\nopening:text\\\\n\\\\nOutput:\"\u001b[0m\u001b[32m}\u001b[0m\u001b[32m]\u001b[0m\u001b[32m}\u001b[0m\u001b[32m]\u001b[0m\u001b[32m'\u001b[0m\u001b[1;32m]\u001b[0m\n"
      ]
     },
     "metadata": {},
     "output_type": "display_data"
    },
    {
     "data": {
      "text/html": [
       "<pre style=\"white-space:pre;overflow-x:auto;line-height:normal;font-family:Menlo,'DejaVu Sans Mono',consolas,'Courier New',monospace\"><span style=\"color: #800000; text-decoration-color: #800000\">response from gpt-4o-</span><span style=\"color: #008080; text-decoration-color: #008080; font-weight: bold\">2024</span><span style=\"color: #800000; text-decoration-color: #800000\">-</span><span style=\"color: #008080; text-decoration-color: #008080; font-weight: bold\">11</span><span style=\"color: #800000; text-decoration-color: #800000\">-</span><span style=\"color: #008080; text-decoration-color: #008080; font-weight: bold\">20</span><span style=\"color: #800000; text-decoration-color: #800000\">: ```json</span>\n",
       "<span style=\"color: #800000; text-decoration-color: #800000; font-weight: bold\">{</span>\n",
       "<span style=\"color: #800000; text-decoration-color: #800000\">   </span><span style=\"color: #008000; text-decoration-color: #008000\">\"Opening of The History of OpenAI\"</span><span style=\"color: #800000; text-decoration-color: #800000\">: </span><span style=\"color: #800000; text-decoration-color: #800000; font-weight: bold\">{</span>\n",
       "<span style=\"color: #800000; text-decoration-color: #800000\">      </span><span style=\"color: #008000; text-decoration-color: #008000\">\"layout\"</span><span style=\"color: #800000; text-decoration-color: #800000\">: </span><span style=\"color: #008000; text-decoration-color: #008000\">\"opening:text\"</span><span style=\"color: #800000; text-decoration-color: #800000\">,</span>\n",
       "<span style=\"color: #800000; text-decoration-color: #800000\">      </span><span style=\"color: #008000; text-decoration-color: #008000\">\"subsections\"</span><span style=\"color: #800000; text-decoration-color: #800000\">: </span><span style=\"color: #800000; text-decoration-color: #800000; font-weight: bold\">[]</span><span style=\"color: #800000; text-decoration-color: #800000\">,</span>\n",
       "<span style=\"color: #800000; text-decoration-color: #800000\">      </span><span style=\"color: #008000; text-decoration-color: #008000\">\"description\"</span><span style=\"color: #800000; text-decoration-color: #800000\">: </span><span style=\"color: #008000; text-decoration-color: #008000\">\"An engaging introduction to the history and evolution of OpenAI, highlighting its </span>\n",
       "<span style=\"color: #008000; text-decoration-color: #008000\">foundational vision, key milestones, and future outlook.\"</span>\n",
       "<span style=\"color: #800000; text-decoration-color: #800000\">   </span><span style=\"color: #800000; text-decoration-color: #800000; font-weight: bold\">}</span><span style=\"color: #800000; text-decoration-color: #800000\">,</span>\n",
       "<span style=\"color: #800000; text-decoration-color: #800000\">   </span><span style=\"color: #008000; text-decoration-color: #008000\">\"Formation and Vision\"</span><span style=\"color: #800000; text-decoration-color: #800000\">: </span><span style=\"color: #800000; text-decoration-color: #800000; font-weight: bold\">{</span>\n",
       "<span style=\"color: #800000; text-decoration-color: #800000\">      </span><span style=\"color: #008000; text-decoration-color: #008000\">\"layout\"</span><span style=\"color: #800000; text-decoration-color: #800000\">: </span><span style=\"color: #008000; text-decoration-color: #008000\">\"text-centered_slide\"</span><span style=\"color: #800000; text-decoration-color: #800000\">,</span>\n",
       "<span style=\"color: #800000; text-decoration-color: #800000\">      </span><span style=\"color: #008000; text-decoration-color: #008000\">\"subsections\"</span><span style=\"color: #800000; text-decoration-color: #800000\">: </span><span style=\"color: #800000; text-decoration-color: #800000; font-weight: bold\">[</span><span style=\"color: #008000; text-decoration-color: #008000\">\"Founding and Motivation\"</span><span style=\"color: #800000; text-decoration-color: #800000\">, </span><span style=\"color: #008000; text-decoration-color: #008000\">\"Non-Profit Roots\"</span><span style=\"color: #800000; text-decoration-color: #800000; font-weight: bold\">]</span><span style=\"color: #800000; text-decoration-color: #800000\">,</span>\n",
       "<span style=\"color: #800000; text-decoration-color: #800000\">      </span><span style=\"color: #008000; text-decoration-color: #008000\">\"description\"</span><span style=\"color: #800000; text-decoration-color: #800000\">: </span><span style=\"color: #008000; text-decoration-color: #008000\">\"Detailing OpenAI's founding principles, motivations, and its beginnings as a non-profit </span>\n",
       "<span style=\"color: #008000; text-decoration-color: #008000\">organization.\"</span>\n",
       "<span style=\"color: #800000; text-decoration-color: #800000\">   </span><span style=\"color: #800000; text-decoration-color: #800000; font-weight: bold\">}</span><span style=\"color: #800000; text-decoration-color: #800000\">,</span>\n",
       "<span style=\"color: #800000; text-decoration-color: #800000\">   </span><span style=\"color: #008000; text-decoration-color: #008000\">\"Key Milestones and Achievements\"</span><span style=\"color: #800000; text-decoration-color: #800000\">: </span><span style=\"color: #800000; text-decoration-color: #800000; font-weight: bold\">{</span>\n",
       "<span style=\"color: #800000; text-decoration-color: #800000\">      </span><span style=\"color: #008000; text-decoration-color: #008000\">\"layout\"</span><span style=\"color: #800000; text-decoration-color: #800000\">: </span><span style=\"color: #008000; text-decoration-color: #008000\">\"text-centered_slide\"</span><span style=\"color: #800000; text-decoration-color: #800000\">,</span>\n",
       "<span style=\"color: #800000; text-decoration-color: #800000\">      </span><span style=\"color: #008000; text-decoration-color: #008000\">\"subsections\"</span><span style=\"color: #800000; text-decoration-color: #800000\">: </span><span style=\"color: #800000; text-decoration-color: #800000; font-weight: bold\">[</span><span style=\"color: #008000; text-decoration-color: #008000\">\"Technical Breakthroughs\"</span><span style=\"color: #800000; text-decoration-color: #800000\">, </span><span style=\"color: #008000; text-decoration-color: #008000\">\"Transition to OpenAI LP\"</span><span style=\"color: #800000; text-decoration-color: #800000\">, </span><span style=\"color: #008000; text-decoration-color: #008000\">\"AI Democratization\"</span><span style=\"color: #800000; text-decoration-color: #800000; font-weight: bold\">]</span><span style=\"color: #800000; text-decoration-color: #800000\">,</span>\n",
       "<span style=\"color: #800000; text-decoration-color: #800000\">      </span><span style=\"color: #008000; text-decoration-color: #008000\">\"description\"</span><span style=\"color: #800000; text-decoration-color: #800000\">: </span><span style=\"color: #008000; text-decoration-color: #008000\">\"Exploring OpenAI's notable achievements, including technical innovations, organizational </span>\n",
       "<span style=\"color: #008000; text-decoration-color: #008000\">changes, and efforts to democratize access to artificial intelligence.\"</span>\n",
       "<span style=\"color: #800000; text-decoration-color: #800000\">   </span><span style=\"color: #800000; text-decoration-color: #800000; font-weight: bold\">}</span><span style=\"color: #800000; text-decoration-color: #800000\">,</span>\n",
       "<span style=\"color: #800000; text-decoration-color: #800000\">   </span><span style=\"color: #008000; text-decoration-color: #008000\">\"The Future of OpenAI\"</span><span style=\"color: #800000; text-decoration-color: #800000\">: </span><span style=\"color: #800000; text-decoration-color: #800000; font-weight: bold\">{</span>\n",
       "<span style=\"color: #800000; text-decoration-color: #800000\">      </span><span style=\"color: #008000; text-decoration-color: #008000\">\"layout\"</span><span style=\"color: #800000; text-decoration-color: #800000\">: </span><span style=\"color: #008000; text-decoration-color: #008000\">\"text-centered_slide\"</span><span style=\"color: #800000; text-decoration-color: #800000\">,</span>\n",
       "<span style=\"color: #800000; text-decoration-color: #800000\">      </span><span style=\"color: #008000; text-decoration-color: #008000\">\"subsections\"</span><span style=\"color: #800000; text-decoration-color: #800000\">: </span><span style=\"color: #800000; text-decoration-color: #800000; font-weight: bold\">[</span><span style=\"color: #008000; text-decoration-color: #008000\">\"Continued Ethical Leadership\"</span><span style=\"color: #800000; text-decoration-color: #800000; font-weight: bold\">]</span><span style=\"color: #800000; text-decoration-color: #800000\">,</span>\n",
       "<span style=\"color: #800000; text-decoration-color: #800000\">      </span><span style=\"color: #008000; text-decoration-color: #008000\">\"description\"</span><span style=\"color: #800000; text-decoration-color: #800000\">: </span><span style=\"color: #008000; text-decoration-color: #008000\">\"A forward-looking analysis of OpenAI's commitment to ethical leadership in AI research and </span>\n",
       "<span style=\"color: #008000; text-decoration-color: #008000\">implementation.\"</span>\n",
       "<span style=\"color: #800000; text-decoration-color: #800000\">   </span><span style=\"color: #800000; text-decoration-color: #800000; font-weight: bold\">}</span><span style=\"color: #800000; text-decoration-color: #800000\">,</span>\n",
       "<span style=\"color: #800000; text-decoration-color: #800000\">   </span><span style=\"color: #008000; text-decoration-color: #008000\">\"Conclusion of The History of OpenAI\"</span><span style=\"color: #800000; text-decoration-color: #800000\">: </span><span style=\"color: #800000; text-decoration-color: #800000; font-weight: bold\">{</span>\n",
       "<span style=\"color: #800000; text-decoration-color: #800000\">      </span><span style=\"color: #008000; text-decoration-color: #008000\">\"layout\"</span><span style=\"color: #800000; text-decoration-color: #800000\">: </span><span style=\"color: #008000; text-decoration-color: #008000\">\"ending:text\"</span><span style=\"color: #800000; text-decoration-color: #800000\">,</span>\n",
       "<span style=\"color: #800000; text-decoration-color: #800000\">      </span><span style=\"color: #008000; text-decoration-color: #008000\">\"subsections\"</span><span style=\"color: #800000; text-decoration-color: #800000\">: </span><span style=\"color: #800000; text-decoration-color: #800000; font-weight: bold\">[]</span><span style=\"color: #800000; text-decoration-color: #800000\">,</span>\n",
       "<span style=\"color: #800000; text-decoration-color: #800000\">      </span><span style=\"color: #008000; text-decoration-color: #008000\">\"description\"</span><span style=\"color: #800000; text-decoration-color: #800000\">: </span><span style=\"color: #008000; text-decoration-color: #008000\">\"Summarizing key takeaways and emphasizing OpenAI's ongoing mission to drive AI development </span>\n",
       "<span style=\"color: #008000; text-decoration-color: #008000\">responsibly and transparently.\"</span>\n",
       "<span style=\"color: #800000; text-decoration-color: #800000\">   </span><span style=\"color: #800000; text-decoration-color: #800000; font-weight: bold\">}</span>\n",
       "<span style=\"color: #800000; text-decoration-color: #800000; font-weight: bold\">}</span>\n",
       "<span style=\"color: #800000; text-decoration-color: #800000\">```</span>\n",
       "</pre>\n"
      ],
      "text/plain": [
       "\u001b[31mresponse from gpt-4o-\u001b[0m\u001b[1;36m2024\u001b[0m\u001b[31m-\u001b[0m\u001b[1;36m11\u001b[0m\u001b[31m-\u001b[0m\u001b[1;36m20\u001b[0m\u001b[31m: ```json\u001b[0m\n",
       "\u001b[1;31m{\u001b[0m\n",
       "\u001b[31m   \u001b[0m\u001b[32m\"Opening of The History of OpenAI\"\u001b[0m\u001b[31m: \u001b[0m\u001b[1;31m{\u001b[0m\n",
       "\u001b[31m      \u001b[0m\u001b[32m\"layout\"\u001b[0m\u001b[31m: \u001b[0m\u001b[32m\"opening:text\"\u001b[0m\u001b[31m,\u001b[0m\n",
       "\u001b[31m      \u001b[0m\u001b[32m\"subsections\"\u001b[0m\u001b[31m: \u001b[0m\u001b[1;31m[\u001b[0m\u001b[1;31m]\u001b[0m\u001b[31m,\u001b[0m\n",
       "\u001b[31m      \u001b[0m\u001b[32m\"description\"\u001b[0m\u001b[31m: \u001b[0m\u001b[32m\"An engaging introduction to the history and evolution of OpenAI, highlighting its \u001b[0m\n",
       "\u001b[32mfoundational vision, key milestones, and future outlook.\"\u001b[0m\n",
       "\u001b[31m   \u001b[0m\u001b[1;31m}\u001b[0m\u001b[31m,\u001b[0m\n",
       "\u001b[31m   \u001b[0m\u001b[32m\"Formation and Vision\"\u001b[0m\u001b[31m: \u001b[0m\u001b[1;31m{\u001b[0m\n",
       "\u001b[31m      \u001b[0m\u001b[32m\"layout\"\u001b[0m\u001b[31m: \u001b[0m\u001b[32m\"text-centered_slide\"\u001b[0m\u001b[31m,\u001b[0m\n",
       "\u001b[31m      \u001b[0m\u001b[32m\"subsections\"\u001b[0m\u001b[31m: \u001b[0m\u001b[1;31m[\u001b[0m\u001b[32m\"Founding and Motivation\"\u001b[0m\u001b[31m, \u001b[0m\u001b[32m\"Non-Profit Roots\"\u001b[0m\u001b[1;31m]\u001b[0m\u001b[31m,\u001b[0m\n",
       "\u001b[31m      \u001b[0m\u001b[32m\"description\"\u001b[0m\u001b[31m: \u001b[0m\u001b[32m\"Detailing OpenAI's founding principles, motivations, and its beginnings as a non-profit \u001b[0m\n",
       "\u001b[32morganization.\"\u001b[0m\n",
       "\u001b[31m   \u001b[0m\u001b[1;31m}\u001b[0m\u001b[31m,\u001b[0m\n",
       "\u001b[31m   \u001b[0m\u001b[32m\"Key Milestones and Achievements\"\u001b[0m\u001b[31m: \u001b[0m\u001b[1;31m{\u001b[0m\n",
       "\u001b[31m      \u001b[0m\u001b[32m\"layout\"\u001b[0m\u001b[31m: \u001b[0m\u001b[32m\"text-centered_slide\"\u001b[0m\u001b[31m,\u001b[0m\n",
       "\u001b[31m      \u001b[0m\u001b[32m\"subsections\"\u001b[0m\u001b[31m: \u001b[0m\u001b[1;31m[\u001b[0m\u001b[32m\"Technical Breakthroughs\"\u001b[0m\u001b[31m, \u001b[0m\u001b[32m\"Transition to OpenAI LP\"\u001b[0m\u001b[31m, \u001b[0m\u001b[32m\"AI Democratization\"\u001b[0m\u001b[1;31m]\u001b[0m\u001b[31m,\u001b[0m\n",
       "\u001b[31m      \u001b[0m\u001b[32m\"description\"\u001b[0m\u001b[31m: \u001b[0m\u001b[32m\"Exploring OpenAI's notable achievements, including technical innovations, organizational \u001b[0m\n",
       "\u001b[32mchanges, and efforts to democratize access to artificial intelligence.\"\u001b[0m\n",
       "\u001b[31m   \u001b[0m\u001b[1;31m}\u001b[0m\u001b[31m,\u001b[0m\n",
       "\u001b[31m   \u001b[0m\u001b[32m\"The Future of OpenAI\"\u001b[0m\u001b[31m: \u001b[0m\u001b[1;31m{\u001b[0m\n",
       "\u001b[31m      \u001b[0m\u001b[32m\"layout\"\u001b[0m\u001b[31m: \u001b[0m\u001b[32m\"text-centered_slide\"\u001b[0m\u001b[31m,\u001b[0m\n",
       "\u001b[31m      \u001b[0m\u001b[32m\"subsections\"\u001b[0m\u001b[31m: \u001b[0m\u001b[1;31m[\u001b[0m\u001b[32m\"Continued Ethical Leadership\"\u001b[0m\u001b[1;31m]\u001b[0m\u001b[31m,\u001b[0m\n",
       "\u001b[31m      \u001b[0m\u001b[32m\"description\"\u001b[0m\u001b[31m: \u001b[0m\u001b[32m\"A forward-looking analysis of OpenAI's commitment to ethical leadership in AI research and \u001b[0m\n",
       "\u001b[32mimplementation.\"\u001b[0m\n",
       "\u001b[31m   \u001b[0m\u001b[1;31m}\u001b[0m\u001b[31m,\u001b[0m\n",
       "\u001b[31m   \u001b[0m\u001b[32m\"Conclusion of The History of OpenAI\"\u001b[0m\u001b[31m: \u001b[0m\u001b[1;31m{\u001b[0m\n",
       "\u001b[31m      \u001b[0m\u001b[32m\"layout\"\u001b[0m\u001b[31m: \u001b[0m\u001b[32m\"ending:text\"\u001b[0m\u001b[31m,\u001b[0m\n",
       "\u001b[31m      \u001b[0m\u001b[32m\"subsections\"\u001b[0m\u001b[31m: \u001b[0m\u001b[1;31m[\u001b[0m\u001b[1;31m]\u001b[0m\u001b[31m,\u001b[0m\n",
       "\u001b[31m      \u001b[0m\u001b[32m\"description\"\u001b[0m\u001b[31m: \u001b[0m\u001b[32m\"Summarizing key takeaways and emphasizing OpenAI's ongoing mission to drive AI development \u001b[0m\n",
       "\u001b[32mresponsibly and transparently.\"\u001b[0m\n",
       "\u001b[31m   \u001b[0m\u001b[1;31m}\u001b[0m\n",
       "\u001b[1;31m}\u001b[0m\n",
       "\u001b[31m```\u001b[0m\n"
      ]
     },
     "metadata": {},
     "output_type": "display_data"
    },
    {
     "data": {
      "text/html": [
       "<pre style=\"white-space:pre;overflow-x:auto;line-height:normal;font-family:Menlo,'DejaVu Sans Mono',consolas,'Courier New',monospace\"><span style=\"color: #008000; text-decoration-color: #008000\">generating </span><span style=\"color: #008080; text-decoration-color: #008080; font-weight: bold\">5</span><span style=\"color: #008000; text-decoration-color: #008000\"> slides, with </span><span style=\"color: #008080; text-decoration-color: #008080; font-weight: bold\">5</span><span style=\"color: #008000; text-decoration-color: #008000\"> outlines</span>\n",
       "</pre>\n"
      ],
      "text/plain": [
       "\u001b[32mgenerating \u001b[0m\u001b[1;36m5\u001b[0m\u001b[32m slides, with \u001b[0m\u001b[1;36m5\u001b[0m\u001b[32m outlines\u001b[0m\n"
      ]
     },
     "metadata": {},
     "output_type": "display_data"
    },
    {
     "data": {
      "text/html": [
       "<pre style=\"white-space:pre;overflow-x:auto;line-height:normal;font-family:Menlo,'DejaVu Sans Mono',consolas,'Courier New',monospace\"><span style=\"color: #008000; text-decoration-color: #008000\">sending messages to: gpt-4o-</span><span style=\"color: #008080; text-decoration-color: #008080; font-weight: bold\">2024</span><span style=\"color: #008000; text-decoration-color: #008000\">-</span><span style=\"color: #008080; text-decoration-color: #008080; font-weight: bold\">11</span><span style=\"color: #008000; text-decoration-color: #008000\">-</span><span style=\"color: #008080; text-decoration-color: #008080; font-weight: bold\">20</span><span style=\"color: #008000; text-decoration-color: #008000\">, message </span><span style=\"color: #008000; text-decoration-color: #008000; font-weight: bold\">(</span><span style=\"color: #008000; text-decoration-color: #008000\">truncated</span><span style=\"color: #008000; text-decoration-color: #008000; font-weight: bold\">)</span><span style=\"color: #008000; text-decoration-color: #008000\">: </span><span style=\"color: #008000; text-decoration-color: #008000; font-weight: bold\">[{</span><span style=\"color: #008000; text-decoration-color: #008000\">'role'</span><span style=\"color: #008000; text-decoration-color: #008000\">: </span><span style=\"color: #008000; text-decoration-color: #008000\">'system'</span><span style=\"color: #008000; text-decoration-color: #008000\">, </span><span style=\"color: #008000; text-decoration-color: #008000\">'content'</span><span style=\"color: #008000; text-decoration-color: #008000\">: </span><span style=\"color: #008000; text-decoration-color: #008000; font-weight: bold\">[{</span><span style=\"color: #008000; text-decoration-color: #008000\">'type'</span><span style=\"color: #008000; text-decoration-color: #008000\">: </span><span style=\"color: #008000; text-decoration-color: #008000\">'text'</span><span style=\"color: #008000; text-decoration-color: #008000\">, </span>\n",
       "<span style=\"color: #008000; text-decoration-color: #008000\">'text'</span><span style=\"color: #008000; text-decoration-color: #008000\">: </span><span style=\"color: #008000; text-decoration-color: #008000\">'You are an expert Editor agent. Transform reference text and images into slide content, following schema </span>\n",
       "<span style=\"color: #008000; text-decoration-color: #008000\">rules and using only provided materials. Ensure the content is engaging and within the character limit.'</span><span style=\"color: #008000; text-decoration-color: #008000; font-weight: bold\">}]}</span><span style=\"color: #008000; text-decoration-color: #008000\">, </span>\n",
       "<span style=\"color: #008000; text-decoration-color: #008000\">'[{\"role\": \"user\", \"content\": [{\"type\": \"text\", \"text\": \"Task: Generate engaging slide content based on the </span>\n",
       "<span style=\"color: #008000; text-decoration-color: #008000\">provided schema and reference materials.\\\\n\\\\nRequirements:\\\\n1. Content Generation Rules:\\\\n  - Follow </span>\n",
       "<span style=\"color: #008000; text-decoration-color: #008000\">default_quantity for elements, adjust when necessary\\\\n  - Ensure text content meets character limits\\\\n  - </span>\n",
       "<span style=\"color: #008000; text-decoration-color: #008000\">Generated text should use concise and impactful presentation style\\\\n\\\\n2. Core Elements:\\\\n  - Must extract </span>\n",
       "<span style=\"color: #008000; text-decoration-color: #008000\">essential content from reference text (e.g., slide_title, main_content) and maintain semantic consistency\\\\n  - </span>\n",
       "<span style=\"color: #008000; text-decoration-color: #008000\">Must include images that support the main content (e.g., diagrams for explanations, visuals directly discussed in </span>\n",
       "<span style=\"color: #008000; text-decoration-color: #008000\">text)\\\\n\\\\n3. Supporting Elements (e.g., presenters, logo images):\\\\n  - Generate only when relevant content exists</span>\n",
       "<span style=\"color: #008000; text-decoration-color: #008000\">in reference materials\\\\n\\\\nGenerate content for each element and output in the following format:\\\\n{\\\\n  </span>\n",
       "<span style=\"color: #008000; text-decoration-color: #008000\">\\\\\"element1\\\\\": {\\\\n    \\\\\"data\\\\\": [\\\\\"text1\\\\\", \\\\\"text2\\\\\"] for text elements\\\\n          or </span>\n",
       "<span style=\"color: #008000; text-decoration-color: #008000\">[\\\\\"/path/to/image\\\\\", \\\\\"...\\\\\"] for image elements\\\\n  },\\\\n}\\\\n\\\\nInput:\\\\nSchema:\\\\n{\\'slide_title\\': </span>\n",
       "<span style=\"color: #008000; text-decoration-color: #008000\">{\\'description\\': \\'The main title describing the subject of the slide.\\', \\'type\\': \\'text\\', </span>\n",
       "<span style=\"color: #008000; text-decoration-color: #008000\">\\'suggestedCharacters\\': \\'&lt;18\\', \\'default_quantity\\': 1}, \\'main_heading\\': {\\'description\\': \\'The central or </span>\n",
       "<span style=\"color: #008000; text-decoration-color: #008000\">main heading that introduces the core theme or message of the slide.\\', \\'type\\': \\'text\\', </span>\n",
       "<span style=\"color: #008000; text-decoration-color: #008000\">\\'suggestedCharacters\\': \\'&lt;82\\', \\'default_quantity\\': 1}, \\'presenter\\': {\\'description\\': \\'The name of the </span>\n",
       "<span style=\"color: #008000; text-decoration-color: #008000\">person or entity presenting the content of the slide.\\', \\'type\\': \\'text\\', \\'suggestedCharacters\\': \\'&lt;16\\', </span>\n",
       "<span style=\"color: #008000; text-decoration-color: #008000\">\\'default_quantity\\': 1}}\\\\n\\\\nMetadata of Presentation:\\\\ntitle: The History of OpenAI\\\\nauthor: OpenAI </span>\n",
       "<span style=\"color: #008000; text-decoration-color: #008000\">Documentation Team\\\\npublish date: October 2023\\\\norganization: OpenAI\\\\nPresentation Time: 2025-02-02\\\\n\\\\nSlide </span>\n",
       "<span style=\"color: #008000; text-decoration-color: #008000\">1: Opening of The History of OpenAI\\\\nSlide 2: Formation and Vision\\\\nSlide 3: Key Milestones and </span>\n",
       "<span style=\"color: #008000; text-decoration-color: #008000\">Achievements\\\\nSlide 4: The Future of OpenAI\\\\nSlide 5: Conclusion of The History of OpenAI\\\\n\\\\nReference </span>\n",
       "<span style=\"color: #008000; text-decoration-color: #008000\">Text:\\\\nSlide-1 Slide Purpose: Opening of The History of OpenAI\\\\nSlide Description: An engaging introduction to </span>\n",
       "<span style=\"color: #008000; text-decoration-color: #008000\">the history and evolution of OpenAI, highlighting its foundational vision, key milestones, and future </span>\n",
       "<span style=\"color: #008000; text-decoration-color: #008000\">outlook.\\\\n\\\\n\\\\nAvailable Images:\\\\nNo Images\\\\n\\\\nOutput: Ensure the generated content strictly adheres to the </span>\n",
       "<span style=\"color: #008000; text-decoration-color: #008000\">schema specifications, follows the slide style, reader-friendly.\"}]}]'</span><span style=\"color: #008000; text-decoration-color: #008000; font-weight: bold\">]</span>\n",
       "</pre>\n"
      ],
      "text/plain": [
       "\u001b[32msending messages to: gpt-4o-\u001b[0m\u001b[1;36m2024\u001b[0m\u001b[32m-\u001b[0m\u001b[1;36m11\u001b[0m\u001b[32m-\u001b[0m\u001b[1;36m20\u001b[0m\u001b[32m, message \u001b[0m\u001b[1;32m(\u001b[0m\u001b[32mtruncated\u001b[0m\u001b[1;32m)\u001b[0m\u001b[32m: \u001b[0m\u001b[1;32m[\u001b[0m\u001b[1;32m{\u001b[0m\u001b[32m'role'\u001b[0m\u001b[32m: \u001b[0m\u001b[32m'system'\u001b[0m\u001b[32m, \u001b[0m\u001b[32m'content'\u001b[0m\u001b[32m: \u001b[0m\u001b[1;32m[\u001b[0m\u001b[1;32m{\u001b[0m\u001b[32m'type'\u001b[0m\u001b[32m: \u001b[0m\u001b[32m'text'\u001b[0m\u001b[32m, \u001b[0m\n",
       "\u001b[32m'text'\u001b[0m\u001b[32m: \u001b[0m\u001b[32m'You are an expert Editor agent. Transform reference text and images into slide content, following schema \u001b[0m\n",
       "\u001b[32mrules and using only provided materials. Ensure the content is engaging and within the character limit.'\u001b[0m\u001b[1;32m}\u001b[0m\u001b[1;32m]\u001b[0m\u001b[1;32m}\u001b[0m\u001b[32m, \u001b[0m\n",
       "\u001b[32m'\u001b[0m\u001b[32m[\u001b[0m\u001b[32m{\u001b[0m\u001b[32m\"role\": \"user\", \"content\": \u001b[0m\u001b[32m[\u001b[0m\u001b[32m{\u001b[0m\u001b[32m\"type\": \"text\", \"text\": \"Task: Generate engaging slide content based on the \u001b[0m\n",
       "\u001b[32mprovided schema and reference materials.\\\\n\\\\nRequirements:\\\\n1. Content Generation Rules:\\\\n  - Follow \u001b[0m\n",
       "\u001b[32mdefault_quantity for elements, adjust when necessary\\\\n  - Ensure text content meets character limits\\\\n  - \u001b[0m\n",
       "\u001b[32mGenerated text should use concise and impactful presentation style\\\\n\\\\n2. Core Elements:\\\\n  - Must extract \u001b[0m\n",
       "\u001b[32messential content from reference text \u001b[0m\u001b[32m(\u001b[0m\u001b[32me.g., slide_title, main_content\u001b[0m\u001b[32m)\u001b[0m\u001b[32m and maintain semantic consistency\\\\n  - \u001b[0m\n",
       "\u001b[32mMust include images that support the main content \u001b[0m\u001b[32m(\u001b[0m\u001b[32me.g., diagrams for explanations, visuals directly discussed in \u001b[0m\n",
       "\u001b[32mtext\u001b[0m\u001b[32m)\u001b[0m\u001b[32m\\\\n\\\\n3. Supporting Elements \u001b[0m\u001b[32m(\u001b[0m\u001b[32me.g., presenters, logo images\u001b[0m\u001b[32m)\u001b[0m\u001b[32m:\\\\n  - Generate only when relevant content exists\u001b[0m\n",
       "\u001b[32min reference materials\\\\n\\\\nGenerate content for each element and output in the following format:\\\\n\u001b[0m\u001b[32m{\u001b[0m\u001b[32m\\\\n  \u001b[0m\n",
       "\u001b[32m\\\\\"element1\\\\\": \u001b[0m\u001b[32m{\u001b[0m\u001b[32m\\\\n    \\\\\"data\\\\\": \u001b[0m\u001b[32m[\u001b[0m\u001b[32m\\\\\"text1\\\\\", \\\\\"text2\\\\\"\u001b[0m\u001b[32m]\u001b[0m\u001b[32m for text elements\\\\n          or \u001b[0m\n",
       "\u001b[32m[\u001b[0m\u001b[32m\\\\\"/path/to/image\\\\\", \\\\\"...\\\\\"\u001b[0m\u001b[32m]\u001b[0m\u001b[32m for image elements\\\\n  \u001b[0m\u001b[32m}\u001b[0m\u001b[32m,\\\\n\u001b[0m\u001b[32m}\u001b[0m\u001b[32m\\\\n\\\\nInput:\\\\nSchema:\\\\n\u001b[0m\u001b[32m{\u001b[0m\u001b[32m\\'slide_title\\': \u001b[0m\n",
       "\u001b[32m{\u001b[0m\u001b[32m\\'description\\': \\'The main title describing the subject of the slide.\\', \\'type\\': \\'text\\', \u001b[0m\n",
       "\u001b[32m\\'suggestedCharacters\\': \\'<18\\', \\'default_quantity\\': 1\u001b[0m\u001b[32m}\u001b[0m\u001b[32m, \\'main_heading\\': \u001b[0m\u001b[32m{\u001b[0m\u001b[32m\\'description\\': \\'The central or \u001b[0m\n",
       "\u001b[32mmain heading that introduces the core theme or message of the slide.\\', \\'type\\': \\'text\\', \u001b[0m\n",
       "\u001b[32m\\'suggestedCharacters\\': \\'<82\\', \\'default_quantity\\': 1\u001b[0m\u001b[32m}\u001b[0m\u001b[32m, \\'presenter\\': \u001b[0m\u001b[32m{\u001b[0m\u001b[32m\\'description\\': \\'The name of the \u001b[0m\n",
       "\u001b[32mperson or entity presenting the content of the slide.\\', \\'type\\': \\'text\\', \\'suggestedCharacters\\': \\'<16\\', \u001b[0m\n",
       "\u001b[32m\\'default_quantity\\': 1\u001b[0m\u001b[32m}\u001b[0m\u001b[32m}\u001b[0m\u001b[32m\\\\n\\\\nMetadata of Presentation:\\\\ntitle: The History of OpenAI\\\\nauthor: OpenAI \u001b[0m\n",
       "\u001b[32mDocumentation Team\\\\npublish date: October 2023\\\\norganization: OpenAI\\\\nPresentation Time: 2025-02-02\\\\n\\\\nSlide \u001b[0m\n",
       "\u001b[32m1: Opening of The History of OpenAI\\\\nSlide 2: Formation and Vision\\\\nSlide 3: Key Milestones and \u001b[0m\n",
       "\u001b[32mAchievements\\\\nSlide 4: The Future of OpenAI\\\\nSlide 5: Conclusion of The History of OpenAI\\\\n\\\\nReference \u001b[0m\n",
       "\u001b[32mText:\\\\nSlide-1 Slide Purpose: Opening of The History of OpenAI\\\\nSlide Description: An engaging introduction to \u001b[0m\n",
       "\u001b[32mthe history and evolution of OpenAI, highlighting its foundational vision, key milestones, and future \u001b[0m\n",
       "\u001b[32moutlook.\\\\n\\\\n\\\\nAvailable Images:\\\\nNo Images\\\\n\\\\nOutput: Ensure the generated content strictly adheres to the \u001b[0m\n",
       "\u001b[32mschema specifications, follows the slide style, reader-friendly.\"\u001b[0m\u001b[32m}\u001b[0m\u001b[32m]\u001b[0m\u001b[32m}\u001b[0m\u001b[32m]\u001b[0m\u001b[32m'\u001b[0m\u001b[1;32m]\u001b[0m\n"
      ]
     },
     "metadata": {},
     "output_type": "display_data"
    },
    {
     "data": {
      "text/html": [
       "<pre style=\"white-space:pre;overflow-x:auto;line-height:normal;font-family:Menlo,'DejaVu Sans Mono',consolas,'Courier New',monospace\"><span style=\"color: #800000; text-decoration-color: #800000\">response from gpt-4o-</span><span style=\"color: #008080; text-decoration-color: #008080; font-weight: bold\">2024</span><span style=\"color: #800000; text-decoration-color: #800000\">-</span><span style=\"color: #008080; text-decoration-color: #008080; font-weight: bold\">11</span><span style=\"color: #800000; text-decoration-color: #800000\">-</span><span style=\"color: #008080; text-decoration-color: #008080; font-weight: bold\">20</span><span style=\"color: #800000; text-decoration-color: #800000\">: ```json</span>\n",
       "<span style=\"color: #800000; text-decoration-color: #800000; font-weight: bold\">{</span>\n",
       "<span style=\"color: #800000; text-decoration-color: #800000\">  </span><span style=\"color: #008000; text-decoration-color: #008000\">\"slide_title\"</span><span style=\"color: #800000; text-decoration-color: #800000\">: </span><span style=\"color: #800000; text-decoration-color: #800000; font-weight: bold\">{</span>\n",
       "<span style=\"color: #800000; text-decoration-color: #800000\">    </span><span style=\"color: #008000; text-decoration-color: #008000\">\"data\"</span><span style=\"color: #800000; text-decoration-color: #800000\">: </span><span style=\"color: #800000; text-decoration-color: #800000; font-weight: bold\">[</span><span style=\"color: #008000; text-decoration-color: #008000\">\"The History of OpenAI\"</span><span style=\"color: #800000; text-decoration-color: #800000; font-weight: bold\">]</span>\n",
       "<span style=\"color: #800000; text-decoration-color: #800000\">  </span><span style=\"color: #800000; text-decoration-color: #800000; font-weight: bold\">}</span><span style=\"color: #800000; text-decoration-color: #800000\">,</span>\n",
       "<span style=\"color: #800000; text-decoration-color: #800000\">  </span><span style=\"color: #008000; text-decoration-color: #008000\">\"main_heading\"</span><span style=\"color: #800000; text-decoration-color: #800000\">: </span><span style=\"color: #800000; text-decoration-color: #800000; font-weight: bold\">{</span>\n",
       "<span style=\"color: #800000; text-decoration-color: #800000\">    </span><span style=\"color: #008000; text-decoration-color: #008000\">\"data\"</span><span style=\"color: #800000; text-decoration-color: #800000\">: </span><span style=\"color: #800000; text-decoration-color: #800000; font-weight: bold\">[</span><span style=\"color: #008000; text-decoration-color: #008000\">\"A Journey Through Innovation and Progress\"</span><span style=\"color: #800000; text-decoration-color: #800000; font-weight: bold\">]</span>\n",
       "<span style=\"color: #800000; text-decoration-color: #800000\">  </span><span style=\"color: #800000; text-decoration-color: #800000; font-weight: bold\">}</span><span style=\"color: #800000; text-decoration-color: #800000\">,</span>\n",
       "<span style=\"color: #800000; text-decoration-color: #800000\">  </span><span style=\"color: #008000; text-decoration-color: #008000\">\"presenter\"</span><span style=\"color: #800000; text-decoration-color: #800000\">: </span><span style=\"color: #800000; text-decoration-color: #800000; font-weight: bold\">{</span>\n",
       "<span style=\"color: #800000; text-decoration-color: #800000\">    </span><span style=\"color: #008000; text-decoration-color: #008000\">\"data\"</span><span style=\"color: #800000; text-decoration-color: #800000\">: </span><span style=\"color: #800000; text-decoration-color: #800000; font-weight: bold\">[</span><span style=\"color: #008000; text-decoration-color: #008000\">\"OpenAI Documentation\"</span><span style=\"color: #800000; text-decoration-color: #800000; font-weight: bold\">]</span>\n",
       "<span style=\"color: #800000; text-decoration-color: #800000\">  </span><span style=\"color: #800000; text-decoration-color: #800000; font-weight: bold\">}</span>\n",
       "<span style=\"color: #800000; text-decoration-color: #800000; font-weight: bold\">}</span>\n",
       "<span style=\"color: #800000; text-decoration-color: #800000\">```</span>\n",
       "</pre>\n"
      ],
      "text/plain": [
       "\u001b[31mresponse from gpt-4o-\u001b[0m\u001b[1;36m2024\u001b[0m\u001b[31m-\u001b[0m\u001b[1;36m11\u001b[0m\u001b[31m-\u001b[0m\u001b[1;36m20\u001b[0m\u001b[31m: ```json\u001b[0m\n",
       "\u001b[1;31m{\u001b[0m\n",
       "\u001b[31m  \u001b[0m\u001b[32m\"slide_title\"\u001b[0m\u001b[31m: \u001b[0m\u001b[1;31m{\u001b[0m\n",
       "\u001b[31m    \u001b[0m\u001b[32m\"data\"\u001b[0m\u001b[31m: \u001b[0m\u001b[1;31m[\u001b[0m\u001b[32m\"The History of OpenAI\"\u001b[0m\u001b[1;31m]\u001b[0m\n",
       "\u001b[31m  \u001b[0m\u001b[1;31m}\u001b[0m\u001b[31m,\u001b[0m\n",
       "\u001b[31m  \u001b[0m\u001b[32m\"main_heading\"\u001b[0m\u001b[31m: \u001b[0m\u001b[1;31m{\u001b[0m\n",
       "\u001b[31m    \u001b[0m\u001b[32m\"data\"\u001b[0m\u001b[31m: \u001b[0m\u001b[1;31m[\u001b[0m\u001b[32m\"A Journey Through Innovation and Progress\"\u001b[0m\u001b[1;31m]\u001b[0m\n",
       "\u001b[31m  \u001b[0m\u001b[1;31m}\u001b[0m\u001b[31m,\u001b[0m\n",
       "\u001b[31m  \u001b[0m\u001b[32m\"presenter\"\u001b[0m\u001b[31m: \u001b[0m\u001b[1;31m{\u001b[0m\n",
       "\u001b[31m    \u001b[0m\u001b[32m\"data\"\u001b[0m\u001b[31m: \u001b[0m\u001b[1;31m[\u001b[0m\u001b[32m\"OpenAI Documentation\"\u001b[0m\u001b[1;31m]\u001b[0m\n",
       "\u001b[31m  \u001b[0m\u001b[1;31m}\u001b[0m\n",
       "\u001b[1;31m}\u001b[0m\n",
       "\u001b[31m```\u001b[0m\n"
      ]
     },
     "metadata": {},
     "output_type": "display_data"
    },
    {
     "data": {
      "text/html": [
       "<pre style=\"white-space:pre;overflow-x:auto;line-height:normal;font-family:Menlo,'DejaVu Sans Mono',consolas,'Courier New',monospace\"><span style=\"color: #008000; text-decoration-color: #008000\">sending messages to: gpt-4o-</span><span style=\"color: #008080; text-decoration-color: #008080; font-weight: bold\">2024</span><span style=\"color: #008000; text-decoration-color: #008000\">-</span><span style=\"color: #008080; text-decoration-color: #008080; font-weight: bold\">11</span><span style=\"color: #008000; text-decoration-color: #008000\">-</span><span style=\"color: #008080; text-decoration-color: #008080; font-weight: bold\">20</span><span style=\"color: #008000; text-decoration-color: #008000\">, message </span><span style=\"color: #008000; text-decoration-color: #008000; font-weight: bold\">(</span><span style=\"color: #008000; text-decoration-color: #008000\">truncated</span><span style=\"color: #008000; text-decoration-color: #008000; font-weight: bold\">)</span><span style=\"color: #008000; text-decoration-color: #008000\">: </span><span style=\"color: #008000; text-decoration-color: #008000; font-weight: bold\">[{</span><span style=\"color: #008000; text-decoration-color: #008000\">'role'</span><span style=\"color: #008000; text-decoration-color: #008000\">: </span><span style=\"color: #008000; text-decoration-color: #008000\">'system'</span><span style=\"color: #008000; text-decoration-color: #008000\">, </span><span style=\"color: #008000; text-decoration-color: #008000\">'content'</span><span style=\"color: #008000; text-decoration-color: #008000\">: </span><span style=\"color: #008000; text-decoration-color: #008000; font-weight: bold\">[{</span><span style=\"color: #008000; text-decoration-color: #008000\">'type'</span><span style=\"color: #008000; text-decoration-color: #008000\">: </span><span style=\"color: #008000; text-decoration-color: #008000\">'text'</span><span style=\"color: #008000; text-decoration-color: #008000\">, </span>\n",
       "<span style=\"color: #008000; text-decoration-color: #008000\">'text'</span><span style=\"color: #008000; text-decoration-color: #008000\">: </span><span style=\"color: #008000; text-decoration-color: #008000\">'You are a Code Generator agent specializing in slide manipulation. You precisely translate content edit </span>\n",
       "<span style=\"color: #008000; text-decoration-color: #008000\">commands into API calls by understanding HTML structure.'</span><span style=\"color: #008000; text-decoration-color: #008000; font-weight: bold\">}]}</span><span style=\"color: #008000; text-decoration-color: #008000\">, </span><span style=\"color: #008000; text-decoration-color: #008000\">'[{\"role\": \"user\", \"content\": [{\"type\": \"text\", </span>\n",
       "<span style=\"color: #008000; text-decoration-color: #008000\">\"text\": \"Generate API calls based on the provided commands, ensuring compliance with the specified rules and </span>\n",
       "<span style=\"color: #008000; text-decoration-color: #008000\">precise execution.\\\\nYou must determine the parent-child relationships of elements based on indentation and ensure </span>\n",
       "<span style=\"color: #008000; text-decoration-color: #008000\">that all &lt;p&gt; and &lt;img&gt; elements are modified.\\\\n\\\\nEach command follows this format: (element_class, type, </span>\n",
       "<span style=\"color: #008000; text-decoration-color: #008000\">quantity_change: int, old_data, new_data).\\\\n\\\\nAvailable APIs\\\\n\\\\ndef replace_image(img_id: int, image_path: </span>\n",
       "<span style=\"color: #008000; text-decoration-color: #008000\">str)\\\\n\\\\tReplace an image in a slide.\\\\n\\\\nArgs:\\\\n    slide (SlidePage): The slide containing the image.\\\\n    </span>\n",
       "<span style=\"color: #008000; text-decoration-color: #008000\">img_id (int): The ID of the image to replace.\\\\n    image_path (str): The path to the new image.\\\\n\\\\nRaises:\\\\n   </span>\n",
       "<span style=\"color: #008000; text-decoration-color: #008000\">ValueError: If the image path does not exist.\\\\n\\\\ndef del_image(figure_id: int)\\\\n\\\\tDelete an image from a </span>\n",
       "<span style=\"color: #008000; text-decoration-color: #008000\">slide.\\\\n\\\\nArgs:\\\\n    slide (SlidePage): The slide containing the image.\\\\n    figure_id (int): The ID of the </span>\n",
       "<span style=\"color: #008000; text-decoration-color: #008000\">image to delete.\\\\n\\\\ndef clone_paragraph(div_id: int, paragraph_id: int)\\\\n\\\\tClone a paragraph in a </span>\n",
       "<span style=\"color: #008000; text-decoration-color: #008000\">slide.\\\\n\\\\nArgs:\\\\n    slide (SlidePage): The slide containing the paragraph.\\\\n    div_id (int): The ID of the </span>\n",
       "<span style=\"color: #008000; text-decoration-color: #008000\">division containing the paragraph.\\\\n    paragraph_id (int): The ID of the paragraph to clone.\\\\n\\\\nRaises:\\\\n    </span>\n",
       "<span style=\"color: #008000; text-decoration-color: #008000\">IndexError: If the paragraph is not found.\\\\n\\\\nMention: the cloned paragraph will have a paragraph_id one greater </span>\n",
       "<span style=\"color: #008000; text-decoration-color: #008000\">than the current maximum in the parent element.\\\\n\\\\ndef replace_paragraph(div_id: int, paragraph_id: int, text: </span>\n",
       "<span style=\"color: #008000; text-decoration-color: #008000\">str)\\\\n\\\\tReplace the text of a paragraph in a slide.\\\\n\\\\nArgs:\\\\n    slide (SlidePage): The slide containing the </span>\n",
       "<span style=\"color: #008000; text-decoration-color: #008000\">paragraph.\\\\n    div_id (int): The ID of the division containing the paragraph.\\\\n    paragraph_id (int): The ID of</span>\n",
       "<span style=\"color: #008000; text-decoration-color: #008000\">the paragraph to replace.\\\\n    text (str): The new text to replace with.\\\\n\\\\nRaises:\\\\n    IndexError: If the </span>\n",
       "<span style=\"color: #008000; text-decoration-color: #008000\">paragraph is not found.\\\\n\\\\ndef del_paragraph(div_id: int, paragraph_id: int)\\\\n\\\\tDelete a paragraph from a </span>\n",
       "<span style=\"color: #008000; text-decoration-color: #008000\">slide.\\\\n\\\\nArgs:\\\\n    slide (SlidePage): The slide containing the paragraph.\\\\n    div_id (int): The ID of the </span>\n",
       "<span style=\"color: #008000; text-decoration-color: #008000\">division containing the paragraph.\\\\n    paragraph_id (int): The ID of the paragraph to delete.\\\\n\\\\nRaises:\\\\n    </span>\n",
       "<span style=\"color: #008000; text-decoration-color: #008000\">IndexError: If the paragraph is not found.\\\\n\\\\nSteps\\\\n    1.\\\\tQuantity Adjustment:\\\\n    -\\\\tIf quantity_change </span>\n",
       "<span style=\"color: #008000; text-decoration-color: #008000\">= 0, modify the content only.\\\\n    -\\\\tIf quantity_change &gt; 0, use clone_paragraph to add the specified number of </span>\n",
       "<span style=\"color: #008000; text-decoration-color: #008000\">paragraphs from the same element_class. The paragraph_id for newly cloned paragraphs should be the current maximum </span>\n",
       "<span style=\"color: #008000; text-decoration-color: #008000\">paragraph_id of the parent element plus 1.\\\\n    -\\\\tIf quantity_change &lt; 0, use del_paragraph or del_image to </span>\n",
       "<span style=\"color: #008000; text-decoration-color: #008000\">remove the specified number of tail elements.\\\\n    -\\\\tEach command’s API call group must exclusively use either </span>\n",
       "<span style=\"color: #008000; text-decoration-color: #008000\">clone_paragraph or del_paragraph/del_image based on the `quantity_change`\\\\n    2.\\\\tContent Modification:\\\\n    </span>\n",
       "<span style=\"color: #008000; text-decoration-color: #008000\">-\\\\tText Content: Use replace_paragraph to modify the content.\\\\n    -\\\\tImage Content: Use replace_image to </span>\n",
       "<span style=\"color: #008000; text-decoration-color: #008000\">replace image resources.\\\\n    3.\\\\tOutput Format:\\\\n    -\\\\tAdd comments to each API call group, explaining the </span>\n",
       "<span style=\"color: #008000; text-decoration-color: #008000\">intent of the original command and the associated element_class.\\\\n    -\\\\tFor cloning operations, annotate the </span>\n",
       "<span style=\"color: #008000; text-decoration-color: #008000\">paragraph_id of the newly created paragraphs.\\\\n\\\\nExample Input:\\\\n\\\\n&lt;div id=\\\\\"0\\\\\" style=\\\\\"font-size: 24pt; </span>\n",
       "<span style=\"color: #008000; text-decoration-color: #008000\">color: #0D0D0D\\\\\"&gt;\\\\n    &lt;p id=\\\\\"0\\\\\"&gt;\\\\n       WorldFAIR: Global cooperation on FAIR data policy and practice\\\\n </span>\n",
       "<span style=\"color: #008000; text-decoration-color: #008000\">&lt;/p&gt;\\\\n&lt;/div&gt;\\\\n\\\\n&lt;div id=\\\\\"1\\\\\" style=\\\\\"font-size: 13pt; color: #404040\\\\\"&gt;\\\\n    &lt;ul&gt;\\\\n        &lt;li id=\\\\\"0\\\\\"</span>\n",
       "<span style=\"color: #008000; text-decoration-color: #008000\">bullet-type=\\\\\"▪\\\\\"&gt;\\\\n            Two-year project to advance implementation...\\\\n        &lt;/li&gt;\\\\n        &lt;li </span>\n",
       "<span style=\"color: #008000; text-decoration-color: #008000\">id=\\\\\"1\\\\\" style=\\\\\"font-weight: bold\\\\\" bullet-type=\\\\\"▪\\\\\"&gt;\\\\n            Funded by the European Union...\\\\n     </span>\n",
       "<span style=\"color: #008000; text-decoration-color: #008000\">&lt;/li&gt;\\\\n    &lt;/ul&gt;\\\\n&lt;/div&gt;\\\\n\\\\n&lt;img id=\\\\\"2\\\\\" alt=\\\\\"logo: project of xx\\\\\"&gt;\\\\n\\\\n[\\\\n    (\\\\\"title\\\\\", </span>\n",
       "<span style=\"color: #008000; text-decoration-color: #008000\">\\\\\"text\\\\\", \\\\\"quantity_change: 0\\\\\", [\\\\\"WorldFAIR: Global cooperation on FAIR data policy and practice\\\\\"], </span>\n",
       "<span style=\"color: #008000; text-decoration-color: #008000\">[\\\\\"New Title\\\\\"]),\\\\n    (\\\\\"project_description\\\\\", \\\\\"text\\\\\", \\\\\"quantity_change: 1\\\\\", [\\\\\"Two-year project to</span>\n",
       "<span style=\"color: #008000; text-decoration-color: #008000\">advance implementation of the FAIR principles\\\\\"], [\\\\\"New project description1\\\\\", \\\\\"New project </span>\n",
       "<span style=\"color: #008000; text-decoration-color: #008000\">description2\\\\\"]),\\\\n    (\\\\\"funding_info\\\\\", \\\\\"text\\\\\", \\\\\"quantity_change: -1\\\\\", [\\\\\"Funded by the European </span>\n",
       "<span style=\"color: #008000; text-decoration-color: #008000\">Union\\\\\"], []),\\\\n    (\\\\\"project_logo\\\\\", \\\\\"image\\\\\", \\\\\"quantity_change: 0\\\\\", [\\\\\"logo: project of xx\\\\\"], </span>\n",
       "<span style=\"color: #008000; text-decoration-color: #008000\">[\\\\\"new_logo.png\\\\\"])\\\\n]\\\\n\\\\nExample Output\\\\n# (\\\\\"title\\\\\", \\\\\"text\\\\\", \\\\\"quantity_change: 0\\\\\", </span>\n",
       "<span style=\"color: #008000; text-decoration-color: #008000\">[\\\\\"WorldFAIR: Global cooperation on FAIR data policy and practice\\\\\"], [\\\\\"New Title\\\\\"])\\\\nreplace_paragraph(0, </span>\n",
       "<span style=\"color: #008000; text-decoration-color: #008000\">0, \\\\\"New Title\\\\\")\\\\n\\\\n# (\\\\\"project_description\\\\\", \\\\\"text\\\\\", \\\\\"quantity_change: 1\\\\\", [\\\\\"Two-year project </span>\n",
       "<span style=\"color: #008000; text-decoration-color: #008000\">to advance implementation of the FAIR principles\\\\\"], [\\\\\"New project description1\\\\\", \\\\\"New project </span>\n",
       "<span style=\"color: #008000; text-decoration-color: #008000\">description2\\\\\"])\\\\nclone_paragraph(1, 0)  # New cloned paragraph_id is 2 as the current max paragraph_id is </span>\n",
       "<span style=\"color: #008000; text-decoration-color: #008000\">1\\\\nreplace_paragraph(1, 0, \\\\\"New project description1\\\\\")\\\\nreplace_paragraph(1, 2, \\\\\"New project </span>\n",
       "<span style=\"color: #008000; text-decoration-color: #008000\">description2\\\\\")\\\\n\\\\n# (\\\\\"funding_info\\\\\", \\\\\"text\\\\\", \\\\\"quantity_change: -1\\\\\", [\\\\\"Funded by the European </span>\n",
       "<span style=\"color: #008000; text-decoration-color: #008000\">Union\\\\\"], [])\\\\ndel_paragraph(1, 1)\\\\n\\\\n# (\\\\\"project_logo\\\\\", \\\\\"image\\\\\", \\\\\"quantity_change: 0\\\\\", [\\\\\"logo: </span>\n",
       "<span style=\"color: #008000; text-decoration-color: #008000\">project of xx\\\\\"], [\\\\\"new_logo.png\\\\\"])\\\\nreplace_image(2, \\\\\"new_logo.png\\\\\")\\\\n\\\\nCurrent Slide </span>\n",
       "<span style=\"color: #008000; text-decoration-color: #008000\">Content:\\\\n&lt;!DOCTYPE html&gt;\\\\n&lt;html&gt;\\\\n&lt;title&gt;Tourism &amp; Culture:&lt;/title&gt;\\\\n&lt;body style=\\\\\"width:960pt; </span>\n",
       "<span style=\"color: #008000; text-decoration-color: #008000\">height:540pt;\\\\\"&gt;\\\\n&lt;div id=\\'0\\'&gt;\\\\n\\\\t&lt;p id=\\'0\\'&gt;Tourism &amp; Culture:&lt;/p&gt;\\\\n&lt;/div&gt;\\\\n\\\\n&lt;div id=\\'1\\'&gt;\\\\n\\\\t&lt;p </span>\n",
       "<span style=\"color: #008000; text-decoration-color: #008000\">id=\\'0\\' style=\\'font-size: 24pt\\'&gt;APPRECIATING THE TANGIBLE &amp; THE INTANGIBLE OF BHUBANESWAR THROUGH CULTURAL </span>\n",
       "<span style=\"color: #008000; text-decoration-color: #008000\">TOURISM&lt;/p&gt;\\\\n\\\\t&lt;p id=\\'1\\' style=\\'font-size: 20pt\\'&gt;By Ayona Bhaduri </span>\n",
       "<span style=\"color: #008000; text-decoration-color: #008000\">&lt;/p&gt;\\\\n&lt;/div&gt;\\\\n&lt;/body&gt;\\\\n&lt;/html&gt;\\\\n\\\\n\\\\nCommand List:\\\\n(\\'slide_title\\', \\'text\\', \\'quantity_change: 0\\', </span>\n",
       "<span style=\"color: #008000; text-decoration-color: #008000\">[\\'Tourism &amp; Culture:\\'], [\\'The History of OpenAI\\'])\\\\n(\\'main_heading\\', \\'text\\', \\'quantity_change: 0\\', </span>\n",
       "<span style=\"color: #008000; text-decoration-color: #008000\">[\\'APPRECIATING THE TANGIBLE &amp; THE INTANGIBLE OF BHUBANESWAR THROUGH CULTURAL TOURISM\\'], [\\'A Journey Through </span>\n",
       "<span style=\"color: #008000; text-decoration-color: #008000\">Innovation and Progress\\'])\\\\n(\\'presenter\\', \\'text\\', \\'quantity_change: 0\\', [\\'By Ayona Bhaduri\\'], [\\'OpenAI </span>\n",
       "<span style=\"color: #008000; text-decoration-color: #008000\">Documentation\\'])\\\\n\\\\nPlease output only the API call sequence, one call per line, wrapped in ```python and ```, </span>\n",
       "<span style=\"color: #008000; text-decoration-color: #008000\">with comments for corresponding commands.\"}]}]'</span><span style=\"color: #008000; text-decoration-color: #008000; font-weight: bold\">]</span>\n",
       "</pre>\n"
      ],
      "text/plain": [
       "\u001b[32msending messages to: gpt-4o-\u001b[0m\u001b[1;36m2024\u001b[0m\u001b[32m-\u001b[0m\u001b[1;36m11\u001b[0m\u001b[32m-\u001b[0m\u001b[1;36m20\u001b[0m\u001b[32m, message \u001b[0m\u001b[1;32m(\u001b[0m\u001b[32mtruncated\u001b[0m\u001b[1;32m)\u001b[0m\u001b[32m: \u001b[0m\u001b[1;32m[\u001b[0m\u001b[1;32m{\u001b[0m\u001b[32m'role'\u001b[0m\u001b[32m: \u001b[0m\u001b[32m'system'\u001b[0m\u001b[32m, \u001b[0m\u001b[32m'content'\u001b[0m\u001b[32m: \u001b[0m\u001b[1;32m[\u001b[0m\u001b[1;32m{\u001b[0m\u001b[32m'type'\u001b[0m\u001b[32m: \u001b[0m\u001b[32m'text'\u001b[0m\u001b[32m, \u001b[0m\n",
       "\u001b[32m'text'\u001b[0m\u001b[32m: \u001b[0m\u001b[32m'You are a Code Generator agent specializing in slide manipulation. You precisely translate content edit \u001b[0m\n",
       "\u001b[32mcommands into API calls by understanding HTML structure.'\u001b[0m\u001b[1;32m}\u001b[0m\u001b[1;32m]\u001b[0m\u001b[1;32m}\u001b[0m\u001b[32m, \u001b[0m\u001b[32m'\u001b[0m\u001b[32m[\u001b[0m\u001b[32m{\u001b[0m\u001b[32m\"role\": \"user\", \"content\": \u001b[0m\u001b[32m[\u001b[0m\u001b[32m{\u001b[0m\u001b[32m\"type\": \"text\", \u001b[0m\n",
       "\u001b[32m\"text\": \"Generate API calls based on the provided commands, ensuring compliance with the specified rules and \u001b[0m\n",
       "\u001b[32mprecise execution.\\\\nYou must determine the parent-child relationships of elements based on indentation and ensure \u001b[0m\n",
       "\u001b[32mthat all \u001b[0m\u001b[32m<\u001b[0m\u001b[32mp\u001b[0m\u001b[32m> and <img> elements are modified.\\\\n\\\\nEach command follows this format: \u001b[0m\u001b[32m(\u001b[0m\u001b[32melement_class, type, \u001b[0m\n",
       "\u001b[32mquantity_change: int, old_data, new_data\u001b[0m\u001b[32m)\u001b[0m\u001b[32m.\\\\n\\\\nAvailable APIs\\\\n\\\\ndef replace_image\u001b[0m\u001b[32m(\u001b[0m\u001b[32mimg_id: int, image_path: \u001b[0m\n",
       "\u001b[32mstr\u001b[0m\u001b[32m)\u001b[0m\u001b[32m\\\\n\\\\tReplace an image in a slide.\\\\n\\\\nArgs:\\\\n    slide \u001b[0m\u001b[32m(\u001b[0m\u001b[32mSlidePage\u001b[0m\u001b[32m)\u001b[0m\u001b[32m: The slide containing the image.\\\\n    \u001b[0m\n",
       "\u001b[32mimg_id \u001b[0m\u001b[32m(\u001b[0m\u001b[32mint\u001b[0m\u001b[32m)\u001b[0m\u001b[32m: The ID of the image to replace.\\\\n    image_path \u001b[0m\u001b[32m(\u001b[0m\u001b[32mstr\u001b[0m\u001b[32m)\u001b[0m\u001b[32m: The path to the new image.\\\\n\\\\nRaises:\\\\n   \u001b[0m\n",
       "\u001b[32mValueError: If the image path does not exist.\\\\n\\\\ndef del_image\u001b[0m\u001b[32m(\u001b[0m\u001b[32mfigure_id: int\u001b[0m\u001b[32m)\u001b[0m\u001b[32m\\\\n\\\\tDelete an image from a \u001b[0m\n",
       "\u001b[32mslide.\\\\n\\\\nArgs:\\\\n    slide \u001b[0m\u001b[32m(\u001b[0m\u001b[32mSlidePage\u001b[0m\u001b[32m)\u001b[0m\u001b[32m: The slide containing the image.\\\\n    figure_id \u001b[0m\u001b[32m(\u001b[0m\u001b[32mint\u001b[0m\u001b[32m)\u001b[0m\u001b[32m: The ID of the \u001b[0m\n",
       "\u001b[32mimage to delete.\\\\n\\\\ndef clone_paragraph\u001b[0m\u001b[32m(\u001b[0m\u001b[32mdiv_id: int, paragraph_id: int\u001b[0m\u001b[32m)\u001b[0m\u001b[32m\\\\n\\\\tClone a paragraph in a \u001b[0m\n",
       "\u001b[32mslide.\\\\n\\\\nArgs:\\\\n    slide \u001b[0m\u001b[32m(\u001b[0m\u001b[32mSlidePage\u001b[0m\u001b[32m)\u001b[0m\u001b[32m: The slide containing the paragraph.\\\\n    div_id \u001b[0m\u001b[32m(\u001b[0m\u001b[32mint\u001b[0m\u001b[32m)\u001b[0m\u001b[32m: The ID of the \u001b[0m\n",
       "\u001b[32mdivision containing the paragraph.\\\\n    paragraph_id \u001b[0m\u001b[32m(\u001b[0m\u001b[32mint\u001b[0m\u001b[32m)\u001b[0m\u001b[32m: The ID of the paragraph to clone.\\\\n\\\\nRaises:\\\\n    \u001b[0m\n",
       "\u001b[32mIndexError: If the paragraph is not found.\\\\n\\\\nMention: the cloned paragraph will have a paragraph_id one greater \u001b[0m\n",
       "\u001b[32mthan the current maximum in the parent element.\\\\n\\\\ndef replace_paragraph\u001b[0m\u001b[32m(\u001b[0m\u001b[32mdiv_id: int, paragraph_id: int, text: \u001b[0m\n",
       "\u001b[32mstr\u001b[0m\u001b[32m)\u001b[0m\u001b[32m\\\\n\\\\tReplace the text of a paragraph in a slide.\\\\n\\\\nArgs:\\\\n    slide \u001b[0m\u001b[32m(\u001b[0m\u001b[32mSlidePage\u001b[0m\u001b[32m)\u001b[0m\u001b[32m: The slide containing the \u001b[0m\n",
       "\u001b[32mparagraph.\\\\n    div_id \u001b[0m\u001b[32m(\u001b[0m\u001b[32mint\u001b[0m\u001b[32m)\u001b[0m\u001b[32m: The ID of the division containing the paragraph.\\\\n    paragraph_id \u001b[0m\u001b[32m(\u001b[0m\u001b[32mint\u001b[0m\u001b[32m)\u001b[0m\u001b[32m: The ID of\u001b[0m\n",
       "\u001b[32mthe paragraph to replace.\\\\n    text \u001b[0m\u001b[32m(\u001b[0m\u001b[32mstr\u001b[0m\u001b[32m)\u001b[0m\u001b[32m: The new text to replace with.\\\\n\\\\nRaises:\\\\n    IndexError: If the \u001b[0m\n",
       "\u001b[32mparagraph is not found.\\\\n\\\\ndef del_paragraph\u001b[0m\u001b[32m(\u001b[0m\u001b[32mdiv_id: int, paragraph_id: int\u001b[0m\u001b[32m)\u001b[0m\u001b[32m\\\\n\\\\tDelete a paragraph from a \u001b[0m\n",
       "\u001b[32mslide.\\\\n\\\\nArgs:\\\\n    slide \u001b[0m\u001b[32m(\u001b[0m\u001b[32mSlidePage\u001b[0m\u001b[32m)\u001b[0m\u001b[32m: The slide containing the paragraph.\\\\n    div_id \u001b[0m\u001b[32m(\u001b[0m\u001b[32mint\u001b[0m\u001b[32m)\u001b[0m\u001b[32m: The ID of the \u001b[0m\n",
       "\u001b[32mdivision containing the paragraph.\\\\n    paragraph_id \u001b[0m\u001b[32m(\u001b[0m\u001b[32mint\u001b[0m\u001b[32m)\u001b[0m\u001b[32m: The ID of the paragraph to delete.\\\\n\\\\nRaises:\\\\n    \u001b[0m\n",
       "\u001b[32mIndexError: If the paragraph is not found.\\\\n\\\\nSteps\\\\n    1.\\\\tQuantity Adjustment:\\\\n    -\\\\tIf quantity_change \u001b[0m\n",
       "\u001b[32m= 0, modify the content only.\\\\n    -\\\\tIf quantity_change > 0, use clone_paragraph to add the specified number of \u001b[0m\n",
       "\u001b[32mparagraphs from the same element_class. The paragraph_id for newly cloned paragraphs should be the current maximum \u001b[0m\n",
       "\u001b[32mparagraph_id of the parent element plus 1.\\\\n    -\\\\tIf quantity_change < 0, use del_paragraph or del_image to \u001b[0m\n",
       "\u001b[32mremove the specified number of tail elements.\\\\n    -\\\\tEach command’s API call group must exclusively use either \u001b[0m\n",
       "\u001b[32mclone_paragraph or del_paragraph/del_image based on the `quantity_change`\\\\n    2.\\\\tContent Modification:\\\\n    \u001b[0m\n",
       "\u001b[32m-\\\\tText Content: Use replace_paragraph to modify the content.\\\\n    -\\\\tImage Content: Use replace_image to \u001b[0m\n",
       "\u001b[32mreplace image resources.\\\\n    3.\\\\tOutput Format:\\\\n    -\\\\tAdd comments to each API call group, explaining the \u001b[0m\n",
       "\u001b[32mintent of the original command and the associated element_class.\\\\n    -\\\\tFor cloning operations, annotate the \u001b[0m\n",
       "\u001b[32mparagraph_id of the newly created paragraphs.\\\\n\\\\nExample Input:\\\\n\\\\n<div \u001b[0m\u001b[32mid\u001b[0m\u001b[32m=\\\\\"0\\\\\" \u001b[0m\u001b[32mstyle\u001b[0m\u001b[32m=\\\\\"font-size: 24pt; \u001b[0m\n",
       "\u001b[32mcolor: #0D0D0D\\\\\">\\\\n    <p \u001b[0m\u001b[32mid\u001b[0m\u001b[32m=\\\\\"0\\\\\">\\\\n       WorldFAIR: Global cooperation on FAIR data policy and practice\\\\n \u001b[0m\n",
       "\u001b[32m</p>\\\\n</div>\\\\n\\\\n<div \u001b[0m\u001b[32mid\u001b[0m\u001b[32m=\\\\\"1\\\\\" \u001b[0m\u001b[32mstyle\u001b[0m\u001b[32m=\\\\\"font-size: 13pt; color: #404040\\\\\">\\\\n    <ul>\\\\n        <li \u001b[0m\u001b[32mid\u001b[0m\u001b[32m=\\\\\"0\\\\\"\u001b[0m\n",
       "\u001b[32mbullet-\u001b[0m\u001b[32mtype\u001b[0m\u001b[32m=\\\\\"▪\\\\\">\\\\n            Two-year project to advance implementation...\\\\n        </li>\\\\n        <li \u001b[0m\n",
       "\u001b[32mid\u001b[0m\u001b[32m=\\\\\"1\\\\\" \u001b[0m\u001b[32mstyle\u001b[0m\u001b[32m=\\\\\"font-weight: bold\\\\\" bullet-\u001b[0m\u001b[32mtype\u001b[0m\u001b[32m=\\\\\"▪\\\\\">\\\\n            Funded by the European Union...\\\\n     \u001b[0m\n",
       "\u001b[32m</li>\\\\n    </ul>\\\\n</div>\\\\n\\\\n<img \u001b[0m\u001b[32mid\u001b[0m\u001b[32m=\\\\\"2\\\\\" \u001b[0m\u001b[32malt\u001b[0m\u001b[32m=\\\\\"logo: project of xx\\\\\">\\\\n\\\\n\u001b[0m\u001b[32m[\u001b[0m\u001b[32m\\\\n    \u001b[0m\u001b[32m(\u001b[0m\u001b[32m\\\\\"title\\\\\", \u001b[0m\n",
       "\u001b[32m\\\\\"text\\\\\", \\\\\"quantity_change: 0\\\\\", \u001b[0m\u001b[32m[\u001b[0m\u001b[32m\\\\\"WorldFAIR: Global cooperation on FAIR data policy and practice\\\\\"\u001b[0m\u001b[32m]\u001b[0m\u001b[32m, \u001b[0m\n",
       "\u001b[32m[\u001b[0m\u001b[32m\\\\\"New Title\\\\\"\u001b[0m\u001b[32m]\u001b[0m\u001b[32m)\u001b[0m\u001b[32m,\\\\n    \u001b[0m\u001b[32m(\u001b[0m\u001b[32m\\\\\"project_description\\\\\", \\\\\"text\\\\\", \\\\\"quantity_change: 1\\\\\", \u001b[0m\u001b[32m[\u001b[0m\u001b[32m\\\\\"Two-year project to\u001b[0m\n",
       "\u001b[32madvance implementation of the FAIR principles\\\\\"\u001b[0m\u001b[32m]\u001b[0m\u001b[32m, \u001b[0m\u001b[32m[\u001b[0m\u001b[32m\\\\\"New project description1\\\\\", \\\\\"New project \u001b[0m\n",
       "\u001b[32mdescription2\\\\\"\u001b[0m\u001b[32m]\u001b[0m\u001b[32m)\u001b[0m\u001b[32m,\\\\n    \u001b[0m\u001b[32m(\u001b[0m\u001b[32m\\\\\"funding_info\\\\\", \\\\\"text\\\\\", \\\\\"quantity_change: -1\\\\\", \u001b[0m\u001b[32m[\u001b[0m\u001b[32m\\\\\"Funded by the European \u001b[0m\n",
       "\u001b[32mUnion\\\\\"\u001b[0m\u001b[32m]\u001b[0m\u001b[32m, \u001b[0m\u001b[32m[\u001b[0m\u001b[32m]\u001b[0m\u001b[32m)\u001b[0m\u001b[32m,\\\\n    \u001b[0m\u001b[32m(\u001b[0m\u001b[32m\\\\\"project_logo\\\\\", \\\\\"image\\\\\", \\\\\"quantity_change: 0\\\\\", \u001b[0m\u001b[32m[\u001b[0m\u001b[32m\\\\\"logo: project of xx\\\\\"\u001b[0m\u001b[32m]\u001b[0m\u001b[32m, \u001b[0m\n",
       "\u001b[32m[\u001b[0m\u001b[32m\\\\\"new_logo.png\\\\\"\u001b[0m\u001b[32m]\u001b[0m\u001b[32m)\u001b[0m\u001b[32m\\\\n\u001b[0m\u001b[32m]\u001b[0m\u001b[32m\\\\n\\\\nExample Output\\\\n# \u001b[0m\u001b[32m(\u001b[0m\u001b[32m\\\\\"title\\\\\", \\\\\"text\\\\\", \\\\\"quantity_change: 0\\\\\", \u001b[0m\n",
       "\u001b[32m[\u001b[0m\u001b[32m\\\\\"WorldFAIR: Global cooperation on FAIR data policy and practice\\\\\"\u001b[0m\u001b[32m]\u001b[0m\u001b[32m, \u001b[0m\u001b[32m[\u001b[0m\u001b[32m\\\\\"New Title\\\\\"\u001b[0m\u001b[32m]\u001b[0m\u001b[32m)\u001b[0m\u001b[32m\\\\nreplace_paragraph\u001b[0m\u001b[32m(\u001b[0m\u001b[32m0, \u001b[0m\n",
       "\u001b[32m0, \\\\\"New Title\\\\\"\u001b[0m\u001b[32m)\u001b[0m\u001b[32m\\\\n\\\\n# \u001b[0m\u001b[32m(\u001b[0m\u001b[32m\\\\\"project_description\\\\\", \\\\\"text\\\\\", \\\\\"quantity_change: 1\\\\\", \u001b[0m\u001b[32m[\u001b[0m\u001b[32m\\\\\"Two-year project \u001b[0m\n",
       "\u001b[32mto advance implementation of the FAIR principles\\\\\"\u001b[0m\u001b[32m]\u001b[0m\u001b[32m, \u001b[0m\u001b[32m[\u001b[0m\u001b[32m\\\\\"New project description1\\\\\", \\\\\"New project \u001b[0m\n",
       "\u001b[32mdescription2\\\\\"\u001b[0m\u001b[32m]\u001b[0m\u001b[32m)\u001b[0m\u001b[32m\\\\nclone_paragraph\u001b[0m\u001b[32m(\u001b[0m\u001b[32m1, 0\u001b[0m\u001b[32m)\u001b[0m\u001b[32m  # New cloned paragraph_id is 2 as the current max paragraph_id is \u001b[0m\n",
       "\u001b[32m1\\\\nreplace_paragraph\u001b[0m\u001b[32m(\u001b[0m\u001b[32m1, 0, \\\\\"New project description1\\\\\"\u001b[0m\u001b[32m)\u001b[0m\u001b[32m\\\\nreplace_paragraph\u001b[0m\u001b[32m(\u001b[0m\u001b[32m1, 2, \\\\\"New project \u001b[0m\n",
       "\u001b[32mdescription2\\\\\"\u001b[0m\u001b[32m)\u001b[0m\u001b[32m\\\\n\\\\n# \u001b[0m\u001b[32m(\u001b[0m\u001b[32m\\\\\"funding_info\\\\\", \\\\\"text\\\\\", \\\\\"quantity_change: -1\\\\\", \u001b[0m\u001b[32m[\u001b[0m\u001b[32m\\\\\"Funded by the European \u001b[0m\n",
       "\u001b[32mUnion\\\\\"\u001b[0m\u001b[32m]\u001b[0m\u001b[32m, \u001b[0m\u001b[32m[\u001b[0m\u001b[32m]\u001b[0m\u001b[32m)\u001b[0m\u001b[32m\\\\ndel_paragraph\u001b[0m\u001b[32m(\u001b[0m\u001b[32m1, 1\u001b[0m\u001b[32m)\u001b[0m\u001b[32m\\\\n\\\\n# \u001b[0m\u001b[32m(\u001b[0m\u001b[32m\\\\\"project_logo\\\\\", \\\\\"image\\\\\", \\\\\"quantity_change: 0\\\\\", \u001b[0m\u001b[32m[\u001b[0m\u001b[32m\\\\\"logo: \u001b[0m\n",
       "\u001b[32mproject of xx\\\\\"\u001b[0m\u001b[32m]\u001b[0m\u001b[32m, \u001b[0m\u001b[32m[\u001b[0m\u001b[32m\\\\\"new_logo.png\\\\\"\u001b[0m\u001b[32m]\u001b[0m\u001b[32m)\u001b[0m\u001b[32m\\\\nreplace_image\u001b[0m\u001b[32m(\u001b[0m\u001b[32m2, \\\\\"new_logo.png\\\\\"\u001b[0m\u001b[32m)\u001b[0m\u001b[32m\\\\n\\\\nCurrent Slide \u001b[0m\n",
       "\u001b[32mContent:\\\\n<!DOCTYPE html>\\\\n<html>\\\\n<title>Tourism & Culture:</title>\\\\n<body \u001b[0m\u001b[32mstyle\u001b[0m\u001b[32m=\\\\\"width:960pt; \u001b[0m\n",
       "\u001b[32mheight:540pt;\\\\\">\\\\n<div \u001b[0m\u001b[32mid\u001b[0m\u001b[32m=\\'0\\'>\\\\n\\\\t<p \u001b[0m\u001b[32mid\u001b[0m\u001b[32m=\\'0\\'>Tourism & Culture:</p>\\\\n</div>\\\\n\\\\n<div \u001b[0m\u001b[32mid\u001b[0m\u001b[32m=\\'1\\'>\\\\n\\\\t<p \u001b[0m\n",
       "\u001b[32mid\u001b[0m\u001b[32m=\\'0\\' \u001b[0m\u001b[32mstyle\u001b[0m\u001b[32m=\\'font-size: 24pt\\'>APPRECIATING THE TANGIBLE & THE INTANGIBLE OF BHUBANESWAR THROUGH CULTURAL \u001b[0m\n",
       "\u001b[32mTOURISM</p>\\\\n\\\\t<p \u001b[0m\u001b[32mid\u001b[0m\u001b[32m=\\'1\\' \u001b[0m\u001b[32mstyle\u001b[0m\u001b[32m=\\'font-size: 20pt\\'>By Ayona Bhaduri \u001b[0m\n",
       "\u001b[32m</p>\\\\n</div>\\\\n</body>\\\\n</html\u001b[0m\u001b[32m>\u001b[0m\u001b[32m\\\\n\\\\n\\\\nCommand List:\\\\n\u001b[0m\u001b[32m(\u001b[0m\u001b[32m\\'slide_title\\', \\'text\\', \\'quantity_change: 0\\', \u001b[0m\n",
       "\u001b[32m[\u001b[0m\u001b[32m\\'Tourism & Culture:\\'\u001b[0m\u001b[32m]\u001b[0m\u001b[32m, \u001b[0m\u001b[32m[\u001b[0m\u001b[32m\\'The History of OpenAI\\'\u001b[0m\u001b[32m]\u001b[0m\u001b[32m)\u001b[0m\u001b[32m\\\\n\u001b[0m\u001b[32m(\u001b[0m\u001b[32m\\'main_heading\\', \\'text\\', \\'quantity_change: 0\\', \u001b[0m\n",
       "\u001b[32m[\u001b[0m\u001b[32m\\'APPRECIATING THE TANGIBLE & THE INTANGIBLE OF BHUBANESWAR THROUGH CULTURAL TOURISM\\'\u001b[0m\u001b[32m]\u001b[0m\u001b[32m, \u001b[0m\u001b[32m[\u001b[0m\u001b[32m\\'A Journey Through \u001b[0m\n",
       "\u001b[32mInnovation and Progress\\'\u001b[0m\u001b[32m]\u001b[0m\u001b[32m)\u001b[0m\u001b[32m\\\\n\u001b[0m\u001b[32m(\u001b[0m\u001b[32m\\'presenter\\', \\'text\\', \\'quantity_change: 0\\', \u001b[0m\u001b[32m[\u001b[0m\u001b[32m\\'By Ayona Bhaduri\\'\u001b[0m\u001b[32m]\u001b[0m\u001b[32m, \u001b[0m\u001b[32m[\u001b[0m\u001b[32m\\'OpenAI \u001b[0m\n",
       "\u001b[32mDocumentation\\'\u001b[0m\u001b[32m]\u001b[0m\u001b[32m)\u001b[0m\u001b[32m\\\\n\\\\nPlease output only the API call sequence, one call per line, wrapped in ```python and ```, \u001b[0m\n",
       "\u001b[32mwith comments for corresponding commands.\"\u001b[0m\u001b[32m}\u001b[0m\u001b[32m]\u001b[0m\u001b[32m}\u001b[0m\u001b[32m]\u001b[0m\u001b[32m'\u001b[0m\u001b[1;32m]\u001b[0m\n"
      ]
     },
     "metadata": {},
     "output_type": "display_data"
    },
    {
     "data": {
      "text/html": [
       "<pre style=\"white-space:pre;overflow-x:auto;line-height:normal;font-family:Menlo,'DejaVu Sans Mono',consolas,'Courier New',monospace\"><span style=\"color: #800000; text-decoration-color: #800000\">response from gpt-4o-</span><span style=\"color: #008080; text-decoration-color: #008080; font-weight: bold\">2024</span><span style=\"color: #800000; text-decoration-color: #800000\">-</span><span style=\"color: #008080; text-decoration-color: #008080; font-weight: bold\">11</span><span style=\"color: #800000; text-decoration-color: #800000\">-</span><span style=\"color: #008080; text-decoration-color: #008080; font-weight: bold\">20</span><span style=\"color: #800000; text-decoration-color: #800000\">: ```python</span>\n",
       "<span style=\"color: #800000; text-decoration-color: #800000\"># </span><span style=\"color: #800000; text-decoration-color: #800000; font-weight: bold\">(</span><span style=\"color: #008000; text-decoration-color: #008000\">'slide_title'</span><span style=\"color: #800000; text-decoration-color: #800000\">, </span><span style=\"color: #008000; text-decoration-color: #008000\">'text'</span><span style=\"color: #800000; text-decoration-color: #800000\">, </span><span style=\"color: #008000; text-decoration-color: #008000\">'quantity_change: 0'</span><span style=\"color: #800000; text-decoration-color: #800000\">, </span><span style=\"color: #800000; text-decoration-color: #800000; font-weight: bold\">[</span><span style=\"color: #008000; text-decoration-color: #008000\">'Tourism &amp; Culture:'</span><span style=\"color: #800000; text-decoration-color: #800000; font-weight: bold\">]</span><span style=\"color: #800000; text-decoration-color: #800000\">, </span><span style=\"color: #800000; text-decoration-color: #800000; font-weight: bold\">[</span><span style=\"color: #008000; text-decoration-color: #008000\">'The History of OpenAI'</span><span style=\"color: #800000; text-decoration-color: #800000; font-weight: bold\">])</span>\n",
       "<span style=\"color: #800080; text-decoration-color: #800080; font-weight: bold\">replace_paragraph</span><span style=\"color: #800000; text-decoration-color: #800000; font-weight: bold\">(</span><span style=\"color: #008080; text-decoration-color: #008080; font-weight: bold\">0</span><span style=\"color: #800000; text-decoration-color: #800000\">, </span><span style=\"color: #008080; text-decoration-color: #008080; font-weight: bold\">0</span><span style=\"color: #800000; text-decoration-color: #800000\">, </span><span style=\"color: #008000; text-decoration-color: #008000\">\"The History of OpenAI\"</span><span style=\"color: #800000; text-decoration-color: #800000; font-weight: bold\">)</span>\n",
       "\n",
       "<span style=\"color: #800000; text-decoration-color: #800000\"># </span><span style=\"color: #800000; text-decoration-color: #800000; font-weight: bold\">(</span><span style=\"color: #008000; text-decoration-color: #008000\">'main_heading'</span><span style=\"color: #800000; text-decoration-color: #800000\">, </span><span style=\"color: #008000; text-decoration-color: #008000\">'text'</span><span style=\"color: #800000; text-decoration-color: #800000\">, </span><span style=\"color: #008000; text-decoration-color: #008000\">'quantity_change: 0'</span><span style=\"color: #800000; text-decoration-color: #800000\">, </span><span style=\"color: #800000; text-decoration-color: #800000; font-weight: bold\">[</span><span style=\"color: #008000; text-decoration-color: #008000\">'APPRECIATING THE TANGIBLE &amp; THE INTANGIBLE OF BHUBANESWAR </span>\n",
       "<span style=\"color: #008000; text-decoration-color: #008000\">THROUGH CULTURAL TOURISM'</span><span style=\"color: #800000; text-decoration-color: #800000; font-weight: bold\">]</span><span style=\"color: #800000; text-decoration-color: #800000\">, </span><span style=\"color: #800000; text-decoration-color: #800000; font-weight: bold\">[</span><span style=\"color: #008000; text-decoration-color: #008000\">'A Journey Through Innovation and Progress'</span><span style=\"color: #800000; text-decoration-color: #800000; font-weight: bold\">])</span>\n",
       "<span style=\"color: #800080; text-decoration-color: #800080; font-weight: bold\">replace_paragraph</span><span style=\"color: #800000; text-decoration-color: #800000; font-weight: bold\">(</span><span style=\"color: #008080; text-decoration-color: #008080; font-weight: bold\">1</span><span style=\"color: #800000; text-decoration-color: #800000\">, </span><span style=\"color: #008080; text-decoration-color: #008080; font-weight: bold\">0</span><span style=\"color: #800000; text-decoration-color: #800000\">, </span><span style=\"color: #008000; text-decoration-color: #008000\">\"A Journey Through Innovation and Progress\"</span><span style=\"color: #800000; text-decoration-color: #800000; font-weight: bold\">)</span>\n",
       "\n",
       "<span style=\"color: #800000; text-decoration-color: #800000\"># </span><span style=\"color: #800000; text-decoration-color: #800000; font-weight: bold\">(</span><span style=\"color: #008000; text-decoration-color: #008000\">'presenter'</span><span style=\"color: #800000; text-decoration-color: #800000\">, </span><span style=\"color: #008000; text-decoration-color: #008000\">'text'</span><span style=\"color: #800000; text-decoration-color: #800000\">, </span><span style=\"color: #008000; text-decoration-color: #008000\">'quantity_change: 0'</span><span style=\"color: #800000; text-decoration-color: #800000\">, </span><span style=\"color: #800000; text-decoration-color: #800000; font-weight: bold\">[</span><span style=\"color: #008000; text-decoration-color: #008000\">'By Ayona Bhaduri'</span><span style=\"color: #800000; text-decoration-color: #800000; font-weight: bold\">]</span><span style=\"color: #800000; text-decoration-color: #800000\">, </span><span style=\"color: #800000; text-decoration-color: #800000; font-weight: bold\">[</span><span style=\"color: #008000; text-decoration-color: #008000\">'OpenAI Documentation'</span><span style=\"color: #800000; text-decoration-color: #800000; font-weight: bold\">])</span>\n",
       "<span style=\"color: #800080; text-decoration-color: #800080; font-weight: bold\">replace_paragraph</span><span style=\"color: #800000; text-decoration-color: #800000; font-weight: bold\">(</span><span style=\"color: #008080; text-decoration-color: #008080; font-weight: bold\">1</span><span style=\"color: #800000; text-decoration-color: #800000\">, </span><span style=\"color: #008080; text-decoration-color: #008080; font-weight: bold\">1</span><span style=\"color: #800000; text-decoration-color: #800000\">, </span><span style=\"color: #008000; text-decoration-color: #008000\">\"OpenAI Documentation\"</span><span style=\"color: #800000; text-decoration-color: #800000; font-weight: bold\">)</span>\n",
       "<span style=\"color: #800000; text-decoration-color: #800000\">```</span>\n",
       "</pre>\n"
      ],
      "text/plain": [
       "\u001b[31mresponse from gpt-4o-\u001b[0m\u001b[1;36m2024\u001b[0m\u001b[31m-\u001b[0m\u001b[1;36m11\u001b[0m\u001b[31m-\u001b[0m\u001b[1;36m20\u001b[0m\u001b[31m: ```python\u001b[0m\n",
       "\u001b[31m# \u001b[0m\u001b[1;31m(\u001b[0m\u001b[32m'slide_title'\u001b[0m\u001b[31m, \u001b[0m\u001b[32m'text'\u001b[0m\u001b[31m, \u001b[0m\u001b[32m'quantity_change: 0'\u001b[0m\u001b[31m, \u001b[0m\u001b[1;31m[\u001b[0m\u001b[32m'Tourism & Culture:'\u001b[0m\u001b[1;31m]\u001b[0m\u001b[31m, \u001b[0m\u001b[1;31m[\u001b[0m\u001b[32m'The History of OpenAI'\u001b[0m\u001b[1;31m]\u001b[0m\u001b[1;31m)\u001b[0m\n",
       "\u001b[1;35mreplace_paragraph\u001b[0m\u001b[1;31m(\u001b[0m\u001b[1;36m0\u001b[0m\u001b[31m, \u001b[0m\u001b[1;36m0\u001b[0m\u001b[31m, \u001b[0m\u001b[32m\"The History of OpenAI\"\u001b[0m\u001b[1;31m)\u001b[0m\n",
       "\n",
       "\u001b[31m# \u001b[0m\u001b[1;31m(\u001b[0m\u001b[32m'main_heading'\u001b[0m\u001b[31m, \u001b[0m\u001b[32m'text'\u001b[0m\u001b[31m, \u001b[0m\u001b[32m'quantity_change: 0'\u001b[0m\u001b[31m, \u001b[0m\u001b[1;31m[\u001b[0m\u001b[32m'APPRECIATING THE TANGIBLE & THE INTANGIBLE OF BHUBANESWAR \u001b[0m\n",
       "\u001b[32mTHROUGH CULTURAL TOURISM'\u001b[0m\u001b[1;31m]\u001b[0m\u001b[31m, \u001b[0m\u001b[1;31m[\u001b[0m\u001b[32m'A Journey Through Innovation and Progress'\u001b[0m\u001b[1;31m]\u001b[0m\u001b[1;31m)\u001b[0m\n",
       "\u001b[1;35mreplace_paragraph\u001b[0m\u001b[1;31m(\u001b[0m\u001b[1;36m1\u001b[0m\u001b[31m, \u001b[0m\u001b[1;36m0\u001b[0m\u001b[31m, \u001b[0m\u001b[32m\"A Journey Through Innovation and Progress\"\u001b[0m\u001b[1;31m)\u001b[0m\n",
       "\n",
       "\u001b[31m# \u001b[0m\u001b[1;31m(\u001b[0m\u001b[32m'presenter'\u001b[0m\u001b[31m, \u001b[0m\u001b[32m'text'\u001b[0m\u001b[31m, \u001b[0m\u001b[32m'quantity_change: 0'\u001b[0m\u001b[31m, \u001b[0m\u001b[1;31m[\u001b[0m\u001b[32m'By Ayona Bhaduri'\u001b[0m\u001b[1;31m]\u001b[0m\u001b[31m, \u001b[0m\u001b[1;31m[\u001b[0m\u001b[32m'OpenAI Documentation'\u001b[0m\u001b[1;31m]\u001b[0m\u001b[1;31m)\u001b[0m\n",
       "\u001b[1;35mreplace_paragraph\u001b[0m\u001b[1;31m(\u001b[0m\u001b[1;36m1\u001b[0m\u001b[31m, \u001b[0m\u001b[1;36m1\u001b[0m\u001b[31m, \u001b[0m\u001b[32m\"OpenAI Documentation\"\u001b[0m\u001b[1;31m)\u001b[0m\n",
       "\u001b[31m```\u001b[0m\n"
      ]
     },
     "metadata": {},
     "output_type": "display_data"
    },
    {
     "data": {
      "text/html": [
       "<pre style=\"white-space:pre;overflow-x:auto;line-height:normal;font-family:Menlo,'DejaVu Sans Mono',consolas,'Courier New',monospace\"><span style=\"color: #008000; text-decoration-color: #008000\">sending messages to: gpt-4o-</span><span style=\"color: #008080; text-decoration-color: #008080; font-weight: bold\">2024</span><span style=\"color: #008000; text-decoration-color: #008000\">-</span><span style=\"color: #008080; text-decoration-color: #008080; font-weight: bold\">11</span><span style=\"color: #008000; text-decoration-color: #008000\">-</span><span style=\"color: #008080; text-decoration-color: #008080; font-weight: bold\">20</span><span style=\"color: #008000; text-decoration-color: #008000\">, message </span><span style=\"color: #008000; text-decoration-color: #008000; font-weight: bold\">(</span><span style=\"color: #008000; text-decoration-color: #008000\">truncated</span><span style=\"color: #008000; text-decoration-color: #008000; font-weight: bold\">)</span><span style=\"color: #008000; text-decoration-color: #008000\">: </span><span style=\"color: #008000; text-decoration-color: #008000; font-weight: bold\">[{</span><span style=\"color: #008000; text-decoration-color: #008000\">'role'</span><span style=\"color: #008000; text-decoration-color: #008000\">: </span><span style=\"color: #008000; text-decoration-color: #008000\">'system'</span><span style=\"color: #008000; text-decoration-color: #008000\">, </span><span style=\"color: #008000; text-decoration-color: #008000\">'content'</span><span style=\"color: #008000; text-decoration-color: #008000\">: </span><span style=\"color: #008000; text-decoration-color: #008000; font-weight: bold\">[{</span><span style=\"color: #008000; text-decoration-color: #008000\">'type'</span><span style=\"color: #008000; text-decoration-color: #008000\">: </span><span style=\"color: #008000; text-decoration-color: #008000\">'text'</span><span style=\"color: #008000; text-decoration-color: #008000\">, </span>\n",
       "<span style=\"color: #008000; text-decoration-color: #008000\">'text'</span><span style=\"color: #008000; text-decoration-color: #008000\">: </span><span style=\"color: #008000; text-decoration-color: #008000\">'You are an expert Editor agent. Transform reference text and images into slide content, following schema </span>\n",
       "<span style=\"color: #008000; text-decoration-color: #008000\">rules and using only provided materials. Ensure the content is engaging and within the character limit.'</span><span style=\"color: #008000; text-decoration-color: #008000; font-weight: bold\">}]}</span><span style=\"color: #008000; text-decoration-color: #008000\">, </span>\n",
       "<span style=\"color: #008000; text-decoration-color: #008000\">'[{\"role\": \"user\", \"content\": [{\"type\": \"text\", \"text\": \"Task: Generate engaging slide content based on the </span>\n",
       "<span style=\"color: #008000; text-decoration-color: #008000\">provided schema and reference materials.\\\\n\\\\nRequirements:\\\\n1. Content Generation Rules:\\\\n  - Follow </span>\n",
       "<span style=\"color: #008000; text-decoration-color: #008000\">default_quantity for elements, adjust when necessary\\\\n  - Ensure text content meets character limits\\\\n  - </span>\n",
       "<span style=\"color: #008000; text-decoration-color: #008000\">Generated text should use concise and impactful presentation style\\\\n\\\\n2. Core Elements:\\\\n  - Must extract </span>\n",
       "<span style=\"color: #008000; text-decoration-color: #008000\">essential content from reference text (e.g., slide_title, main_content) and maintain semantic consistency\\\\n  - </span>\n",
       "<span style=\"color: #008000; text-decoration-color: #008000\">Must include images that support the main content (e.g., diagrams for explanations, visuals directly discussed in </span>\n",
       "<span style=\"color: #008000; text-decoration-color: #008000\">text)\\\\n\\\\n3. Supporting Elements (e.g., presenters, logo images):\\\\n  - Generate only when relevant content exists</span>\n",
       "<span style=\"color: #008000; text-decoration-color: #008000\">in reference materials\\\\n\\\\nGenerate content for each element and output in the following format:\\\\n{\\\\n  </span>\n",
       "<span style=\"color: #008000; text-decoration-color: #008000\">\\\\\"element1\\\\\": {\\\\n    \\\\\"data\\\\\": [\\\\\"text1\\\\\", \\\\\"text2\\\\\"] for text elements\\\\n          or </span>\n",
       "<span style=\"color: #008000; text-decoration-color: #008000\">[\\\\\"/path/to/image\\\\\", \\\\\"...\\\\\"] for image elements\\\\n  },\\\\n}\\\\n\\\\nInput:\\\\nSchema:\\\\n{\\'main_title\\': </span>\n",
       "<span style=\"color: #008000; text-decoration-color: #008000\">{\\'description\\': \\'The primary heading that introduces the main topic of the slide\\', \\'type\\': \\'text\\', </span>\n",
       "<span style=\"color: #008000; text-decoration-color: #008000\">\\'suggestedCharacters\\': \\'&lt;16\\', \\'default_quantity\\': 1}, \\'content_text\\': {\\'description\\': \\'The body text </span>\n",
       "<span style=\"color: #008000; text-decoration-color: #008000\">providing detailed explanations, definitions, or information related to the topic\\', \\'type\\': \\'text\\', </span>\n",
       "<span style=\"color: #008000; text-decoration-color: #008000\">\\'suggestedCharacters\\': \\'64-276\\', \\'default_quantity\\': 4}}\\\\n\\\\nMetadata of Presentation:\\\\ntitle: The History </span>\n",
       "<span style=\"color: #008000; text-decoration-color: #008000\">of OpenAI\\\\nauthor: OpenAI Documentation Team\\\\npublish date: October 2023\\\\norganization: OpenAI\\\\nPresentation </span>\n",
       "<span style=\"color: #008000; text-decoration-color: #008000\">Time: 2025-02-02\\\\n\\\\nSlide 1: Opening of The History of OpenAI\\\\nSlide 2: Formation and Vision\\\\nSlide 3: Key </span>\n",
       "<span style=\"color: #008000; text-decoration-color: #008000\">Milestones and Achievements\\\\nSlide 4: The Future of OpenAI\\\\nSlide 5: Conclusion of The History of </span>\n",
       "<span style=\"color: #008000; text-decoration-color: #008000\">OpenAI\\\\n\\\\nReference Text:\\\\nSlide-2 Slide Purpose: Formation and Vision\\\\nSlide Description: Detailing OpenAI\\'s </span>\n",
       "<span style=\"color: #008000; text-decoration-color: #008000\">founding principles, motivations, and its beginnings as a non-profit organization.\\\\nSlide Content Source: # </span>\n",
       "<span style=\"color: #008000; text-decoration-color: #008000\">Founding and Motivation \\\\nOpenAI was founded in December 2015 by Elon Musk, Sam Altman, Greg Brockman, Ilya </span>\n",
       "<span style=\"color: #008000; text-decoration-color: #008000\">Sutskever, Wojciech Zaremba, and John Schulman, among others. The organization was established to ensure artificial</span>\n",
       "<span style=\"color: #008000; text-decoration-color: #008000\">general intelligence (AGI) benefits all humanity and to research AI with a focus on safety and ethical </span>\n",
       "<span style=\"color: #008000; text-decoration-color: #008000\">considerations.\\\\nSlide Content Source: # Non-Profit Roots \\\\nInitially set up as a non-profit, OpenAI aimed to </span>\n",
       "<span style=\"color: #008000; text-decoration-color: #008000\">prioritize broad societal benefit over profit motives. Early projects focused on transparency, collaboration, and </span>\n",
       "<span style=\"color: #008000; text-decoration-color: #008000\">open access to AI advancements.\\\\n\\\\n\\\\nAvailable Images:\\\\nNo Images\\\\n\\\\nOutput: Ensure the generated content </span>\n",
       "<span style=\"color: #008000; text-decoration-color: #008000\">strictly adheres to the schema specifications, follows the slide style, reader-friendly.\"}]}]'</span><span style=\"color: #008000; text-decoration-color: #008000; font-weight: bold\">]</span>\n",
       "</pre>\n"
      ],
      "text/plain": [
       "\u001b[32msending messages to: gpt-4o-\u001b[0m\u001b[1;36m2024\u001b[0m\u001b[32m-\u001b[0m\u001b[1;36m11\u001b[0m\u001b[32m-\u001b[0m\u001b[1;36m20\u001b[0m\u001b[32m, message \u001b[0m\u001b[1;32m(\u001b[0m\u001b[32mtruncated\u001b[0m\u001b[1;32m)\u001b[0m\u001b[32m: \u001b[0m\u001b[1;32m[\u001b[0m\u001b[1;32m{\u001b[0m\u001b[32m'role'\u001b[0m\u001b[32m: \u001b[0m\u001b[32m'system'\u001b[0m\u001b[32m, \u001b[0m\u001b[32m'content'\u001b[0m\u001b[32m: \u001b[0m\u001b[1;32m[\u001b[0m\u001b[1;32m{\u001b[0m\u001b[32m'type'\u001b[0m\u001b[32m: \u001b[0m\u001b[32m'text'\u001b[0m\u001b[32m, \u001b[0m\n",
       "\u001b[32m'text'\u001b[0m\u001b[32m: \u001b[0m\u001b[32m'You are an expert Editor agent. Transform reference text and images into slide content, following schema \u001b[0m\n",
       "\u001b[32mrules and using only provided materials. Ensure the content is engaging and within the character limit.'\u001b[0m\u001b[1;32m}\u001b[0m\u001b[1;32m]\u001b[0m\u001b[1;32m}\u001b[0m\u001b[32m, \u001b[0m\n",
       "\u001b[32m'\u001b[0m\u001b[32m[\u001b[0m\u001b[32m{\u001b[0m\u001b[32m\"role\": \"user\", \"content\": \u001b[0m\u001b[32m[\u001b[0m\u001b[32m{\u001b[0m\u001b[32m\"type\": \"text\", \"text\": \"Task: Generate engaging slide content based on the \u001b[0m\n",
       "\u001b[32mprovided schema and reference materials.\\\\n\\\\nRequirements:\\\\n1. Content Generation Rules:\\\\n  - Follow \u001b[0m\n",
       "\u001b[32mdefault_quantity for elements, adjust when necessary\\\\n  - Ensure text content meets character limits\\\\n  - \u001b[0m\n",
       "\u001b[32mGenerated text should use concise and impactful presentation style\\\\n\\\\n2. Core Elements:\\\\n  - Must extract \u001b[0m\n",
       "\u001b[32messential content from reference text \u001b[0m\u001b[32m(\u001b[0m\u001b[32me.g., slide_title, main_content\u001b[0m\u001b[32m)\u001b[0m\u001b[32m and maintain semantic consistency\\\\n  - \u001b[0m\n",
       "\u001b[32mMust include images that support the main content \u001b[0m\u001b[32m(\u001b[0m\u001b[32me.g., diagrams for explanations, visuals directly discussed in \u001b[0m\n",
       "\u001b[32mtext\u001b[0m\u001b[32m)\u001b[0m\u001b[32m\\\\n\\\\n3. Supporting Elements \u001b[0m\u001b[32m(\u001b[0m\u001b[32me.g., presenters, logo images\u001b[0m\u001b[32m)\u001b[0m\u001b[32m:\\\\n  - Generate only when relevant content exists\u001b[0m\n",
       "\u001b[32min reference materials\\\\n\\\\nGenerate content for each element and output in the following format:\\\\n\u001b[0m\u001b[32m{\u001b[0m\u001b[32m\\\\n  \u001b[0m\n",
       "\u001b[32m\\\\\"element1\\\\\": \u001b[0m\u001b[32m{\u001b[0m\u001b[32m\\\\n    \\\\\"data\\\\\": \u001b[0m\u001b[32m[\u001b[0m\u001b[32m\\\\\"text1\\\\\", \\\\\"text2\\\\\"\u001b[0m\u001b[32m]\u001b[0m\u001b[32m for text elements\\\\n          or \u001b[0m\n",
       "\u001b[32m[\u001b[0m\u001b[32m\\\\\"/path/to/image\\\\\", \\\\\"...\\\\\"\u001b[0m\u001b[32m]\u001b[0m\u001b[32m for image elements\\\\n  \u001b[0m\u001b[32m}\u001b[0m\u001b[32m,\\\\n\u001b[0m\u001b[32m}\u001b[0m\u001b[32m\\\\n\\\\nInput:\\\\nSchema:\\\\n\u001b[0m\u001b[32m{\u001b[0m\u001b[32m\\'main_title\\': \u001b[0m\n",
       "\u001b[32m{\u001b[0m\u001b[32m\\'description\\': \\'The primary heading that introduces the main topic of the slide\\', \\'type\\': \\'text\\', \u001b[0m\n",
       "\u001b[32m\\'suggestedCharacters\\': \\'<16\\', \\'default_quantity\\': 1\u001b[0m\u001b[32m}\u001b[0m\u001b[32m, \\'content_text\\': \u001b[0m\u001b[32m{\u001b[0m\u001b[32m\\'description\\': \\'The body text \u001b[0m\n",
       "\u001b[32mproviding detailed explanations, definitions, or information related to the topic\\', \\'type\\': \\'text\\', \u001b[0m\n",
       "\u001b[32m\\'suggestedCharacters\\': \\'64-276\\', \\'default_quantity\\': 4\u001b[0m\u001b[32m}\u001b[0m\u001b[32m}\u001b[0m\u001b[32m\\\\n\\\\nMetadata of Presentation:\\\\ntitle: The History \u001b[0m\n",
       "\u001b[32mof OpenAI\\\\nauthor: OpenAI Documentation Team\\\\npublish date: October 2023\\\\norganization: OpenAI\\\\nPresentation \u001b[0m\n",
       "\u001b[32mTime: 2025-02-02\\\\n\\\\nSlide 1: Opening of The History of OpenAI\\\\nSlide 2: Formation and Vision\\\\nSlide 3: Key \u001b[0m\n",
       "\u001b[32mMilestones and Achievements\\\\nSlide 4: The Future of OpenAI\\\\nSlide 5: Conclusion of The History of \u001b[0m\n",
       "\u001b[32mOpenAI\\\\n\\\\nReference Text:\\\\nSlide-2 Slide Purpose: Formation and Vision\\\\nSlide Description: Detailing OpenAI\\'s \u001b[0m\n",
       "\u001b[32mfounding principles, motivations, and its beginnings as a non-profit organization.\\\\nSlide Content Source: # \u001b[0m\n",
       "\u001b[32mFounding and Motivation \\\\nOpenAI was founded in December 2015 by Elon Musk, Sam Altman, Greg Brockman, Ilya \u001b[0m\n",
       "\u001b[32mSutskever, Wojciech Zaremba, and John Schulman, among others. The organization was established to ensure artificial\u001b[0m\n",
       "\u001b[32mgeneral intelligence \u001b[0m\u001b[32m(\u001b[0m\u001b[32mAGI\u001b[0m\u001b[32m)\u001b[0m\u001b[32m benefits all humanity and to research AI with a focus on safety and ethical \u001b[0m\n",
       "\u001b[32mconsiderations.\\\\nSlide Content Source: # Non-Profit Roots \\\\nInitially set up as a non-profit, OpenAI aimed to \u001b[0m\n",
       "\u001b[32mprioritize broad societal benefit over profit motives. Early projects focused on transparency, collaboration, and \u001b[0m\n",
       "\u001b[32mopen access to AI advancements.\\\\n\\\\n\\\\nAvailable Images:\\\\nNo Images\\\\n\\\\nOutput: Ensure the generated content \u001b[0m\n",
       "\u001b[32mstrictly adheres to the schema specifications, follows the slide style, reader-friendly.\"\u001b[0m\u001b[32m}\u001b[0m\u001b[32m]\u001b[0m\u001b[32m}\u001b[0m\u001b[32m]\u001b[0m\u001b[32m'\u001b[0m\u001b[1;32m]\u001b[0m\n"
      ]
     },
     "metadata": {},
     "output_type": "display_data"
    },
    {
     "data": {
      "text/html": [
       "<pre style=\"white-space:pre;overflow-x:auto;line-height:normal;font-family:Menlo,'DejaVu Sans Mono',consolas,'Courier New',monospace\"><span style=\"color: #800000; text-decoration-color: #800000\">response from gpt-4o-</span><span style=\"color: #008080; text-decoration-color: #008080; font-weight: bold\">2024</span><span style=\"color: #800000; text-decoration-color: #800000\">-</span><span style=\"color: #008080; text-decoration-color: #008080; font-weight: bold\">11</span><span style=\"color: #800000; text-decoration-color: #800000\">-</span><span style=\"color: #008080; text-decoration-color: #008080; font-weight: bold\">20</span><span style=\"color: #800000; text-decoration-color: #800000\">: ```json</span>\n",
       "<span style=\"color: #800000; text-decoration-color: #800000; font-weight: bold\">{</span>\n",
       "<span style=\"color: #800000; text-decoration-color: #800000\">  </span><span style=\"color: #008000; text-decoration-color: #008000\">\"main_title\"</span><span style=\"color: #800000; text-decoration-color: #800000\">: </span><span style=\"color: #800000; text-decoration-color: #800000; font-weight: bold\">{</span>\n",
       "<span style=\"color: #800000; text-decoration-color: #800000\">    </span><span style=\"color: #008000; text-decoration-color: #008000\">\"data\"</span><span style=\"color: #800000; text-decoration-color: #800000\">: </span><span style=\"color: #800000; text-decoration-color: #800000; font-weight: bold\">[</span><span style=\"color: #008000; text-decoration-color: #008000\">\"Formation and Vision\"</span><span style=\"color: #800000; text-decoration-color: #800000; font-weight: bold\">]</span>\n",
       "<span style=\"color: #800000; text-decoration-color: #800000\">  </span><span style=\"color: #800000; text-decoration-color: #800000; font-weight: bold\">}</span><span style=\"color: #800000; text-decoration-color: #800000\">,</span>\n",
       "<span style=\"color: #800000; text-decoration-color: #800000\">  </span><span style=\"color: #008000; text-decoration-color: #008000\">\"content_text\"</span><span style=\"color: #800000; text-decoration-color: #800000\">: </span><span style=\"color: #800000; text-decoration-color: #800000; font-weight: bold\">{</span>\n",
       "<span style=\"color: #800000; text-decoration-color: #800000\">    </span><span style=\"color: #008000; text-decoration-color: #008000\">\"data\"</span><span style=\"color: #800000; text-decoration-color: #800000\">: </span><span style=\"color: #800000; text-decoration-color: #800000; font-weight: bold\">[</span>\n",
       "<span style=\"color: #800000; text-decoration-color: #800000\">      </span><span style=\"color: #008000; text-decoration-color: #008000\">\"OpenAI was founded in December 2015 by Elon Musk, Sam Altman, Greg Brockman, Ilya Sutskever, Wojciech </span>\n",
       "<span style=\"color: #008000; text-decoration-color: #008000\">Zaremba, and John Schulman, among others.\"</span><span style=\"color: #800000; text-decoration-color: #800000\">,</span>\n",
       "<span style=\"color: #800000; text-decoration-color: #800000\">      </span><span style=\"color: #008000; text-decoration-color: #008000\">\"The organization was established to ensure artificial general intelligence (AGI) benefits all of humanity, </span>\n",
       "<span style=\"color: #008000; text-decoration-color: #008000\">with a focus on safety and ethical considerations.\"</span><span style=\"color: #800000; text-decoration-color: #800000\">,</span>\n",
       "<span style=\"color: #800000; text-decoration-color: #800000\">      </span><span style=\"color: #008000; text-decoration-color: #008000\">\"Initially set up as a non-profit, OpenAI prioritized societal benefit over profit motives, promoting </span>\n",
       "<span style=\"color: #008000; text-decoration-color: #008000\">transparency and collaboration.\"</span><span style=\"color: #800000; text-decoration-color: #800000\">,</span>\n",
       "<span style=\"color: #800000; text-decoration-color: #800000\">      </span><span style=\"color: #008000; text-decoration-color: #008000\">\"Early projects centered on open access to AI advancements, driving innovation with an ethical and inclusive </span>\n",
       "<span style=\"color: #008000; text-decoration-color: #008000\">approach.\"</span>\n",
       "<span style=\"color: #800000; text-decoration-color: #800000\">    </span><span style=\"color: #800000; text-decoration-color: #800000; font-weight: bold\">]</span>\n",
       "<span style=\"color: #800000; text-decoration-color: #800000\">  </span><span style=\"color: #800000; text-decoration-color: #800000; font-weight: bold\">}</span>\n",
       "<span style=\"color: #800000; text-decoration-color: #800000; font-weight: bold\">}</span>\n",
       "<span style=\"color: #800000; text-decoration-color: #800000\">```</span>\n",
       "</pre>\n"
      ],
      "text/plain": [
       "\u001b[31mresponse from gpt-4o-\u001b[0m\u001b[1;36m2024\u001b[0m\u001b[31m-\u001b[0m\u001b[1;36m11\u001b[0m\u001b[31m-\u001b[0m\u001b[1;36m20\u001b[0m\u001b[31m: ```json\u001b[0m\n",
       "\u001b[1;31m{\u001b[0m\n",
       "\u001b[31m  \u001b[0m\u001b[32m\"main_title\"\u001b[0m\u001b[31m: \u001b[0m\u001b[1;31m{\u001b[0m\n",
       "\u001b[31m    \u001b[0m\u001b[32m\"data\"\u001b[0m\u001b[31m: \u001b[0m\u001b[1;31m[\u001b[0m\u001b[32m\"Formation and Vision\"\u001b[0m\u001b[1;31m]\u001b[0m\n",
       "\u001b[31m  \u001b[0m\u001b[1;31m}\u001b[0m\u001b[31m,\u001b[0m\n",
       "\u001b[31m  \u001b[0m\u001b[32m\"content_text\"\u001b[0m\u001b[31m: \u001b[0m\u001b[1;31m{\u001b[0m\n",
       "\u001b[31m    \u001b[0m\u001b[32m\"data\"\u001b[0m\u001b[31m: \u001b[0m\u001b[1;31m[\u001b[0m\n",
       "\u001b[31m      \u001b[0m\u001b[32m\"OpenAI was founded in December 2015 by Elon Musk, Sam Altman, Greg Brockman, Ilya Sutskever, Wojciech \u001b[0m\n",
       "\u001b[32mZaremba, and John Schulman, among others.\"\u001b[0m\u001b[31m,\u001b[0m\n",
       "\u001b[31m      \u001b[0m\u001b[32m\"The organization was established to ensure artificial general intelligence \u001b[0m\u001b[32m(\u001b[0m\u001b[32mAGI\u001b[0m\u001b[32m)\u001b[0m\u001b[32m benefits all of humanity, \u001b[0m\n",
       "\u001b[32mwith a focus on safety and ethical considerations.\"\u001b[0m\u001b[31m,\u001b[0m\n",
       "\u001b[31m      \u001b[0m\u001b[32m\"Initially set up as a non-profit, OpenAI prioritized societal benefit over profit motives, promoting \u001b[0m\n",
       "\u001b[32mtransparency and collaboration.\"\u001b[0m\u001b[31m,\u001b[0m\n",
       "\u001b[31m      \u001b[0m\u001b[32m\"Early projects centered on open access to AI advancements, driving innovation with an ethical and inclusive \u001b[0m\n",
       "\u001b[32mapproach.\"\u001b[0m\n",
       "\u001b[31m    \u001b[0m\u001b[1;31m]\u001b[0m\n",
       "\u001b[31m  \u001b[0m\u001b[1;31m}\u001b[0m\n",
       "\u001b[1;31m}\u001b[0m\n",
       "\u001b[31m```\u001b[0m\n"
      ]
     },
     "metadata": {},
     "output_type": "display_data"
    },
    {
     "data": {
      "text/html": [
       "<pre style=\"white-space:pre;overflow-x:auto;line-height:normal;font-family:Menlo,'DejaVu Sans Mono',consolas,'Courier New',monospace\"><span style=\"color: #008000; text-decoration-color: #008000\">sending messages to: gpt-4o-</span><span style=\"color: #008080; text-decoration-color: #008080; font-weight: bold\">2024</span><span style=\"color: #008000; text-decoration-color: #008000\">-</span><span style=\"color: #008080; text-decoration-color: #008080; font-weight: bold\">11</span><span style=\"color: #008000; text-decoration-color: #008000\">-</span><span style=\"color: #008080; text-decoration-color: #008080; font-weight: bold\">20</span><span style=\"color: #008000; text-decoration-color: #008000\">, message </span><span style=\"color: #008000; text-decoration-color: #008000; font-weight: bold\">(</span><span style=\"color: #008000; text-decoration-color: #008000\">truncated</span><span style=\"color: #008000; text-decoration-color: #008000; font-weight: bold\">)</span><span style=\"color: #008000; text-decoration-color: #008000\">: </span><span style=\"color: #008000; text-decoration-color: #008000; font-weight: bold\">[{</span><span style=\"color: #008000; text-decoration-color: #008000\">'role'</span><span style=\"color: #008000; text-decoration-color: #008000\">: </span><span style=\"color: #008000; text-decoration-color: #008000\">'system'</span><span style=\"color: #008000; text-decoration-color: #008000\">, </span><span style=\"color: #008000; text-decoration-color: #008000\">'content'</span><span style=\"color: #008000; text-decoration-color: #008000\">: </span><span style=\"color: #008000; text-decoration-color: #008000; font-weight: bold\">[{</span><span style=\"color: #008000; text-decoration-color: #008000\">'type'</span><span style=\"color: #008000; text-decoration-color: #008000\">: </span><span style=\"color: #008000; text-decoration-color: #008000\">'text'</span><span style=\"color: #008000; text-decoration-color: #008000\">, </span>\n",
       "<span style=\"color: #008000; text-decoration-color: #008000\">'text'</span><span style=\"color: #008000; text-decoration-color: #008000\">: </span><span style=\"color: #008000; text-decoration-color: #008000\">'You are a Code Generator agent specializing in slide manipulation. You precisely translate content edit </span>\n",
       "<span style=\"color: #008000; text-decoration-color: #008000\">commands into API calls by understanding HTML structure.'</span><span style=\"color: #008000; text-decoration-color: #008000; font-weight: bold\">}]}</span><span style=\"color: #008000; text-decoration-color: #008000\">, </span><span style=\"color: #008000; text-decoration-color: #008000\">'[{\"role\": \"user\", \"content\": [{\"type\": \"text\", </span>\n",
       "<span style=\"color: #008000; text-decoration-color: #008000\">\"text\": \"Generate API calls based on the provided commands, ensuring compliance with the specified rules and </span>\n",
       "<span style=\"color: #008000; text-decoration-color: #008000\">precise execution.\\\\nYou must determine the parent-child relationships of elements based on indentation and ensure </span>\n",
       "<span style=\"color: #008000; text-decoration-color: #008000\">that all &lt;p&gt; and &lt;img&gt; elements are modified.\\\\n\\\\nEach command follows this format: (element_class, type, </span>\n",
       "<span style=\"color: #008000; text-decoration-color: #008000\">quantity_change: int, old_data, new_data).\\\\n\\\\nAvailable APIs\\\\n\\\\ndef replace_image(img_id: int, image_path: </span>\n",
       "<span style=\"color: #008000; text-decoration-color: #008000\">str)\\\\n\\\\tReplace an image in a slide.\\\\n\\\\nArgs:\\\\n    slide (SlidePage): The slide containing the image.\\\\n    </span>\n",
       "<span style=\"color: #008000; text-decoration-color: #008000\">img_id (int): The ID of the image to replace.\\\\n    image_path (str): The path to the new image.\\\\n\\\\nRaises:\\\\n   </span>\n",
       "<span style=\"color: #008000; text-decoration-color: #008000\">ValueError: If the image path does not exist.\\\\n\\\\ndef del_image(figure_id: int)\\\\n\\\\tDelete an image from a </span>\n",
       "<span style=\"color: #008000; text-decoration-color: #008000\">slide.\\\\n\\\\nArgs:\\\\n    slide (SlidePage): The slide containing the image.\\\\n    figure_id (int): The ID of the </span>\n",
       "<span style=\"color: #008000; text-decoration-color: #008000\">image to delete.\\\\n\\\\ndef clone_paragraph(div_id: int, paragraph_id: int)\\\\n\\\\tClone a paragraph in a </span>\n",
       "<span style=\"color: #008000; text-decoration-color: #008000\">slide.\\\\n\\\\nArgs:\\\\n    slide (SlidePage): The slide containing the paragraph.\\\\n    div_id (int): The ID of the </span>\n",
       "<span style=\"color: #008000; text-decoration-color: #008000\">division containing the paragraph.\\\\n    paragraph_id (int): The ID of the paragraph to clone.\\\\n\\\\nRaises:\\\\n    </span>\n",
       "<span style=\"color: #008000; text-decoration-color: #008000\">IndexError: If the paragraph is not found.\\\\n\\\\nMention: the cloned paragraph will have a paragraph_id one greater </span>\n",
       "<span style=\"color: #008000; text-decoration-color: #008000\">than the current maximum in the parent element.\\\\n\\\\ndef replace_paragraph(div_id: int, paragraph_id: int, text: </span>\n",
       "<span style=\"color: #008000; text-decoration-color: #008000\">str)\\\\n\\\\tReplace the text of a paragraph in a slide.\\\\n\\\\nArgs:\\\\n    slide (SlidePage): The slide containing the </span>\n",
       "<span style=\"color: #008000; text-decoration-color: #008000\">paragraph.\\\\n    div_id (int): The ID of the division containing the paragraph.\\\\n    paragraph_id (int): The ID of</span>\n",
       "<span style=\"color: #008000; text-decoration-color: #008000\">the paragraph to replace.\\\\n    text (str): The new text to replace with.\\\\n\\\\nRaises:\\\\n    IndexError: If the </span>\n",
       "<span style=\"color: #008000; text-decoration-color: #008000\">paragraph is not found.\\\\n\\\\ndef del_paragraph(div_id: int, paragraph_id: int)\\\\n\\\\tDelete a paragraph from a </span>\n",
       "<span style=\"color: #008000; text-decoration-color: #008000\">slide.\\\\n\\\\nArgs:\\\\n    slide (SlidePage): The slide containing the paragraph.\\\\n    div_id (int): The ID of the </span>\n",
       "<span style=\"color: #008000; text-decoration-color: #008000\">division containing the paragraph.\\\\n    paragraph_id (int): The ID of the paragraph to delete.\\\\n\\\\nRaises:\\\\n    </span>\n",
       "<span style=\"color: #008000; text-decoration-color: #008000\">IndexError: If the paragraph is not found.\\\\n\\\\nSteps\\\\n    1.\\\\tQuantity Adjustment:\\\\n    -\\\\tIf quantity_change </span>\n",
       "<span style=\"color: #008000; text-decoration-color: #008000\">= 0, modify the content only.\\\\n    -\\\\tIf quantity_change &gt; 0, use clone_paragraph to add the specified number of </span>\n",
       "<span style=\"color: #008000; text-decoration-color: #008000\">paragraphs from the same element_class. The paragraph_id for newly cloned paragraphs should be the current maximum </span>\n",
       "<span style=\"color: #008000; text-decoration-color: #008000\">paragraph_id of the parent element plus 1.\\\\n    -\\\\tIf quantity_change &lt; 0, use del_paragraph or del_image to </span>\n",
       "<span style=\"color: #008000; text-decoration-color: #008000\">remove the specified number of tail elements.\\\\n    -\\\\tEach command’s API call group must exclusively use either </span>\n",
       "<span style=\"color: #008000; text-decoration-color: #008000\">clone_paragraph or del_paragraph/del_image based on the `quantity_change`\\\\n    2.\\\\tContent Modification:\\\\n    </span>\n",
       "<span style=\"color: #008000; text-decoration-color: #008000\">-\\\\tText Content: Use replace_paragraph to modify the content.\\\\n    -\\\\tImage Content: Use replace_image to </span>\n",
       "<span style=\"color: #008000; text-decoration-color: #008000\">replace image resources.\\\\n    3.\\\\tOutput Format:\\\\n    -\\\\tAdd comments to each API call group, explaining the </span>\n",
       "<span style=\"color: #008000; text-decoration-color: #008000\">intent of the original command and the associated element_class.\\\\n    -\\\\tFor cloning operations, annotate the </span>\n",
       "<span style=\"color: #008000; text-decoration-color: #008000\">paragraph_id of the newly created paragraphs.\\\\n\\\\nExample Input:\\\\n\\\\n&lt;div id=\\\\\"0\\\\\" style=\\\\\"font-size: 24pt; </span>\n",
       "<span style=\"color: #008000; text-decoration-color: #008000\">color: #0D0D0D\\\\\"&gt;\\\\n    &lt;p id=\\\\\"0\\\\\"&gt;\\\\n       WorldFAIR: Global cooperation on FAIR data policy and practice\\\\n </span>\n",
       "<span style=\"color: #008000; text-decoration-color: #008000\">&lt;/p&gt;\\\\n&lt;/div&gt;\\\\n\\\\n&lt;div id=\\\\\"1\\\\\" style=\\\\\"font-size: 13pt; color: #404040\\\\\"&gt;\\\\n    &lt;ul&gt;\\\\n        &lt;li id=\\\\\"0\\\\\"</span>\n",
       "<span style=\"color: #008000; text-decoration-color: #008000\">bullet-type=\\\\\"▪\\\\\"&gt;\\\\n            Two-year project to advance implementation...\\\\n        &lt;/li&gt;\\\\n        &lt;li </span>\n",
       "<span style=\"color: #008000; text-decoration-color: #008000\">id=\\\\\"1\\\\\" style=\\\\\"font-weight: bold\\\\\" bullet-type=\\\\\"▪\\\\\"&gt;\\\\n            Funded by the European Union...\\\\n     </span>\n",
       "<span style=\"color: #008000; text-decoration-color: #008000\">&lt;/li&gt;\\\\n    &lt;/ul&gt;\\\\n&lt;/div&gt;\\\\n\\\\n&lt;img id=\\\\\"2\\\\\" alt=\\\\\"logo: project of xx\\\\\"&gt;\\\\n\\\\n[\\\\n    (\\\\\"title\\\\\", </span>\n",
       "<span style=\"color: #008000; text-decoration-color: #008000\">\\\\\"text\\\\\", \\\\\"quantity_change: 0\\\\\", [\\\\\"WorldFAIR: Global cooperation on FAIR data policy and practice\\\\\"], </span>\n",
       "<span style=\"color: #008000; text-decoration-color: #008000\">[\\\\\"New Title\\\\\"]),\\\\n    (\\\\\"project_description\\\\\", \\\\\"text\\\\\", \\\\\"quantity_change: 1\\\\\", [\\\\\"Two-year project to</span>\n",
       "<span style=\"color: #008000; text-decoration-color: #008000\">advance implementation of the FAIR principles\\\\\"], [\\\\\"New project description1\\\\\", \\\\\"New project </span>\n",
       "<span style=\"color: #008000; text-decoration-color: #008000\">description2\\\\\"]),\\\\n    (\\\\\"funding_info\\\\\", \\\\\"text\\\\\", \\\\\"quantity_change: -1\\\\\", [\\\\\"Funded by the European </span>\n",
       "<span style=\"color: #008000; text-decoration-color: #008000\">Union\\\\\"], []),\\\\n    (\\\\\"project_logo\\\\\", \\\\\"image\\\\\", \\\\\"quantity_change: 0\\\\\", [\\\\\"logo: project of xx\\\\\"], </span>\n",
       "<span style=\"color: #008000; text-decoration-color: #008000\">[\\\\\"new_logo.png\\\\\"])\\\\n]\\\\n\\\\nExample Output\\\\n# (\\\\\"title\\\\\", \\\\\"text\\\\\", \\\\\"quantity_change: 0\\\\\", </span>\n",
       "<span style=\"color: #008000; text-decoration-color: #008000\">[\\\\\"WorldFAIR: Global cooperation on FAIR data policy and practice\\\\\"], [\\\\\"New Title\\\\\"])\\\\nreplace_paragraph(0, </span>\n",
       "<span style=\"color: #008000; text-decoration-color: #008000\">0, \\\\\"New Title\\\\\")\\\\n\\\\n# (\\\\\"project_description\\\\\", \\\\\"text\\\\\", \\\\\"quantity_change: 1\\\\\", [\\\\\"Two-year project </span>\n",
       "<span style=\"color: #008000; text-decoration-color: #008000\">to advance implementation of the FAIR principles\\\\\"], [\\\\\"New project description1\\\\\", \\\\\"New project </span>\n",
       "<span style=\"color: #008000; text-decoration-color: #008000\">description2\\\\\"])\\\\nclone_paragraph(1, 0)  # New cloned paragraph_id is 2 as the current max paragraph_id is </span>\n",
       "<span style=\"color: #008000; text-decoration-color: #008000\">1\\\\nreplace_paragraph(1, 0, \\\\\"New project description1\\\\\")\\\\nreplace_paragraph(1, 2, \\\\\"New project </span>\n",
       "<span style=\"color: #008000; text-decoration-color: #008000\">description2\\\\\")\\\\n\\\\n# (\\\\\"funding_info\\\\\", \\\\\"text\\\\\", \\\\\"quantity_change: -1\\\\\", [\\\\\"Funded by the European </span>\n",
       "<span style=\"color: #008000; text-decoration-color: #008000\">Union\\\\\"], [])\\\\ndel_paragraph(1, 1)\\\\n\\\\n# (\\\\\"project_logo\\\\\", \\\\\"image\\\\\", \\\\\"quantity_change: 0\\\\\", [\\\\\"logo: </span>\n",
       "<span style=\"color: #008000; text-decoration-color: #008000\">project of xx\\\\\"], [\\\\\"new_logo.png\\\\\"])\\\\nreplace_image(2, \\\\\"new_logo.png\\\\\")\\\\n\\\\nCurrent Slide </span>\n",
       "<span style=\"color: #008000; text-decoration-color: #008000\">Content:\\\\n&lt;!DOCTYPE html&gt;\\\\n&lt;html&gt;\\\\n&lt;title&gt;What is Tourism?&lt;/title&gt;\\\\n&lt;body style=\\\\\"width:960pt; </span>\n",
       "<span style=\"color: #008000; text-decoration-color: #008000\">height:540pt;\\\\\"&gt;\\\\n&lt;div id=\\'0\\'&gt;\\\\n\\\\t&lt;p id=\\'0\\'&gt;What is Tourism?&lt;/p&gt;\\\\n&lt;/div&gt;\\\\n\\\\n&lt;div id=\\'1\\' </span>\n",
       "<span style=\"color: #008000; text-decoration-color: #008000\">style=\\'font-size: 20pt\\'&gt;\\\\n\\\\t&lt;p id=\\'0\\'&gt;The World Tourism Organisation defines tourism in terms which </span>\n",
       "<span style=\"color: #008000; text-decoration-color: #008000\">go&lt;/p&gt;\\\\n\\\\t&lt;p id=\\'1\\'&gt;“ beyond the common perception of tourism as being limited to holiday activity only”, as </span>\n",
       "<span style=\"color: #008000; text-decoration-color: #008000\">people “ travelling to and staying in places outside their usual environment for not more than one consecutive year</span>\n",
       "<span style=\"color: #008000; text-decoration-color: #008000\">for leisure, business and other purposes”&lt;/p&gt;\\\\n\\\\t&lt;p id=\\'2\\'&gt;Its importance was recognised in the Manila </span>\n",
       "<span style=\"color: #008000; text-decoration-color: #008000\">Declaration on World Tourism of 1980 as an activity essential to the life of nations because of its direct effects </span>\n",
       "<span style=\"color: #008000; text-decoration-color: #008000\">on the social, cultural, educational, and economic sectors of national societies and on their international </span>\n",
       "<span style=\"color: #008000; text-decoration-color: #008000\">relations&lt;/p&gt;\\\\n\\\\t&lt;p id=\\'3\\'&gt;Today, tourism is a major source of income for many countries, and affects the </span>\n",
       "<span style=\"color: #008000; text-decoration-color: #008000\">economy of both the source and the host countries, in some cases being of vital </span>\n",
       "<span style=\"color: #008000; text-decoration-color: #008000\">importance&lt;/p&gt;\\\\n&lt;/div&gt;\\\\n&lt;/body&gt;\\\\n&lt;/html&gt;\\\\n\\\\n\\\\nCommand List:\\\\n(\\'main_title\\', \\'text\\', \\'quantity_change: </span>\n",
       "<span style=\"color: #008000; text-decoration-color: #008000\">0\\', [\\'What is Tourism?\\'], [\\'Formation and Vision\\'])\\\\n(\\'content_text\\', \\'text\\', \\'quantity_change: 0\\', </span>\n",
       "<span style=\"color: #008000; text-decoration-color: #008000\">[\\'The World Tourism Organisation defines tourism in terms which go\\', \\'“ beyond the common perception of tourism </span>\n",
       "<span style=\"color: #008000; text-decoration-color: #008000\">as being limited to holiday activity only”, as people “ travelling to and staying in places outside their usual </span>\n",
       "<span style=\"color: #008000; text-decoration-color: #008000\">environment for not more than one consecutive year for leisure, business and other purposes”\\', \\'Its importance </span>\n",
       "<span style=\"color: #008000; text-decoration-color: #008000\">was recognised in the Manila Declaration on World Tourism of 1980 as an activity essential to the life of nations </span>\n",
       "<span style=\"color: #008000; text-decoration-color: #008000\">because of its direct effects on the social, cultural, educational, and economic sectors of national societies and </span>\n",
       "<span style=\"color: #008000; text-decoration-color: #008000\">on their international relations\\', \\'Today, tourism is a major source of income for many countries, and affects </span>\n",
       "<span style=\"color: #008000; text-decoration-color: #008000\">the economy of both the source and the host countries, in some cases being of vital importance\\'], [\\'OpenAI was </span>\n",
       "<span style=\"color: #008000; text-decoration-color: #008000\">founded in December 2015 by Elon Musk, Sam Altman, Greg Brockman, Ilya Sutskever, Wojciech Zaremba, and John </span>\n",
       "<span style=\"color: #008000; text-decoration-color: #008000\">Schulman, among others.\\', \\'The organization was established to ensure artificial general intelligence (AGI) </span>\n",
       "<span style=\"color: #008000; text-decoration-color: #008000\">benefits all of humanity, with a focus on safety and ethical considerations.\\', \\'Initially set up as a non-profit,</span>\n",
       "<span style=\"color: #008000; text-decoration-color: #008000\">OpenAI prioritized societal benefit over profit motives, promoting transparency and collaboration.\\', \\'Early </span>\n",
       "<span style=\"color: #008000; text-decoration-color: #008000\">projects centered on open access to AI advancements, driving innovation with an ethical and inclusive </span>\n",
       "<span style=\"color: #008000; text-decoration-color: #008000\">approach.\\'])\\\\n\\\\nPlease output only the API call sequence, one call per line, wrapped in ```python and ```, with </span>\n",
       "<span style=\"color: #008000; text-decoration-color: #008000\">comments for corresponding commands.\"}]}]'</span><span style=\"color: #008000; text-decoration-color: #008000; font-weight: bold\">]</span>\n",
       "</pre>\n"
      ],
      "text/plain": [
       "\u001b[32msending messages to: gpt-4o-\u001b[0m\u001b[1;36m2024\u001b[0m\u001b[32m-\u001b[0m\u001b[1;36m11\u001b[0m\u001b[32m-\u001b[0m\u001b[1;36m20\u001b[0m\u001b[32m, message \u001b[0m\u001b[1;32m(\u001b[0m\u001b[32mtruncated\u001b[0m\u001b[1;32m)\u001b[0m\u001b[32m: \u001b[0m\u001b[1;32m[\u001b[0m\u001b[1;32m{\u001b[0m\u001b[32m'role'\u001b[0m\u001b[32m: \u001b[0m\u001b[32m'system'\u001b[0m\u001b[32m, \u001b[0m\u001b[32m'content'\u001b[0m\u001b[32m: \u001b[0m\u001b[1;32m[\u001b[0m\u001b[1;32m{\u001b[0m\u001b[32m'type'\u001b[0m\u001b[32m: \u001b[0m\u001b[32m'text'\u001b[0m\u001b[32m, \u001b[0m\n",
       "\u001b[32m'text'\u001b[0m\u001b[32m: \u001b[0m\u001b[32m'You are a Code Generator agent specializing in slide manipulation. You precisely translate content edit \u001b[0m\n",
       "\u001b[32mcommands into API calls by understanding HTML structure.'\u001b[0m\u001b[1;32m}\u001b[0m\u001b[1;32m]\u001b[0m\u001b[1;32m}\u001b[0m\u001b[32m, \u001b[0m\u001b[32m'\u001b[0m\u001b[32m[\u001b[0m\u001b[32m{\u001b[0m\u001b[32m\"role\": \"user\", \"content\": \u001b[0m\u001b[32m[\u001b[0m\u001b[32m{\u001b[0m\u001b[32m\"type\": \"text\", \u001b[0m\n",
       "\u001b[32m\"text\": \"Generate API calls based on the provided commands, ensuring compliance with the specified rules and \u001b[0m\n",
       "\u001b[32mprecise execution.\\\\nYou must determine the parent-child relationships of elements based on indentation and ensure \u001b[0m\n",
       "\u001b[32mthat all \u001b[0m\u001b[32m<\u001b[0m\u001b[32mp\u001b[0m\u001b[32m> and <img> elements are modified.\\\\n\\\\nEach command follows this format: \u001b[0m\u001b[32m(\u001b[0m\u001b[32melement_class, type, \u001b[0m\n",
       "\u001b[32mquantity_change: int, old_data, new_data\u001b[0m\u001b[32m)\u001b[0m\u001b[32m.\\\\n\\\\nAvailable APIs\\\\n\\\\ndef replace_image\u001b[0m\u001b[32m(\u001b[0m\u001b[32mimg_id: int, image_path: \u001b[0m\n",
       "\u001b[32mstr\u001b[0m\u001b[32m)\u001b[0m\u001b[32m\\\\n\\\\tReplace an image in a slide.\\\\n\\\\nArgs:\\\\n    slide \u001b[0m\u001b[32m(\u001b[0m\u001b[32mSlidePage\u001b[0m\u001b[32m)\u001b[0m\u001b[32m: The slide containing the image.\\\\n    \u001b[0m\n",
       "\u001b[32mimg_id \u001b[0m\u001b[32m(\u001b[0m\u001b[32mint\u001b[0m\u001b[32m)\u001b[0m\u001b[32m: The ID of the image to replace.\\\\n    image_path \u001b[0m\u001b[32m(\u001b[0m\u001b[32mstr\u001b[0m\u001b[32m)\u001b[0m\u001b[32m: The path to the new image.\\\\n\\\\nRaises:\\\\n   \u001b[0m\n",
       "\u001b[32mValueError: If the image path does not exist.\\\\n\\\\ndef del_image\u001b[0m\u001b[32m(\u001b[0m\u001b[32mfigure_id: int\u001b[0m\u001b[32m)\u001b[0m\u001b[32m\\\\n\\\\tDelete an image from a \u001b[0m\n",
       "\u001b[32mslide.\\\\n\\\\nArgs:\\\\n    slide \u001b[0m\u001b[32m(\u001b[0m\u001b[32mSlidePage\u001b[0m\u001b[32m)\u001b[0m\u001b[32m: The slide containing the image.\\\\n    figure_id \u001b[0m\u001b[32m(\u001b[0m\u001b[32mint\u001b[0m\u001b[32m)\u001b[0m\u001b[32m: The ID of the \u001b[0m\n",
       "\u001b[32mimage to delete.\\\\n\\\\ndef clone_paragraph\u001b[0m\u001b[32m(\u001b[0m\u001b[32mdiv_id: int, paragraph_id: int\u001b[0m\u001b[32m)\u001b[0m\u001b[32m\\\\n\\\\tClone a paragraph in a \u001b[0m\n",
       "\u001b[32mslide.\\\\n\\\\nArgs:\\\\n    slide \u001b[0m\u001b[32m(\u001b[0m\u001b[32mSlidePage\u001b[0m\u001b[32m)\u001b[0m\u001b[32m: The slide containing the paragraph.\\\\n    div_id \u001b[0m\u001b[32m(\u001b[0m\u001b[32mint\u001b[0m\u001b[32m)\u001b[0m\u001b[32m: The ID of the \u001b[0m\n",
       "\u001b[32mdivision containing the paragraph.\\\\n    paragraph_id \u001b[0m\u001b[32m(\u001b[0m\u001b[32mint\u001b[0m\u001b[32m)\u001b[0m\u001b[32m: The ID of the paragraph to clone.\\\\n\\\\nRaises:\\\\n    \u001b[0m\n",
       "\u001b[32mIndexError: If the paragraph is not found.\\\\n\\\\nMention: the cloned paragraph will have a paragraph_id one greater \u001b[0m\n",
       "\u001b[32mthan the current maximum in the parent element.\\\\n\\\\ndef replace_paragraph\u001b[0m\u001b[32m(\u001b[0m\u001b[32mdiv_id: int, paragraph_id: int, text: \u001b[0m\n",
       "\u001b[32mstr\u001b[0m\u001b[32m)\u001b[0m\u001b[32m\\\\n\\\\tReplace the text of a paragraph in a slide.\\\\n\\\\nArgs:\\\\n    slide \u001b[0m\u001b[32m(\u001b[0m\u001b[32mSlidePage\u001b[0m\u001b[32m)\u001b[0m\u001b[32m: The slide containing the \u001b[0m\n",
       "\u001b[32mparagraph.\\\\n    div_id \u001b[0m\u001b[32m(\u001b[0m\u001b[32mint\u001b[0m\u001b[32m)\u001b[0m\u001b[32m: The ID of the division containing the paragraph.\\\\n    paragraph_id \u001b[0m\u001b[32m(\u001b[0m\u001b[32mint\u001b[0m\u001b[32m)\u001b[0m\u001b[32m: The ID of\u001b[0m\n",
       "\u001b[32mthe paragraph to replace.\\\\n    text \u001b[0m\u001b[32m(\u001b[0m\u001b[32mstr\u001b[0m\u001b[32m)\u001b[0m\u001b[32m: The new text to replace with.\\\\n\\\\nRaises:\\\\n    IndexError: If the \u001b[0m\n",
       "\u001b[32mparagraph is not found.\\\\n\\\\ndef del_paragraph\u001b[0m\u001b[32m(\u001b[0m\u001b[32mdiv_id: int, paragraph_id: int\u001b[0m\u001b[32m)\u001b[0m\u001b[32m\\\\n\\\\tDelete a paragraph from a \u001b[0m\n",
       "\u001b[32mslide.\\\\n\\\\nArgs:\\\\n    slide \u001b[0m\u001b[32m(\u001b[0m\u001b[32mSlidePage\u001b[0m\u001b[32m)\u001b[0m\u001b[32m: The slide containing the paragraph.\\\\n    div_id \u001b[0m\u001b[32m(\u001b[0m\u001b[32mint\u001b[0m\u001b[32m)\u001b[0m\u001b[32m: The ID of the \u001b[0m\n",
       "\u001b[32mdivision containing the paragraph.\\\\n    paragraph_id \u001b[0m\u001b[32m(\u001b[0m\u001b[32mint\u001b[0m\u001b[32m)\u001b[0m\u001b[32m: The ID of the paragraph to delete.\\\\n\\\\nRaises:\\\\n    \u001b[0m\n",
       "\u001b[32mIndexError: If the paragraph is not found.\\\\n\\\\nSteps\\\\n    1.\\\\tQuantity Adjustment:\\\\n    -\\\\tIf quantity_change \u001b[0m\n",
       "\u001b[32m= 0, modify the content only.\\\\n    -\\\\tIf quantity_change > 0, use clone_paragraph to add the specified number of \u001b[0m\n",
       "\u001b[32mparagraphs from the same element_class. The paragraph_id for newly cloned paragraphs should be the current maximum \u001b[0m\n",
       "\u001b[32mparagraph_id of the parent element plus 1.\\\\n    -\\\\tIf quantity_change < 0, use del_paragraph or del_image to \u001b[0m\n",
       "\u001b[32mremove the specified number of tail elements.\\\\n    -\\\\tEach command’s API call group must exclusively use either \u001b[0m\n",
       "\u001b[32mclone_paragraph or del_paragraph/del_image based on the `quantity_change`\\\\n    2.\\\\tContent Modification:\\\\n    \u001b[0m\n",
       "\u001b[32m-\\\\tText Content: Use replace_paragraph to modify the content.\\\\n    -\\\\tImage Content: Use replace_image to \u001b[0m\n",
       "\u001b[32mreplace image resources.\\\\n    3.\\\\tOutput Format:\\\\n    -\\\\tAdd comments to each API call group, explaining the \u001b[0m\n",
       "\u001b[32mintent of the original command and the associated element_class.\\\\n    -\\\\tFor cloning operations, annotate the \u001b[0m\n",
       "\u001b[32mparagraph_id of the newly created paragraphs.\\\\n\\\\nExample Input:\\\\n\\\\n<div \u001b[0m\u001b[32mid\u001b[0m\u001b[32m=\\\\\"0\\\\\" \u001b[0m\u001b[32mstyle\u001b[0m\u001b[32m=\\\\\"font-size: 24pt; \u001b[0m\n",
       "\u001b[32mcolor: #0D0D0D\\\\\">\\\\n    <p \u001b[0m\u001b[32mid\u001b[0m\u001b[32m=\\\\\"0\\\\\">\\\\n       WorldFAIR: Global cooperation on FAIR data policy and practice\\\\n \u001b[0m\n",
       "\u001b[32m</p>\\\\n</div>\\\\n\\\\n<div \u001b[0m\u001b[32mid\u001b[0m\u001b[32m=\\\\\"1\\\\\" \u001b[0m\u001b[32mstyle\u001b[0m\u001b[32m=\\\\\"font-size: 13pt; color: #404040\\\\\">\\\\n    <ul>\\\\n        <li \u001b[0m\u001b[32mid\u001b[0m\u001b[32m=\\\\\"0\\\\\"\u001b[0m\n",
       "\u001b[32mbullet-\u001b[0m\u001b[32mtype\u001b[0m\u001b[32m=\\\\\"▪\\\\\">\\\\n            Two-year project to advance implementation...\\\\n        </li>\\\\n        <li \u001b[0m\n",
       "\u001b[32mid\u001b[0m\u001b[32m=\\\\\"1\\\\\" \u001b[0m\u001b[32mstyle\u001b[0m\u001b[32m=\\\\\"font-weight: bold\\\\\" bullet-\u001b[0m\u001b[32mtype\u001b[0m\u001b[32m=\\\\\"▪\\\\\">\\\\n            Funded by the European Union...\\\\n     \u001b[0m\n",
       "\u001b[32m</li>\\\\n    </ul>\\\\n</div>\\\\n\\\\n<img \u001b[0m\u001b[32mid\u001b[0m\u001b[32m=\\\\\"2\\\\\" \u001b[0m\u001b[32malt\u001b[0m\u001b[32m=\\\\\"logo: project of xx\\\\\">\\\\n\\\\n\u001b[0m\u001b[32m[\u001b[0m\u001b[32m\\\\n    \u001b[0m\u001b[32m(\u001b[0m\u001b[32m\\\\\"title\\\\\", \u001b[0m\n",
       "\u001b[32m\\\\\"text\\\\\", \\\\\"quantity_change: 0\\\\\", \u001b[0m\u001b[32m[\u001b[0m\u001b[32m\\\\\"WorldFAIR: Global cooperation on FAIR data policy and practice\\\\\"\u001b[0m\u001b[32m]\u001b[0m\u001b[32m, \u001b[0m\n",
       "\u001b[32m[\u001b[0m\u001b[32m\\\\\"New Title\\\\\"\u001b[0m\u001b[32m]\u001b[0m\u001b[32m)\u001b[0m\u001b[32m,\\\\n    \u001b[0m\u001b[32m(\u001b[0m\u001b[32m\\\\\"project_description\\\\\", \\\\\"text\\\\\", \\\\\"quantity_change: 1\\\\\", \u001b[0m\u001b[32m[\u001b[0m\u001b[32m\\\\\"Two-year project to\u001b[0m\n",
       "\u001b[32madvance implementation of the FAIR principles\\\\\"\u001b[0m\u001b[32m]\u001b[0m\u001b[32m, \u001b[0m\u001b[32m[\u001b[0m\u001b[32m\\\\\"New project description1\\\\\", \\\\\"New project \u001b[0m\n",
       "\u001b[32mdescription2\\\\\"\u001b[0m\u001b[32m]\u001b[0m\u001b[32m)\u001b[0m\u001b[32m,\\\\n    \u001b[0m\u001b[32m(\u001b[0m\u001b[32m\\\\\"funding_info\\\\\", \\\\\"text\\\\\", \\\\\"quantity_change: -1\\\\\", \u001b[0m\u001b[32m[\u001b[0m\u001b[32m\\\\\"Funded by the European \u001b[0m\n",
       "\u001b[32mUnion\\\\\"\u001b[0m\u001b[32m]\u001b[0m\u001b[32m, \u001b[0m\u001b[32m[\u001b[0m\u001b[32m]\u001b[0m\u001b[32m)\u001b[0m\u001b[32m,\\\\n    \u001b[0m\u001b[32m(\u001b[0m\u001b[32m\\\\\"project_logo\\\\\", \\\\\"image\\\\\", \\\\\"quantity_change: 0\\\\\", \u001b[0m\u001b[32m[\u001b[0m\u001b[32m\\\\\"logo: project of xx\\\\\"\u001b[0m\u001b[32m]\u001b[0m\u001b[32m, \u001b[0m\n",
       "\u001b[32m[\u001b[0m\u001b[32m\\\\\"new_logo.png\\\\\"\u001b[0m\u001b[32m]\u001b[0m\u001b[32m)\u001b[0m\u001b[32m\\\\n\u001b[0m\u001b[32m]\u001b[0m\u001b[32m\\\\n\\\\nExample Output\\\\n# \u001b[0m\u001b[32m(\u001b[0m\u001b[32m\\\\\"title\\\\\", \\\\\"text\\\\\", \\\\\"quantity_change: 0\\\\\", \u001b[0m\n",
       "\u001b[32m[\u001b[0m\u001b[32m\\\\\"WorldFAIR: Global cooperation on FAIR data policy and practice\\\\\"\u001b[0m\u001b[32m]\u001b[0m\u001b[32m, \u001b[0m\u001b[32m[\u001b[0m\u001b[32m\\\\\"New Title\\\\\"\u001b[0m\u001b[32m]\u001b[0m\u001b[32m)\u001b[0m\u001b[32m\\\\nreplace_paragraph\u001b[0m\u001b[32m(\u001b[0m\u001b[32m0, \u001b[0m\n",
       "\u001b[32m0, \\\\\"New Title\\\\\"\u001b[0m\u001b[32m)\u001b[0m\u001b[32m\\\\n\\\\n# \u001b[0m\u001b[32m(\u001b[0m\u001b[32m\\\\\"project_description\\\\\", \\\\\"text\\\\\", \\\\\"quantity_change: 1\\\\\", \u001b[0m\u001b[32m[\u001b[0m\u001b[32m\\\\\"Two-year project \u001b[0m\n",
       "\u001b[32mto advance implementation of the FAIR principles\\\\\"\u001b[0m\u001b[32m]\u001b[0m\u001b[32m, \u001b[0m\u001b[32m[\u001b[0m\u001b[32m\\\\\"New project description1\\\\\", \\\\\"New project \u001b[0m\n",
       "\u001b[32mdescription2\\\\\"\u001b[0m\u001b[32m]\u001b[0m\u001b[32m)\u001b[0m\u001b[32m\\\\nclone_paragraph\u001b[0m\u001b[32m(\u001b[0m\u001b[32m1, 0\u001b[0m\u001b[32m)\u001b[0m\u001b[32m  # New cloned paragraph_id is 2 as the current max paragraph_id is \u001b[0m\n",
       "\u001b[32m1\\\\nreplace_paragraph\u001b[0m\u001b[32m(\u001b[0m\u001b[32m1, 0, \\\\\"New project description1\\\\\"\u001b[0m\u001b[32m)\u001b[0m\u001b[32m\\\\nreplace_paragraph\u001b[0m\u001b[32m(\u001b[0m\u001b[32m1, 2, \\\\\"New project \u001b[0m\n",
       "\u001b[32mdescription2\\\\\"\u001b[0m\u001b[32m)\u001b[0m\u001b[32m\\\\n\\\\n# \u001b[0m\u001b[32m(\u001b[0m\u001b[32m\\\\\"funding_info\\\\\", \\\\\"text\\\\\", \\\\\"quantity_change: -1\\\\\", \u001b[0m\u001b[32m[\u001b[0m\u001b[32m\\\\\"Funded by the European \u001b[0m\n",
       "\u001b[32mUnion\\\\\"\u001b[0m\u001b[32m]\u001b[0m\u001b[32m, \u001b[0m\u001b[32m[\u001b[0m\u001b[32m]\u001b[0m\u001b[32m)\u001b[0m\u001b[32m\\\\ndel_paragraph\u001b[0m\u001b[32m(\u001b[0m\u001b[32m1, 1\u001b[0m\u001b[32m)\u001b[0m\u001b[32m\\\\n\\\\n# \u001b[0m\u001b[32m(\u001b[0m\u001b[32m\\\\\"project_logo\\\\\", \\\\\"image\\\\\", \\\\\"quantity_change: 0\\\\\", \u001b[0m\u001b[32m[\u001b[0m\u001b[32m\\\\\"logo: \u001b[0m\n",
       "\u001b[32mproject of xx\\\\\"\u001b[0m\u001b[32m]\u001b[0m\u001b[32m, \u001b[0m\u001b[32m[\u001b[0m\u001b[32m\\\\\"new_logo.png\\\\\"\u001b[0m\u001b[32m]\u001b[0m\u001b[32m)\u001b[0m\u001b[32m\\\\nreplace_image\u001b[0m\u001b[32m(\u001b[0m\u001b[32m2, \\\\\"new_logo.png\\\\\"\u001b[0m\u001b[32m)\u001b[0m\u001b[32m\\\\n\\\\nCurrent Slide \u001b[0m\n",
       "\u001b[32mContent:\\\\n<!DOCTYPE html>\\\\n<html>\\\\n<title>What is Tourism?</title>\\\\n<body \u001b[0m\u001b[32mstyle\u001b[0m\u001b[32m=\\\\\"width:960pt; \u001b[0m\n",
       "\u001b[32mheight:540pt;\\\\\">\\\\n<div \u001b[0m\u001b[32mid\u001b[0m\u001b[32m=\\'0\\'>\\\\n\\\\t<p \u001b[0m\u001b[32mid\u001b[0m\u001b[32m=\\'0\\'>What is Tourism?</p>\\\\n</div>\\\\n\\\\n<div \u001b[0m\u001b[32mid\u001b[0m\u001b[32m=\\'1\\' \u001b[0m\n",
       "\u001b[32mstyle\u001b[0m\u001b[32m=\\'font-size: 20pt\\'>\\\\n\\\\t<p \u001b[0m\u001b[32mid\u001b[0m\u001b[32m=\\'0\\'>The World Tourism Organisation defines tourism in terms which \u001b[0m\n",
       "\u001b[32mgo</p>\\\\n\\\\t<p \u001b[0m\u001b[32mid\u001b[0m\u001b[32m=\\'1\\'>“ beyond the common perception of tourism as being limited to holiday activity only”, as \u001b[0m\n",
       "\u001b[32mpeople “ travelling to and staying in places outside their usual environment for not more than one consecutive year\u001b[0m\n",
       "\u001b[32mfor leisure, business and other purposes”</p>\\\\n\\\\t<p \u001b[0m\u001b[32mid\u001b[0m\u001b[32m=\\'2\\'>Its importance was recognised in the Manila \u001b[0m\n",
       "\u001b[32mDeclaration on World Tourism of 1980 as an activity essential to the life of nations because of its direct effects \u001b[0m\n",
       "\u001b[32mon the social, cultural, educational, and economic sectors of national societies and on their international \u001b[0m\n",
       "\u001b[32mrelations</p>\\\\n\\\\t<p \u001b[0m\u001b[32mid\u001b[0m\u001b[32m=\\'3\\'>Today, tourism is a major source of income for many countries, and affects the \u001b[0m\n",
       "\u001b[32meconomy of both the source and the host countries, in some cases being of vital \u001b[0m\n",
       "\u001b[32mimportance</p>\\\\n</div>\\\\n</body>\\\\n</html\u001b[0m\u001b[32m>\u001b[0m\u001b[32m\\\\n\\\\n\\\\nCommand List:\\\\n\u001b[0m\u001b[32m(\u001b[0m\u001b[32m\\'main_title\\', \\'text\\', \\'quantity_change: \u001b[0m\n",
       "\u001b[32m0\\', \u001b[0m\u001b[32m[\u001b[0m\u001b[32m\\'What is Tourism?\\'\u001b[0m\u001b[32m]\u001b[0m\u001b[32m, \u001b[0m\u001b[32m[\u001b[0m\u001b[32m\\'Formation and Vision\\'\u001b[0m\u001b[32m]\u001b[0m\u001b[32m)\u001b[0m\u001b[32m\\\\n\u001b[0m\u001b[32m(\u001b[0m\u001b[32m\\'content_text\\', \\'text\\', \\'quantity_change: 0\\', \u001b[0m\n",
       "\u001b[32m[\u001b[0m\u001b[32m\\'The World Tourism Organisation defines tourism in terms which go\\', \\'“ beyond the common perception of tourism \u001b[0m\n",
       "\u001b[32mas being limited to holiday activity only”, as people “ travelling to and staying in places outside their usual \u001b[0m\n",
       "\u001b[32menvironment for not more than one consecutive year for leisure, business and other purposes”\\', \\'Its importance \u001b[0m\n",
       "\u001b[32mwas recognised in the Manila Declaration on World Tourism of 1980 as an activity essential to the life of nations \u001b[0m\n",
       "\u001b[32mbecause of its direct effects on the social, cultural, educational, and economic sectors of national societies and \u001b[0m\n",
       "\u001b[32mon their international relations\\', \\'Today, tourism is a major source of income for many countries, and affects \u001b[0m\n",
       "\u001b[32mthe economy of both the source and the host countries, in some cases being of vital importance\\'\u001b[0m\u001b[32m]\u001b[0m\u001b[32m, \u001b[0m\u001b[32m[\u001b[0m\u001b[32m\\'OpenAI was \u001b[0m\n",
       "\u001b[32mfounded in December 2015 by Elon Musk, Sam Altman, Greg Brockman, Ilya Sutskever, Wojciech Zaremba, and John \u001b[0m\n",
       "\u001b[32mSchulman, among others.\\', \\'The organization was established to ensure artificial general intelligence \u001b[0m\u001b[32m(\u001b[0m\u001b[32mAGI\u001b[0m\u001b[32m)\u001b[0m\u001b[32m \u001b[0m\n",
       "\u001b[32mbenefits all of humanity, with a focus on safety and ethical considerations.\\', \\'Initially set up as a non-profit,\u001b[0m\n",
       "\u001b[32mOpenAI prioritized societal benefit over profit motives, promoting transparency and collaboration.\\', \\'Early \u001b[0m\n",
       "\u001b[32mprojects centered on open access to AI advancements, driving innovation with an ethical and inclusive \u001b[0m\n",
       "\u001b[32mapproach.\\'\u001b[0m\u001b[32m]\u001b[0m\u001b[32m)\u001b[0m\u001b[32m\\\\n\\\\nPlease output only the API call sequence, one call per line, wrapped in ```python and ```, with \u001b[0m\n",
       "\u001b[32mcomments for corresponding commands.\"\u001b[0m\u001b[32m}\u001b[0m\u001b[32m]\u001b[0m\u001b[32m}\u001b[0m\u001b[32m]\u001b[0m\u001b[32m'\u001b[0m\u001b[1;32m]\u001b[0m\n"
      ]
     },
     "metadata": {},
     "output_type": "display_data"
    },
    {
     "data": {
      "text/html": [
       "<pre style=\"white-space:pre;overflow-x:auto;line-height:normal;font-family:Menlo,'DejaVu Sans Mono',consolas,'Courier New',monospace\"><span style=\"color: #800000; text-decoration-color: #800000\">response from gpt-4o-</span><span style=\"color: #008080; text-decoration-color: #008080; font-weight: bold\">2024</span><span style=\"color: #800000; text-decoration-color: #800000\">-</span><span style=\"color: #008080; text-decoration-color: #008080; font-weight: bold\">11</span><span style=\"color: #800000; text-decoration-color: #800000\">-</span><span style=\"color: #008080; text-decoration-color: #008080; font-weight: bold\">20</span><span style=\"color: #800000; text-decoration-color: #800000\">: ```python</span>\n",
       "<span style=\"color: #800000; text-decoration-color: #800000\"># </span><span style=\"color: #800000; text-decoration-color: #800000; font-weight: bold\">(</span><span style=\"color: #008000; text-decoration-color: #008000\">'main_title'</span><span style=\"color: #800000; text-decoration-color: #800000\">, </span><span style=\"color: #008000; text-decoration-color: #008000\">'text'</span><span style=\"color: #800000; text-decoration-color: #800000\">, </span><span style=\"color: #008000; text-decoration-color: #008000\">'quantity_change: 0'</span><span style=\"color: #800000; text-decoration-color: #800000\">, </span><span style=\"color: #800000; text-decoration-color: #800000; font-weight: bold\">[</span><span style=\"color: #008000; text-decoration-color: #008000\">'What is Tourism?'</span><span style=\"color: #800000; text-decoration-color: #800000; font-weight: bold\">]</span><span style=\"color: #800000; text-decoration-color: #800000\">, </span><span style=\"color: #800000; text-decoration-color: #800000; font-weight: bold\">[</span><span style=\"color: #008000; text-decoration-color: #008000\">'Formation and Vision'</span><span style=\"color: #800000; text-decoration-color: #800000; font-weight: bold\">])</span>\n",
       "<span style=\"color: #800080; text-decoration-color: #800080; font-weight: bold\">replace_paragraph</span><span style=\"color: #800000; text-decoration-color: #800000; font-weight: bold\">(</span><span style=\"color: #008080; text-decoration-color: #008080; font-weight: bold\">0</span><span style=\"color: #800000; text-decoration-color: #800000\">, </span><span style=\"color: #008080; text-decoration-color: #008080; font-weight: bold\">0</span><span style=\"color: #800000; text-decoration-color: #800000\">, </span><span style=\"color: #008000; text-decoration-color: #008000\">\"Formation and Vision\"</span><span style=\"color: #800000; text-decoration-color: #800000; font-weight: bold\">)</span>\n",
       "<span style=\"color: #800000; text-decoration-color: #800000\">```</span>\n",
       "\n",
       "<span style=\"color: #800000; text-decoration-color: #800000\">```python</span>\n",
       "<span style=\"color: #800000; text-decoration-color: #800000\"># </span><span style=\"color: #800000; text-decoration-color: #800000; font-weight: bold\">(</span><span style=\"color: #008000; text-decoration-color: #008000\">'content_text'</span><span style=\"color: #800000; text-decoration-color: #800000\">, </span><span style=\"color: #008000; text-decoration-color: #008000\">'text'</span><span style=\"color: #800000; text-decoration-color: #800000\">, </span><span style=\"color: #008000; text-decoration-color: #008000\">'quantity_change: 0'</span><span style=\"color: #800000; text-decoration-color: #800000\">, </span><span style=\"color: #800000; text-decoration-color: #800000; font-weight: bold\">[</span><span style=\"color: #008000; text-decoration-color: #008000\">'The World Tourism Organisation defines tourism in terms which </span>\n",
       "<span style=\"color: #008000; text-decoration-color: #008000\">go'</span><span style=\"color: #800000; text-decoration-color: #800000\">, </span><span style=\"color: #808000; text-decoration-color: #808000\">...</span><span style=\"color: #800000; text-decoration-color: #800000; font-weight: bold\">]</span><span style=\"color: #800000; text-decoration-color: #800000\">, </span><span style=\"color: #800000; text-decoration-color: #800000; font-weight: bold\">[</span><span style=\"color: #008000; text-decoration-color: #008000\">'OpenAI was founded in December 2015 by Elon Musk, Sam Altman, Greg Brockman, Ilya Sutskever, Wojciech </span>\n",
       "<span style=\"color: #008000; text-decoration-color: #008000\">Zaremba, and John Schulman, among others.'</span><span style=\"color: #800000; text-decoration-color: #800000\">, </span><span style=\"color: #808000; text-decoration-color: #808000\">...</span><span style=\"color: #800000; text-decoration-color: #800000; font-weight: bold\">])</span>\n",
       "<span style=\"color: #800080; text-decoration-color: #800080; font-weight: bold\">replace_paragraph</span><span style=\"color: #800000; text-decoration-color: #800000; font-weight: bold\">(</span><span style=\"color: #008080; text-decoration-color: #008080; font-weight: bold\">1</span><span style=\"color: #800000; text-decoration-color: #800000\">, </span><span style=\"color: #008080; text-decoration-color: #008080; font-weight: bold\">0</span><span style=\"color: #800000; text-decoration-color: #800000\">, </span><span style=\"color: #008000; text-decoration-color: #008000\">\"OpenAI was founded in December 2015 by Elon Musk, Sam Altman, Greg Brockman, Ilya </span>\n",
       "<span style=\"color: #008000; text-decoration-color: #008000\">Sutskever, Wojciech Zaremba, and John Schulman, among others.\"</span><span style=\"color: #800000; text-decoration-color: #800000; font-weight: bold\">)</span>\n",
       "<span style=\"color: #800080; text-decoration-color: #800080; font-weight: bold\">replace_paragraph</span><span style=\"color: #800000; text-decoration-color: #800000; font-weight: bold\">(</span><span style=\"color: #008080; text-decoration-color: #008080; font-weight: bold\">1</span><span style=\"color: #800000; text-decoration-color: #800000\">, </span><span style=\"color: #008080; text-decoration-color: #008080; font-weight: bold\">1</span><span style=\"color: #800000; text-decoration-color: #800000\">, </span><span style=\"color: #008000; text-decoration-color: #008000\">\"The organization was established to ensure artificial general intelligence (AGI) benefits </span>\n",
       "<span style=\"color: #008000; text-decoration-color: #008000\">all of humanity, with a focus on safety and ethical considerations.\"</span><span style=\"color: #800000; text-decoration-color: #800000; font-weight: bold\">)</span>\n",
       "<span style=\"color: #800080; text-decoration-color: #800080; font-weight: bold\">replace_paragraph</span><span style=\"color: #800000; text-decoration-color: #800000; font-weight: bold\">(</span><span style=\"color: #008080; text-decoration-color: #008080; font-weight: bold\">1</span><span style=\"color: #800000; text-decoration-color: #800000\">, </span><span style=\"color: #008080; text-decoration-color: #008080; font-weight: bold\">2</span><span style=\"color: #800000; text-decoration-color: #800000\">, </span><span style=\"color: #008000; text-decoration-color: #008000\">\"Initially set up as a non-profit, OpenAI prioritized societal benefit over profit motives,</span>\n",
       "<span style=\"color: #008000; text-decoration-color: #008000\">promoting transparency and collaboration.\"</span><span style=\"color: #800000; text-decoration-color: #800000; font-weight: bold\">)</span>\n",
       "<span style=\"color: #800080; text-decoration-color: #800080; font-weight: bold\">replace_paragraph</span><span style=\"color: #800000; text-decoration-color: #800000; font-weight: bold\">(</span><span style=\"color: #008080; text-decoration-color: #008080; font-weight: bold\">1</span><span style=\"color: #800000; text-decoration-color: #800000\">, </span><span style=\"color: #008080; text-decoration-color: #008080; font-weight: bold\">3</span><span style=\"color: #800000; text-decoration-color: #800000\">, </span><span style=\"color: #008000; text-decoration-color: #008000\">\"Early projects centered on open access to AI advancements, driving innovation with an </span>\n",
       "<span style=\"color: #008000; text-decoration-color: #008000\">ethical and inclusive approach.\"</span><span style=\"color: #800000; text-decoration-color: #800000; font-weight: bold\">)</span>\n",
       "<span style=\"color: #800000; text-decoration-color: #800000\">```</span>\n",
       "</pre>\n"
      ],
      "text/plain": [
       "\u001b[31mresponse from gpt-4o-\u001b[0m\u001b[1;36m2024\u001b[0m\u001b[31m-\u001b[0m\u001b[1;36m11\u001b[0m\u001b[31m-\u001b[0m\u001b[1;36m20\u001b[0m\u001b[31m: ```python\u001b[0m\n",
       "\u001b[31m# \u001b[0m\u001b[1;31m(\u001b[0m\u001b[32m'main_title'\u001b[0m\u001b[31m, \u001b[0m\u001b[32m'text'\u001b[0m\u001b[31m, \u001b[0m\u001b[32m'quantity_change: 0'\u001b[0m\u001b[31m, \u001b[0m\u001b[1;31m[\u001b[0m\u001b[32m'What is Tourism?'\u001b[0m\u001b[1;31m]\u001b[0m\u001b[31m, \u001b[0m\u001b[1;31m[\u001b[0m\u001b[32m'Formation and Vision'\u001b[0m\u001b[1;31m]\u001b[0m\u001b[1;31m)\u001b[0m\n",
       "\u001b[1;35mreplace_paragraph\u001b[0m\u001b[1;31m(\u001b[0m\u001b[1;36m0\u001b[0m\u001b[31m, \u001b[0m\u001b[1;36m0\u001b[0m\u001b[31m, \u001b[0m\u001b[32m\"Formation and Vision\"\u001b[0m\u001b[1;31m)\u001b[0m\n",
       "\u001b[31m```\u001b[0m\n",
       "\n",
       "\u001b[31m```python\u001b[0m\n",
       "\u001b[31m# \u001b[0m\u001b[1;31m(\u001b[0m\u001b[32m'content_text'\u001b[0m\u001b[31m, \u001b[0m\u001b[32m'text'\u001b[0m\u001b[31m, \u001b[0m\u001b[32m'quantity_change: 0'\u001b[0m\u001b[31m, \u001b[0m\u001b[1;31m[\u001b[0m\u001b[32m'The World Tourism Organisation defines tourism in terms which \u001b[0m\n",
       "\u001b[32mgo'\u001b[0m\u001b[31m, \u001b[0m\u001b[33m...\u001b[0m\u001b[1;31m]\u001b[0m\u001b[31m, \u001b[0m\u001b[1;31m[\u001b[0m\u001b[32m'OpenAI was founded in December 2015 by Elon Musk, Sam Altman, Greg Brockman, Ilya Sutskever, Wojciech \u001b[0m\n",
       "\u001b[32mZaremba, and John Schulman, among others.'\u001b[0m\u001b[31m, \u001b[0m\u001b[33m...\u001b[0m\u001b[1;31m]\u001b[0m\u001b[1;31m)\u001b[0m\n",
       "\u001b[1;35mreplace_paragraph\u001b[0m\u001b[1;31m(\u001b[0m\u001b[1;36m1\u001b[0m\u001b[31m, \u001b[0m\u001b[1;36m0\u001b[0m\u001b[31m, \u001b[0m\u001b[32m\"OpenAI was founded in December 2015 by Elon Musk, Sam Altman, Greg Brockman, Ilya \u001b[0m\n",
       "\u001b[32mSutskever, Wojciech Zaremba, and John Schulman, among others.\"\u001b[0m\u001b[1;31m)\u001b[0m\n",
       "\u001b[1;35mreplace_paragraph\u001b[0m\u001b[1;31m(\u001b[0m\u001b[1;36m1\u001b[0m\u001b[31m, \u001b[0m\u001b[1;36m1\u001b[0m\u001b[31m, \u001b[0m\u001b[32m\"The organization was established to ensure artificial general intelligence \u001b[0m\u001b[32m(\u001b[0m\u001b[32mAGI\u001b[0m\u001b[32m)\u001b[0m\u001b[32m benefits \u001b[0m\n",
       "\u001b[32mall of humanity, with a focus on safety and ethical considerations.\"\u001b[0m\u001b[1;31m)\u001b[0m\n",
       "\u001b[1;35mreplace_paragraph\u001b[0m\u001b[1;31m(\u001b[0m\u001b[1;36m1\u001b[0m\u001b[31m, \u001b[0m\u001b[1;36m2\u001b[0m\u001b[31m, \u001b[0m\u001b[32m\"Initially set up as a non-profit, OpenAI prioritized societal benefit over profit motives,\u001b[0m\n",
       "\u001b[32mpromoting transparency and collaboration.\"\u001b[0m\u001b[1;31m)\u001b[0m\n",
       "\u001b[1;35mreplace_paragraph\u001b[0m\u001b[1;31m(\u001b[0m\u001b[1;36m1\u001b[0m\u001b[31m, \u001b[0m\u001b[1;36m3\u001b[0m\u001b[31m, \u001b[0m\u001b[32m\"Early projects centered on open access to AI advancements, driving innovation with an \u001b[0m\n",
       "\u001b[32methical and inclusive approach.\"\u001b[0m\u001b[1;31m)\u001b[0m\n",
       "\u001b[31m```\u001b[0m\n"
      ]
     },
     "metadata": {},
     "output_type": "display_data"
    },
    {
     "data": {
      "text/html": [
       "<pre style=\"white-space:pre;overflow-x:auto;line-height:normal;font-family:Menlo,'DejaVu Sans Mono',consolas,'Courier New',monospace\"><span style=\"color: #008000; text-decoration-color: #008000\">sending messages to: gpt-4o-</span><span style=\"color: #008080; text-decoration-color: #008080; font-weight: bold\">2024</span><span style=\"color: #008000; text-decoration-color: #008000\">-</span><span style=\"color: #008080; text-decoration-color: #008080; font-weight: bold\">11</span><span style=\"color: #008000; text-decoration-color: #008000\">-</span><span style=\"color: #008080; text-decoration-color: #008080; font-weight: bold\">20</span><span style=\"color: #008000; text-decoration-color: #008000\">, message </span><span style=\"color: #008000; text-decoration-color: #008000; font-weight: bold\">(</span><span style=\"color: #008000; text-decoration-color: #008000\">truncated</span><span style=\"color: #008000; text-decoration-color: #008000; font-weight: bold\">)</span><span style=\"color: #008000; text-decoration-color: #008000\">: </span><span style=\"color: #008000; text-decoration-color: #008000; font-weight: bold\">[{</span><span style=\"color: #008000; text-decoration-color: #008000\">'role'</span><span style=\"color: #008000; text-decoration-color: #008000\">: </span><span style=\"color: #008000; text-decoration-color: #008000\">'system'</span><span style=\"color: #008000; text-decoration-color: #008000\">, </span><span style=\"color: #008000; text-decoration-color: #008000\">'content'</span><span style=\"color: #008000; text-decoration-color: #008000\">: </span><span style=\"color: #008000; text-decoration-color: #008000; font-weight: bold\">[{</span><span style=\"color: #008000; text-decoration-color: #008000\">'type'</span><span style=\"color: #008000; text-decoration-color: #008000\">: </span><span style=\"color: #008000; text-decoration-color: #008000\">'text'</span><span style=\"color: #008000; text-decoration-color: #008000\">, </span>\n",
       "<span style=\"color: #008000; text-decoration-color: #008000\">'text'</span><span style=\"color: #008000; text-decoration-color: #008000\">: </span><span style=\"color: #008000; text-decoration-color: #008000\">'You are an expert Editor agent. Transform reference text and images into slide content, following schema </span>\n",
       "<span style=\"color: #008000; text-decoration-color: #008000\">rules and using only provided materials. Ensure the content is engaging and within the character limit.'</span><span style=\"color: #008000; text-decoration-color: #008000; font-weight: bold\">}]}</span><span style=\"color: #008000; text-decoration-color: #008000\">, </span>\n",
       "<span style=\"color: #008000; text-decoration-color: #008000\">'[{\"role\": \"user\", \"content\": [{\"type\": \"text\", \"text\": \"Task: Generate engaging slide content based on the </span>\n",
       "<span style=\"color: #008000; text-decoration-color: #008000\">provided schema and reference materials.\\\\n\\\\nRequirements:\\\\n1. Content Generation Rules:\\\\n  - Follow </span>\n",
       "<span style=\"color: #008000; text-decoration-color: #008000\">default_quantity for elements, adjust when necessary\\\\n  - Ensure text content meets character limits\\\\n  - </span>\n",
       "<span style=\"color: #008000; text-decoration-color: #008000\">Generated text should use concise and impactful presentation style\\\\n\\\\n2. Core Elements:\\\\n  - Must extract </span>\n",
       "<span style=\"color: #008000; text-decoration-color: #008000\">essential content from reference text (e.g., slide_title, main_content) and maintain semantic consistency\\\\n  - </span>\n",
       "<span style=\"color: #008000; text-decoration-color: #008000\">Must include images that support the main content (e.g., diagrams for explanations, visuals directly discussed in </span>\n",
       "<span style=\"color: #008000; text-decoration-color: #008000\">text)\\\\n\\\\n3. Supporting Elements (e.g., presenters, logo images):\\\\n  - Generate only when relevant content exists</span>\n",
       "<span style=\"color: #008000; text-decoration-color: #008000\">in reference materials\\\\n\\\\nGenerate content for each element and output in the following format:\\\\n{\\\\n  </span>\n",
       "<span style=\"color: #008000; text-decoration-color: #008000\">\\\\\"element1\\\\\": {\\\\n    \\\\\"data\\\\\": [\\\\\"text1\\\\\", \\\\\"text2\\\\\"] for text elements\\\\n          or </span>\n",
       "<span style=\"color: #008000; text-decoration-color: #008000\">[\\\\\"/path/to/image\\\\\", \\\\\"...\\\\\"] for image elements\\\\n  },\\\\n}\\\\n\\\\nInput:\\\\nSchema:\\\\n{\\'main_title\\': </span>\n",
       "<span style=\"color: #008000; text-decoration-color: #008000\">{\\'description\\': \\'The primary heading that introduces the main topic of the slide\\', \\'type\\': \\'text\\', </span>\n",
       "<span style=\"color: #008000; text-decoration-color: #008000\">\\'suggestedCharacters\\': \\'&lt;16\\', \\'default_quantity\\': 1}, \\'content_text\\': {\\'description\\': \\'The body text </span>\n",
       "<span style=\"color: #008000; text-decoration-color: #008000\">providing detailed explanations, definitions, or information related to the topic\\', \\'type\\': \\'text\\', </span>\n",
       "<span style=\"color: #008000; text-decoration-color: #008000\">\\'suggestedCharacters\\': \\'64-276\\', \\'default_quantity\\': 4}}\\\\n\\\\nMetadata of Presentation:\\\\ntitle: The History </span>\n",
       "<span style=\"color: #008000; text-decoration-color: #008000\">of OpenAI\\\\nauthor: OpenAI Documentation Team\\\\npublish date: October 2023\\\\norganization: OpenAI\\\\nPresentation </span>\n",
       "<span style=\"color: #008000; text-decoration-color: #008000\">Time: 2025-02-02\\\\n\\\\nSlide 1: Opening of The History of OpenAI\\\\nSlide 2: Formation and Vision\\\\nSlide 3: Key </span>\n",
       "<span style=\"color: #008000; text-decoration-color: #008000\">Milestones and Achievements\\\\nSlide 4: The Future of OpenAI\\\\nSlide 5: Conclusion of The History of </span>\n",
       "<span style=\"color: #008000; text-decoration-color: #008000\">OpenAI\\\\n\\\\nReference Text:\\\\nSlide-3 Slide Purpose: Key Milestones and Achievements\\\\nSlide Description: Exploring</span>\n",
       "<span style=\"color: #008000; text-decoration-color: #008000\">OpenAI\\'s notable achievements, including technical innovations, organizational changes, and efforts to democratize</span>\n",
       "<span style=\"color: #008000; text-decoration-color: #008000\">access to artificial intelligence.\\\\nSlide Content Source: # Technical Breakthroughs \\\\nOpenAI made significant </span>\n",
       "<span style=\"color: #008000; text-decoration-color: #008000\">contributions to AI with the development of groundbreaking models like GPT series (Generative Pre-trained </span>\n",
       "<span style=\"color: #008000; text-decoration-color: #008000\">Transformers) and DALL·E. These models demonstrated state-of-the-art capabilities in natural language processing </span>\n",
       "<span style=\"color: #008000; text-decoration-color: #008000\">and image generation.\\\\nSlide Content Source: # Transition to OpenAI LP \\\\nIn 2019, OpenAI transitioned to a </span>\n",
       "<span style=\"color: #008000; text-decoration-color: #008000\">capped-profit model as OpenAI LP to attract funding while adhering to its mission. Microsoft became a key partner, </span>\n",
       "<span style=\"color: #008000; text-decoration-color: #008000\">investing $1 billion and providing computational resources.\\\\nSlide Content Source: # AI Democratization \\\\nOpenAI </span>\n",
       "<span style=\"color: #008000; text-decoration-color: #008000\">has prioritized making its technologies accessible through platforms such as the OpenAI API, enabling developers </span>\n",
       "<span style=\"color: #008000; text-decoration-color: #008000\">and organizations to integrate AI into various applications while ensuring ethical use.\\\\n\\\\n\\\\nAvailable </span>\n",
       "<span style=\"color: #008000; text-decoration-color: #008000\">Images:\\\\nNo Images\\\\n\\\\nOutput: Ensure the generated content strictly adheres to the schema specifications, </span>\n",
       "<span style=\"color: #008000; text-decoration-color: #008000\">follows the slide style, reader-friendly.\"}]}]'</span><span style=\"color: #008000; text-decoration-color: #008000; font-weight: bold\">]</span>\n",
       "</pre>\n"
      ],
      "text/plain": [
       "\u001b[32msending messages to: gpt-4o-\u001b[0m\u001b[1;36m2024\u001b[0m\u001b[32m-\u001b[0m\u001b[1;36m11\u001b[0m\u001b[32m-\u001b[0m\u001b[1;36m20\u001b[0m\u001b[32m, message \u001b[0m\u001b[1;32m(\u001b[0m\u001b[32mtruncated\u001b[0m\u001b[1;32m)\u001b[0m\u001b[32m: \u001b[0m\u001b[1;32m[\u001b[0m\u001b[1;32m{\u001b[0m\u001b[32m'role'\u001b[0m\u001b[32m: \u001b[0m\u001b[32m'system'\u001b[0m\u001b[32m, \u001b[0m\u001b[32m'content'\u001b[0m\u001b[32m: \u001b[0m\u001b[1;32m[\u001b[0m\u001b[1;32m{\u001b[0m\u001b[32m'type'\u001b[0m\u001b[32m: \u001b[0m\u001b[32m'text'\u001b[0m\u001b[32m, \u001b[0m\n",
       "\u001b[32m'text'\u001b[0m\u001b[32m: \u001b[0m\u001b[32m'You are an expert Editor agent. Transform reference text and images into slide content, following schema \u001b[0m\n",
       "\u001b[32mrules and using only provided materials. Ensure the content is engaging and within the character limit.'\u001b[0m\u001b[1;32m}\u001b[0m\u001b[1;32m]\u001b[0m\u001b[1;32m}\u001b[0m\u001b[32m, \u001b[0m\n",
       "\u001b[32m'\u001b[0m\u001b[32m[\u001b[0m\u001b[32m{\u001b[0m\u001b[32m\"role\": \"user\", \"content\": \u001b[0m\u001b[32m[\u001b[0m\u001b[32m{\u001b[0m\u001b[32m\"type\": \"text\", \"text\": \"Task: Generate engaging slide content based on the \u001b[0m\n",
       "\u001b[32mprovided schema and reference materials.\\\\n\\\\nRequirements:\\\\n1. Content Generation Rules:\\\\n  - Follow \u001b[0m\n",
       "\u001b[32mdefault_quantity for elements, adjust when necessary\\\\n  - Ensure text content meets character limits\\\\n  - \u001b[0m\n",
       "\u001b[32mGenerated text should use concise and impactful presentation style\\\\n\\\\n2. Core Elements:\\\\n  - Must extract \u001b[0m\n",
       "\u001b[32messential content from reference text \u001b[0m\u001b[32m(\u001b[0m\u001b[32me.g., slide_title, main_content\u001b[0m\u001b[32m)\u001b[0m\u001b[32m and maintain semantic consistency\\\\n  - \u001b[0m\n",
       "\u001b[32mMust include images that support the main content \u001b[0m\u001b[32m(\u001b[0m\u001b[32me.g., diagrams for explanations, visuals directly discussed in \u001b[0m\n",
       "\u001b[32mtext\u001b[0m\u001b[32m)\u001b[0m\u001b[32m\\\\n\\\\n3. Supporting Elements \u001b[0m\u001b[32m(\u001b[0m\u001b[32me.g., presenters, logo images\u001b[0m\u001b[32m)\u001b[0m\u001b[32m:\\\\n  - Generate only when relevant content exists\u001b[0m\n",
       "\u001b[32min reference materials\\\\n\\\\nGenerate content for each element and output in the following format:\\\\n\u001b[0m\u001b[32m{\u001b[0m\u001b[32m\\\\n  \u001b[0m\n",
       "\u001b[32m\\\\\"element1\\\\\": \u001b[0m\u001b[32m{\u001b[0m\u001b[32m\\\\n    \\\\\"data\\\\\": \u001b[0m\u001b[32m[\u001b[0m\u001b[32m\\\\\"text1\\\\\", \\\\\"text2\\\\\"\u001b[0m\u001b[32m]\u001b[0m\u001b[32m for text elements\\\\n          or \u001b[0m\n",
       "\u001b[32m[\u001b[0m\u001b[32m\\\\\"/path/to/image\\\\\", \\\\\"...\\\\\"\u001b[0m\u001b[32m]\u001b[0m\u001b[32m for image elements\\\\n  \u001b[0m\u001b[32m}\u001b[0m\u001b[32m,\\\\n\u001b[0m\u001b[32m}\u001b[0m\u001b[32m\\\\n\\\\nInput:\\\\nSchema:\\\\n\u001b[0m\u001b[32m{\u001b[0m\u001b[32m\\'main_title\\': \u001b[0m\n",
       "\u001b[32m{\u001b[0m\u001b[32m\\'description\\': \\'The primary heading that introduces the main topic of the slide\\', \\'type\\': \\'text\\', \u001b[0m\n",
       "\u001b[32m\\'suggestedCharacters\\': \\'<16\\', \\'default_quantity\\': 1\u001b[0m\u001b[32m}\u001b[0m\u001b[32m, \\'content_text\\': \u001b[0m\u001b[32m{\u001b[0m\u001b[32m\\'description\\': \\'The body text \u001b[0m\n",
       "\u001b[32mproviding detailed explanations, definitions, or information related to the topic\\', \\'type\\': \\'text\\', \u001b[0m\n",
       "\u001b[32m\\'suggestedCharacters\\': \\'64-276\\', \\'default_quantity\\': 4\u001b[0m\u001b[32m}\u001b[0m\u001b[32m}\u001b[0m\u001b[32m\\\\n\\\\nMetadata of Presentation:\\\\ntitle: The History \u001b[0m\n",
       "\u001b[32mof OpenAI\\\\nauthor: OpenAI Documentation Team\\\\npublish date: October 2023\\\\norganization: OpenAI\\\\nPresentation \u001b[0m\n",
       "\u001b[32mTime: 2025-02-02\\\\n\\\\nSlide 1: Opening of The History of OpenAI\\\\nSlide 2: Formation and Vision\\\\nSlide 3: Key \u001b[0m\n",
       "\u001b[32mMilestones and Achievements\\\\nSlide 4: The Future of OpenAI\\\\nSlide 5: Conclusion of The History of \u001b[0m\n",
       "\u001b[32mOpenAI\\\\n\\\\nReference Text:\\\\nSlide-3 Slide Purpose: Key Milestones and Achievements\\\\nSlide Description: Exploring\u001b[0m\n",
       "\u001b[32mOpenAI\\'s notable achievements, including technical innovations, organizational changes, and efforts to democratize\u001b[0m\n",
       "\u001b[32maccess to artificial intelligence.\\\\nSlide Content Source: # Technical Breakthroughs \\\\nOpenAI made significant \u001b[0m\n",
       "\u001b[32mcontributions to AI with the development of groundbreaking models like GPT series \u001b[0m\u001b[32m(\u001b[0m\u001b[32mGenerative Pre-trained \u001b[0m\n",
       "\u001b[32mTransformers\u001b[0m\u001b[32m)\u001b[0m\u001b[32m and DALL·E. These models demonstrated state-of-the-art capabilities in natural language processing \u001b[0m\n",
       "\u001b[32mand image generation.\\\\nSlide Content Source: # Transition to OpenAI LP \\\\nIn 2019, OpenAI transitioned to a \u001b[0m\n",
       "\u001b[32mcapped-profit model as OpenAI LP to attract funding while adhering to its mission. Microsoft became a key partner, \u001b[0m\n",
       "\u001b[32minvesting $1 billion and providing computational resources.\\\\nSlide Content Source: # AI Democratization \\\\nOpenAI \u001b[0m\n",
       "\u001b[32mhas prioritized making its technologies accessible through platforms such as the OpenAI API, enabling developers \u001b[0m\n",
       "\u001b[32mand organizations to integrate AI into various applications while ensuring ethical use.\\\\n\\\\n\\\\nAvailable \u001b[0m\n",
       "\u001b[32mImages:\\\\nNo Images\\\\n\\\\nOutput: Ensure the generated content strictly adheres to the schema specifications, \u001b[0m\n",
       "\u001b[32mfollows the slide style, reader-friendly.\"\u001b[0m\u001b[32m}\u001b[0m\u001b[32m]\u001b[0m\u001b[32m}\u001b[0m\u001b[32m]\u001b[0m\u001b[32m'\u001b[0m\u001b[1;32m]\u001b[0m\n"
      ]
     },
     "metadata": {},
     "output_type": "display_data"
    },
    {
     "data": {
      "text/html": [
       "<pre style=\"white-space:pre;overflow-x:auto;line-height:normal;font-family:Menlo,'DejaVu Sans Mono',consolas,'Courier New',monospace\"><span style=\"color: #800000; text-decoration-color: #800000\">response from gpt-4o-</span><span style=\"color: #008080; text-decoration-color: #008080; font-weight: bold\">2024</span><span style=\"color: #800000; text-decoration-color: #800000\">-</span><span style=\"color: #008080; text-decoration-color: #008080; font-weight: bold\">11</span><span style=\"color: #800000; text-decoration-color: #800000\">-</span><span style=\"color: #008080; text-decoration-color: #008080; font-weight: bold\">20</span><span style=\"color: #800000; text-decoration-color: #800000\">: ```json</span>\n",
       "<span style=\"color: #800000; text-decoration-color: #800000; font-weight: bold\">{</span>\n",
       "<span style=\"color: #800000; text-decoration-color: #800000\">  </span><span style=\"color: #008000; text-decoration-color: #008000\">\"main_title\"</span><span style=\"color: #800000; text-decoration-color: #800000\">: </span><span style=\"color: #800000; text-decoration-color: #800000; font-weight: bold\">{</span>\n",
       "<span style=\"color: #800000; text-decoration-color: #800000\">    </span><span style=\"color: #008000; text-decoration-color: #008000\">\"data\"</span><span style=\"color: #800000; text-decoration-color: #800000\">: </span><span style=\"color: #800000; text-decoration-color: #800000; font-weight: bold\">[</span><span style=\"color: #008000; text-decoration-color: #008000\">\"Key Milestones\"</span><span style=\"color: #800000; text-decoration-color: #800000; font-weight: bold\">]</span>\n",
       "<span style=\"color: #800000; text-decoration-color: #800000\">  </span><span style=\"color: #800000; text-decoration-color: #800000; font-weight: bold\">}</span><span style=\"color: #800000; text-decoration-color: #800000\">,</span>\n",
       "<span style=\"color: #800000; text-decoration-color: #800000\">  </span><span style=\"color: #008000; text-decoration-color: #008000\">\"content_text\"</span><span style=\"color: #800000; text-decoration-color: #800000\">: </span><span style=\"color: #800000; text-decoration-color: #800000; font-weight: bold\">{</span>\n",
       "<span style=\"color: #800000; text-decoration-color: #800000\">    </span><span style=\"color: #008000; text-decoration-color: #008000\">\"data\"</span><span style=\"color: #800000; text-decoration-color: #800000\">: </span><span style=\"color: #800000; text-decoration-color: #800000; font-weight: bold\">[</span>\n",
       "<span style=\"color: #800000; text-decoration-color: #800000\">      </span><span style=\"color: #008000; text-decoration-color: #008000\">\"OpenAI pioneered AI breakthroughs with models like GPT series and DALL·E, pushing natural language and image</span>\n",
       "<span style=\"color: #008000; text-decoration-color: #008000\">generation boundaries.\"</span><span style=\"color: #800000; text-decoration-color: #800000\">,</span>\n",
       "<span style=\"color: #800000; text-decoration-color: #800000\">      </span><span style=\"color: #008000; text-decoration-color: #008000\">\"In 2019, OpenAI transitioned to OpenAI LP. Microsoft invested $1 billion, fostering innovation and providing</span>\n",
       "<span style=\"color: #008000; text-decoration-color: #008000\">computational support.\"</span><span style=\"color: #800000; text-decoration-color: #800000\">,</span>\n",
       "<span style=\"color: #800000; text-decoration-color: #800000\">      </span><span style=\"color: #008000; text-decoration-color: #008000\">\"OpenAI democratized AI access via the OpenAI API, empowering developers and organizations while upholding </span>\n",
       "<span style=\"color: #008000; text-decoration-color: #008000\">ethical standards.\"</span>\n",
       "<span style=\"color: #800000; text-decoration-color: #800000\">    </span><span style=\"color: #800000; text-decoration-color: #800000; font-weight: bold\">]</span>\n",
       "<span style=\"color: #800000; text-decoration-color: #800000\">  </span><span style=\"color: #800000; text-decoration-color: #800000; font-weight: bold\">}</span>\n",
       "<span style=\"color: #800000; text-decoration-color: #800000; font-weight: bold\">}</span>\n",
       "<span style=\"color: #800000; text-decoration-color: #800000\">```</span>\n",
       "</pre>\n"
      ],
      "text/plain": [
       "\u001b[31mresponse from gpt-4o-\u001b[0m\u001b[1;36m2024\u001b[0m\u001b[31m-\u001b[0m\u001b[1;36m11\u001b[0m\u001b[31m-\u001b[0m\u001b[1;36m20\u001b[0m\u001b[31m: ```json\u001b[0m\n",
       "\u001b[1;31m{\u001b[0m\n",
       "\u001b[31m  \u001b[0m\u001b[32m\"main_title\"\u001b[0m\u001b[31m: \u001b[0m\u001b[1;31m{\u001b[0m\n",
       "\u001b[31m    \u001b[0m\u001b[32m\"data\"\u001b[0m\u001b[31m: \u001b[0m\u001b[1;31m[\u001b[0m\u001b[32m\"Key Milestones\"\u001b[0m\u001b[1;31m]\u001b[0m\n",
       "\u001b[31m  \u001b[0m\u001b[1;31m}\u001b[0m\u001b[31m,\u001b[0m\n",
       "\u001b[31m  \u001b[0m\u001b[32m\"content_text\"\u001b[0m\u001b[31m: \u001b[0m\u001b[1;31m{\u001b[0m\n",
       "\u001b[31m    \u001b[0m\u001b[32m\"data\"\u001b[0m\u001b[31m: \u001b[0m\u001b[1;31m[\u001b[0m\n",
       "\u001b[31m      \u001b[0m\u001b[32m\"OpenAI pioneered AI breakthroughs with models like GPT series and DALL·E, pushing natural language and image\u001b[0m\n",
       "\u001b[32mgeneration boundaries.\"\u001b[0m\u001b[31m,\u001b[0m\n",
       "\u001b[31m      \u001b[0m\u001b[32m\"In 2019, OpenAI transitioned to OpenAI LP. Microsoft invested $1 billion, fostering innovation and providing\u001b[0m\n",
       "\u001b[32mcomputational support.\"\u001b[0m\u001b[31m,\u001b[0m\n",
       "\u001b[31m      \u001b[0m\u001b[32m\"OpenAI democratized AI access via the OpenAI API, empowering developers and organizations while upholding \u001b[0m\n",
       "\u001b[32methical standards.\"\u001b[0m\n",
       "\u001b[31m    \u001b[0m\u001b[1;31m]\u001b[0m\n",
       "\u001b[31m  \u001b[0m\u001b[1;31m}\u001b[0m\n",
       "\u001b[1;31m}\u001b[0m\n",
       "\u001b[31m```\u001b[0m\n"
      ]
     },
     "metadata": {},
     "output_type": "display_data"
    },
    {
     "data": {
      "text/html": [
       "<pre style=\"white-space:pre;overflow-x:auto;line-height:normal;font-family:Menlo,'DejaVu Sans Mono',consolas,'Courier New',monospace\"><span style=\"color: #008000; text-decoration-color: #008000\">sending messages to: gpt-4o-</span><span style=\"color: #008080; text-decoration-color: #008080; font-weight: bold\">2024</span><span style=\"color: #008000; text-decoration-color: #008000\">-</span><span style=\"color: #008080; text-decoration-color: #008080; font-weight: bold\">11</span><span style=\"color: #008000; text-decoration-color: #008000\">-</span><span style=\"color: #008080; text-decoration-color: #008080; font-weight: bold\">20</span><span style=\"color: #008000; text-decoration-color: #008000\">, message </span><span style=\"color: #008000; text-decoration-color: #008000; font-weight: bold\">(</span><span style=\"color: #008000; text-decoration-color: #008000\">truncated</span><span style=\"color: #008000; text-decoration-color: #008000; font-weight: bold\">)</span><span style=\"color: #008000; text-decoration-color: #008000\">: </span><span style=\"color: #008000; text-decoration-color: #008000; font-weight: bold\">[{</span><span style=\"color: #008000; text-decoration-color: #008000\">'role'</span><span style=\"color: #008000; text-decoration-color: #008000\">: </span><span style=\"color: #008000; text-decoration-color: #008000\">'system'</span><span style=\"color: #008000; text-decoration-color: #008000\">, </span><span style=\"color: #008000; text-decoration-color: #008000\">'content'</span><span style=\"color: #008000; text-decoration-color: #008000\">: </span><span style=\"color: #008000; text-decoration-color: #008000; font-weight: bold\">[{</span><span style=\"color: #008000; text-decoration-color: #008000\">'type'</span><span style=\"color: #008000; text-decoration-color: #008000\">: </span><span style=\"color: #008000; text-decoration-color: #008000\">'text'</span><span style=\"color: #008000; text-decoration-color: #008000\">, </span>\n",
       "<span style=\"color: #008000; text-decoration-color: #008000\">'text'</span><span style=\"color: #008000; text-decoration-color: #008000\">: </span><span style=\"color: #008000; text-decoration-color: #008000\">'You are a Code Generator agent specializing in slide manipulation. You precisely translate content edit </span>\n",
       "<span style=\"color: #008000; text-decoration-color: #008000\">commands into API calls by understanding HTML structure.'</span><span style=\"color: #008000; text-decoration-color: #008000; font-weight: bold\">}]}</span><span style=\"color: #008000; text-decoration-color: #008000\">, </span><span style=\"color: #008000; text-decoration-color: #008000\">'[{\"role\": \"user\", \"content\": [{\"type\": \"text\", </span>\n",
       "<span style=\"color: #008000; text-decoration-color: #008000\">\"text\": \"Generate API calls based on the provided commands, ensuring compliance with the specified rules and </span>\n",
       "<span style=\"color: #008000; text-decoration-color: #008000\">precise execution.\\\\nYou must determine the parent-child relationships of elements based on indentation and ensure </span>\n",
       "<span style=\"color: #008000; text-decoration-color: #008000\">that all &lt;p&gt; and &lt;img&gt; elements are modified.\\\\n\\\\nEach command follows this format: (element_class, type, </span>\n",
       "<span style=\"color: #008000; text-decoration-color: #008000\">quantity_change: int, old_data, new_data).\\\\n\\\\nAvailable APIs\\\\n\\\\ndef replace_image(img_id: int, image_path: </span>\n",
       "<span style=\"color: #008000; text-decoration-color: #008000\">str)\\\\n\\\\tReplace an image in a slide.\\\\n\\\\nArgs:\\\\n    slide (SlidePage): The slide containing the image.\\\\n    </span>\n",
       "<span style=\"color: #008000; text-decoration-color: #008000\">img_id (int): The ID of the image to replace.\\\\n    image_path (str): The path to the new image.\\\\n\\\\nRaises:\\\\n   </span>\n",
       "<span style=\"color: #008000; text-decoration-color: #008000\">ValueError: If the image path does not exist.\\\\n\\\\ndef del_image(figure_id: int)\\\\n\\\\tDelete an image from a </span>\n",
       "<span style=\"color: #008000; text-decoration-color: #008000\">slide.\\\\n\\\\nArgs:\\\\n    slide (SlidePage): The slide containing the image.\\\\n    figure_id (int): The ID of the </span>\n",
       "<span style=\"color: #008000; text-decoration-color: #008000\">image to delete.\\\\n\\\\ndef clone_paragraph(div_id: int, paragraph_id: int)\\\\n\\\\tClone a paragraph in a </span>\n",
       "<span style=\"color: #008000; text-decoration-color: #008000\">slide.\\\\n\\\\nArgs:\\\\n    slide (SlidePage): The slide containing the paragraph.\\\\n    div_id (int): The ID of the </span>\n",
       "<span style=\"color: #008000; text-decoration-color: #008000\">division containing the paragraph.\\\\n    paragraph_id (int): The ID of the paragraph to clone.\\\\n\\\\nRaises:\\\\n    </span>\n",
       "<span style=\"color: #008000; text-decoration-color: #008000\">IndexError: If the paragraph is not found.\\\\n\\\\nMention: the cloned paragraph will have a paragraph_id one greater </span>\n",
       "<span style=\"color: #008000; text-decoration-color: #008000\">than the current maximum in the parent element.\\\\n\\\\ndef replace_paragraph(div_id: int, paragraph_id: int, text: </span>\n",
       "<span style=\"color: #008000; text-decoration-color: #008000\">str)\\\\n\\\\tReplace the text of a paragraph in a slide.\\\\n\\\\nArgs:\\\\n    slide (SlidePage): The slide containing the </span>\n",
       "<span style=\"color: #008000; text-decoration-color: #008000\">paragraph.\\\\n    div_id (int): The ID of the division containing the paragraph.\\\\n    paragraph_id (int): The ID of</span>\n",
       "<span style=\"color: #008000; text-decoration-color: #008000\">the paragraph to replace.\\\\n    text (str): The new text to replace with.\\\\n\\\\nRaises:\\\\n    IndexError: If the </span>\n",
       "<span style=\"color: #008000; text-decoration-color: #008000\">paragraph is not found.\\\\n\\\\ndef del_paragraph(div_id: int, paragraph_id: int)\\\\n\\\\tDelete a paragraph from a </span>\n",
       "<span style=\"color: #008000; text-decoration-color: #008000\">slide.\\\\n\\\\nArgs:\\\\n    slide (SlidePage): The slide containing the paragraph.\\\\n    div_id (int): The ID of the </span>\n",
       "<span style=\"color: #008000; text-decoration-color: #008000\">division containing the paragraph.\\\\n    paragraph_id (int): The ID of the paragraph to delete.\\\\n\\\\nRaises:\\\\n    </span>\n",
       "<span style=\"color: #008000; text-decoration-color: #008000\">IndexError: If the paragraph is not found.\\\\n\\\\nSteps\\\\n    1.\\\\tQuantity Adjustment:\\\\n    -\\\\tIf quantity_change </span>\n",
       "<span style=\"color: #008000; text-decoration-color: #008000\">= 0, modify the content only.\\\\n    -\\\\tIf quantity_change &gt; 0, use clone_paragraph to add the specified number of </span>\n",
       "<span style=\"color: #008000; text-decoration-color: #008000\">paragraphs from the same element_class. The paragraph_id for newly cloned paragraphs should be the current maximum </span>\n",
       "<span style=\"color: #008000; text-decoration-color: #008000\">paragraph_id of the parent element plus 1.\\\\n    -\\\\tIf quantity_change &lt; 0, use del_paragraph or del_image to </span>\n",
       "<span style=\"color: #008000; text-decoration-color: #008000\">remove the specified number of tail elements.\\\\n    -\\\\tEach command’s API call group must exclusively use either </span>\n",
       "<span style=\"color: #008000; text-decoration-color: #008000\">clone_paragraph or del_paragraph/del_image based on the `quantity_change`\\\\n    2.\\\\tContent Modification:\\\\n    </span>\n",
       "<span style=\"color: #008000; text-decoration-color: #008000\">-\\\\tText Content: Use replace_paragraph to modify the content.\\\\n    -\\\\tImage Content: Use replace_image to </span>\n",
       "<span style=\"color: #008000; text-decoration-color: #008000\">replace image resources.\\\\n    3.\\\\tOutput Format:\\\\n    -\\\\tAdd comments to each API call group, explaining the </span>\n",
       "<span style=\"color: #008000; text-decoration-color: #008000\">intent of the original command and the associated element_class.\\\\n    -\\\\tFor cloning operations, annotate the </span>\n",
       "<span style=\"color: #008000; text-decoration-color: #008000\">paragraph_id of the newly created paragraphs.\\\\n\\\\nExample Input:\\\\n\\\\n&lt;div id=\\\\\"0\\\\\" style=\\\\\"font-size: 24pt; </span>\n",
       "<span style=\"color: #008000; text-decoration-color: #008000\">color: #0D0D0D\\\\\"&gt;\\\\n    &lt;p id=\\\\\"0\\\\\"&gt;\\\\n       WorldFAIR: Global cooperation on FAIR data policy and practice\\\\n </span>\n",
       "<span style=\"color: #008000; text-decoration-color: #008000\">&lt;/p&gt;\\\\n&lt;/div&gt;\\\\n\\\\n&lt;div id=\\\\\"1\\\\\" style=\\\\\"font-size: 13pt; color: #404040\\\\\"&gt;\\\\n    &lt;ul&gt;\\\\n        &lt;li id=\\\\\"0\\\\\"</span>\n",
       "<span style=\"color: #008000; text-decoration-color: #008000\">bullet-type=\\\\\"▪\\\\\"&gt;\\\\n            Two-year project to advance implementation...\\\\n        &lt;/li&gt;\\\\n        &lt;li </span>\n",
       "<span style=\"color: #008000; text-decoration-color: #008000\">id=\\\\\"1\\\\\" style=\\\\\"font-weight: bold\\\\\" bullet-type=\\\\\"▪\\\\\"&gt;\\\\n            Funded by the European Union...\\\\n     </span>\n",
       "<span style=\"color: #008000; text-decoration-color: #008000\">&lt;/li&gt;\\\\n    &lt;/ul&gt;\\\\n&lt;/div&gt;\\\\n\\\\n&lt;img id=\\\\\"2\\\\\" alt=\\\\\"logo: project of xx\\\\\"&gt;\\\\n\\\\n[\\\\n    (\\\\\"title\\\\\", </span>\n",
       "<span style=\"color: #008000; text-decoration-color: #008000\">\\\\\"text\\\\\", \\\\\"quantity_change: 0\\\\\", [\\\\\"WorldFAIR: Global cooperation on FAIR data policy and practice\\\\\"], </span>\n",
       "<span style=\"color: #008000; text-decoration-color: #008000\">[\\\\\"New Title\\\\\"]),\\\\n    (\\\\\"project_description\\\\\", \\\\\"text\\\\\", \\\\\"quantity_change: 1\\\\\", [\\\\\"Two-year project to</span>\n",
       "<span style=\"color: #008000; text-decoration-color: #008000\">advance implementation of the FAIR principles\\\\\"], [\\\\\"New project description1\\\\\", \\\\\"New project </span>\n",
       "<span style=\"color: #008000; text-decoration-color: #008000\">description2\\\\\"]),\\\\n    (\\\\\"funding_info\\\\\", \\\\\"text\\\\\", \\\\\"quantity_change: -1\\\\\", [\\\\\"Funded by the European </span>\n",
       "<span style=\"color: #008000; text-decoration-color: #008000\">Union\\\\\"], []),\\\\n    (\\\\\"project_logo\\\\\", \\\\\"image\\\\\", \\\\\"quantity_change: 0\\\\\", [\\\\\"logo: project of xx\\\\\"], </span>\n",
       "<span style=\"color: #008000; text-decoration-color: #008000\">[\\\\\"new_logo.png\\\\\"])\\\\n]\\\\n\\\\nExample Output\\\\n# (\\\\\"title\\\\\", \\\\\"text\\\\\", \\\\\"quantity_change: 0\\\\\", </span>\n",
       "<span style=\"color: #008000; text-decoration-color: #008000\">[\\\\\"WorldFAIR: Global cooperation on FAIR data policy and practice\\\\\"], [\\\\\"New Title\\\\\"])\\\\nreplace_paragraph(0, </span>\n",
       "<span style=\"color: #008000; text-decoration-color: #008000\">0, \\\\\"New Title\\\\\")\\\\n\\\\n# (\\\\\"project_description\\\\\", \\\\\"text\\\\\", \\\\\"quantity_change: 1\\\\\", [\\\\\"Two-year project </span>\n",
       "<span style=\"color: #008000; text-decoration-color: #008000\">to advance implementation of the FAIR principles\\\\\"], [\\\\\"New project description1\\\\\", \\\\\"New project </span>\n",
       "<span style=\"color: #008000; text-decoration-color: #008000\">description2\\\\\"])\\\\nclone_paragraph(1, 0)  # New cloned paragraph_id is 2 as the current max paragraph_id is </span>\n",
       "<span style=\"color: #008000; text-decoration-color: #008000\">1\\\\nreplace_paragraph(1, 0, \\\\\"New project description1\\\\\")\\\\nreplace_paragraph(1, 2, \\\\\"New project </span>\n",
       "<span style=\"color: #008000; text-decoration-color: #008000\">description2\\\\\")\\\\n\\\\n# (\\\\\"funding_info\\\\\", \\\\\"text\\\\\", \\\\\"quantity_change: -1\\\\\", [\\\\\"Funded by the European </span>\n",
       "<span style=\"color: #008000; text-decoration-color: #008000\">Union\\\\\"], [])\\\\ndel_paragraph(1, 1)\\\\n\\\\n# (\\\\\"project_logo\\\\\", \\\\\"image\\\\\", \\\\\"quantity_change: 0\\\\\", [\\\\\"logo: </span>\n",
       "<span style=\"color: #008000; text-decoration-color: #008000\">project of xx\\\\\"], [\\\\\"new_logo.png\\\\\"])\\\\nreplace_image(2, \\\\\"new_logo.png\\\\\")\\\\n\\\\nCurrent Slide </span>\n",
       "<span style=\"color: #008000; text-decoration-color: #008000\">Content:\\\\n&lt;!DOCTYPE html&gt;\\\\n&lt;html&gt;\\\\n&lt;title&gt;What is Tourism?&lt;/title&gt;\\\\n&lt;body style=\\\\\"width:960pt; </span>\n",
       "<span style=\"color: #008000; text-decoration-color: #008000\">height:540pt;\\\\\"&gt;\\\\n&lt;div id=\\'0\\'&gt;\\\\n\\\\t&lt;p id=\\'0\\'&gt;What is Tourism?&lt;/p&gt;\\\\n&lt;/div&gt;\\\\n\\\\n&lt;div id=\\'1\\' </span>\n",
       "<span style=\"color: #008000; text-decoration-color: #008000\">style=\\'font-size: 20pt\\'&gt;\\\\n\\\\t&lt;p id=\\'0\\'&gt;The World Tourism Organisation defines tourism in terms which </span>\n",
       "<span style=\"color: #008000; text-decoration-color: #008000\">go&lt;/p&gt;\\\\n\\\\t&lt;p id=\\'1\\'&gt;“ beyond the common perception of tourism as being limited to holiday activity only”, as </span>\n",
       "<span style=\"color: #008000; text-decoration-color: #008000\">people “ travelling to and staying in places outside their usual environment for not more than one consecutive year</span>\n",
       "<span style=\"color: #008000; text-decoration-color: #008000\">for leisure, business and other purposes”&lt;/p&gt;\\\\n\\\\t&lt;p id=\\'2\\'&gt;Its importance was recognised in the Manila </span>\n",
       "<span style=\"color: #008000; text-decoration-color: #008000\">Declaration on World Tourism of 1980 as an activity essential to the life of nations because of its direct effects </span>\n",
       "<span style=\"color: #008000; text-decoration-color: #008000\">on the social, cultural, educational, and economic sectors of national societies and on their international </span>\n",
       "<span style=\"color: #008000; text-decoration-color: #008000\">relations&lt;/p&gt;\\\\n\\\\t&lt;p id=\\'3\\'&gt;Today, tourism is a major source of income for many countries, and affects the </span>\n",
       "<span style=\"color: #008000; text-decoration-color: #008000\">economy of both the source and the host countries, in some cases being of vital </span>\n",
       "<span style=\"color: #008000; text-decoration-color: #008000\">importance&lt;/p&gt;\\\\n&lt;/div&gt;\\\\n&lt;/body&gt;\\\\n&lt;/html&gt;\\\\n\\\\n\\\\nCommand List:\\\\n(\\'main_title\\', \\'text\\', \\'quantity_change: </span>\n",
       "<span style=\"color: #008000; text-decoration-color: #008000\">0\\', [\\'What is Tourism?\\'], [\\'Key Milestones\\'])\\\\n(\\'content_text\\', \\'text\\', \\'quantity_change: -1\\', [\\'The </span>\n",
       "<span style=\"color: #008000; text-decoration-color: #008000\">World Tourism Organisation defines tourism in terms which go\\', \\'“ beyond the common perception of tourism as </span>\n",
       "<span style=\"color: #008000; text-decoration-color: #008000\">being limited to holiday activity only”, as people “ travelling to and staying in places outside their usual </span>\n",
       "<span style=\"color: #008000; text-decoration-color: #008000\">environment for not more than one consecutive year for leisure, business and other purposes”\\', \\'Its importance </span>\n",
       "<span style=\"color: #008000; text-decoration-color: #008000\">was recognised in the Manila Declaration on World Tourism of 1980 as an activity essential to the life of nations </span>\n",
       "<span style=\"color: #008000; text-decoration-color: #008000\">because of its direct effects on the social, cultural, educational, and economic sectors of national societies and </span>\n",
       "<span style=\"color: #008000; text-decoration-color: #008000\">on their international relations\\', \\'Today, tourism is a major source of income for many countries, and affects </span>\n",
       "<span style=\"color: #008000; text-decoration-color: #008000\">the economy of both the source and the host countries, in some cases being of vital importance\\'], [\\'OpenAI </span>\n",
       "<span style=\"color: #008000; text-decoration-color: #008000\">pioneered AI breakthroughs with models like GPT series and DALL·E, pushing natural language and image generation </span>\n",
       "<span style=\"color: #008000; text-decoration-color: #008000\">boundaries.\\', \\'In 2019, OpenAI transitioned to OpenAI LP. Microsoft invested $1 billion, fostering innovation and</span>\n",
       "<span style=\"color: #008000; text-decoration-color: #008000\">providing computational support.\\', \\'OpenAI democratized AI access via the OpenAI API, empowering developers and </span>\n",
       "<span style=\"color: #008000; text-decoration-color: #008000\">organizations while upholding ethical standards.\\'])\\\\n\\\\nPlease output only the API call sequence, one call per </span>\n",
       "<span style=\"color: #008000; text-decoration-color: #008000\">line, wrapped in ```python and ```, with comments for corresponding commands.\"}]}]'</span><span style=\"color: #008000; text-decoration-color: #008000; font-weight: bold\">]</span>\n",
       "</pre>\n"
      ],
      "text/plain": [
       "\u001b[32msending messages to: gpt-4o-\u001b[0m\u001b[1;36m2024\u001b[0m\u001b[32m-\u001b[0m\u001b[1;36m11\u001b[0m\u001b[32m-\u001b[0m\u001b[1;36m20\u001b[0m\u001b[32m, message \u001b[0m\u001b[1;32m(\u001b[0m\u001b[32mtruncated\u001b[0m\u001b[1;32m)\u001b[0m\u001b[32m: \u001b[0m\u001b[1;32m[\u001b[0m\u001b[1;32m{\u001b[0m\u001b[32m'role'\u001b[0m\u001b[32m: \u001b[0m\u001b[32m'system'\u001b[0m\u001b[32m, \u001b[0m\u001b[32m'content'\u001b[0m\u001b[32m: \u001b[0m\u001b[1;32m[\u001b[0m\u001b[1;32m{\u001b[0m\u001b[32m'type'\u001b[0m\u001b[32m: \u001b[0m\u001b[32m'text'\u001b[0m\u001b[32m, \u001b[0m\n",
       "\u001b[32m'text'\u001b[0m\u001b[32m: \u001b[0m\u001b[32m'You are a Code Generator agent specializing in slide manipulation. You precisely translate content edit \u001b[0m\n",
       "\u001b[32mcommands into API calls by understanding HTML structure.'\u001b[0m\u001b[1;32m}\u001b[0m\u001b[1;32m]\u001b[0m\u001b[1;32m}\u001b[0m\u001b[32m, \u001b[0m\u001b[32m'\u001b[0m\u001b[32m[\u001b[0m\u001b[32m{\u001b[0m\u001b[32m\"role\": \"user\", \"content\": \u001b[0m\u001b[32m[\u001b[0m\u001b[32m{\u001b[0m\u001b[32m\"type\": \"text\", \u001b[0m\n",
       "\u001b[32m\"text\": \"Generate API calls based on the provided commands, ensuring compliance with the specified rules and \u001b[0m\n",
       "\u001b[32mprecise execution.\\\\nYou must determine the parent-child relationships of elements based on indentation and ensure \u001b[0m\n",
       "\u001b[32mthat all \u001b[0m\u001b[32m<\u001b[0m\u001b[32mp\u001b[0m\u001b[32m> and <img> elements are modified.\\\\n\\\\nEach command follows this format: \u001b[0m\u001b[32m(\u001b[0m\u001b[32melement_class, type, \u001b[0m\n",
       "\u001b[32mquantity_change: int, old_data, new_data\u001b[0m\u001b[32m)\u001b[0m\u001b[32m.\\\\n\\\\nAvailable APIs\\\\n\\\\ndef replace_image\u001b[0m\u001b[32m(\u001b[0m\u001b[32mimg_id: int, image_path: \u001b[0m\n",
       "\u001b[32mstr\u001b[0m\u001b[32m)\u001b[0m\u001b[32m\\\\n\\\\tReplace an image in a slide.\\\\n\\\\nArgs:\\\\n    slide \u001b[0m\u001b[32m(\u001b[0m\u001b[32mSlidePage\u001b[0m\u001b[32m)\u001b[0m\u001b[32m: The slide containing the image.\\\\n    \u001b[0m\n",
       "\u001b[32mimg_id \u001b[0m\u001b[32m(\u001b[0m\u001b[32mint\u001b[0m\u001b[32m)\u001b[0m\u001b[32m: The ID of the image to replace.\\\\n    image_path \u001b[0m\u001b[32m(\u001b[0m\u001b[32mstr\u001b[0m\u001b[32m)\u001b[0m\u001b[32m: The path to the new image.\\\\n\\\\nRaises:\\\\n   \u001b[0m\n",
       "\u001b[32mValueError: If the image path does not exist.\\\\n\\\\ndef del_image\u001b[0m\u001b[32m(\u001b[0m\u001b[32mfigure_id: int\u001b[0m\u001b[32m)\u001b[0m\u001b[32m\\\\n\\\\tDelete an image from a \u001b[0m\n",
       "\u001b[32mslide.\\\\n\\\\nArgs:\\\\n    slide \u001b[0m\u001b[32m(\u001b[0m\u001b[32mSlidePage\u001b[0m\u001b[32m)\u001b[0m\u001b[32m: The slide containing the image.\\\\n    figure_id \u001b[0m\u001b[32m(\u001b[0m\u001b[32mint\u001b[0m\u001b[32m)\u001b[0m\u001b[32m: The ID of the \u001b[0m\n",
       "\u001b[32mimage to delete.\\\\n\\\\ndef clone_paragraph\u001b[0m\u001b[32m(\u001b[0m\u001b[32mdiv_id: int, paragraph_id: int\u001b[0m\u001b[32m)\u001b[0m\u001b[32m\\\\n\\\\tClone a paragraph in a \u001b[0m\n",
       "\u001b[32mslide.\\\\n\\\\nArgs:\\\\n    slide \u001b[0m\u001b[32m(\u001b[0m\u001b[32mSlidePage\u001b[0m\u001b[32m)\u001b[0m\u001b[32m: The slide containing the paragraph.\\\\n    div_id \u001b[0m\u001b[32m(\u001b[0m\u001b[32mint\u001b[0m\u001b[32m)\u001b[0m\u001b[32m: The ID of the \u001b[0m\n",
       "\u001b[32mdivision containing the paragraph.\\\\n    paragraph_id \u001b[0m\u001b[32m(\u001b[0m\u001b[32mint\u001b[0m\u001b[32m)\u001b[0m\u001b[32m: The ID of the paragraph to clone.\\\\n\\\\nRaises:\\\\n    \u001b[0m\n",
       "\u001b[32mIndexError: If the paragraph is not found.\\\\n\\\\nMention: the cloned paragraph will have a paragraph_id one greater \u001b[0m\n",
       "\u001b[32mthan the current maximum in the parent element.\\\\n\\\\ndef replace_paragraph\u001b[0m\u001b[32m(\u001b[0m\u001b[32mdiv_id: int, paragraph_id: int, text: \u001b[0m\n",
       "\u001b[32mstr\u001b[0m\u001b[32m)\u001b[0m\u001b[32m\\\\n\\\\tReplace the text of a paragraph in a slide.\\\\n\\\\nArgs:\\\\n    slide \u001b[0m\u001b[32m(\u001b[0m\u001b[32mSlidePage\u001b[0m\u001b[32m)\u001b[0m\u001b[32m: The slide containing the \u001b[0m\n",
       "\u001b[32mparagraph.\\\\n    div_id \u001b[0m\u001b[32m(\u001b[0m\u001b[32mint\u001b[0m\u001b[32m)\u001b[0m\u001b[32m: The ID of the division containing the paragraph.\\\\n    paragraph_id \u001b[0m\u001b[32m(\u001b[0m\u001b[32mint\u001b[0m\u001b[32m)\u001b[0m\u001b[32m: The ID of\u001b[0m\n",
       "\u001b[32mthe paragraph to replace.\\\\n    text \u001b[0m\u001b[32m(\u001b[0m\u001b[32mstr\u001b[0m\u001b[32m)\u001b[0m\u001b[32m: The new text to replace with.\\\\n\\\\nRaises:\\\\n    IndexError: If the \u001b[0m\n",
       "\u001b[32mparagraph is not found.\\\\n\\\\ndef del_paragraph\u001b[0m\u001b[32m(\u001b[0m\u001b[32mdiv_id: int, paragraph_id: int\u001b[0m\u001b[32m)\u001b[0m\u001b[32m\\\\n\\\\tDelete a paragraph from a \u001b[0m\n",
       "\u001b[32mslide.\\\\n\\\\nArgs:\\\\n    slide \u001b[0m\u001b[32m(\u001b[0m\u001b[32mSlidePage\u001b[0m\u001b[32m)\u001b[0m\u001b[32m: The slide containing the paragraph.\\\\n    div_id \u001b[0m\u001b[32m(\u001b[0m\u001b[32mint\u001b[0m\u001b[32m)\u001b[0m\u001b[32m: The ID of the \u001b[0m\n",
       "\u001b[32mdivision containing the paragraph.\\\\n    paragraph_id \u001b[0m\u001b[32m(\u001b[0m\u001b[32mint\u001b[0m\u001b[32m)\u001b[0m\u001b[32m: The ID of the paragraph to delete.\\\\n\\\\nRaises:\\\\n    \u001b[0m\n",
       "\u001b[32mIndexError: If the paragraph is not found.\\\\n\\\\nSteps\\\\n    1.\\\\tQuantity Adjustment:\\\\n    -\\\\tIf quantity_change \u001b[0m\n",
       "\u001b[32m= 0, modify the content only.\\\\n    -\\\\tIf quantity_change > 0, use clone_paragraph to add the specified number of \u001b[0m\n",
       "\u001b[32mparagraphs from the same element_class. The paragraph_id for newly cloned paragraphs should be the current maximum \u001b[0m\n",
       "\u001b[32mparagraph_id of the parent element plus 1.\\\\n    -\\\\tIf quantity_change < 0, use del_paragraph or del_image to \u001b[0m\n",
       "\u001b[32mremove the specified number of tail elements.\\\\n    -\\\\tEach command’s API call group must exclusively use either \u001b[0m\n",
       "\u001b[32mclone_paragraph or del_paragraph/del_image based on the `quantity_change`\\\\n    2.\\\\tContent Modification:\\\\n    \u001b[0m\n",
       "\u001b[32m-\\\\tText Content: Use replace_paragraph to modify the content.\\\\n    -\\\\tImage Content: Use replace_image to \u001b[0m\n",
       "\u001b[32mreplace image resources.\\\\n    3.\\\\tOutput Format:\\\\n    -\\\\tAdd comments to each API call group, explaining the \u001b[0m\n",
       "\u001b[32mintent of the original command and the associated element_class.\\\\n    -\\\\tFor cloning operations, annotate the \u001b[0m\n",
       "\u001b[32mparagraph_id of the newly created paragraphs.\\\\n\\\\nExample Input:\\\\n\\\\n<div \u001b[0m\u001b[32mid\u001b[0m\u001b[32m=\\\\\"0\\\\\" \u001b[0m\u001b[32mstyle\u001b[0m\u001b[32m=\\\\\"font-size: 24pt; \u001b[0m\n",
       "\u001b[32mcolor: #0D0D0D\\\\\">\\\\n    <p \u001b[0m\u001b[32mid\u001b[0m\u001b[32m=\\\\\"0\\\\\">\\\\n       WorldFAIR: Global cooperation on FAIR data policy and practice\\\\n \u001b[0m\n",
       "\u001b[32m</p>\\\\n</div>\\\\n\\\\n<div \u001b[0m\u001b[32mid\u001b[0m\u001b[32m=\\\\\"1\\\\\" \u001b[0m\u001b[32mstyle\u001b[0m\u001b[32m=\\\\\"font-size: 13pt; color: #404040\\\\\">\\\\n    <ul>\\\\n        <li \u001b[0m\u001b[32mid\u001b[0m\u001b[32m=\\\\\"0\\\\\"\u001b[0m\n",
       "\u001b[32mbullet-\u001b[0m\u001b[32mtype\u001b[0m\u001b[32m=\\\\\"▪\\\\\">\\\\n            Two-year project to advance implementation...\\\\n        </li>\\\\n        <li \u001b[0m\n",
       "\u001b[32mid\u001b[0m\u001b[32m=\\\\\"1\\\\\" \u001b[0m\u001b[32mstyle\u001b[0m\u001b[32m=\\\\\"font-weight: bold\\\\\" bullet-\u001b[0m\u001b[32mtype\u001b[0m\u001b[32m=\\\\\"▪\\\\\">\\\\n            Funded by the European Union...\\\\n     \u001b[0m\n",
       "\u001b[32m</li>\\\\n    </ul>\\\\n</div>\\\\n\\\\n<img \u001b[0m\u001b[32mid\u001b[0m\u001b[32m=\\\\\"2\\\\\" \u001b[0m\u001b[32malt\u001b[0m\u001b[32m=\\\\\"logo: project of xx\\\\\">\\\\n\\\\n\u001b[0m\u001b[32m[\u001b[0m\u001b[32m\\\\n    \u001b[0m\u001b[32m(\u001b[0m\u001b[32m\\\\\"title\\\\\", \u001b[0m\n",
       "\u001b[32m\\\\\"text\\\\\", \\\\\"quantity_change: 0\\\\\", \u001b[0m\u001b[32m[\u001b[0m\u001b[32m\\\\\"WorldFAIR: Global cooperation on FAIR data policy and practice\\\\\"\u001b[0m\u001b[32m]\u001b[0m\u001b[32m, \u001b[0m\n",
       "\u001b[32m[\u001b[0m\u001b[32m\\\\\"New Title\\\\\"\u001b[0m\u001b[32m]\u001b[0m\u001b[32m)\u001b[0m\u001b[32m,\\\\n    \u001b[0m\u001b[32m(\u001b[0m\u001b[32m\\\\\"project_description\\\\\", \\\\\"text\\\\\", \\\\\"quantity_change: 1\\\\\", \u001b[0m\u001b[32m[\u001b[0m\u001b[32m\\\\\"Two-year project to\u001b[0m\n",
       "\u001b[32madvance implementation of the FAIR principles\\\\\"\u001b[0m\u001b[32m]\u001b[0m\u001b[32m, \u001b[0m\u001b[32m[\u001b[0m\u001b[32m\\\\\"New project description1\\\\\", \\\\\"New project \u001b[0m\n",
       "\u001b[32mdescription2\\\\\"\u001b[0m\u001b[32m]\u001b[0m\u001b[32m)\u001b[0m\u001b[32m,\\\\n    \u001b[0m\u001b[32m(\u001b[0m\u001b[32m\\\\\"funding_info\\\\\", \\\\\"text\\\\\", \\\\\"quantity_change: -1\\\\\", \u001b[0m\u001b[32m[\u001b[0m\u001b[32m\\\\\"Funded by the European \u001b[0m\n",
       "\u001b[32mUnion\\\\\"\u001b[0m\u001b[32m]\u001b[0m\u001b[32m, \u001b[0m\u001b[32m[\u001b[0m\u001b[32m]\u001b[0m\u001b[32m)\u001b[0m\u001b[32m,\\\\n    \u001b[0m\u001b[32m(\u001b[0m\u001b[32m\\\\\"project_logo\\\\\", \\\\\"image\\\\\", \\\\\"quantity_change: 0\\\\\", \u001b[0m\u001b[32m[\u001b[0m\u001b[32m\\\\\"logo: project of xx\\\\\"\u001b[0m\u001b[32m]\u001b[0m\u001b[32m, \u001b[0m\n",
       "\u001b[32m[\u001b[0m\u001b[32m\\\\\"new_logo.png\\\\\"\u001b[0m\u001b[32m]\u001b[0m\u001b[32m)\u001b[0m\u001b[32m\\\\n\u001b[0m\u001b[32m]\u001b[0m\u001b[32m\\\\n\\\\nExample Output\\\\n# \u001b[0m\u001b[32m(\u001b[0m\u001b[32m\\\\\"title\\\\\", \\\\\"text\\\\\", \\\\\"quantity_change: 0\\\\\", \u001b[0m\n",
       "\u001b[32m[\u001b[0m\u001b[32m\\\\\"WorldFAIR: Global cooperation on FAIR data policy and practice\\\\\"\u001b[0m\u001b[32m]\u001b[0m\u001b[32m, \u001b[0m\u001b[32m[\u001b[0m\u001b[32m\\\\\"New Title\\\\\"\u001b[0m\u001b[32m]\u001b[0m\u001b[32m)\u001b[0m\u001b[32m\\\\nreplace_paragraph\u001b[0m\u001b[32m(\u001b[0m\u001b[32m0, \u001b[0m\n",
       "\u001b[32m0, \\\\\"New Title\\\\\"\u001b[0m\u001b[32m)\u001b[0m\u001b[32m\\\\n\\\\n# \u001b[0m\u001b[32m(\u001b[0m\u001b[32m\\\\\"project_description\\\\\", \\\\\"text\\\\\", \\\\\"quantity_change: 1\\\\\", \u001b[0m\u001b[32m[\u001b[0m\u001b[32m\\\\\"Two-year project \u001b[0m\n",
       "\u001b[32mto advance implementation of the FAIR principles\\\\\"\u001b[0m\u001b[32m]\u001b[0m\u001b[32m, \u001b[0m\u001b[32m[\u001b[0m\u001b[32m\\\\\"New project description1\\\\\", \\\\\"New project \u001b[0m\n",
       "\u001b[32mdescription2\\\\\"\u001b[0m\u001b[32m]\u001b[0m\u001b[32m)\u001b[0m\u001b[32m\\\\nclone_paragraph\u001b[0m\u001b[32m(\u001b[0m\u001b[32m1, 0\u001b[0m\u001b[32m)\u001b[0m\u001b[32m  # New cloned paragraph_id is 2 as the current max paragraph_id is \u001b[0m\n",
       "\u001b[32m1\\\\nreplace_paragraph\u001b[0m\u001b[32m(\u001b[0m\u001b[32m1, 0, \\\\\"New project description1\\\\\"\u001b[0m\u001b[32m)\u001b[0m\u001b[32m\\\\nreplace_paragraph\u001b[0m\u001b[32m(\u001b[0m\u001b[32m1, 2, \\\\\"New project \u001b[0m\n",
       "\u001b[32mdescription2\\\\\"\u001b[0m\u001b[32m)\u001b[0m\u001b[32m\\\\n\\\\n# \u001b[0m\u001b[32m(\u001b[0m\u001b[32m\\\\\"funding_info\\\\\", \\\\\"text\\\\\", \\\\\"quantity_change: -1\\\\\", \u001b[0m\u001b[32m[\u001b[0m\u001b[32m\\\\\"Funded by the European \u001b[0m\n",
       "\u001b[32mUnion\\\\\"\u001b[0m\u001b[32m]\u001b[0m\u001b[32m, \u001b[0m\u001b[32m[\u001b[0m\u001b[32m]\u001b[0m\u001b[32m)\u001b[0m\u001b[32m\\\\ndel_paragraph\u001b[0m\u001b[32m(\u001b[0m\u001b[32m1, 1\u001b[0m\u001b[32m)\u001b[0m\u001b[32m\\\\n\\\\n# \u001b[0m\u001b[32m(\u001b[0m\u001b[32m\\\\\"project_logo\\\\\", \\\\\"image\\\\\", \\\\\"quantity_change: 0\\\\\", \u001b[0m\u001b[32m[\u001b[0m\u001b[32m\\\\\"logo: \u001b[0m\n",
       "\u001b[32mproject of xx\\\\\"\u001b[0m\u001b[32m]\u001b[0m\u001b[32m, \u001b[0m\u001b[32m[\u001b[0m\u001b[32m\\\\\"new_logo.png\\\\\"\u001b[0m\u001b[32m]\u001b[0m\u001b[32m)\u001b[0m\u001b[32m\\\\nreplace_image\u001b[0m\u001b[32m(\u001b[0m\u001b[32m2, \\\\\"new_logo.png\\\\\"\u001b[0m\u001b[32m)\u001b[0m\u001b[32m\\\\n\\\\nCurrent Slide \u001b[0m\n",
       "\u001b[32mContent:\\\\n<!DOCTYPE html>\\\\n<html>\\\\n<title>What is Tourism?</title>\\\\n<body \u001b[0m\u001b[32mstyle\u001b[0m\u001b[32m=\\\\\"width:960pt; \u001b[0m\n",
       "\u001b[32mheight:540pt;\\\\\">\\\\n<div \u001b[0m\u001b[32mid\u001b[0m\u001b[32m=\\'0\\'>\\\\n\\\\t<p \u001b[0m\u001b[32mid\u001b[0m\u001b[32m=\\'0\\'>What is Tourism?</p>\\\\n</div>\\\\n\\\\n<div \u001b[0m\u001b[32mid\u001b[0m\u001b[32m=\\'1\\' \u001b[0m\n",
       "\u001b[32mstyle\u001b[0m\u001b[32m=\\'font-size: 20pt\\'>\\\\n\\\\t<p \u001b[0m\u001b[32mid\u001b[0m\u001b[32m=\\'0\\'>The World Tourism Organisation defines tourism in terms which \u001b[0m\n",
       "\u001b[32mgo</p>\\\\n\\\\t<p \u001b[0m\u001b[32mid\u001b[0m\u001b[32m=\\'1\\'>“ beyond the common perception of tourism as being limited to holiday activity only”, as \u001b[0m\n",
       "\u001b[32mpeople “ travelling to and staying in places outside their usual environment for not more than one consecutive year\u001b[0m\n",
       "\u001b[32mfor leisure, business and other purposes”</p>\\\\n\\\\t<p \u001b[0m\u001b[32mid\u001b[0m\u001b[32m=\\'2\\'>Its importance was recognised in the Manila \u001b[0m\n",
       "\u001b[32mDeclaration on World Tourism of 1980 as an activity essential to the life of nations because of its direct effects \u001b[0m\n",
       "\u001b[32mon the social, cultural, educational, and economic sectors of national societies and on their international \u001b[0m\n",
       "\u001b[32mrelations</p>\\\\n\\\\t<p \u001b[0m\u001b[32mid\u001b[0m\u001b[32m=\\'3\\'>Today, tourism is a major source of income for many countries, and affects the \u001b[0m\n",
       "\u001b[32meconomy of both the source and the host countries, in some cases being of vital \u001b[0m\n",
       "\u001b[32mimportance</p>\\\\n</div>\\\\n</body>\\\\n</html\u001b[0m\u001b[32m>\u001b[0m\u001b[32m\\\\n\\\\n\\\\nCommand List:\\\\n\u001b[0m\u001b[32m(\u001b[0m\u001b[32m\\'main_title\\', \\'text\\', \\'quantity_change: \u001b[0m\n",
       "\u001b[32m0\\', \u001b[0m\u001b[32m[\u001b[0m\u001b[32m\\'What is Tourism?\\'\u001b[0m\u001b[32m]\u001b[0m\u001b[32m, \u001b[0m\u001b[32m[\u001b[0m\u001b[32m\\'Key Milestones\\'\u001b[0m\u001b[32m]\u001b[0m\u001b[32m)\u001b[0m\u001b[32m\\\\n\u001b[0m\u001b[32m(\u001b[0m\u001b[32m\\'content_text\\', \\'text\\', \\'quantity_change: -1\\', \u001b[0m\u001b[32m[\u001b[0m\u001b[32m\\'The \u001b[0m\n",
       "\u001b[32mWorld Tourism Organisation defines tourism in terms which go\\', \\'“ beyond the common perception of tourism as \u001b[0m\n",
       "\u001b[32mbeing limited to holiday activity only”, as people “ travelling to and staying in places outside their usual \u001b[0m\n",
       "\u001b[32menvironment for not more than one consecutive year for leisure, business and other purposes”\\', \\'Its importance \u001b[0m\n",
       "\u001b[32mwas recognised in the Manila Declaration on World Tourism of 1980 as an activity essential to the life of nations \u001b[0m\n",
       "\u001b[32mbecause of its direct effects on the social, cultural, educational, and economic sectors of national societies and \u001b[0m\n",
       "\u001b[32mon their international relations\\', \\'Today, tourism is a major source of income for many countries, and affects \u001b[0m\n",
       "\u001b[32mthe economy of both the source and the host countries, in some cases being of vital importance\\'\u001b[0m\u001b[32m]\u001b[0m\u001b[32m, \u001b[0m\u001b[32m[\u001b[0m\u001b[32m\\'OpenAI \u001b[0m\n",
       "\u001b[32mpioneered AI breakthroughs with models like GPT series and DALL·E, pushing natural language and image generation \u001b[0m\n",
       "\u001b[32mboundaries.\\', \\'In 2019, OpenAI transitioned to OpenAI LP. Microsoft invested $1 billion, fostering innovation and\u001b[0m\n",
       "\u001b[32mproviding computational support.\\', \\'OpenAI democratized AI access via the OpenAI API, empowering developers and \u001b[0m\n",
       "\u001b[32morganizations while upholding ethical standards.\\'\u001b[0m\u001b[32m]\u001b[0m\u001b[32m)\u001b[0m\u001b[32m\\\\n\\\\nPlease output only the API call sequence, one call per \u001b[0m\n",
       "\u001b[32mline, wrapped in ```python and ```, with comments for corresponding commands.\"\u001b[0m\u001b[32m}\u001b[0m\u001b[32m]\u001b[0m\u001b[32m}\u001b[0m\u001b[32m]\u001b[0m\u001b[32m'\u001b[0m\u001b[1;32m]\u001b[0m\n"
      ]
     },
     "metadata": {},
     "output_type": "display_data"
    },
    {
     "data": {
      "text/html": [
       "<pre style=\"white-space:pre;overflow-x:auto;line-height:normal;font-family:Menlo,'DejaVu Sans Mono',consolas,'Courier New',monospace\"><span style=\"color: #800000; text-decoration-color: #800000\">response from gpt-4o-</span><span style=\"color: #008080; text-decoration-color: #008080; font-weight: bold\">2024</span><span style=\"color: #800000; text-decoration-color: #800000\">-</span><span style=\"color: #008080; text-decoration-color: #008080; font-weight: bold\">11</span><span style=\"color: #800000; text-decoration-color: #800000\">-</span><span style=\"color: #008080; text-decoration-color: #008080; font-weight: bold\">20</span><span style=\"color: #800000; text-decoration-color: #800000\">: ```python</span>\n",
       "<span style=\"color: #800000; text-decoration-color: #800000\"># </span><span style=\"color: #800000; text-decoration-color: #800000; font-weight: bold\">(</span><span style=\"color: #008000; text-decoration-color: #008000\">'main_title'</span><span style=\"color: #800000; text-decoration-color: #800000\">, </span><span style=\"color: #008000; text-decoration-color: #008000\">'text'</span><span style=\"color: #800000; text-decoration-color: #800000\">, </span><span style=\"color: #008000; text-decoration-color: #008000\">'quantity_change: 0'</span><span style=\"color: #800000; text-decoration-color: #800000\">, </span><span style=\"color: #800000; text-decoration-color: #800000; font-weight: bold\">[</span><span style=\"color: #008000; text-decoration-color: #008000\">'What is Tourism?'</span><span style=\"color: #800000; text-decoration-color: #800000; font-weight: bold\">]</span><span style=\"color: #800000; text-decoration-color: #800000\">, </span><span style=\"color: #800000; text-decoration-color: #800000; font-weight: bold\">[</span><span style=\"color: #008000; text-decoration-color: #008000\">'Key Milestones'</span><span style=\"color: #800000; text-decoration-color: #800000; font-weight: bold\">])</span>\n",
       "<span style=\"color: #800080; text-decoration-color: #800080; font-weight: bold\">replace_paragraph</span><span style=\"color: #800000; text-decoration-color: #800000; font-weight: bold\">(</span><span style=\"color: #008080; text-decoration-color: #008080; font-weight: bold\">0</span><span style=\"color: #800000; text-decoration-color: #800000\">, </span><span style=\"color: #008080; text-decoration-color: #008080; font-weight: bold\">0</span><span style=\"color: #800000; text-decoration-color: #800000\">, </span><span style=\"color: #008000; text-decoration-color: #008000\">\"Key Milestones\"</span><span style=\"color: #800000; text-decoration-color: #800000; font-weight: bold\">)</span>\n",
       "\n",
       "<span style=\"color: #800000; text-decoration-color: #800000\"># </span><span style=\"color: #800000; text-decoration-color: #800000; font-weight: bold\">(</span><span style=\"color: #008000; text-decoration-color: #008000\">'content_text'</span><span style=\"color: #800000; text-decoration-color: #800000\">, </span><span style=\"color: #008000; text-decoration-color: #008000\">'text'</span><span style=\"color: #800000; text-decoration-color: #800000\">, </span><span style=\"color: #008000; text-decoration-color: #008000\">'quantity_change: -1'</span><span style=\"color: #800000; text-decoration-color: #800000\">, </span><span style=\"color: #800000; text-decoration-color: #800000; font-weight: bold\">[</span><span style=\"color: #008000; text-decoration-color: #008000\">'The World Tourism Organisation defines tourism in terms which </span>\n",
       "<span style=\"color: #008000; text-decoration-color: #008000\">go'</span><span style=\"color: #800000; text-decoration-color: #800000\">, </span><span style=\"color: #008000; text-decoration-color: #008000\">'“ beyond the common perception of tourism as being limited to holiday activity only”, as people “ travelling </span>\n",
       "<span style=\"color: #008000; text-decoration-color: #008000\">to and staying in places outside their usual environment for not more than one consecutive year for leisure, </span>\n",
       "<span style=\"color: #008000; text-decoration-color: #008000\">business and other purposes”'</span><span style=\"color: #800000; text-decoration-color: #800000\">, </span><span style=\"color: #008000; text-decoration-color: #008000\">'Its importance was recognised in the Manila Declaration on World Tourism of 1980 as</span>\n",
       "<span style=\"color: #008000; text-decoration-color: #008000\">an activity essential to the life of nations because of its direct effects on the social, cultural, educational, </span>\n",
       "<span style=\"color: #008000; text-decoration-color: #008000\">and economic sectors of national societies and on their international relations'</span><span style=\"color: #800000; text-decoration-color: #800000\">, </span><span style=\"color: #008000; text-decoration-color: #008000\">'Today, tourism is a major source</span>\n",
       "<span style=\"color: #008000; text-decoration-color: #008000\">of income for many countries, and affects the economy of both the source and the host countries, in some cases </span>\n",
       "<span style=\"color: #008000; text-decoration-color: #008000\">being of vital importance'</span><span style=\"color: #800000; text-decoration-color: #800000; font-weight: bold\">]</span><span style=\"color: #800000; text-decoration-color: #800000\">, </span><span style=\"color: #800000; text-decoration-color: #800000; font-weight: bold\">[</span><span style=\"color: #008000; text-decoration-color: #008000\">'OpenAI pioneered AI breakthroughs with models like GPT series and DALL·E, pushing </span>\n",
       "<span style=\"color: #008000; text-decoration-color: #008000\">natural language and image generation boundaries.'</span><span style=\"color: #800000; text-decoration-color: #800000\">, </span><span style=\"color: #008000; text-decoration-color: #008000\">'In 2019, OpenAI transitioned to OpenAI LP. Microsoft invested </span>\n",
       "<span style=\"color: #008000; text-decoration-color: #008000\">$1 billion, fostering innovation and providing computational support.'</span><span style=\"color: #800000; text-decoration-color: #800000\">, </span><span style=\"color: #008000; text-decoration-color: #008000\">'OpenAI democratized AI access via the </span>\n",
       "<span style=\"color: #008000; text-decoration-color: #008000\">OpenAI API, empowering developers and organizations while upholding ethical standards.'</span><span style=\"color: #800000; text-decoration-color: #800000; font-weight: bold\">])</span>\n",
       "<span style=\"color: #800080; text-decoration-color: #800080; font-weight: bold\">del_paragraph</span><span style=\"color: #800000; text-decoration-color: #800000; font-weight: bold\">(</span><span style=\"color: #008080; text-decoration-color: #008080; font-weight: bold\">1</span><span style=\"color: #800000; text-decoration-color: #800000\">, </span><span style=\"color: #008080; text-decoration-color: #008080; font-weight: bold\">3</span><span style=\"color: #800000; text-decoration-color: #800000; font-weight: bold\">)</span><span style=\"color: #800000; text-decoration-color: #800000\">  # Deleting the paragraph with </span><span style=\"color: #808000; text-decoration-color: #808000\">id</span><span style=\"color: #800000; text-decoration-color: #800000\">=</span><span style=\"color: #008080; text-decoration-color: #008080; font-weight: bold\">3</span>\n",
       "<span style=\"color: #800080; text-decoration-color: #800080; font-weight: bold\">replace_paragraph</span><span style=\"color: #800000; text-decoration-color: #800000; font-weight: bold\">(</span><span style=\"color: #008080; text-decoration-color: #008080; font-weight: bold\">1</span><span style=\"color: #800000; text-decoration-color: #800000\">, </span><span style=\"color: #008080; text-decoration-color: #008080; font-weight: bold\">0</span><span style=\"color: #800000; text-decoration-color: #800000\">, </span><span style=\"color: #008000; text-decoration-color: #008000\">\"OpenAI pioneered AI breakthroughs with models like GPT series and DALL·E, pushing natural </span>\n",
       "<span style=\"color: #008000; text-decoration-color: #008000\">language and image generation boundaries.\"</span><span style=\"color: #800000; text-decoration-color: #800000; font-weight: bold\">)</span>\n",
       "<span style=\"color: #800080; text-decoration-color: #800080; font-weight: bold\">replace_paragraph</span><span style=\"color: #800000; text-decoration-color: #800000; font-weight: bold\">(</span><span style=\"color: #008080; text-decoration-color: #008080; font-weight: bold\">1</span><span style=\"color: #800000; text-decoration-color: #800000\">, </span><span style=\"color: #008080; text-decoration-color: #008080; font-weight: bold\">1</span><span style=\"color: #800000; text-decoration-color: #800000\">, </span><span style=\"color: #008000; text-decoration-color: #008000\">\"In 2019, OpenAI transitioned to OpenAI LP. Microsoft invested $1 billion, fostering </span>\n",
       "<span style=\"color: #008000; text-decoration-color: #008000\">innovation and providing computational support.\"</span><span style=\"color: #800000; text-decoration-color: #800000; font-weight: bold\">)</span>\n",
       "<span style=\"color: #800080; text-decoration-color: #800080; font-weight: bold\">replace_paragraph</span><span style=\"color: #800000; text-decoration-color: #800000; font-weight: bold\">(</span><span style=\"color: #008080; text-decoration-color: #008080; font-weight: bold\">1</span><span style=\"color: #800000; text-decoration-color: #800000\">, </span><span style=\"color: #008080; text-decoration-color: #008080; font-weight: bold\">2</span><span style=\"color: #800000; text-decoration-color: #800000\">, </span><span style=\"color: #008000; text-decoration-color: #008000\">\"OpenAI democratized AI access via the OpenAI API, empowering developers and organizations </span>\n",
       "<span style=\"color: #008000; text-decoration-color: #008000\">while upholding ethical standards.\"</span><span style=\"color: #800000; text-decoration-color: #800000; font-weight: bold\">)</span>\n",
       "<span style=\"color: #800000; text-decoration-color: #800000\">```</span>\n",
       "</pre>\n"
      ],
      "text/plain": [
       "\u001b[31mresponse from gpt-4o-\u001b[0m\u001b[1;36m2024\u001b[0m\u001b[31m-\u001b[0m\u001b[1;36m11\u001b[0m\u001b[31m-\u001b[0m\u001b[1;36m20\u001b[0m\u001b[31m: ```python\u001b[0m\n",
       "\u001b[31m# \u001b[0m\u001b[1;31m(\u001b[0m\u001b[32m'main_title'\u001b[0m\u001b[31m, \u001b[0m\u001b[32m'text'\u001b[0m\u001b[31m, \u001b[0m\u001b[32m'quantity_change: 0'\u001b[0m\u001b[31m, \u001b[0m\u001b[1;31m[\u001b[0m\u001b[32m'What is Tourism?'\u001b[0m\u001b[1;31m]\u001b[0m\u001b[31m, \u001b[0m\u001b[1;31m[\u001b[0m\u001b[32m'Key Milestones'\u001b[0m\u001b[1;31m]\u001b[0m\u001b[1;31m)\u001b[0m\n",
       "\u001b[1;35mreplace_paragraph\u001b[0m\u001b[1;31m(\u001b[0m\u001b[1;36m0\u001b[0m\u001b[31m, \u001b[0m\u001b[1;36m0\u001b[0m\u001b[31m, \u001b[0m\u001b[32m\"Key Milestones\"\u001b[0m\u001b[1;31m)\u001b[0m\n",
       "\n",
       "\u001b[31m# \u001b[0m\u001b[1;31m(\u001b[0m\u001b[32m'content_text'\u001b[0m\u001b[31m, \u001b[0m\u001b[32m'text'\u001b[0m\u001b[31m, \u001b[0m\u001b[32m'quantity_change: -1'\u001b[0m\u001b[31m, \u001b[0m\u001b[1;31m[\u001b[0m\u001b[32m'The World Tourism Organisation defines tourism in terms which \u001b[0m\n",
       "\u001b[32mgo'\u001b[0m\u001b[31m, \u001b[0m\u001b[32m'“ beyond the common perception of tourism as being limited to holiday activity only”, as people “ travelling \u001b[0m\n",
       "\u001b[32mto and staying in places outside their usual environment for not more than one consecutive year for leisure, \u001b[0m\n",
       "\u001b[32mbusiness and other purposes”'\u001b[0m\u001b[31m, \u001b[0m\u001b[32m'Its importance was recognised in the Manila Declaration on World Tourism of 1980 as\u001b[0m\n",
       "\u001b[32man activity essential to the life of nations because of its direct effects on the social, cultural, educational, \u001b[0m\n",
       "\u001b[32mand economic sectors of national societies and on their international relations'\u001b[0m\u001b[31m, \u001b[0m\u001b[32m'Today, tourism is a major source\u001b[0m\n",
       "\u001b[32mof income for many countries, and affects the economy of both the source and the host countries, in some cases \u001b[0m\n",
       "\u001b[32mbeing of vital importance'\u001b[0m\u001b[1;31m]\u001b[0m\u001b[31m, \u001b[0m\u001b[1;31m[\u001b[0m\u001b[32m'OpenAI pioneered AI breakthroughs with models like GPT series and DALL·E, pushing \u001b[0m\n",
       "\u001b[32mnatural language and image generation boundaries.'\u001b[0m\u001b[31m, \u001b[0m\u001b[32m'In 2019, OpenAI transitioned to OpenAI LP. Microsoft invested \u001b[0m\n",
       "\u001b[32m$1 billion, fostering innovation and providing computational support.'\u001b[0m\u001b[31m, \u001b[0m\u001b[32m'OpenAI democratized AI access via the \u001b[0m\n",
       "\u001b[32mOpenAI API, empowering developers and organizations while upholding ethical standards.'\u001b[0m\u001b[1;31m]\u001b[0m\u001b[1;31m)\u001b[0m\n",
       "\u001b[1;35mdel_paragraph\u001b[0m\u001b[1;31m(\u001b[0m\u001b[1;36m1\u001b[0m\u001b[31m, \u001b[0m\u001b[1;36m3\u001b[0m\u001b[1;31m)\u001b[0m\u001b[31m  # Deleting the paragraph with \u001b[0m\u001b[33mid\u001b[0m\u001b[31m=\u001b[0m\u001b[1;36m3\u001b[0m\n",
       "\u001b[1;35mreplace_paragraph\u001b[0m\u001b[1;31m(\u001b[0m\u001b[1;36m1\u001b[0m\u001b[31m, \u001b[0m\u001b[1;36m0\u001b[0m\u001b[31m, \u001b[0m\u001b[32m\"OpenAI pioneered AI breakthroughs with models like GPT series and DALL·E, pushing natural \u001b[0m\n",
       "\u001b[32mlanguage and image generation boundaries.\"\u001b[0m\u001b[1;31m)\u001b[0m\n",
       "\u001b[1;35mreplace_paragraph\u001b[0m\u001b[1;31m(\u001b[0m\u001b[1;36m1\u001b[0m\u001b[31m, \u001b[0m\u001b[1;36m1\u001b[0m\u001b[31m, \u001b[0m\u001b[32m\"In 2019, OpenAI transitioned to OpenAI LP. Microsoft invested $1 billion, fostering \u001b[0m\n",
       "\u001b[32minnovation and providing computational support.\"\u001b[0m\u001b[1;31m)\u001b[0m\n",
       "\u001b[1;35mreplace_paragraph\u001b[0m\u001b[1;31m(\u001b[0m\u001b[1;36m1\u001b[0m\u001b[31m, \u001b[0m\u001b[1;36m2\u001b[0m\u001b[31m, \u001b[0m\u001b[32m\"OpenAI democratized AI access via the OpenAI API, empowering developers and organizations \u001b[0m\n",
       "\u001b[32mwhile upholding ethical standards.\"\u001b[0m\u001b[1;31m)\u001b[0m\n",
       "\u001b[31m```\u001b[0m\n"
      ]
     },
     "metadata": {},
     "output_type": "display_data"
    },
    {
     "data": {
      "text/html": [
       "<pre style=\"white-space:pre;overflow-x:auto;line-height:normal;font-family:Menlo,'DejaVu Sans Mono',consolas,'Courier New',monospace\"><span style=\"color: #008000; text-decoration-color: #008000\">sending messages to: gpt-4o-</span><span style=\"color: #008080; text-decoration-color: #008080; font-weight: bold\">2024</span><span style=\"color: #008000; text-decoration-color: #008000\">-</span><span style=\"color: #008080; text-decoration-color: #008080; font-weight: bold\">11</span><span style=\"color: #008000; text-decoration-color: #008000\">-</span><span style=\"color: #008080; text-decoration-color: #008080; font-weight: bold\">20</span><span style=\"color: #008000; text-decoration-color: #008000\">, message </span><span style=\"color: #008000; text-decoration-color: #008000; font-weight: bold\">(</span><span style=\"color: #008000; text-decoration-color: #008000\">truncated</span><span style=\"color: #008000; text-decoration-color: #008000; font-weight: bold\">)</span><span style=\"color: #008000; text-decoration-color: #008000\">: </span><span style=\"color: #008000; text-decoration-color: #008000; font-weight: bold\">[{</span><span style=\"color: #008000; text-decoration-color: #008000\">'role'</span><span style=\"color: #008000; text-decoration-color: #008000\">: </span><span style=\"color: #008000; text-decoration-color: #008000\">'system'</span><span style=\"color: #008000; text-decoration-color: #008000\">, </span><span style=\"color: #008000; text-decoration-color: #008000\">'content'</span><span style=\"color: #008000; text-decoration-color: #008000\">: </span><span style=\"color: #008000; text-decoration-color: #008000; font-weight: bold\">[{</span><span style=\"color: #008000; text-decoration-color: #008000\">'type'</span><span style=\"color: #008000; text-decoration-color: #008000\">: </span><span style=\"color: #008000; text-decoration-color: #008000\">'text'</span><span style=\"color: #008000; text-decoration-color: #008000\">, </span>\n",
       "<span style=\"color: #008000; text-decoration-color: #008000\">'text'</span><span style=\"color: #008000; text-decoration-color: #008000\">: </span><span style=\"color: #008000; text-decoration-color: #008000\">'You are an expert Editor agent. Transform reference text and images into slide content, following schema </span>\n",
       "<span style=\"color: #008000; text-decoration-color: #008000\">rules and using only provided materials. Ensure the content is engaging and within the character limit.'</span><span style=\"color: #008000; text-decoration-color: #008000; font-weight: bold\">}]}</span><span style=\"color: #008000; text-decoration-color: #008000\">, </span>\n",
       "<span style=\"color: #008000; text-decoration-color: #008000\">'[{\"role\": \"user\", \"content\": [{\"type\": \"text\", \"text\": \"Task: Generate engaging slide content based on the </span>\n",
       "<span style=\"color: #008000; text-decoration-color: #008000\">provided schema and reference materials.\\\\n\\\\nRequirements:\\\\n1. Content Generation Rules:\\\\n  - Follow </span>\n",
       "<span style=\"color: #008000; text-decoration-color: #008000\">default_quantity for elements, adjust when necessary\\\\n  - Ensure text content meets character limits\\\\n  - </span>\n",
       "<span style=\"color: #008000; text-decoration-color: #008000\">Generated text should use concise and impactful presentation style\\\\n\\\\n2. Core Elements:\\\\n  - Must extract </span>\n",
       "<span style=\"color: #008000; text-decoration-color: #008000\">essential content from reference text (e.g., slide_title, main_content) and maintain semantic consistency\\\\n  - </span>\n",
       "<span style=\"color: #008000; text-decoration-color: #008000\">Must include images that support the main content (e.g., diagrams for explanations, visuals directly discussed in </span>\n",
       "<span style=\"color: #008000; text-decoration-color: #008000\">text)\\\\n\\\\n3. Supporting Elements (e.g., presenters, logo images):\\\\n  - Generate only when relevant content exists</span>\n",
       "<span style=\"color: #008000; text-decoration-color: #008000\">in reference materials\\\\n\\\\nGenerate content for each element and output in the following format:\\\\n{\\\\n  </span>\n",
       "<span style=\"color: #008000; text-decoration-color: #008000\">\\\\\"element1\\\\\": {\\\\n    \\\\\"data\\\\\": [\\\\\"text1\\\\\", \\\\\"text2\\\\\"] for text elements\\\\n          or </span>\n",
       "<span style=\"color: #008000; text-decoration-color: #008000\">[\\\\\"/path/to/image\\\\\", \\\\\"...\\\\\"] for image elements\\\\n  },\\\\n}\\\\n\\\\nInput:\\\\nSchema:\\\\n{\\'main_title\\': </span>\n",
       "<span style=\"color: #008000; text-decoration-color: #008000\">{\\'description\\': \\'The primary heading that introduces the main topic of the slide\\', \\'type\\': \\'text\\', </span>\n",
       "<span style=\"color: #008000; text-decoration-color: #008000\">\\'suggestedCharacters\\': \\'&lt;16\\', \\'default_quantity\\': 1}, \\'content_text\\': {\\'description\\': \\'The body text </span>\n",
       "<span style=\"color: #008000; text-decoration-color: #008000\">providing detailed explanations, definitions, or information related to the topic\\', \\'type\\': \\'text\\', </span>\n",
       "<span style=\"color: #008000; text-decoration-color: #008000\">\\'suggestedCharacters\\': \\'64-276\\', \\'default_quantity\\': 4}}\\\\n\\\\nMetadata of Presentation:\\\\ntitle: The History </span>\n",
       "<span style=\"color: #008000; text-decoration-color: #008000\">of OpenAI\\\\nauthor: OpenAI Documentation Team\\\\npublish date: October 2023\\\\norganization: OpenAI\\\\nPresentation </span>\n",
       "<span style=\"color: #008000; text-decoration-color: #008000\">Time: 2025-02-02\\\\n\\\\nSlide 1: Opening of The History of OpenAI\\\\nSlide 2: Formation and Vision\\\\nSlide 3: Key </span>\n",
       "<span style=\"color: #008000; text-decoration-color: #008000\">Milestones and Achievements\\\\nSlide 4: The Future of OpenAI\\\\nSlide 5: Conclusion of The History of </span>\n",
       "<span style=\"color: #008000; text-decoration-color: #008000\">OpenAI\\\\n\\\\nReference Text:\\\\nSlide-4 Slide Purpose: The Future of OpenAI\\\\nSlide Description: A forward-looking </span>\n",
       "<span style=\"color: #008000; text-decoration-color: #008000\">analysis of OpenAI\\'s commitment to ethical leadership in AI research and implementation.\\\\nSlide Content Source: #</span>\n",
       "<span style=\"color: #008000; text-decoration-color: #008000\">Continued Ethical Leadership \\\\nOpenAI remains committed to advancing AGI responsibly, ensuring both societal </span>\n",
       "<span style=\"color: #008000; text-decoration-color: #008000\">benefit and safety protocols in AI development. Its vision includes collaborating with stakeholders globally to </span>\n",
       "<span style=\"color: #008000; text-decoration-color: #008000\">navigate the challenges and opportunities AGI presents.\\\\n\\\\n\\\\nAvailable Images:\\\\nNo Images\\\\n\\\\nOutput: Ensure </span>\n",
       "<span style=\"color: #008000; text-decoration-color: #008000\">the generated content strictly adheres to the schema specifications, follows the slide style, </span>\n",
       "<span style=\"color: #008000; text-decoration-color: #008000\">reader-friendly.\"}]}]'</span><span style=\"color: #008000; text-decoration-color: #008000; font-weight: bold\">]</span>\n",
       "</pre>\n"
      ],
      "text/plain": [
       "\u001b[32msending messages to: gpt-4o-\u001b[0m\u001b[1;36m2024\u001b[0m\u001b[32m-\u001b[0m\u001b[1;36m11\u001b[0m\u001b[32m-\u001b[0m\u001b[1;36m20\u001b[0m\u001b[32m, message \u001b[0m\u001b[1;32m(\u001b[0m\u001b[32mtruncated\u001b[0m\u001b[1;32m)\u001b[0m\u001b[32m: \u001b[0m\u001b[1;32m[\u001b[0m\u001b[1;32m{\u001b[0m\u001b[32m'role'\u001b[0m\u001b[32m: \u001b[0m\u001b[32m'system'\u001b[0m\u001b[32m, \u001b[0m\u001b[32m'content'\u001b[0m\u001b[32m: \u001b[0m\u001b[1;32m[\u001b[0m\u001b[1;32m{\u001b[0m\u001b[32m'type'\u001b[0m\u001b[32m: \u001b[0m\u001b[32m'text'\u001b[0m\u001b[32m, \u001b[0m\n",
       "\u001b[32m'text'\u001b[0m\u001b[32m: \u001b[0m\u001b[32m'You are an expert Editor agent. Transform reference text and images into slide content, following schema \u001b[0m\n",
       "\u001b[32mrules and using only provided materials. Ensure the content is engaging and within the character limit.'\u001b[0m\u001b[1;32m}\u001b[0m\u001b[1;32m]\u001b[0m\u001b[1;32m}\u001b[0m\u001b[32m, \u001b[0m\n",
       "\u001b[32m'\u001b[0m\u001b[32m[\u001b[0m\u001b[32m{\u001b[0m\u001b[32m\"role\": \"user\", \"content\": \u001b[0m\u001b[32m[\u001b[0m\u001b[32m{\u001b[0m\u001b[32m\"type\": \"text\", \"text\": \"Task: Generate engaging slide content based on the \u001b[0m\n",
       "\u001b[32mprovided schema and reference materials.\\\\n\\\\nRequirements:\\\\n1. Content Generation Rules:\\\\n  - Follow \u001b[0m\n",
       "\u001b[32mdefault_quantity for elements, adjust when necessary\\\\n  - Ensure text content meets character limits\\\\n  - \u001b[0m\n",
       "\u001b[32mGenerated text should use concise and impactful presentation style\\\\n\\\\n2. Core Elements:\\\\n  - Must extract \u001b[0m\n",
       "\u001b[32messential content from reference text \u001b[0m\u001b[32m(\u001b[0m\u001b[32me.g., slide_title, main_content\u001b[0m\u001b[32m)\u001b[0m\u001b[32m and maintain semantic consistency\\\\n  - \u001b[0m\n",
       "\u001b[32mMust include images that support the main content \u001b[0m\u001b[32m(\u001b[0m\u001b[32me.g., diagrams for explanations, visuals directly discussed in \u001b[0m\n",
       "\u001b[32mtext\u001b[0m\u001b[32m)\u001b[0m\u001b[32m\\\\n\\\\n3. Supporting Elements \u001b[0m\u001b[32m(\u001b[0m\u001b[32me.g., presenters, logo images\u001b[0m\u001b[32m)\u001b[0m\u001b[32m:\\\\n  - Generate only when relevant content exists\u001b[0m\n",
       "\u001b[32min reference materials\\\\n\\\\nGenerate content for each element and output in the following format:\\\\n\u001b[0m\u001b[32m{\u001b[0m\u001b[32m\\\\n  \u001b[0m\n",
       "\u001b[32m\\\\\"element1\\\\\": \u001b[0m\u001b[32m{\u001b[0m\u001b[32m\\\\n    \\\\\"data\\\\\": \u001b[0m\u001b[32m[\u001b[0m\u001b[32m\\\\\"text1\\\\\", \\\\\"text2\\\\\"\u001b[0m\u001b[32m]\u001b[0m\u001b[32m for text elements\\\\n          or \u001b[0m\n",
       "\u001b[32m[\u001b[0m\u001b[32m\\\\\"/path/to/image\\\\\", \\\\\"...\\\\\"\u001b[0m\u001b[32m]\u001b[0m\u001b[32m for image elements\\\\n  \u001b[0m\u001b[32m}\u001b[0m\u001b[32m,\\\\n\u001b[0m\u001b[32m}\u001b[0m\u001b[32m\\\\n\\\\nInput:\\\\nSchema:\\\\n\u001b[0m\u001b[32m{\u001b[0m\u001b[32m\\'main_title\\': \u001b[0m\n",
       "\u001b[32m{\u001b[0m\u001b[32m\\'description\\': \\'The primary heading that introduces the main topic of the slide\\', \\'type\\': \\'text\\', \u001b[0m\n",
       "\u001b[32m\\'suggestedCharacters\\': \\'<16\\', \\'default_quantity\\': 1\u001b[0m\u001b[32m}\u001b[0m\u001b[32m, \\'content_text\\': \u001b[0m\u001b[32m{\u001b[0m\u001b[32m\\'description\\': \\'The body text \u001b[0m\n",
       "\u001b[32mproviding detailed explanations, definitions, or information related to the topic\\', \\'type\\': \\'text\\', \u001b[0m\n",
       "\u001b[32m\\'suggestedCharacters\\': \\'64-276\\', \\'default_quantity\\': 4\u001b[0m\u001b[32m}\u001b[0m\u001b[32m}\u001b[0m\u001b[32m\\\\n\\\\nMetadata of Presentation:\\\\ntitle: The History \u001b[0m\n",
       "\u001b[32mof OpenAI\\\\nauthor: OpenAI Documentation Team\\\\npublish date: October 2023\\\\norganization: OpenAI\\\\nPresentation \u001b[0m\n",
       "\u001b[32mTime: 2025-02-02\\\\n\\\\nSlide 1: Opening of The History of OpenAI\\\\nSlide 2: Formation and Vision\\\\nSlide 3: Key \u001b[0m\n",
       "\u001b[32mMilestones and Achievements\\\\nSlide 4: The Future of OpenAI\\\\nSlide 5: Conclusion of The History of \u001b[0m\n",
       "\u001b[32mOpenAI\\\\n\\\\nReference Text:\\\\nSlide-4 Slide Purpose: The Future of OpenAI\\\\nSlide Description: A forward-looking \u001b[0m\n",
       "\u001b[32manalysis of OpenAI\\'s commitment to ethical leadership in AI research and implementation.\\\\nSlide Content Source: #\u001b[0m\n",
       "\u001b[32mContinued Ethical Leadership \\\\nOpenAI remains committed to advancing AGI responsibly, ensuring both societal \u001b[0m\n",
       "\u001b[32mbenefit and safety protocols in AI development. Its vision includes collaborating with stakeholders globally to \u001b[0m\n",
       "\u001b[32mnavigate the challenges and opportunities AGI presents.\\\\n\\\\n\\\\nAvailable Images:\\\\nNo Images\\\\n\\\\nOutput: Ensure \u001b[0m\n",
       "\u001b[32mthe generated content strictly adheres to the schema specifications, follows the slide style, \u001b[0m\n",
       "\u001b[32mreader-friendly.\"\u001b[0m\u001b[32m}\u001b[0m\u001b[32m]\u001b[0m\u001b[32m}\u001b[0m\u001b[32m]\u001b[0m\u001b[32m'\u001b[0m\u001b[1;32m]\u001b[0m\n"
      ]
     },
     "metadata": {},
     "output_type": "display_data"
    },
    {
     "data": {
      "text/html": [
       "<pre style=\"white-space:pre;overflow-x:auto;line-height:normal;font-family:Menlo,'DejaVu Sans Mono',consolas,'Courier New',monospace\"><span style=\"color: #800000; text-decoration-color: #800000\">response from gpt-4o-</span><span style=\"color: #008080; text-decoration-color: #008080; font-weight: bold\">2024</span><span style=\"color: #800000; text-decoration-color: #800000\">-</span><span style=\"color: #008080; text-decoration-color: #008080; font-weight: bold\">11</span><span style=\"color: #800000; text-decoration-color: #800000\">-</span><span style=\"color: #008080; text-decoration-color: #008080; font-weight: bold\">20</span><span style=\"color: #800000; text-decoration-color: #800000\">: ```json</span>\n",
       "<span style=\"color: #800000; text-decoration-color: #800000; font-weight: bold\">{</span>\n",
       "<span style=\"color: #800000; text-decoration-color: #800000\">  </span><span style=\"color: #008000; text-decoration-color: #008000\">\"main_title\"</span><span style=\"color: #800000; text-decoration-color: #800000\">: </span><span style=\"color: #800000; text-decoration-color: #800000; font-weight: bold\">{</span>\n",
       "<span style=\"color: #800000; text-decoration-color: #800000\">    </span><span style=\"color: #008000; text-decoration-color: #008000\">\"data\"</span><span style=\"color: #800000; text-decoration-color: #800000\">: </span><span style=\"color: #800000; text-decoration-color: #800000; font-weight: bold\">[</span><span style=\"color: #008000; text-decoration-color: #008000\">\"The Future of OpenAI\"</span><span style=\"color: #800000; text-decoration-color: #800000; font-weight: bold\">]</span>\n",
       "<span style=\"color: #800000; text-decoration-color: #800000\">  </span><span style=\"color: #800000; text-decoration-color: #800000; font-weight: bold\">}</span><span style=\"color: #800000; text-decoration-color: #800000\">,</span>\n",
       "<span style=\"color: #800000; text-decoration-color: #800000\">  </span><span style=\"color: #008000; text-decoration-color: #008000\">\"content_text\"</span><span style=\"color: #800000; text-decoration-color: #800000\">: </span><span style=\"color: #800000; text-decoration-color: #800000; font-weight: bold\">{</span>\n",
       "<span style=\"color: #800000; text-decoration-color: #800000\">    </span><span style=\"color: #008000; text-decoration-color: #008000\">\"data\"</span><span style=\"color: #800000; text-decoration-color: #800000\">: </span><span style=\"color: #800000; text-decoration-color: #800000; font-weight: bold\">[</span>\n",
       "<span style=\"color: #800000; text-decoration-color: #800000\">      </span><span style=\"color: #008000; text-decoration-color: #008000\">\"OpenAI is dedicated to ethical leadership in AI research, focusing on advancing AGI responsibly.\"</span><span style=\"color: #800000; text-decoration-color: #800000\">,</span>\n",
       "<span style=\"color: #800000; text-decoration-color: #800000\">      </span><span style=\"color: #008000; text-decoration-color: #008000\">\"The organization strives to ensure AI development is aligned with societal benefits and adheres to strict </span>\n",
       "<span style=\"color: #008000; text-decoration-color: #008000\">safety protocols.\"</span><span style=\"color: #800000; text-decoration-color: #800000\">,</span>\n",
       "<span style=\"color: #800000; text-decoration-color: #800000\">      </span><span style=\"color: #008000; text-decoration-color: #008000\">\"Collaboration with global stakeholders remains a priority to address the challenges and unlock opportunities</span>\n",
       "<span style=\"color: #008000; text-decoration-color: #008000\">surrounding AGI.\"</span><span style=\"color: #800000; text-decoration-color: #800000\">,</span>\n",
       "<span style=\"color: #800000; text-decoration-color: #800000\">      </span><span style=\"color: #008000; text-decoration-color: #008000\">\"By fostering a transparent and inclusive approach, OpenAI envisions a future where AI contributes </span>\n",
       "<span style=\"color: #008000; text-decoration-color: #008000\">meaningfully to humanity.\"</span>\n",
       "<span style=\"color: #800000; text-decoration-color: #800000\">    </span><span style=\"color: #800000; text-decoration-color: #800000; font-weight: bold\">]</span>\n",
       "<span style=\"color: #800000; text-decoration-color: #800000\">  </span><span style=\"color: #800000; text-decoration-color: #800000; font-weight: bold\">}</span>\n",
       "<span style=\"color: #800000; text-decoration-color: #800000; font-weight: bold\">}</span>\n",
       "<span style=\"color: #800000; text-decoration-color: #800000\">```</span>\n",
       "</pre>\n"
      ],
      "text/plain": [
       "\u001b[31mresponse from gpt-4o-\u001b[0m\u001b[1;36m2024\u001b[0m\u001b[31m-\u001b[0m\u001b[1;36m11\u001b[0m\u001b[31m-\u001b[0m\u001b[1;36m20\u001b[0m\u001b[31m: ```json\u001b[0m\n",
       "\u001b[1;31m{\u001b[0m\n",
       "\u001b[31m  \u001b[0m\u001b[32m\"main_title\"\u001b[0m\u001b[31m: \u001b[0m\u001b[1;31m{\u001b[0m\n",
       "\u001b[31m    \u001b[0m\u001b[32m\"data\"\u001b[0m\u001b[31m: \u001b[0m\u001b[1;31m[\u001b[0m\u001b[32m\"The Future of OpenAI\"\u001b[0m\u001b[1;31m]\u001b[0m\n",
       "\u001b[31m  \u001b[0m\u001b[1;31m}\u001b[0m\u001b[31m,\u001b[0m\n",
       "\u001b[31m  \u001b[0m\u001b[32m\"content_text\"\u001b[0m\u001b[31m: \u001b[0m\u001b[1;31m{\u001b[0m\n",
       "\u001b[31m    \u001b[0m\u001b[32m\"data\"\u001b[0m\u001b[31m: \u001b[0m\u001b[1;31m[\u001b[0m\n",
       "\u001b[31m      \u001b[0m\u001b[32m\"OpenAI is dedicated to ethical leadership in AI research, focusing on advancing AGI responsibly.\"\u001b[0m\u001b[31m,\u001b[0m\n",
       "\u001b[31m      \u001b[0m\u001b[32m\"The organization strives to ensure AI development is aligned with societal benefits and adheres to strict \u001b[0m\n",
       "\u001b[32msafety protocols.\"\u001b[0m\u001b[31m,\u001b[0m\n",
       "\u001b[31m      \u001b[0m\u001b[32m\"Collaboration with global stakeholders remains a priority to address the challenges and unlock opportunities\u001b[0m\n",
       "\u001b[32msurrounding AGI.\"\u001b[0m\u001b[31m,\u001b[0m\n",
       "\u001b[31m      \u001b[0m\u001b[32m\"By fostering a transparent and inclusive approach, OpenAI envisions a future where AI contributes \u001b[0m\n",
       "\u001b[32mmeaningfully to humanity.\"\u001b[0m\n",
       "\u001b[31m    \u001b[0m\u001b[1;31m]\u001b[0m\n",
       "\u001b[31m  \u001b[0m\u001b[1;31m}\u001b[0m\n",
       "\u001b[1;31m}\u001b[0m\n",
       "\u001b[31m```\u001b[0m\n"
      ]
     },
     "metadata": {},
     "output_type": "display_data"
    },
    {
     "data": {
      "text/html": [
       "<pre style=\"white-space:pre;overflow-x:auto;line-height:normal;font-family:Menlo,'DejaVu Sans Mono',consolas,'Courier New',monospace\"><span style=\"color: #008000; text-decoration-color: #008000\">sending messages to: gpt-4o-</span><span style=\"color: #008080; text-decoration-color: #008080; font-weight: bold\">2024</span><span style=\"color: #008000; text-decoration-color: #008000\">-</span><span style=\"color: #008080; text-decoration-color: #008080; font-weight: bold\">11</span><span style=\"color: #008000; text-decoration-color: #008000\">-</span><span style=\"color: #008080; text-decoration-color: #008080; font-weight: bold\">20</span><span style=\"color: #008000; text-decoration-color: #008000\">, message </span><span style=\"color: #008000; text-decoration-color: #008000; font-weight: bold\">(</span><span style=\"color: #008000; text-decoration-color: #008000\">truncated</span><span style=\"color: #008000; text-decoration-color: #008000; font-weight: bold\">)</span><span style=\"color: #008000; text-decoration-color: #008000\">: </span><span style=\"color: #008000; text-decoration-color: #008000; font-weight: bold\">[{</span><span style=\"color: #008000; text-decoration-color: #008000\">'role'</span><span style=\"color: #008000; text-decoration-color: #008000\">: </span><span style=\"color: #008000; text-decoration-color: #008000\">'system'</span><span style=\"color: #008000; text-decoration-color: #008000\">, </span><span style=\"color: #008000; text-decoration-color: #008000\">'content'</span><span style=\"color: #008000; text-decoration-color: #008000\">: </span><span style=\"color: #008000; text-decoration-color: #008000; font-weight: bold\">[{</span><span style=\"color: #008000; text-decoration-color: #008000\">'type'</span><span style=\"color: #008000; text-decoration-color: #008000\">: </span><span style=\"color: #008000; text-decoration-color: #008000\">'text'</span><span style=\"color: #008000; text-decoration-color: #008000\">, </span>\n",
       "<span style=\"color: #008000; text-decoration-color: #008000\">'text'</span><span style=\"color: #008000; text-decoration-color: #008000\">: </span><span style=\"color: #008000; text-decoration-color: #008000\">'You are a Code Generator agent specializing in slide manipulation. You precisely translate content edit </span>\n",
       "<span style=\"color: #008000; text-decoration-color: #008000\">commands into API calls by understanding HTML structure.'</span><span style=\"color: #008000; text-decoration-color: #008000; font-weight: bold\">}]}</span><span style=\"color: #008000; text-decoration-color: #008000\">, </span><span style=\"color: #008000; text-decoration-color: #008000\">'[{\"role\": \"user\", \"content\": [{\"type\": \"text\", </span>\n",
       "<span style=\"color: #008000; text-decoration-color: #008000\">\"text\": \"Generate API calls based on the provided commands, ensuring compliance with the specified rules and </span>\n",
       "<span style=\"color: #008000; text-decoration-color: #008000\">precise execution.\\\\nYou must determine the parent-child relationships of elements based on indentation and ensure </span>\n",
       "<span style=\"color: #008000; text-decoration-color: #008000\">that all &lt;p&gt; and &lt;img&gt; elements are modified.\\\\n\\\\nEach command follows this format: (element_class, type, </span>\n",
       "<span style=\"color: #008000; text-decoration-color: #008000\">quantity_change: int, old_data, new_data).\\\\n\\\\nAvailable APIs\\\\n\\\\ndef replace_image(img_id: int, image_path: </span>\n",
       "<span style=\"color: #008000; text-decoration-color: #008000\">str)\\\\n\\\\tReplace an image in a slide.\\\\n\\\\nArgs:\\\\n    slide (SlidePage): The slide containing the image.\\\\n    </span>\n",
       "<span style=\"color: #008000; text-decoration-color: #008000\">img_id (int): The ID of the image to replace.\\\\n    image_path (str): The path to the new image.\\\\n\\\\nRaises:\\\\n   </span>\n",
       "<span style=\"color: #008000; text-decoration-color: #008000\">ValueError: If the image path does not exist.\\\\n\\\\ndef del_image(figure_id: int)\\\\n\\\\tDelete an image from a </span>\n",
       "<span style=\"color: #008000; text-decoration-color: #008000\">slide.\\\\n\\\\nArgs:\\\\n    slide (SlidePage): The slide containing the image.\\\\n    figure_id (int): The ID of the </span>\n",
       "<span style=\"color: #008000; text-decoration-color: #008000\">image to delete.\\\\n\\\\ndef clone_paragraph(div_id: int, paragraph_id: int)\\\\n\\\\tClone a paragraph in a </span>\n",
       "<span style=\"color: #008000; text-decoration-color: #008000\">slide.\\\\n\\\\nArgs:\\\\n    slide (SlidePage): The slide containing the paragraph.\\\\n    div_id (int): The ID of the </span>\n",
       "<span style=\"color: #008000; text-decoration-color: #008000\">division containing the paragraph.\\\\n    paragraph_id (int): The ID of the paragraph to clone.\\\\n\\\\nRaises:\\\\n    </span>\n",
       "<span style=\"color: #008000; text-decoration-color: #008000\">IndexError: If the paragraph is not found.\\\\n\\\\nMention: the cloned paragraph will have a paragraph_id one greater </span>\n",
       "<span style=\"color: #008000; text-decoration-color: #008000\">than the current maximum in the parent element.\\\\n\\\\ndef replace_paragraph(div_id: int, paragraph_id: int, text: </span>\n",
       "<span style=\"color: #008000; text-decoration-color: #008000\">str)\\\\n\\\\tReplace the text of a paragraph in a slide.\\\\n\\\\nArgs:\\\\n    slide (SlidePage): The slide containing the </span>\n",
       "<span style=\"color: #008000; text-decoration-color: #008000\">paragraph.\\\\n    div_id (int): The ID of the division containing the paragraph.\\\\n    paragraph_id (int): The ID of</span>\n",
       "<span style=\"color: #008000; text-decoration-color: #008000\">the paragraph to replace.\\\\n    text (str): The new text to replace with.\\\\n\\\\nRaises:\\\\n    IndexError: If the </span>\n",
       "<span style=\"color: #008000; text-decoration-color: #008000\">paragraph is not found.\\\\n\\\\ndef del_paragraph(div_id: int, paragraph_id: int)\\\\n\\\\tDelete a paragraph from a </span>\n",
       "<span style=\"color: #008000; text-decoration-color: #008000\">slide.\\\\n\\\\nArgs:\\\\n    slide (SlidePage): The slide containing the paragraph.\\\\n    div_id (int): The ID of the </span>\n",
       "<span style=\"color: #008000; text-decoration-color: #008000\">division containing the paragraph.\\\\n    paragraph_id (int): The ID of the paragraph to delete.\\\\n\\\\nRaises:\\\\n    </span>\n",
       "<span style=\"color: #008000; text-decoration-color: #008000\">IndexError: If the paragraph is not found.\\\\n\\\\nSteps\\\\n    1.\\\\tQuantity Adjustment:\\\\n    -\\\\tIf quantity_change </span>\n",
       "<span style=\"color: #008000; text-decoration-color: #008000\">= 0, modify the content only.\\\\n    -\\\\tIf quantity_change &gt; 0, use clone_paragraph to add the specified number of </span>\n",
       "<span style=\"color: #008000; text-decoration-color: #008000\">paragraphs from the same element_class. The paragraph_id for newly cloned paragraphs should be the current maximum </span>\n",
       "<span style=\"color: #008000; text-decoration-color: #008000\">paragraph_id of the parent element plus 1.\\\\n    -\\\\tIf quantity_change &lt; 0, use del_paragraph or del_image to </span>\n",
       "<span style=\"color: #008000; text-decoration-color: #008000\">remove the specified number of tail elements.\\\\n    -\\\\tEach command’s API call group must exclusively use either </span>\n",
       "<span style=\"color: #008000; text-decoration-color: #008000\">clone_paragraph or del_paragraph/del_image based on the `quantity_change`\\\\n    2.\\\\tContent Modification:\\\\n    </span>\n",
       "<span style=\"color: #008000; text-decoration-color: #008000\">-\\\\tText Content: Use replace_paragraph to modify the content.\\\\n    -\\\\tImage Content: Use replace_image to </span>\n",
       "<span style=\"color: #008000; text-decoration-color: #008000\">replace image resources.\\\\n    3.\\\\tOutput Format:\\\\n    -\\\\tAdd comments to each API call group, explaining the </span>\n",
       "<span style=\"color: #008000; text-decoration-color: #008000\">intent of the original command and the associated element_class.\\\\n    -\\\\tFor cloning operations, annotate the </span>\n",
       "<span style=\"color: #008000; text-decoration-color: #008000\">paragraph_id of the newly created paragraphs.\\\\n\\\\nExample Input:\\\\n\\\\n&lt;div id=\\\\\"0\\\\\" style=\\\\\"font-size: 24pt; </span>\n",
       "<span style=\"color: #008000; text-decoration-color: #008000\">color: #0D0D0D\\\\\"&gt;\\\\n    &lt;p id=\\\\\"0\\\\\"&gt;\\\\n       WorldFAIR: Global cooperation on FAIR data policy and practice\\\\n </span>\n",
       "<span style=\"color: #008000; text-decoration-color: #008000\">&lt;/p&gt;\\\\n&lt;/div&gt;\\\\n\\\\n&lt;div id=\\\\\"1\\\\\" style=\\\\\"font-size: 13pt; color: #404040\\\\\"&gt;\\\\n    &lt;ul&gt;\\\\n        &lt;li id=\\\\\"0\\\\\"</span>\n",
       "<span style=\"color: #008000; text-decoration-color: #008000\">bullet-type=\\\\\"▪\\\\\"&gt;\\\\n            Two-year project to advance implementation...\\\\n        &lt;/li&gt;\\\\n        &lt;li </span>\n",
       "<span style=\"color: #008000; text-decoration-color: #008000\">id=\\\\\"1\\\\\" style=\\\\\"font-weight: bold\\\\\" bullet-type=\\\\\"▪\\\\\"&gt;\\\\n            Funded by the European Union...\\\\n     </span>\n",
       "<span style=\"color: #008000; text-decoration-color: #008000\">&lt;/li&gt;\\\\n    &lt;/ul&gt;\\\\n&lt;/div&gt;\\\\n\\\\n&lt;img id=\\\\\"2\\\\\" alt=\\\\\"logo: project of xx\\\\\"&gt;\\\\n\\\\n[\\\\n    (\\\\\"title\\\\\", </span>\n",
       "<span style=\"color: #008000; text-decoration-color: #008000\">\\\\\"text\\\\\", \\\\\"quantity_change: 0\\\\\", [\\\\\"WorldFAIR: Global cooperation on FAIR data policy and practice\\\\\"], </span>\n",
       "<span style=\"color: #008000; text-decoration-color: #008000\">[\\\\\"New Title\\\\\"]),\\\\n    (\\\\\"project_description\\\\\", \\\\\"text\\\\\", \\\\\"quantity_change: 1\\\\\", [\\\\\"Two-year project to</span>\n",
       "<span style=\"color: #008000; text-decoration-color: #008000\">advance implementation of the FAIR principles\\\\\"], [\\\\\"New project description1\\\\\", \\\\\"New project </span>\n",
       "<span style=\"color: #008000; text-decoration-color: #008000\">description2\\\\\"]),\\\\n    (\\\\\"funding_info\\\\\", \\\\\"text\\\\\", \\\\\"quantity_change: -1\\\\\", [\\\\\"Funded by the European </span>\n",
       "<span style=\"color: #008000; text-decoration-color: #008000\">Union\\\\\"], []),\\\\n    (\\\\\"project_logo\\\\\", \\\\\"image\\\\\", \\\\\"quantity_change: 0\\\\\", [\\\\\"logo: project of xx\\\\\"], </span>\n",
       "<span style=\"color: #008000; text-decoration-color: #008000\">[\\\\\"new_logo.png\\\\\"])\\\\n]\\\\n\\\\nExample Output\\\\n# (\\\\\"title\\\\\", \\\\\"text\\\\\", \\\\\"quantity_change: 0\\\\\", </span>\n",
       "<span style=\"color: #008000; text-decoration-color: #008000\">[\\\\\"WorldFAIR: Global cooperation on FAIR data policy and practice\\\\\"], [\\\\\"New Title\\\\\"])\\\\nreplace_paragraph(0, </span>\n",
       "<span style=\"color: #008000; text-decoration-color: #008000\">0, \\\\\"New Title\\\\\")\\\\n\\\\n# (\\\\\"project_description\\\\\", \\\\\"text\\\\\", \\\\\"quantity_change: 1\\\\\", [\\\\\"Two-year project </span>\n",
       "<span style=\"color: #008000; text-decoration-color: #008000\">to advance implementation of the FAIR principles\\\\\"], [\\\\\"New project description1\\\\\", \\\\\"New project </span>\n",
       "<span style=\"color: #008000; text-decoration-color: #008000\">description2\\\\\"])\\\\nclone_paragraph(1, 0)  # New cloned paragraph_id is 2 as the current max paragraph_id is </span>\n",
       "<span style=\"color: #008000; text-decoration-color: #008000\">1\\\\nreplace_paragraph(1, 0, \\\\\"New project description1\\\\\")\\\\nreplace_paragraph(1, 2, \\\\\"New project </span>\n",
       "<span style=\"color: #008000; text-decoration-color: #008000\">description2\\\\\")\\\\n\\\\n# (\\\\\"funding_info\\\\\", \\\\\"text\\\\\", \\\\\"quantity_change: -1\\\\\", [\\\\\"Funded by the European </span>\n",
       "<span style=\"color: #008000; text-decoration-color: #008000\">Union\\\\\"], [])\\\\ndel_paragraph(1, 1)\\\\n\\\\n# (\\\\\"project_logo\\\\\", \\\\\"image\\\\\", \\\\\"quantity_change: 0\\\\\", [\\\\\"logo: </span>\n",
       "<span style=\"color: #008000; text-decoration-color: #008000\">project of xx\\\\\"], [\\\\\"new_logo.png\\\\\"])\\\\nreplace_image(2, \\\\\"new_logo.png\\\\\")\\\\n\\\\nCurrent Slide </span>\n",
       "<span style=\"color: #008000; text-decoration-color: #008000\">Content:\\\\n&lt;!DOCTYPE html&gt;\\\\n&lt;html&gt;\\\\n&lt;title&gt;What is Tourism?&lt;/title&gt;\\\\n&lt;body style=\\\\\"width:960pt; </span>\n",
       "<span style=\"color: #008000; text-decoration-color: #008000\">height:540pt;\\\\\"&gt;\\\\n&lt;div id=\\'0\\'&gt;\\\\n\\\\t&lt;p id=\\'0\\'&gt;What is Tourism?&lt;/p&gt;\\\\n&lt;/div&gt;\\\\n\\\\n&lt;div id=\\'1\\' </span>\n",
       "<span style=\"color: #008000; text-decoration-color: #008000\">style=\\'font-size: 20pt\\'&gt;\\\\n\\\\t&lt;p id=\\'0\\'&gt;The World Tourism Organisation defines tourism in terms which </span>\n",
       "<span style=\"color: #008000; text-decoration-color: #008000\">go&lt;/p&gt;\\\\n\\\\t&lt;p id=\\'1\\'&gt;“ beyond the common perception of tourism as being limited to holiday activity only”, as </span>\n",
       "<span style=\"color: #008000; text-decoration-color: #008000\">people “ travelling to and staying in places outside their usual environment for not more than one consecutive year</span>\n",
       "<span style=\"color: #008000; text-decoration-color: #008000\">for leisure, business and other purposes”&lt;/p&gt;\\\\n\\\\t&lt;p id=\\'2\\'&gt;Its importance was recognised in the Manila </span>\n",
       "<span style=\"color: #008000; text-decoration-color: #008000\">Declaration on World Tourism of 1980 as an activity essential to the life of nations because of its direct effects </span>\n",
       "<span style=\"color: #008000; text-decoration-color: #008000\">on the social, cultural, educational, and economic sectors of national societies and on their international </span>\n",
       "<span style=\"color: #008000; text-decoration-color: #008000\">relations&lt;/p&gt;\\\\n\\\\t&lt;p id=\\'3\\'&gt;Today, tourism is a major source of income for many countries, and affects the </span>\n",
       "<span style=\"color: #008000; text-decoration-color: #008000\">economy of both the source and the host countries, in some cases being of vital </span>\n",
       "<span style=\"color: #008000; text-decoration-color: #008000\">importance&lt;/p&gt;\\\\n&lt;/div&gt;\\\\n&lt;/body&gt;\\\\n&lt;/html&gt;\\\\n\\\\n\\\\nCommand List:\\\\n(\\'main_title\\', \\'text\\', \\'quantity_change: </span>\n",
       "<span style=\"color: #008000; text-decoration-color: #008000\">0\\', [\\'What is Tourism?\\'], [\\'The Future of OpenAI\\'])\\\\n(\\'content_text\\', \\'text\\', \\'quantity_change: 0\\', </span>\n",
       "<span style=\"color: #008000; text-decoration-color: #008000\">[\\'The World Tourism Organisation defines tourism in terms which go\\', \\'“ beyond the common perception of tourism </span>\n",
       "<span style=\"color: #008000; text-decoration-color: #008000\">as being limited to holiday activity only”, as people “ travelling to and staying in places outside their usual </span>\n",
       "<span style=\"color: #008000; text-decoration-color: #008000\">environment for not more than one consecutive year for leisure, business and other purposes”\\', \\'Its importance </span>\n",
       "<span style=\"color: #008000; text-decoration-color: #008000\">was recognised in the Manila Declaration on World Tourism of 1980 as an activity essential to the life of nations </span>\n",
       "<span style=\"color: #008000; text-decoration-color: #008000\">because of its direct effects on the social, cultural, educational, and economic sectors of national societies and </span>\n",
       "<span style=\"color: #008000; text-decoration-color: #008000\">on their international relations\\', \\'Today, tourism is a major source of income for many countries, and affects </span>\n",
       "<span style=\"color: #008000; text-decoration-color: #008000\">the economy of both the source and the host countries, in some cases being of vital importance\\'], [\\'OpenAI is </span>\n",
       "<span style=\"color: #008000; text-decoration-color: #008000\">dedicated to ethical leadership in AI research, focusing on advancing AGI responsibly.\\', \\'The organization </span>\n",
       "<span style=\"color: #008000; text-decoration-color: #008000\">strives to ensure AI development is aligned with societal benefits and adheres to strict safety protocols.\\', </span>\n",
       "<span style=\"color: #008000; text-decoration-color: #008000\">\\'Collaboration with global stakeholders remains a priority to address the challenges and unlock opportunities </span>\n",
       "<span style=\"color: #008000; text-decoration-color: #008000\">surrounding AGI.\\', \\'By fostering a transparent and inclusive approach, OpenAI envisions a future where AI </span>\n",
       "<span style=\"color: #008000; text-decoration-color: #008000\">contributes meaningfully to humanity.\\'])\\\\n\\\\nPlease output only the API call sequence, one call per line, wrapped</span>\n",
       "<span style=\"color: #008000; text-decoration-color: #008000\">in ```python and ```, with comments for corresponding commands.\"}]}]'</span><span style=\"color: #008000; text-decoration-color: #008000; font-weight: bold\">]</span>\n",
       "</pre>\n"
      ],
      "text/plain": [
       "\u001b[32msending messages to: gpt-4o-\u001b[0m\u001b[1;36m2024\u001b[0m\u001b[32m-\u001b[0m\u001b[1;36m11\u001b[0m\u001b[32m-\u001b[0m\u001b[1;36m20\u001b[0m\u001b[32m, message \u001b[0m\u001b[1;32m(\u001b[0m\u001b[32mtruncated\u001b[0m\u001b[1;32m)\u001b[0m\u001b[32m: \u001b[0m\u001b[1;32m[\u001b[0m\u001b[1;32m{\u001b[0m\u001b[32m'role'\u001b[0m\u001b[32m: \u001b[0m\u001b[32m'system'\u001b[0m\u001b[32m, \u001b[0m\u001b[32m'content'\u001b[0m\u001b[32m: \u001b[0m\u001b[1;32m[\u001b[0m\u001b[1;32m{\u001b[0m\u001b[32m'type'\u001b[0m\u001b[32m: \u001b[0m\u001b[32m'text'\u001b[0m\u001b[32m, \u001b[0m\n",
       "\u001b[32m'text'\u001b[0m\u001b[32m: \u001b[0m\u001b[32m'You are a Code Generator agent specializing in slide manipulation. You precisely translate content edit \u001b[0m\n",
       "\u001b[32mcommands into API calls by understanding HTML structure.'\u001b[0m\u001b[1;32m}\u001b[0m\u001b[1;32m]\u001b[0m\u001b[1;32m}\u001b[0m\u001b[32m, \u001b[0m\u001b[32m'\u001b[0m\u001b[32m[\u001b[0m\u001b[32m{\u001b[0m\u001b[32m\"role\": \"user\", \"content\": \u001b[0m\u001b[32m[\u001b[0m\u001b[32m{\u001b[0m\u001b[32m\"type\": \"text\", \u001b[0m\n",
       "\u001b[32m\"text\": \"Generate API calls based on the provided commands, ensuring compliance with the specified rules and \u001b[0m\n",
       "\u001b[32mprecise execution.\\\\nYou must determine the parent-child relationships of elements based on indentation and ensure \u001b[0m\n",
       "\u001b[32mthat all \u001b[0m\u001b[32m<\u001b[0m\u001b[32mp\u001b[0m\u001b[32m> and <img> elements are modified.\\\\n\\\\nEach command follows this format: \u001b[0m\u001b[32m(\u001b[0m\u001b[32melement_class, type, \u001b[0m\n",
       "\u001b[32mquantity_change: int, old_data, new_data\u001b[0m\u001b[32m)\u001b[0m\u001b[32m.\\\\n\\\\nAvailable APIs\\\\n\\\\ndef replace_image\u001b[0m\u001b[32m(\u001b[0m\u001b[32mimg_id: int, image_path: \u001b[0m\n",
       "\u001b[32mstr\u001b[0m\u001b[32m)\u001b[0m\u001b[32m\\\\n\\\\tReplace an image in a slide.\\\\n\\\\nArgs:\\\\n    slide \u001b[0m\u001b[32m(\u001b[0m\u001b[32mSlidePage\u001b[0m\u001b[32m)\u001b[0m\u001b[32m: The slide containing the image.\\\\n    \u001b[0m\n",
       "\u001b[32mimg_id \u001b[0m\u001b[32m(\u001b[0m\u001b[32mint\u001b[0m\u001b[32m)\u001b[0m\u001b[32m: The ID of the image to replace.\\\\n    image_path \u001b[0m\u001b[32m(\u001b[0m\u001b[32mstr\u001b[0m\u001b[32m)\u001b[0m\u001b[32m: The path to the new image.\\\\n\\\\nRaises:\\\\n   \u001b[0m\n",
       "\u001b[32mValueError: If the image path does not exist.\\\\n\\\\ndef del_image\u001b[0m\u001b[32m(\u001b[0m\u001b[32mfigure_id: int\u001b[0m\u001b[32m)\u001b[0m\u001b[32m\\\\n\\\\tDelete an image from a \u001b[0m\n",
       "\u001b[32mslide.\\\\n\\\\nArgs:\\\\n    slide \u001b[0m\u001b[32m(\u001b[0m\u001b[32mSlidePage\u001b[0m\u001b[32m)\u001b[0m\u001b[32m: The slide containing the image.\\\\n    figure_id \u001b[0m\u001b[32m(\u001b[0m\u001b[32mint\u001b[0m\u001b[32m)\u001b[0m\u001b[32m: The ID of the \u001b[0m\n",
       "\u001b[32mimage to delete.\\\\n\\\\ndef clone_paragraph\u001b[0m\u001b[32m(\u001b[0m\u001b[32mdiv_id: int, paragraph_id: int\u001b[0m\u001b[32m)\u001b[0m\u001b[32m\\\\n\\\\tClone a paragraph in a \u001b[0m\n",
       "\u001b[32mslide.\\\\n\\\\nArgs:\\\\n    slide \u001b[0m\u001b[32m(\u001b[0m\u001b[32mSlidePage\u001b[0m\u001b[32m)\u001b[0m\u001b[32m: The slide containing the paragraph.\\\\n    div_id \u001b[0m\u001b[32m(\u001b[0m\u001b[32mint\u001b[0m\u001b[32m)\u001b[0m\u001b[32m: The ID of the \u001b[0m\n",
       "\u001b[32mdivision containing the paragraph.\\\\n    paragraph_id \u001b[0m\u001b[32m(\u001b[0m\u001b[32mint\u001b[0m\u001b[32m)\u001b[0m\u001b[32m: The ID of the paragraph to clone.\\\\n\\\\nRaises:\\\\n    \u001b[0m\n",
       "\u001b[32mIndexError: If the paragraph is not found.\\\\n\\\\nMention: the cloned paragraph will have a paragraph_id one greater \u001b[0m\n",
       "\u001b[32mthan the current maximum in the parent element.\\\\n\\\\ndef replace_paragraph\u001b[0m\u001b[32m(\u001b[0m\u001b[32mdiv_id: int, paragraph_id: int, text: \u001b[0m\n",
       "\u001b[32mstr\u001b[0m\u001b[32m)\u001b[0m\u001b[32m\\\\n\\\\tReplace the text of a paragraph in a slide.\\\\n\\\\nArgs:\\\\n    slide \u001b[0m\u001b[32m(\u001b[0m\u001b[32mSlidePage\u001b[0m\u001b[32m)\u001b[0m\u001b[32m: The slide containing the \u001b[0m\n",
       "\u001b[32mparagraph.\\\\n    div_id \u001b[0m\u001b[32m(\u001b[0m\u001b[32mint\u001b[0m\u001b[32m)\u001b[0m\u001b[32m: The ID of the division containing the paragraph.\\\\n    paragraph_id \u001b[0m\u001b[32m(\u001b[0m\u001b[32mint\u001b[0m\u001b[32m)\u001b[0m\u001b[32m: The ID of\u001b[0m\n",
       "\u001b[32mthe paragraph to replace.\\\\n    text \u001b[0m\u001b[32m(\u001b[0m\u001b[32mstr\u001b[0m\u001b[32m)\u001b[0m\u001b[32m: The new text to replace with.\\\\n\\\\nRaises:\\\\n    IndexError: If the \u001b[0m\n",
       "\u001b[32mparagraph is not found.\\\\n\\\\ndef del_paragraph\u001b[0m\u001b[32m(\u001b[0m\u001b[32mdiv_id: int, paragraph_id: int\u001b[0m\u001b[32m)\u001b[0m\u001b[32m\\\\n\\\\tDelete a paragraph from a \u001b[0m\n",
       "\u001b[32mslide.\\\\n\\\\nArgs:\\\\n    slide \u001b[0m\u001b[32m(\u001b[0m\u001b[32mSlidePage\u001b[0m\u001b[32m)\u001b[0m\u001b[32m: The slide containing the paragraph.\\\\n    div_id \u001b[0m\u001b[32m(\u001b[0m\u001b[32mint\u001b[0m\u001b[32m)\u001b[0m\u001b[32m: The ID of the \u001b[0m\n",
       "\u001b[32mdivision containing the paragraph.\\\\n    paragraph_id \u001b[0m\u001b[32m(\u001b[0m\u001b[32mint\u001b[0m\u001b[32m)\u001b[0m\u001b[32m: The ID of the paragraph to delete.\\\\n\\\\nRaises:\\\\n    \u001b[0m\n",
       "\u001b[32mIndexError: If the paragraph is not found.\\\\n\\\\nSteps\\\\n    1.\\\\tQuantity Adjustment:\\\\n    -\\\\tIf quantity_change \u001b[0m\n",
       "\u001b[32m= 0, modify the content only.\\\\n    -\\\\tIf quantity_change > 0, use clone_paragraph to add the specified number of \u001b[0m\n",
       "\u001b[32mparagraphs from the same element_class. The paragraph_id for newly cloned paragraphs should be the current maximum \u001b[0m\n",
       "\u001b[32mparagraph_id of the parent element plus 1.\\\\n    -\\\\tIf quantity_change < 0, use del_paragraph or del_image to \u001b[0m\n",
       "\u001b[32mremove the specified number of tail elements.\\\\n    -\\\\tEach command’s API call group must exclusively use either \u001b[0m\n",
       "\u001b[32mclone_paragraph or del_paragraph/del_image based on the `quantity_change`\\\\n    2.\\\\tContent Modification:\\\\n    \u001b[0m\n",
       "\u001b[32m-\\\\tText Content: Use replace_paragraph to modify the content.\\\\n    -\\\\tImage Content: Use replace_image to \u001b[0m\n",
       "\u001b[32mreplace image resources.\\\\n    3.\\\\tOutput Format:\\\\n    -\\\\tAdd comments to each API call group, explaining the \u001b[0m\n",
       "\u001b[32mintent of the original command and the associated element_class.\\\\n    -\\\\tFor cloning operations, annotate the \u001b[0m\n",
       "\u001b[32mparagraph_id of the newly created paragraphs.\\\\n\\\\nExample Input:\\\\n\\\\n<div \u001b[0m\u001b[32mid\u001b[0m\u001b[32m=\\\\\"0\\\\\" \u001b[0m\u001b[32mstyle\u001b[0m\u001b[32m=\\\\\"font-size: 24pt; \u001b[0m\n",
       "\u001b[32mcolor: #0D0D0D\\\\\">\\\\n    <p \u001b[0m\u001b[32mid\u001b[0m\u001b[32m=\\\\\"0\\\\\">\\\\n       WorldFAIR: Global cooperation on FAIR data policy and practice\\\\n \u001b[0m\n",
       "\u001b[32m</p>\\\\n</div>\\\\n\\\\n<div \u001b[0m\u001b[32mid\u001b[0m\u001b[32m=\\\\\"1\\\\\" \u001b[0m\u001b[32mstyle\u001b[0m\u001b[32m=\\\\\"font-size: 13pt; color: #404040\\\\\">\\\\n    <ul>\\\\n        <li \u001b[0m\u001b[32mid\u001b[0m\u001b[32m=\\\\\"0\\\\\"\u001b[0m\n",
       "\u001b[32mbullet-\u001b[0m\u001b[32mtype\u001b[0m\u001b[32m=\\\\\"▪\\\\\">\\\\n            Two-year project to advance implementation...\\\\n        </li>\\\\n        <li \u001b[0m\n",
       "\u001b[32mid\u001b[0m\u001b[32m=\\\\\"1\\\\\" \u001b[0m\u001b[32mstyle\u001b[0m\u001b[32m=\\\\\"font-weight: bold\\\\\" bullet-\u001b[0m\u001b[32mtype\u001b[0m\u001b[32m=\\\\\"▪\\\\\">\\\\n            Funded by the European Union...\\\\n     \u001b[0m\n",
       "\u001b[32m</li>\\\\n    </ul>\\\\n</div>\\\\n\\\\n<img \u001b[0m\u001b[32mid\u001b[0m\u001b[32m=\\\\\"2\\\\\" \u001b[0m\u001b[32malt\u001b[0m\u001b[32m=\\\\\"logo: project of xx\\\\\">\\\\n\\\\n\u001b[0m\u001b[32m[\u001b[0m\u001b[32m\\\\n    \u001b[0m\u001b[32m(\u001b[0m\u001b[32m\\\\\"title\\\\\", \u001b[0m\n",
       "\u001b[32m\\\\\"text\\\\\", \\\\\"quantity_change: 0\\\\\", \u001b[0m\u001b[32m[\u001b[0m\u001b[32m\\\\\"WorldFAIR: Global cooperation on FAIR data policy and practice\\\\\"\u001b[0m\u001b[32m]\u001b[0m\u001b[32m, \u001b[0m\n",
       "\u001b[32m[\u001b[0m\u001b[32m\\\\\"New Title\\\\\"\u001b[0m\u001b[32m]\u001b[0m\u001b[32m)\u001b[0m\u001b[32m,\\\\n    \u001b[0m\u001b[32m(\u001b[0m\u001b[32m\\\\\"project_description\\\\\", \\\\\"text\\\\\", \\\\\"quantity_change: 1\\\\\", \u001b[0m\u001b[32m[\u001b[0m\u001b[32m\\\\\"Two-year project to\u001b[0m\n",
       "\u001b[32madvance implementation of the FAIR principles\\\\\"\u001b[0m\u001b[32m]\u001b[0m\u001b[32m, \u001b[0m\u001b[32m[\u001b[0m\u001b[32m\\\\\"New project description1\\\\\", \\\\\"New project \u001b[0m\n",
       "\u001b[32mdescription2\\\\\"\u001b[0m\u001b[32m]\u001b[0m\u001b[32m)\u001b[0m\u001b[32m,\\\\n    \u001b[0m\u001b[32m(\u001b[0m\u001b[32m\\\\\"funding_info\\\\\", \\\\\"text\\\\\", \\\\\"quantity_change: -1\\\\\", \u001b[0m\u001b[32m[\u001b[0m\u001b[32m\\\\\"Funded by the European \u001b[0m\n",
       "\u001b[32mUnion\\\\\"\u001b[0m\u001b[32m]\u001b[0m\u001b[32m, \u001b[0m\u001b[32m[\u001b[0m\u001b[32m]\u001b[0m\u001b[32m)\u001b[0m\u001b[32m,\\\\n    \u001b[0m\u001b[32m(\u001b[0m\u001b[32m\\\\\"project_logo\\\\\", \\\\\"image\\\\\", \\\\\"quantity_change: 0\\\\\", \u001b[0m\u001b[32m[\u001b[0m\u001b[32m\\\\\"logo: project of xx\\\\\"\u001b[0m\u001b[32m]\u001b[0m\u001b[32m, \u001b[0m\n",
       "\u001b[32m[\u001b[0m\u001b[32m\\\\\"new_logo.png\\\\\"\u001b[0m\u001b[32m]\u001b[0m\u001b[32m)\u001b[0m\u001b[32m\\\\n\u001b[0m\u001b[32m]\u001b[0m\u001b[32m\\\\n\\\\nExample Output\\\\n# \u001b[0m\u001b[32m(\u001b[0m\u001b[32m\\\\\"title\\\\\", \\\\\"text\\\\\", \\\\\"quantity_change: 0\\\\\", \u001b[0m\n",
       "\u001b[32m[\u001b[0m\u001b[32m\\\\\"WorldFAIR: Global cooperation on FAIR data policy and practice\\\\\"\u001b[0m\u001b[32m]\u001b[0m\u001b[32m, \u001b[0m\u001b[32m[\u001b[0m\u001b[32m\\\\\"New Title\\\\\"\u001b[0m\u001b[32m]\u001b[0m\u001b[32m)\u001b[0m\u001b[32m\\\\nreplace_paragraph\u001b[0m\u001b[32m(\u001b[0m\u001b[32m0, \u001b[0m\n",
       "\u001b[32m0, \\\\\"New Title\\\\\"\u001b[0m\u001b[32m)\u001b[0m\u001b[32m\\\\n\\\\n# \u001b[0m\u001b[32m(\u001b[0m\u001b[32m\\\\\"project_description\\\\\", \\\\\"text\\\\\", \\\\\"quantity_change: 1\\\\\", \u001b[0m\u001b[32m[\u001b[0m\u001b[32m\\\\\"Two-year project \u001b[0m\n",
       "\u001b[32mto advance implementation of the FAIR principles\\\\\"\u001b[0m\u001b[32m]\u001b[0m\u001b[32m, \u001b[0m\u001b[32m[\u001b[0m\u001b[32m\\\\\"New project description1\\\\\", \\\\\"New project \u001b[0m\n",
       "\u001b[32mdescription2\\\\\"\u001b[0m\u001b[32m]\u001b[0m\u001b[32m)\u001b[0m\u001b[32m\\\\nclone_paragraph\u001b[0m\u001b[32m(\u001b[0m\u001b[32m1, 0\u001b[0m\u001b[32m)\u001b[0m\u001b[32m  # New cloned paragraph_id is 2 as the current max paragraph_id is \u001b[0m\n",
       "\u001b[32m1\\\\nreplace_paragraph\u001b[0m\u001b[32m(\u001b[0m\u001b[32m1, 0, \\\\\"New project description1\\\\\"\u001b[0m\u001b[32m)\u001b[0m\u001b[32m\\\\nreplace_paragraph\u001b[0m\u001b[32m(\u001b[0m\u001b[32m1, 2, \\\\\"New project \u001b[0m\n",
       "\u001b[32mdescription2\\\\\"\u001b[0m\u001b[32m)\u001b[0m\u001b[32m\\\\n\\\\n# \u001b[0m\u001b[32m(\u001b[0m\u001b[32m\\\\\"funding_info\\\\\", \\\\\"text\\\\\", \\\\\"quantity_change: -1\\\\\", \u001b[0m\u001b[32m[\u001b[0m\u001b[32m\\\\\"Funded by the European \u001b[0m\n",
       "\u001b[32mUnion\\\\\"\u001b[0m\u001b[32m]\u001b[0m\u001b[32m, \u001b[0m\u001b[32m[\u001b[0m\u001b[32m]\u001b[0m\u001b[32m)\u001b[0m\u001b[32m\\\\ndel_paragraph\u001b[0m\u001b[32m(\u001b[0m\u001b[32m1, 1\u001b[0m\u001b[32m)\u001b[0m\u001b[32m\\\\n\\\\n# \u001b[0m\u001b[32m(\u001b[0m\u001b[32m\\\\\"project_logo\\\\\", \\\\\"image\\\\\", \\\\\"quantity_change: 0\\\\\", \u001b[0m\u001b[32m[\u001b[0m\u001b[32m\\\\\"logo: \u001b[0m\n",
       "\u001b[32mproject of xx\\\\\"\u001b[0m\u001b[32m]\u001b[0m\u001b[32m, \u001b[0m\u001b[32m[\u001b[0m\u001b[32m\\\\\"new_logo.png\\\\\"\u001b[0m\u001b[32m]\u001b[0m\u001b[32m)\u001b[0m\u001b[32m\\\\nreplace_image\u001b[0m\u001b[32m(\u001b[0m\u001b[32m2, \\\\\"new_logo.png\\\\\"\u001b[0m\u001b[32m)\u001b[0m\u001b[32m\\\\n\\\\nCurrent Slide \u001b[0m\n",
       "\u001b[32mContent:\\\\n<!DOCTYPE html>\\\\n<html>\\\\n<title>What is Tourism?</title>\\\\n<body \u001b[0m\u001b[32mstyle\u001b[0m\u001b[32m=\\\\\"width:960pt; \u001b[0m\n",
       "\u001b[32mheight:540pt;\\\\\">\\\\n<div \u001b[0m\u001b[32mid\u001b[0m\u001b[32m=\\'0\\'>\\\\n\\\\t<p \u001b[0m\u001b[32mid\u001b[0m\u001b[32m=\\'0\\'>What is Tourism?</p>\\\\n</div>\\\\n\\\\n<div \u001b[0m\u001b[32mid\u001b[0m\u001b[32m=\\'1\\' \u001b[0m\n",
       "\u001b[32mstyle\u001b[0m\u001b[32m=\\'font-size: 20pt\\'>\\\\n\\\\t<p \u001b[0m\u001b[32mid\u001b[0m\u001b[32m=\\'0\\'>The World Tourism Organisation defines tourism in terms which \u001b[0m\n",
       "\u001b[32mgo</p>\\\\n\\\\t<p \u001b[0m\u001b[32mid\u001b[0m\u001b[32m=\\'1\\'>“ beyond the common perception of tourism as being limited to holiday activity only”, as \u001b[0m\n",
       "\u001b[32mpeople “ travelling to and staying in places outside their usual environment for not more than one consecutive year\u001b[0m\n",
       "\u001b[32mfor leisure, business and other purposes”</p>\\\\n\\\\t<p \u001b[0m\u001b[32mid\u001b[0m\u001b[32m=\\'2\\'>Its importance was recognised in the Manila \u001b[0m\n",
       "\u001b[32mDeclaration on World Tourism of 1980 as an activity essential to the life of nations because of its direct effects \u001b[0m\n",
       "\u001b[32mon the social, cultural, educational, and economic sectors of national societies and on their international \u001b[0m\n",
       "\u001b[32mrelations</p>\\\\n\\\\t<p \u001b[0m\u001b[32mid\u001b[0m\u001b[32m=\\'3\\'>Today, tourism is a major source of income for many countries, and affects the \u001b[0m\n",
       "\u001b[32meconomy of both the source and the host countries, in some cases being of vital \u001b[0m\n",
       "\u001b[32mimportance</p>\\\\n</div>\\\\n</body>\\\\n</html\u001b[0m\u001b[32m>\u001b[0m\u001b[32m\\\\n\\\\n\\\\nCommand List:\\\\n\u001b[0m\u001b[32m(\u001b[0m\u001b[32m\\'main_title\\', \\'text\\', \\'quantity_change: \u001b[0m\n",
       "\u001b[32m0\\', \u001b[0m\u001b[32m[\u001b[0m\u001b[32m\\'What is Tourism?\\'\u001b[0m\u001b[32m]\u001b[0m\u001b[32m, \u001b[0m\u001b[32m[\u001b[0m\u001b[32m\\'The Future of OpenAI\\'\u001b[0m\u001b[32m]\u001b[0m\u001b[32m)\u001b[0m\u001b[32m\\\\n\u001b[0m\u001b[32m(\u001b[0m\u001b[32m\\'content_text\\', \\'text\\', \\'quantity_change: 0\\', \u001b[0m\n",
       "\u001b[32m[\u001b[0m\u001b[32m\\'The World Tourism Organisation defines tourism in terms which go\\', \\'“ beyond the common perception of tourism \u001b[0m\n",
       "\u001b[32mas being limited to holiday activity only”, as people “ travelling to and staying in places outside their usual \u001b[0m\n",
       "\u001b[32menvironment for not more than one consecutive year for leisure, business and other purposes”\\', \\'Its importance \u001b[0m\n",
       "\u001b[32mwas recognised in the Manila Declaration on World Tourism of 1980 as an activity essential to the life of nations \u001b[0m\n",
       "\u001b[32mbecause of its direct effects on the social, cultural, educational, and economic sectors of national societies and \u001b[0m\n",
       "\u001b[32mon their international relations\\', \\'Today, tourism is a major source of income for many countries, and affects \u001b[0m\n",
       "\u001b[32mthe economy of both the source and the host countries, in some cases being of vital importance\\'\u001b[0m\u001b[32m]\u001b[0m\u001b[32m, \u001b[0m\u001b[32m[\u001b[0m\u001b[32m\\'OpenAI is \u001b[0m\n",
       "\u001b[32mdedicated to ethical leadership in AI research, focusing on advancing AGI responsibly.\\', \\'The organization \u001b[0m\n",
       "\u001b[32mstrives to ensure AI development is aligned with societal benefits and adheres to strict safety protocols.\\', \u001b[0m\n",
       "\u001b[32m\\'Collaboration with global stakeholders remains a priority to address the challenges and unlock opportunities \u001b[0m\n",
       "\u001b[32msurrounding AGI.\\', \\'By fostering a transparent and inclusive approach, OpenAI envisions a future where AI \u001b[0m\n",
       "\u001b[32mcontributes meaningfully to humanity.\\'\u001b[0m\u001b[32m]\u001b[0m\u001b[32m)\u001b[0m\u001b[32m\\\\n\\\\nPlease output only the API call sequence, one call per line, wrapped\u001b[0m\n",
       "\u001b[32min ```python and ```, with comments for corresponding commands.\"\u001b[0m\u001b[32m}\u001b[0m\u001b[32m]\u001b[0m\u001b[32m}\u001b[0m\u001b[32m]\u001b[0m\u001b[32m'\u001b[0m\u001b[1;32m]\u001b[0m\n"
      ]
     },
     "metadata": {},
     "output_type": "display_data"
    },
    {
     "data": {
      "text/html": [
       "<pre style=\"white-space:pre;overflow-x:auto;line-height:normal;font-family:Menlo,'DejaVu Sans Mono',consolas,'Courier New',monospace\"><span style=\"color: #800000; text-decoration-color: #800000\">response from gpt-4o-</span><span style=\"color: #008080; text-decoration-color: #008080; font-weight: bold\">2024</span><span style=\"color: #800000; text-decoration-color: #800000\">-</span><span style=\"color: #008080; text-decoration-color: #008080; font-weight: bold\">11</span><span style=\"color: #800000; text-decoration-color: #800000\">-</span><span style=\"color: #008080; text-decoration-color: #008080; font-weight: bold\">20</span><span style=\"color: #800000; text-decoration-color: #800000\">: ```python</span>\n",
       "<span style=\"color: #800000; text-decoration-color: #800000\"># </span><span style=\"color: #800000; text-decoration-color: #800000; font-weight: bold\">(</span><span style=\"color: #008000; text-decoration-color: #008000\">'main_title'</span><span style=\"color: #800000; text-decoration-color: #800000\">, </span><span style=\"color: #008000; text-decoration-color: #008000\">'text'</span><span style=\"color: #800000; text-decoration-color: #800000\">, </span><span style=\"color: #008000; text-decoration-color: #008000\">'quantity_change: 0'</span><span style=\"color: #800000; text-decoration-color: #800000\">, </span><span style=\"color: #800000; text-decoration-color: #800000; font-weight: bold\">[</span><span style=\"color: #008000; text-decoration-color: #008000\">'What is Tourism?'</span><span style=\"color: #800000; text-decoration-color: #800000; font-weight: bold\">]</span><span style=\"color: #800000; text-decoration-color: #800000\">, </span><span style=\"color: #800000; text-decoration-color: #800000; font-weight: bold\">[</span><span style=\"color: #008000; text-decoration-color: #008000\">'The Future of OpenAI'</span><span style=\"color: #800000; text-decoration-color: #800000; font-weight: bold\">])</span>\n",
       "<span style=\"color: #800080; text-decoration-color: #800080; font-weight: bold\">replace_paragraph</span><span style=\"color: #800000; text-decoration-color: #800000; font-weight: bold\">(</span><span style=\"color: #008080; text-decoration-color: #008080; font-weight: bold\">0</span><span style=\"color: #800000; text-decoration-color: #800000\">, </span><span style=\"color: #008080; text-decoration-color: #008080; font-weight: bold\">0</span><span style=\"color: #800000; text-decoration-color: #800000\">, </span><span style=\"color: #008000; text-decoration-color: #008000\">\"The Future of OpenAI\"</span><span style=\"color: #800000; text-decoration-color: #800000; font-weight: bold\">)</span>\n",
       "\n",
       "<span style=\"color: #800000; text-decoration-color: #800000\"># </span><span style=\"color: #800000; text-decoration-color: #800000; font-weight: bold\">(</span><span style=\"color: #008000; text-decoration-color: #008000\">'content_text'</span><span style=\"color: #800000; text-decoration-color: #800000\">, </span><span style=\"color: #008000; text-decoration-color: #008000\">'text'</span><span style=\"color: #800000; text-decoration-color: #800000\">, </span><span style=\"color: #008000; text-decoration-color: #008000\">'quantity_change: 0'</span><span style=\"color: #800000; text-decoration-color: #800000\">, </span><span style=\"color: #800000; text-decoration-color: #800000; font-weight: bold\">[</span><span style=\"color: #008000; text-decoration-color: #008000\">'The World Tourism Organisation defines tourism in terms which </span>\n",
       "<span style=\"color: #008000; text-decoration-color: #008000\">go'</span><span style=\"color: #800000; text-decoration-color: #800000\">, </span><span style=\"color: #008000; text-decoration-color: #008000\">'“ beyond the common perception of tourism as being limited to holiday activity only”, as people “ travelling </span>\n",
       "<span style=\"color: #008000; text-decoration-color: #008000\">to and staying in places outside their usual environment for not more than one consecutive year for leisure, </span>\n",
       "<span style=\"color: #008000; text-decoration-color: #008000\">business and other purposes”'</span><span style=\"color: #800000; text-decoration-color: #800000\">, </span><span style=\"color: #008000; text-decoration-color: #008000\">'Its importance was recognised in the Manila Declaration on World Tourism of 1980 as</span>\n",
       "<span style=\"color: #008000; text-decoration-color: #008000\">an activity essential to the life of nations because of its direct effects on the social, cultural, educational, </span>\n",
       "<span style=\"color: #008000; text-decoration-color: #008000\">and economic sectors of national societies and on their international relations'</span><span style=\"color: #800000; text-decoration-color: #800000\">, </span><span style=\"color: #008000; text-decoration-color: #008000\">'Today, tourism is a major source</span>\n",
       "<span style=\"color: #008000; text-decoration-color: #008000\">of income for many countries, and affects the economy of both the source and the host countries, in some cases </span>\n",
       "<span style=\"color: #008000; text-decoration-color: #008000\">being of vital importance'</span><span style=\"color: #800000; text-decoration-color: #800000; font-weight: bold\">]</span><span style=\"color: #800000; text-decoration-color: #800000\">, </span><span style=\"color: #800000; text-decoration-color: #800000; font-weight: bold\">[</span><span style=\"color: #008000; text-decoration-color: #008000\">'OpenAI is dedicated to ethical leadership in AI research, focusing on advancing AGI </span>\n",
       "<span style=\"color: #008000; text-decoration-color: #008000\">responsibly.'</span><span style=\"color: #800000; text-decoration-color: #800000\">, </span><span style=\"color: #008000; text-decoration-color: #008000\">'The organization strives to ensure AI development is aligned with societal benefits and adheres to </span>\n",
       "<span style=\"color: #008000; text-decoration-color: #008000\">strict safety protocols.'</span><span style=\"color: #800000; text-decoration-color: #800000\">, </span><span style=\"color: #008000; text-decoration-color: #008000\">'Collaboration with global stakeholders remains a priority to address the challenges and</span>\n",
       "<span style=\"color: #008000; text-decoration-color: #008000\">unlock opportunities surrounding AGI.'</span><span style=\"color: #800000; text-decoration-color: #800000\">, </span><span style=\"color: #008000; text-decoration-color: #008000\">'By fostering a transparent and inclusive approach, OpenAI envisions a </span>\n",
       "<span style=\"color: #008000; text-decoration-color: #008000\">future where AI contributes meaningfully to humanity.'</span><span style=\"color: #800000; text-decoration-color: #800000; font-weight: bold\">])</span>\n",
       "<span style=\"color: #800080; text-decoration-color: #800080; font-weight: bold\">replace_paragraph</span><span style=\"color: #800000; text-decoration-color: #800000; font-weight: bold\">(</span><span style=\"color: #008080; text-decoration-color: #008080; font-weight: bold\">1</span><span style=\"color: #800000; text-decoration-color: #800000\">, </span><span style=\"color: #008080; text-decoration-color: #008080; font-weight: bold\">0</span><span style=\"color: #800000; text-decoration-color: #800000\">, </span><span style=\"color: #008000; text-decoration-color: #008000\">\"OpenAI is dedicated to ethical leadership in AI research, focusing on advancing AGI </span>\n",
       "<span style=\"color: #008000; text-decoration-color: #008000\">responsibly.\"</span><span style=\"color: #800000; text-decoration-color: #800000; font-weight: bold\">)</span>\n",
       "<span style=\"color: #800080; text-decoration-color: #800080; font-weight: bold\">replace_paragraph</span><span style=\"color: #800000; text-decoration-color: #800000; font-weight: bold\">(</span><span style=\"color: #008080; text-decoration-color: #008080; font-weight: bold\">1</span><span style=\"color: #800000; text-decoration-color: #800000\">, </span><span style=\"color: #008080; text-decoration-color: #008080; font-weight: bold\">1</span><span style=\"color: #800000; text-decoration-color: #800000\">, </span><span style=\"color: #008000; text-decoration-color: #008000\">\"The organization strives to ensure AI development is aligned with societal benefits and </span>\n",
       "<span style=\"color: #008000; text-decoration-color: #008000\">adheres to strict safety protocols.\"</span><span style=\"color: #800000; text-decoration-color: #800000; font-weight: bold\">)</span>\n",
       "<span style=\"color: #800080; text-decoration-color: #800080; font-weight: bold\">replace_paragraph</span><span style=\"color: #800000; text-decoration-color: #800000; font-weight: bold\">(</span><span style=\"color: #008080; text-decoration-color: #008080; font-weight: bold\">1</span><span style=\"color: #800000; text-decoration-color: #800000\">, </span><span style=\"color: #008080; text-decoration-color: #008080; font-weight: bold\">2</span><span style=\"color: #800000; text-decoration-color: #800000\">, </span><span style=\"color: #008000; text-decoration-color: #008000\">\"Collaboration with global stakeholders remains a priority to address the challenges and </span>\n",
       "<span style=\"color: #008000; text-decoration-color: #008000\">unlock opportunities surrounding AGI.\"</span><span style=\"color: #800000; text-decoration-color: #800000; font-weight: bold\">)</span>\n",
       "<span style=\"color: #800080; text-decoration-color: #800080; font-weight: bold\">replace_paragraph</span><span style=\"color: #800000; text-decoration-color: #800000; font-weight: bold\">(</span><span style=\"color: #008080; text-decoration-color: #008080; font-weight: bold\">1</span><span style=\"color: #800000; text-decoration-color: #800000\">, </span><span style=\"color: #008080; text-decoration-color: #008080; font-weight: bold\">3</span><span style=\"color: #800000; text-decoration-color: #800000\">, </span><span style=\"color: #008000; text-decoration-color: #008000\">\"By fostering a transparent and inclusive approach, OpenAI envisions a future where AI </span>\n",
       "<span style=\"color: #008000; text-decoration-color: #008000\">contributes meaningfully to humanity.\"</span><span style=\"color: #800000; text-decoration-color: #800000; font-weight: bold\">)</span>\n",
       "<span style=\"color: #800000; text-decoration-color: #800000\">```</span>\n",
       "</pre>\n"
      ],
      "text/plain": [
       "\u001b[31mresponse from gpt-4o-\u001b[0m\u001b[1;36m2024\u001b[0m\u001b[31m-\u001b[0m\u001b[1;36m11\u001b[0m\u001b[31m-\u001b[0m\u001b[1;36m20\u001b[0m\u001b[31m: ```python\u001b[0m\n",
       "\u001b[31m# \u001b[0m\u001b[1;31m(\u001b[0m\u001b[32m'main_title'\u001b[0m\u001b[31m, \u001b[0m\u001b[32m'text'\u001b[0m\u001b[31m, \u001b[0m\u001b[32m'quantity_change: 0'\u001b[0m\u001b[31m, \u001b[0m\u001b[1;31m[\u001b[0m\u001b[32m'What is Tourism?'\u001b[0m\u001b[1;31m]\u001b[0m\u001b[31m, \u001b[0m\u001b[1;31m[\u001b[0m\u001b[32m'The Future of OpenAI'\u001b[0m\u001b[1;31m]\u001b[0m\u001b[1;31m)\u001b[0m\n",
       "\u001b[1;35mreplace_paragraph\u001b[0m\u001b[1;31m(\u001b[0m\u001b[1;36m0\u001b[0m\u001b[31m, \u001b[0m\u001b[1;36m0\u001b[0m\u001b[31m, \u001b[0m\u001b[32m\"The Future of OpenAI\"\u001b[0m\u001b[1;31m)\u001b[0m\n",
       "\n",
       "\u001b[31m# \u001b[0m\u001b[1;31m(\u001b[0m\u001b[32m'content_text'\u001b[0m\u001b[31m, \u001b[0m\u001b[32m'text'\u001b[0m\u001b[31m, \u001b[0m\u001b[32m'quantity_change: 0'\u001b[0m\u001b[31m, \u001b[0m\u001b[1;31m[\u001b[0m\u001b[32m'The World Tourism Organisation defines tourism in terms which \u001b[0m\n",
       "\u001b[32mgo'\u001b[0m\u001b[31m, \u001b[0m\u001b[32m'“ beyond the common perception of tourism as being limited to holiday activity only”, as people “ travelling \u001b[0m\n",
       "\u001b[32mto and staying in places outside their usual environment for not more than one consecutive year for leisure, \u001b[0m\n",
       "\u001b[32mbusiness and other purposes”'\u001b[0m\u001b[31m, \u001b[0m\u001b[32m'Its importance was recognised in the Manila Declaration on World Tourism of 1980 as\u001b[0m\n",
       "\u001b[32man activity essential to the life of nations because of its direct effects on the social, cultural, educational, \u001b[0m\n",
       "\u001b[32mand economic sectors of national societies and on their international relations'\u001b[0m\u001b[31m, \u001b[0m\u001b[32m'Today, tourism is a major source\u001b[0m\n",
       "\u001b[32mof income for many countries, and affects the economy of both the source and the host countries, in some cases \u001b[0m\n",
       "\u001b[32mbeing of vital importance'\u001b[0m\u001b[1;31m]\u001b[0m\u001b[31m, \u001b[0m\u001b[1;31m[\u001b[0m\u001b[32m'OpenAI is dedicated to ethical leadership in AI research, focusing on advancing AGI \u001b[0m\n",
       "\u001b[32mresponsibly.'\u001b[0m\u001b[31m, \u001b[0m\u001b[32m'The organization strives to ensure AI development is aligned with societal benefits and adheres to \u001b[0m\n",
       "\u001b[32mstrict safety protocols.'\u001b[0m\u001b[31m, \u001b[0m\u001b[32m'Collaboration with global stakeholders remains a priority to address the challenges and\u001b[0m\n",
       "\u001b[32munlock opportunities surrounding AGI.'\u001b[0m\u001b[31m, \u001b[0m\u001b[32m'By fostering a transparent and inclusive approach, OpenAI envisions a \u001b[0m\n",
       "\u001b[32mfuture where AI contributes meaningfully to humanity.'\u001b[0m\u001b[1;31m]\u001b[0m\u001b[1;31m)\u001b[0m\n",
       "\u001b[1;35mreplace_paragraph\u001b[0m\u001b[1;31m(\u001b[0m\u001b[1;36m1\u001b[0m\u001b[31m, \u001b[0m\u001b[1;36m0\u001b[0m\u001b[31m, \u001b[0m\u001b[32m\"OpenAI is dedicated to ethical leadership in AI research, focusing on advancing AGI \u001b[0m\n",
       "\u001b[32mresponsibly.\"\u001b[0m\u001b[1;31m)\u001b[0m\n",
       "\u001b[1;35mreplace_paragraph\u001b[0m\u001b[1;31m(\u001b[0m\u001b[1;36m1\u001b[0m\u001b[31m, \u001b[0m\u001b[1;36m1\u001b[0m\u001b[31m, \u001b[0m\u001b[32m\"The organization strives to ensure AI development is aligned with societal benefits and \u001b[0m\n",
       "\u001b[32madheres to strict safety protocols.\"\u001b[0m\u001b[1;31m)\u001b[0m\n",
       "\u001b[1;35mreplace_paragraph\u001b[0m\u001b[1;31m(\u001b[0m\u001b[1;36m1\u001b[0m\u001b[31m, \u001b[0m\u001b[1;36m2\u001b[0m\u001b[31m, \u001b[0m\u001b[32m\"Collaboration with global stakeholders remains a priority to address the challenges and \u001b[0m\n",
       "\u001b[32munlock opportunities surrounding AGI.\"\u001b[0m\u001b[1;31m)\u001b[0m\n",
       "\u001b[1;35mreplace_paragraph\u001b[0m\u001b[1;31m(\u001b[0m\u001b[1;36m1\u001b[0m\u001b[31m, \u001b[0m\u001b[1;36m3\u001b[0m\u001b[31m, \u001b[0m\u001b[32m\"By fostering a transparent and inclusive approach, OpenAI envisions a future where AI \u001b[0m\n",
       "\u001b[32mcontributes meaningfully to humanity.\"\u001b[0m\u001b[1;31m)\u001b[0m\n",
       "\u001b[31m```\u001b[0m\n"
      ]
     },
     "metadata": {},
     "output_type": "display_data"
    },
    {
     "data": {
      "text/html": [
       "<pre style=\"white-space:pre;overflow-x:auto;line-height:normal;font-family:Menlo,'DejaVu Sans Mono',consolas,'Courier New',monospace\"><span style=\"color: #008000; text-decoration-color: #008000\">sending messages to: gpt-4o-</span><span style=\"color: #008080; text-decoration-color: #008080; font-weight: bold\">2024</span><span style=\"color: #008000; text-decoration-color: #008000\">-</span><span style=\"color: #008080; text-decoration-color: #008080; font-weight: bold\">11</span><span style=\"color: #008000; text-decoration-color: #008000\">-</span><span style=\"color: #008080; text-decoration-color: #008080; font-weight: bold\">20</span><span style=\"color: #008000; text-decoration-color: #008000\">, message </span><span style=\"color: #008000; text-decoration-color: #008000; font-weight: bold\">(</span><span style=\"color: #008000; text-decoration-color: #008000\">truncated</span><span style=\"color: #008000; text-decoration-color: #008000; font-weight: bold\">)</span><span style=\"color: #008000; text-decoration-color: #008000\">: </span><span style=\"color: #008000; text-decoration-color: #008000; font-weight: bold\">[{</span><span style=\"color: #008000; text-decoration-color: #008000\">'role'</span><span style=\"color: #008000; text-decoration-color: #008000\">: </span><span style=\"color: #008000; text-decoration-color: #008000\">'system'</span><span style=\"color: #008000; text-decoration-color: #008000\">, </span><span style=\"color: #008000; text-decoration-color: #008000\">'content'</span><span style=\"color: #008000; text-decoration-color: #008000\">: </span><span style=\"color: #008000; text-decoration-color: #008000; font-weight: bold\">[{</span><span style=\"color: #008000; text-decoration-color: #008000\">'type'</span><span style=\"color: #008000; text-decoration-color: #008000\">: </span><span style=\"color: #008000; text-decoration-color: #008000\">'text'</span><span style=\"color: #008000; text-decoration-color: #008000\">, </span>\n",
       "<span style=\"color: #008000; text-decoration-color: #008000\">'text'</span><span style=\"color: #008000; text-decoration-color: #008000\">: </span><span style=\"color: #008000; text-decoration-color: #008000\">'You are an expert Editor agent. Transform reference text and images into slide content, following schema </span>\n",
       "<span style=\"color: #008000; text-decoration-color: #008000\">rules and using only provided materials. Ensure the content is engaging and within the character limit.'</span><span style=\"color: #008000; text-decoration-color: #008000; font-weight: bold\">}]}</span><span style=\"color: #008000; text-decoration-color: #008000\">, </span>\n",
       "<span style=\"color: #008000; text-decoration-color: #008000\">'[{\"role\": \"user\", \"content\": [{\"type\": \"text\", \"text\": \"Task: Generate engaging slide content based on the </span>\n",
       "<span style=\"color: #008000; text-decoration-color: #008000\">provided schema and reference materials.\\\\n\\\\nRequirements:\\\\n1. Content Generation Rules:\\\\n  - Follow </span>\n",
       "<span style=\"color: #008000; text-decoration-color: #008000\">default_quantity for elements, adjust when necessary\\\\n  - Ensure text content meets character limits\\\\n  - </span>\n",
       "<span style=\"color: #008000; text-decoration-color: #008000\">Generated text should use concise and impactful presentation style\\\\n\\\\n2. Core Elements:\\\\n  - Must extract </span>\n",
       "<span style=\"color: #008000; text-decoration-color: #008000\">essential content from reference text (e.g., slide_title, main_content) and maintain semantic consistency\\\\n  - </span>\n",
       "<span style=\"color: #008000; text-decoration-color: #008000\">Must include images that support the main content (e.g., diagrams for explanations, visuals directly discussed in </span>\n",
       "<span style=\"color: #008000; text-decoration-color: #008000\">text)\\\\n\\\\n3. Supporting Elements (e.g., presenters, logo images):\\\\n  - Generate only when relevant content exists</span>\n",
       "<span style=\"color: #008000; text-decoration-color: #008000\">in reference materials\\\\n\\\\nGenerate content for each element and output in the following format:\\\\n{\\\\n  </span>\n",
       "<span style=\"color: #008000; text-decoration-color: #008000\">\\\\\"element1\\\\\": {\\\\n    \\\\\"data\\\\\": [\\\\\"text1\\\\\", \\\\\"text2\\\\\"] for text elements\\\\n          or </span>\n",
       "<span style=\"color: #008000; text-decoration-color: #008000\">[\\\\\"/path/to/image\\\\\", \\\\\"...\\\\\"] for image elements\\\\n  },\\\\n}\\\\n\\\\nInput:\\\\nSchema:\\\\n{\\'slide_title\\': </span>\n",
       "<span style=\"color: #008000; text-decoration-color: #008000\">{\\'description\\': \\'The main title describing the subject of the slide.\\', \\'type\\': \\'text\\', </span>\n",
       "<span style=\"color: #008000; text-decoration-color: #008000\">\\'suggestedCharacters\\': \\'&lt;18\\', \\'default_quantity\\': 1}, \\'main_heading\\': {\\'description\\': \\'The central or </span>\n",
       "<span style=\"color: #008000; text-decoration-color: #008000\">main heading that introduces the core theme or message of the slide.\\', \\'type\\': \\'text\\', </span>\n",
       "<span style=\"color: #008000; text-decoration-color: #008000\">\\'suggestedCharacters\\': \\'&lt;82\\', \\'default_quantity\\': 1}, \\'presenter\\': {\\'description\\': \\'The name of the </span>\n",
       "<span style=\"color: #008000; text-decoration-color: #008000\">person or entity presenting the content of the slide.\\', \\'type\\': \\'text\\', \\'suggestedCharacters\\': \\'&lt;16\\', </span>\n",
       "<span style=\"color: #008000; text-decoration-color: #008000\">\\'default_quantity\\': 1}}\\\\n\\\\nMetadata of Presentation:\\\\ntitle: The History of OpenAI\\\\nauthor: OpenAI </span>\n",
       "<span style=\"color: #008000; text-decoration-color: #008000\">Documentation Team\\\\npublish date: October 2023\\\\norganization: OpenAI\\\\nPresentation Time: 2025-02-02\\\\n\\\\nSlide </span>\n",
       "<span style=\"color: #008000; text-decoration-color: #008000\">1: Opening of The History of OpenAI\\\\nSlide 2: Formation and Vision\\\\nSlide 3: Key Milestones and </span>\n",
       "<span style=\"color: #008000; text-decoration-color: #008000\">Achievements\\\\nSlide 4: The Future of OpenAI\\\\nSlide 5: Conclusion of The History of OpenAI\\\\n\\\\nReference </span>\n",
       "<span style=\"color: #008000; text-decoration-color: #008000\">Text:\\\\nSlide-5 Slide Purpose: Conclusion of The History of OpenAI\\\\nSlide Description: Summarizing key takeaways </span>\n",
       "<span style=\"color: #008000; text-decoration-color: #008000\">and emphasizing OpenAI\\'s ongoing mission to drive AI development responsibly and transparently.\\\\n\\\\n\\\\nAvailable </span>\n",
       "<span style=\"color: #008000; text-decoration-color: #008000\">Images:\\\\nNo Images\\\\n\\\\nOutput: Ensure the generated content strictly adheres to the schema specifications, </span>\n",
       "<span style=\"color: #008000; text-decoration-color: #008000\">follows the slide style, reader-friendly.\"}]}]'</span><span style=\"color: #008000; text-decoration-color: #008000; font-weight: bold\">]</span>\n",
       "</pre>\n"
      ],
      "text/plain": [
       "\u001b[32msending messages to: gpt-4o-\u001b[0m\u001b[1;36m2024\u001b[0m\u001b[32m-\u001b[0m\u001b[1;36m11\u001b[0m\u001b[32m-\u001b[0m\u001b[1;36m20\u001b[0m\u001b[32m, message \u001b[0m\u001b[1;32m(\u001b[0m\u001b[32mtruncated\u001b[0m\u001b[1;32m)\u001b[0m\u001b[32m: \u001b[0m\u001b[1;32m[\u001b[0m\u001b[1;32m{\u001b[0m\u001b[32m'role'\u001b[0m\u001b[32m: \u001b[0m\u001b[32m'system'\u001b[0m\u001b[32m, \u001b[0m\u001b[32m'content'\u001b[0m\u001b[32m: \u001b[0m\u001b[1;32m[\u001b[0m\u001b[1;32m{\u001b[0m\u001b[32m'type'\u001b[0m\u001b[32m: \u001b[0m\u001b[32m'text'\u001b[0m\u001b[32m, \u001b[0m\n",
       "\u001b[32m'text'\u001b[0m\u001b[32m: \u001b[0m\u001b[32m'You are an expert Editor agent. Transform reference text and images into slide content, following schema \u001b[0m\n",
       "\u001b[32mrules and using only provided materials. Ensure the content is engaging and within the character limit.'\u001b[0m\u001b[1;32m}\u001b[0m\u001b[1;32m]\u001b[0m\u001b[1;32m}\u001b[0m\u001b[32m, \u001b[0m\n",
       "\u001b[32m'\u001b[0m\u001b[32m[\u001b[0m\u001b[32m{\u001b[0m\u001b[32m\"role\": \"user\", \"content\": \u001b[0m\u001b[32m[\u001b[0m\u001b[32m{\u001b[0m\u001b[32m\"type\": \"text\", \"text\": \"Task: Generate engaging slide content based on the \u001b[0m\n",
       "\u001b[32mprovided schema and reference materials.\\\\n\\\\nRequirements:\\\\n1. Content Generation Rules:\\\\n  - Follow \u001b[0m\n",
       "\u001b[32mdefault_quantity for elements, adjust when necessary\\\\n  - Ensure text content meets character limits\\\\n  - \u001b[0m\n",
       "\u001b[32mGenerated text should use concise and impactful presentation style\\\\n\\\\n2. Core Elements:\\\\n  - Must extract \u001b[0m\n",
       "\u001b[32messential content from reference text \u001b[0m\u001b[32m(\u001b[0m\u001b[32me.g., slide_title, main_content\u001b[0m\u001b[32m)\u001b[0m\u001b[32m and maintain semantic consistency\\\\n  - \u001b[0m\n",
       "\u001b[32mMust include images that support the main content \u001b[0m\u001b[32m(\u001b[0m\u001b[32me.g., diagrams for explanations, visuals directly discussed in \u001b[0m\n",
       "\u001b[32mtext\u001b[0m\u001b[32m)\u001b[0m\u001b[32m\\\\n\\\\n3. Supporting Elements \u001b[0m\u001b[32m(\u001b[0m\u001b[32me.g., presenters, logo images\u001b[0m\u001b[32m)\u001b[0m\u001b[32m:\\\\n  - Generate only when relevant content exists\u001b[0m\n",
       "\u001b[32min reference materials\\\\n\\\\nGenerate content for each element and output in the following format:\\\\n\u001b[0m\u001b[32m{\u001b[0m\u001b[32m\\\\n  \u001b[0m\n",
       "\u001b[32m\\\\\"element1\\\\\": \u001b[0m\u001b[32m{\u001b[0m\u001b[32m\\\\n    \\\\\"data\\\\\": \u001b[0m\u001b[32m[\u001b[0m\u001b[32m\\\\\"text1\\\\\", \\\\\"text2\\\\\"\u001b[0m\u001b[32m]\u001b[0m\u001b[32m for text elements\\\\n          or \u001b[0m\n",
       "\u001b[32m[\u001b[0m\u001b[32m\\\\\"/path/to/image\\\\\", \\\\\"...\\\\\"\u001b[0m\u001b[32m]\u001b[0m\u001b[32m for image elements\\\\n  \u001b[0m\u001b[32m}\u001b[0m\u001b[32m,\\\\n\u001b[0m\u001b[32m}\u001b[0m\u001b[32m\\\\n\\\\nInput:\\\\nSchema:\\\\n\u001b[0m\u001b[32m{\u001b[0m\u001b[32m\\'slide_title\\': \u001b[0m\n",
       "\u001b[32m{\u001b[0m\u001b[32m\\'description\\': \\'The main title describing the subject of the slide.\\', \\'type\\': \\'text\\', \u001b[0m\n",
       "\u001b[32m\\'suggestedCharacters\\': \\'<18\\', \\'default_quantity\\': 1\u001b[0m\u001b[32m}\u001b[0m\u001b[32m, \\'main_heading\\': \u001b[0m\u001b[32m{\u001b[0m\u001b[32m\\'description\\': \\'The central or \u001b[0m\n",
       "\u001b[32mmain heading that introduces the core theme or message of the slide.\\', \\'type\\': \\'text\\', \u001b[0m\n",
       "\u001b[32m\\'suggestedCharacters\\': \\'<82\\', \\'default_quantity\\': 1\u001b[0m\u001b[32m}\u001b[0m\u001b[32m, \\'presenter\\': \u001b[0m\u001b[32m{\u001b[0m\u001b[32m\\'description\\': \\'The name of the \u001b[0m\n",
       "\u001b[32mperson or entity presenting the content of the slide.\\', \\'type\\': \\'text\\', \\'suggestedCharacters\\': \\'<16\\', \u001b[0m\n",
       "\u001b[32m\\'default_quantity\\': 1\u001b[0m\u001b[32m}\u001b[0m\u001b[32m}\u001b[0m\u001b[32m\\\\n\\\\nMetadata of Presentation:\\\\ntitle: The History of OpenAI\\\\nauthor: OpenAI \u001b[0m\n",
       "\u001b[32mDocumentation Team\\\\npublish date: October 2023\\\\norganization: OpenAI\\\\nPresentation Time: 2025-02-02\\\\n\\\\nSlide \u001b[0m\n",
       "\u001b[32m1: Opening of The History of OpenAI\\\\nSlide 2: Formation and Vision\\\\nSlide 3: Key Milestones and \u001b[0m\n",
       "\u001b[32mAchievements\\\\nSlide 4: The Future of OpenAI\\\\nSlide 5: Conclusion of The History of OpenAI\\\\n\\\\nReference \u001b[0m\n",
       "\u001b[32mText:\\\\nSlide-5 Slide Purpose: Conclusion of The History of OpenAI\\\\nSlide Description: Summarizing key takeaways \u001b[0m\n",
       "\u001b[32mand emphasizing OpenAI\\'s ongoing mission to drive AI development responsibly and transparently.\\\\n\\\\n\\\\nAvailable \u001b[0m\n",
       "\u001b[32mImages:\\\\nNo Images\\\\n\\\\nOutput: Ensure the generated content strictly adheres to the schema specifications, \u001b[0m\n",
       "\u001b[32mfollows the slide style, reader-friendly.\"\u001b[0m\u001b[32m}\u001b[0m\u001b[32m]\u001b[0m\u001b[32m}\u001b[0m\u001b[32m]\u001b[0m\u001b[32m'\u001b[0m\u001b[1;32m]\u001b[0m\n"
      ]
     },
     "metadata": {},
     "output_type": "display_data"
    },
    {
     "data": {
      "text/html": [
       "<pre style=\"white-space:pre;overflow-x:auto;line-height:normal;font-family:Menlo,'DejaVu Sans Mono',consolas,'Courier New',monospace\"><span style=\"color: #800000; text-decoration-color: #800000\">response from gpt-4o-</span><span style=\"color: #008080; text-decoration-color: #008080; font-weight: bold\">2024</span><span style=\"color: #800000; text-decoration-color: #800000\">-</span><span style=\"color: #008080; text-decoration-color: #008080; font-weight: bold\">11</span><span style=\"color: #800000; text-decoration-color: #800000\">-</span><span style=\"color: #008080; text-decoration-color: #008080; font-weight: bold\">20</span><span style=\"color: #800000; text-decoration-color: #800000\">: ```json</span>\n",
       "<span style=\"color: #800000; text-decoration-color: #800000; font-weight: bold\">{</span>\n",
       "<span style=\"color: #800000; text-decoration-color: #800000\">  </span><span style=\"color: #008000; text-decoration-color: #008000\">\"slide_title\"</span><span style=\"color: #800000; text-decoration-color: #800000\">: </span><span style=\"color: #800000; text-decoration-color: #800000; font-weight: bold\">{</span>\n",
       "<span style=\"color: #800000; text-decoration-color: #800000\">    </span><span style=\"color: #008000; text-decoration-color: #008000\">\"data\"</span><span style=\"color: #800000; text-decoration-color: #800000\">: </span><span style=\"color: #800000; text-decoration-color: #800000; font-weight: bold\">[</span><span style=\"color: #008000; text-decoration-color: #008000\">\"Conclusion\"</span><span style=\"color: #800000; text-decoration-color: #800000; font-weight: bold\">]</span>\n",
       "<span style=\"color: #800000; text-decoration-color: #800000\">  </span><span style=\"color: #800000; text-decoration-color: #800000; font-weight: bold\">}</span><span style=\"color: #800000; text-decoration-color: #800000\">,</span>\n",
       "<span style=\"color: #800000; text-decoration-color: #800000\">  </span><span style=\"color: #008000; text-decoration-color: #008000\">\"main_heading\"</span><span style=\"color: #800000; text-decoration-color: #800000\">: </span><span style=\"color: #800000; text-decoration-color: #800000; font-weight: bold\">{</span>\n",
       "<span style=\"color: #800000; text-decoration-color: #800000\">    </span><span style=\"color: #008000; text-decoration-color: #008000\">\"data\"</span><span style=\"color: #800000; text-decoration-color: #800000\">: </span><span style=\"color: #800000; text-decoration-color: #800000; font-weight: bold\">[</span><span style=\"color: #008000; text-decoration-color: #008000\">\"Summarizing OpenAI's Journey &amp; Vision\"</span><span style=\"color: #800000; text-decoration-color: #800000; font-weight: bold\">]</span>\n",
       "<span style=\"color: #800000; text-decoration-color: #800000\">  </span><span style=\"color: #800000; text-decoration-color: #800000; font-weight: bold\">}</span><span style=\"color: #800000; text-decoration-color: #800000\">,</span>\n",
       "<span style=\"color: #800000; text-decoration-color: #800000\">  </span><span style=\"color: #008000; text-decoration-color: #008000\">\"presenter\"</span><span style=\"color: #800000; text-decoration-color: #800000\">: </span><span style=\"color: #800000; text-decoration-color: #800000; font-weight: bold\">{</span>\n",
       "<span style=\"color: #800000; text-decoration-color: #800000\">    </span><span style=\"color: #008000; text-decoration-color: #008000\">\"data\"</span><span style=\"color: #800000; text-decoration-color: #800000\">: </span><span style=\"color: #800000; text-decoration-color: #800000; font-weight: bold\">[</span><span style=\"color: #008000; text-decoration-color: #008000\">\"OpenAI Team\"</span><span style=\"color: #800000; text-decoration-color: #800000; font-weight: bold\">]</span>\n",
       "<span style=\"color: #800000; text-decoration-color: #800000\">  </span><span style=\"color: #800000; text-decoration-color: #800000; font-weight: bold\">}</span>\n",
       "<span style=\"color: #800000; text-decoration-color: #800000; font-weight: bold\">}</span>\n",
       "<span style=\"color: #800000; text-decoration-color: #800000\">```</span>\n",
       "</pre>\n"
      ],
      "text/plain": [
       "\u001b[31mresponse from gpt-4o-\u001b[0m\u001b[1;36m2024\u001b[0m\u001b[31m-\u001b[0m\u001b[1;36m11\u001b[0m\u001b[31m-\u001b[0m\u001b[1;36m20\u001b[0m\u001b[31m: ```json\u001b[0m\n",
       "\u001b[1;31m{\u001b[0m\n",
       "\u001b[31m  \u001b[0m\u001b[32m\"slide_title\"\u001b[0m\u001b[31m: \u001b[0m\u001b[1;31m{\u001b[0m\n",
       "\u001b[31m    \u001b[0m\u001b[32m\"data\"\u001b[0m\u001b[31m: \u001b[0m\u001b[1;31m[\u001b[0m\u001b[32m\"Conclusion\"\u001b[0m\u001b[1;31m]\u001b[0m\n",
       "\u001b[31m  \u001b[0m\u001b[1;31m}\u001b[0m\u001b[31m,\u001b[0m\n",
       "\u001b[31m  \u001b[0m\u001b[32m\"main_heading\"\u001b[0m\u001b[31m: \u001b[0m\u001b[1;31m{\u001b[0m\n",
       "\u001b[31m    \u001b[0m\u001b[32m\"data\"\u001b[0m\u001b[31m: \u001b[0m\u001b[1;31m[\u001b[0m\u001b[32m\"Summarizing OpenAI's Journey & Vision\"\u001b[0m\u001b[1;31m]\u001b[0m\n",
       "\u001b[31m  \u001b[0m\u001b[1;31m}\u001b[0m\u001b[31m,\u001b[0m\n",
       "\u001b[31m  \u001b[0m\u001b[32m\"presenter\"\u001b[0m\u001b[31m: \u001b[0m\u001b[1;31m{\u001b[0m\n",
       "\u001b[31m    \u001b[0m\u001b[32m\"data\"\u001b[0m\u001b[31m: \u001b[0m\u001b[1;31m[\u001b[0m\u001b[32m\"OpenAI Team\"\u001b[0m\u001b[1;31m]\u001b[0m\n",
       "\u001b[31m  \u001b[0m\u001b[1;31m}\u001b[0m\n",
       "\u001b[1;31m}\u001b[0m\n",
       "\u001b[31m```\u001b[0m\n"
      ]
     },
     "metadata": {},
     "output_type": "display_data"
    },
    {
     "data": {
      "text/html": [
       "<pre style=\"white-space:pre;overflow-x:auto;line-height:normal;font-family:Menlo,'DejaVu Sans Mono',consolas,'Courier New',monospace\"><span style=\"color: #008000; text-decoration-color: #008000\">sending messages to: gpt-4o-</span><span style=\"color: #008080; text-decoration-color: #008080; font-weight: bold\">2024</span><span style=\"color: #008000; text-decoration-color: #008000\">-</span><span style=\"color: #008080; text-decoration-color: #008080; font-weight: bold\">11</span><span style=\"color: #008000; text-decoration-color: #008000\">-</span><span style=\"color: #008080; text-decoration-color: #008080; font-weight: bold\">20</span><span style=\"color: #008000; text-decoration-color: #008000\">, message </span><span style=\"color: #008000; text-decoration-color: #008000; font-weight: bold\">(</span><span style=\"color: #008000; text-decoration-color: #008000\">truncated</span><span style=\"color: #008000; text-decoration-color: #008000; font-weight: bold\">)</span><span style=\"color: #008000; text-decoration-color: #008000\">: </span><span style=\"color: #008000; text-decoration-color: #008000; font-weight: bold\">[{</span><span style=\"color: #008000; text-decoration-color: #008000\">'role'</span><span style=\"color: #008000; text-decoration-color: #008000\">: </span><span style=\"color: #008000; text-decoration-color: #008000\">'system'</span><span style=\"color: #008000; text-decoration-color: #008000\">, </span><span style=\"color: #008000; text-decoration-color: #008000\">'content'</span><span style=\"color: #008000; text-decoration-color: #008000\">: </span><span style=\"color: #008000; text-decoration-color: #008000; font-weight: bold\">[{</span><span style=\"color: #008000; text-decoration-color: #008000\">'type'</span><span style=\"color: #008000; text-decoration-color: #008000\">: </span><span style=\"color: #008000; text-decoration-color: #008000\">'text'</span><span style=\"color: #008000; text-decoration-color: #008000\">, </span>\n",
       "<span style=\"color: #008000; text-decoration-color: #008000\">'text'</span><span style=\"color: #008000; text-decoration-color: #008000\">: </span><span style=\"color: #008000; text-decoration-color: #008000\">'You are a Code Generator agent specializing in slide manipulation. You precisely translate content edit </span>\n",
       "<span style=\"color: #008000; text-decoration-color: #008000\">commands into API calls by understanding HTML structure.'</span><span style=\"color: #008000; text-decoration-color: #008000; font-weight: bold\">}]}</span><span style=\"color: #008000; text-decoration-color: #008000\">, </span><span style=\"color: #008000; text-decoration-color: #008000\">'[{\"role\": \"user\", \"content\": [{\"type\": \"text\", </span>\n",
       "<span style=\"color: #008000; text-decoration-color: #008000\">\"text\": \"Generate API calls based on the provided commands, ensuring compliance with the specified rules and </span>\n",
       "<span style=\"color: #008000; text-decoration-color: #008000\">precise execution.\\\\nYou must determine the parent-child relationships of elements based on indentation and ensure </span>\n",
       "<span style=\"color: #008000; text-decoration-color: #008000\">that all &lt;p&gt; and &lt;img&gt; elements are modified.\\\\n\\\\nEach command follows this format: (element_class, type, </span>\n",
       "<span style=\"color: #008000; text-decoration-color: #008000\">quantity_change: int, old_data, new_data).\\\\n\\\\nAvailable APIs\\\\n\\\\ndef replace_image(img_id: int, image_path: </span>\n",
       "<span style=\"color: #008000; text-decoration-color: #008000\">str)\\\\n\\\\tReplace an image in a slide.\\\\n\\\\nArgs:\\\\n    slide (SlidePage): The slide containing the image.\\\\n    </span>\n",
       "<span style=\"color: #008000; text-decoration-color: #008000\">img_id (int): The ID of the image to replace.\\\\n    image_path (str): The path to the new image.\\\\n\\\\nRaises:\\\\n   </span>\n",
       "<span style=\"color: #008000; text-decoration-color: #008000\">ValueError: If the image path does not exist.\\\\n\\\\ndef del_image(figure_id: int)\\\\n\\\\tDelete an image from a </span>\n",
       "<span style=\"color: #008000; text-decoration-color: #008000\">slide.\\\\n\\\\nArgs:\\\\n    slide (SlidePage): The slide containing the image.\\\\n    figure_id (int): The ID of the </span>\n",
       "<span style=\"color: #008000; text-decoration-color: #008000\">image to delete.\\\\n\\\\ndef clone_paragraph(div_id: int, paragraph_id: int)\\\\n\\\\tClone a paragraph in a </span>\n",
       "<span style=\"color: #008000; text-decoration-color: #008000\">slide.\\\\n\\\\nArgs:\\\\n    slide (SlidePage): The slide containing the paragraph.\\\\n    div_id (int): The ID of the </span>\n",
       "<span style=\"color: #008000; text-decoration-color: #008000\">division containing the paragraph.\\\\n    paragraph_id (int): The ID of the paragraph to clone.\\\\n\\\\nRaises:\\\\n    </span>\n",
       "<span style=\"color: #008000; text-decoration-color: #008000\">IndexError: If the paragraph is not found.\\\\n\\\\nMention: the cloned paragraph will have a paragraph_id one greater </span>\n",
       "<span style=\"color: #008000; text-decoration-color: #008000\">than the current maximum in the parent element.\\\\n\\\\ndef replace_paragraph(div_id: int, paragraph_id: int, text: </span>\n",
       "<span style=\"color: #008000; text-decoration-color: #008000\">str)\\\\n\\\\tReplace the text of a paragraph in a slide.\\\\n\\\\nArgs:\\\\n    slide (SlidePage): The slide containing the </span>\n",
       "<span style=\"color: #008000; text-decoration-color: #008000\">paragraph.\\\\n    div_id (int): The ID of the division containing the paragraph.\\\\n    paragraph_id (int): The ID of</span>\n",
       "<span style=\"color: #008000; text-decoration-color: #008000\">the paragraph to replace.\\\\n    text (str): The new text to replace with.\\\\n\\\\nRaises:\\\\n    IndexError: If the </span>\n",
       "<span style=\"color: #008000; text-decoration-color: #008000\">paragraph is not found.\\\\n\\\\ndef del_paragraph(div_id: int, paragraph_id: int)\\\\n\\\\tDelete a paragraph from a </span>\n",
       "<span style=\"color: #008000; text-decoration-color: #008000\">slide.\\\\n\\\\nArgs:\\\\n    slide (SlidePage): The slide containing the paragraph.\\\\n    div_id (int): The ID of the </span>\n",
       "<span style=\"color: #008000; text-decoration-color: #008000\">division containing the paragraph.\\\\n    paragraph_id (int): The ID of the paragraph to delete.\\\\n\\\\nRaises:\\\\n    </span>\n",
       "<span style=\"color: #008000; text-decoration-color: #008000\">IndexError: If the paragraph is not found.\\\\n\\\\nSteps\\\\n    1.\\\\tQuantity Adjustment:\\\\n    -\\\\tIf quantity_change </span>\n",
       "<span style=\"color: #008000; text-decoration-color: #008000\">= 0, modify the content only.\\\\n    -\\\\tIf quantity_change &gt; 0, use clone_paragraph to add the specified number of </span>\n",
       "<span style=\"color: #008000; text-decoration-color: #008000\">paragraphs from the same element_class. The paragraph_id for newly cloned paragraphs should be the current maximum </span>\n",
       "<span style=\"color: #008000; text-decoration-color: #008000\">paragraph_id of the parent element plus 1.\\\\n    -\\\\tIf quantity_change &lt; 0, use del_paragraph or del_image to </span>\n",
       "<span style=\"color: #008000; text-decoration-color: #008000\">remove the specified number of tail elements.\\\\n    -\\\\tEach command’s API call group must exclusively use either </span>\n",
       "<span style=\"color: #008000; text-decoration-color: #008000\">clone_paragraph or del_paragraph/del_image based on the `quantity_change`\\\\n    2.\\\\tContent Modification:\\\\n    </span>\n",
       "<span style=\"color: #008000; text-decoration-color: #008000\">-\\\\tText Content: Use replace_paragraph to modify the content.\\\\n    -\\\\tImage Content: Use replace_image to </span>\n",
       "<span style=\"color: #008000; text-decoration-color: #008000\">replace image resources.\\\\n    3.\\\\tOutput Format:\\\\n    -\\\\tAdd comments to each API call group, explaining the </span>\n",
       "<span style=\"color: #008000; text-decoration-color: #008000\">intent of the original command and the associated element_class.\\\\n    -\\\\tFor cloning operations, annotate the </span>\n",
       "<span style=\"color: #008000; text-decoration-color: #008000\">paragraph_id of the newly created paragraphs.\\\\n\\\\nExample Input:\\\\n\\\\n&lt;div id=\\\\\"0\\\\\" style=\\\\\"font-size: 24pt; </span>\n",
       "<span style=\"color: #008000; text-decoration-color: #008000\">color: #0D0D0D\\\\\"&gt;\\\\n    &lt;p id=\\\\\"0\\\\\"&gt;\\\\n       WorldFAIR: Global cooperation on FAIR data policy and practice\\\\n </span>\n",
       "<span style=\"color: #008000; text-decoration-color: #008000\">&lt;/p&gt;\\\\n&lt;/div&gt;\\\\n\\\\n&lt;div id=\\\\\"1\\\\\" style=\\\\\"font-size: 13pt; color: #404040\\\\\"&gt;\\\\n    &lt;ul&gt;\\\\n        &lt;li id=\\\\\"0\\\\\"</span>\n",
       "<span style=\"color: #008000; text-decoration-color: #008000\">bullet-type=\\\\\"▪\\\\\"&gt;\\\\n            Two-year project to advance implementation...\\\\n        &lt;/li&gt;\\\\n        &lt;li </span>\n",
       "<span style=\"color: #008000; text-decoration-color: #008000\">id=\\\\\"1\\\\\" style=\\\\\"font-weight: bold\\\\\" bullet-type=\\\\\"▪\\\\\"&gt;\\\\n            Funded by the European Union...\\\\n     </span>\n",
       "<span style=\"color: #008000; text-decoration-color: #008000\">&lt;/li&gt;\\\\n    &lt;/ul&gt;\\\\n&lt;/div&gt;\\\\n\\\\n&lt;img id=\\\\\"2\\\\\" alt=\\\\\"logo: project of xx\\\\\"&gt;\\\\n\\\\n[\\\\n    (\\\\\"title\\\\\", </span>\n",
       "<span style=\"color: #008000; text-decoration-color: #008000\">\\\\\"text\\\\\", \\\\\"quantity_change: 0\\\\\", [\\\\\"WorldFAIR: Global cooperation on FAIR data policy and practice\\\\\"], </span>\n",
       "<span style=\"color: #008000; text-decoration-color: #008000\">[\\\\\"New Title\\\\\"]),\\\\n    (\\\\\"project_description\\\\\", \\\\\"text\\\\\", \\\\\"quantity_change: 1\\\\\", [\\\\\"Two-year project to</span>\n",
       "<span style=\"color: #008000; text-decoration-color: #008000\">advance implementation of the FAIR principles\\\\\"], [\\\\\"New project description1\\\\\", \\\\\"New project </span>\n",
       "<span style=\"color: #008000; text-decoration-color: #008000\">description2\\\\\"]),\\\\n    (\\\\\"funding_info\\\\\", \\\\\"text\\\\\", \\\\\"quantity_change: -1\\\\\", [\\\\\"Funded by the European </span>\n",
       "<span style=\"color: #008000; text-decoration-color: #008000\">Union\\\\\"], []),\\\\n    (\\\\\"project_logo\\\\\", \\\\\"image\\\\\", \\\\\"quantity_change: 0\\\\\", [\\\\\"logo: project of xx\\\\\"], </span>\n",
       "<span style=\"color: #008000; text-decoration-color: #008000\">[\\\\\"new_logo.png\\\\\"])\\\\n]\\\\n\\\\nExample Output\\\\n# (\\\\\"title\\\\\", \\\\\"text\\\\\", \\\\\"quantity_change: 0\\\\\", </span>\n",
       "<span style=\"color: #008000; text-decoration-color: #008000\">[\\\\\"WorldFAIR: Global cooperation on FAIR data policy and practice\\\\\"], [\\\\\"New Title\\\\\"])\\\\nreplace_paragraph(0, </span>\n",
       "<span style=\"color: #008000; text-decoration-color: #008000\">0, \\\\\"New Title\\\\\")\\\\n\\\\n# (\\\\\"project_description\\\\\", \\\\\"text\\\\\", \\\\\"quantity_change: 1\\\\\", [\\\\\"Two-year project </span>\n",
       "<span style=\"color: #008000; text-decoration-color: #008000\">to advance implementation of the FAIR principles\\\\\"], [\\\\\"New project description1\\\\\", \\\\\"New project </span>\n",
       "<span style=\"color: #008000; text-decoration-color: #008000\">description2\\\\\"])\\\\nclone_paragraph(1, 0)  # New cloned paragraph_id is 2 as the current max paragraph_id is </span>\n",
       "<span style=\"color: #008000; text-decoration-color: #008000\">1\\\\nreplace_paragraph(1, 0, \\\\\"New project description1\\\\\")\\\\nreplace_paragraph(1, 2, \\\\\"New project </span>\n",
       "<span style=\"color: #008000; text-decoration-color: #008000\">description2\\\\\")\\\\n\\\\n# (\\\\\"funding_info\\\\\", \\\\\"text\\\\\", \\\\\"quantity_change: -1\\\\\", [\\\\\"Funded by the European </span>\n",
       "<span style=\"color: #008000; text-decoration-color: #008000\">Union\\\\\"], [])\\\\ndel_paragraph(1, 1)\\\\n\\\\n# (\\\\\"project_logo\\\\\", \\\\\"image\\\\\", \\\\\"quantity_change: 0\\\\\", [\\\\\"logo: </span>\n",
       "<span style=\"color: #008000; text-decoration-color: #008000\">project of xx\\\\\"], [\\\\\"new_logo.png\\\\\"])\\\\nreplace_image(2, \\\\\"new_logo.png\\\\\")\\\\n\\\\nCurrent Slide </span>\n",
       "<span style=\"color: #008000; text-decoration-color: #008000\">Content:\\\\n&lt;!DOCTYPE html&gt;\\\\n&lt;html&gt;\\\\n&lt;title&gt;Tourism &amp; Culture:&lt;/title&gt;\\\\n&lt;body style=\\\\\"width:960pt; </span>\n",
       "<span style=\"color: #008000; text-decoration-color: #008000\">height:540pt;\\\\\"&gt;\\\\n&lt;div id=\\'0\\'&gt;\\\\n\\\\t&lt;p id=\\'0\\'&gt;Tourism &amp; Culture:&lt;/p&gt;\\\\n&lt;/div&gt;\\\\n\\\\n&lt;div id=\\'1\\'&gt;\\\\n\\\\t&lt;p </span>\n",
       "<span style=\"color: #008000; text-decoration-color: #008000\">id=\\'0\\' style=\\'font-size: 24pt\\'&gt;APPRECIATING THE TANGIBLE &amp; THE INTANGIBLE OF BHUBANESWAR THROUGH CULTURAL </span>\n",
       "<span style=\"color: #008000; text-decoration-color: #008000\">TOURISM&lt;/p&gt;\\\\n\\\\t&lt;p id=\\'1\\' style=\\'font-size: 20pt\\'&gt;By Ayona Bhaduri </span>\n",
       "<span style=\"color: #008000; text-decoration-color: #008000\">&lt;/p&gt;\\\\n&lt;/div&gt;\\\\n&lt;/body&gt;\\\\n&lt;/html&gt;\\\\n\\\\n\\\\nCommand List:\\\\n(\\'slide_title\\', \\'text\\', \\'quantity_change: 0\\', </span>\n",
       "<span style=\"color: #008000; text-decoration-color: #008000\">[\\'Tourism &amp; Culture:\\'], [\\'Conclusion\\'])\\\\n(\\'main_heading\\', \\'text\\', \\'quantity_change: 0\\', [\\'APPRECIATING </span>\n",
       "<span style=\"color: #008000; text-decoration-color: #008000\">THE TANGIBLE &amp; THE INTANGIBLE OF BHUBANESWAR THROUGH CULTURAL TOURISM\\'], [\\\\\"Summarizing OpenAI\\'s Journey &amp; </span>\n",
       "<span style=\"color: #008000; text-decoration-color: #008000\">Vision\\\\\"])\\\\n(\\'presenter\\', \\'text\\', \\'quantity_change: 0\\', [\\'By Ayona Bhaduri\\'], [\\'OpenAI </span>\n",
       "<span style=\"color: #008000; text-decoration-color: #008000\">Team\\'])\\\\n\\\\nPlease output only the API call sequence, one call per line, wrapped in ```python and ```, with </span>\n",
       "<span style=\"color: #008000; text-decoration-color: #008000\">comments for corresponding commands.\"}]}]'</span><span style=\"color: #008000; text-decoration-color: #008000; font-weight: bold\">]</span>\n",
       "</pre>\n"
      ],
      "text/plain": [
       "\u001b[32msending messages to: gpt-4o-\u001b[0m\u001b[1;36m2024\u001b[0m\u001b[32m-\u001b[0m\u001b[1;36m11\u001b[0m\u001b[32m-\u001b[0m\u001b[1;36m20\u001b[0m\u001b[32m, message \u001b[0m\u001b[1;32m(\u001b[0m\u001b[32mtruncated\u001b[0m\u001b[1;32m)\u001b[0m\u001b[32m: \u001b[0m\u001b[1;32m[\u001b[0m\u001b[1;32m{\u001b[0m\u001b[32m'role'\u001b[0m\u001b[32m: \u001b[0m\u001b[32m'system'\u001b[0m\u001b[32m, \u001b[0m\u001b[32m'content'\u001b[0m\u001b[32m: \u001b[0m\u001b[1;32m[\u001b[0m\u001b[1;32m{\u001b[0m\u001b[32m'type'\u001b[0m\u001b[32m: \u001b[0m\u001b[32m'text'\u001b[0m\u001b[32m, \u001b[0m\n",
       "\u001b[32m'text'\u001b[0m\u001b[32m: \u001b[0m\u001b[32m'You are a Code Generator agent specializing in slide manipulation. You precisely translate content edit \u001b[0m\n",
       "\u001b[32mcommands into API calls by understanding HTML structure.'\u001b[0m\u001b[1;32m}\u001b[0m\u001b[1;32m]\u001b[0m\u001b[1;32m}\u001b[0m\u001b[32m, \u001b[0m\u001b[32m'\u001b[0m\u001b[32m[\u001b[0m\u001b[32m{\u001b[0m\u001b[32m\"role\": \"user\", \"content\": \u001b[0m\u001b[32m[\u001b[0m\u001b[32m{\u001b[0m\u001b[32m\"type\": \"text\", \u001b[0m\n",
       "\u001b[32m\"text\": \"Generate API calls based on the provided commands, ensuring compliance with the specified rules and \u001b[0m\n",
       "\u001b[32mprecise execution.\\\\nYou must determine the parent-child relationships of elements based on indentation and ensure \u001b[0m\n",
       "\u001b[32mthat all \u001b[0m\u001b[32m<\u001b[0m\u001b[32mp\u001b[0m\u001b[32m> and <img> elements are modified.\\\\n\\\\nEach command follows this format: \u001b[0m\u001b[32m(\u001b[0m\u001b[32melement_class, type, \u001b[0m\n",
       "\u001b[32mquantity_change: int, old_data, new_data\u001b[0m\u001b[32m)\u001b[0m\u001b[32m.\\\\n\\\\nAvailable APIs\\\\n\\\\ndef replace_image\u001b[0m\u001b[32m(\u001b[0m\u001b[32mimg_id: int, image_path: \u001b[0m\n",
       "\u001b[32mstr\u001b[0m\u001b[32m)\u001b[0m\u001b[32m\\\\n\\\\tReplace an image in a slide.\\\\n\\\\nArgs:\\\\n    slide \u001b[0m\u001b[32m(\u001b[0m\u001b[32mSlidePage\u001b[0m\u001b[32m)\u001b[0m\u001b[32m: The slide containing the image.\\\\n    \u001b[0m\n",
       "\u001b[32mimg_id \u001b[0m\u001b[32m(\u001b[0m\u001b[32mint\u001b[0m\u001b[32m)\u001b[0m\u001b[32m: The ID of the image to replace.\\\\n    image_path \u001b[0m\u001b[32m(\u001b[0m\u001b[32mstr\u001b[0m\u001b[32m)\u001b[0m\u001b[32m: The path to the new image.\\\\n\\\\nRaises:\\\\n   \u001b[0m\n",
       "\u001b[32mValueError: If the image path does not exist.\\\\n\\\\ndef del_image\u001b[0m\u001b[32m(\u001b[0m\u001b[32mfigure_id: int\u001b[0m\u001b[32m)\u001b[0m\u001b[32m\\\\n\\\\tDelete an image from a \u001b[0m\n",
       "\u001b[32mslide.\\\\n\\\\nArgs:\\\\n    slide \u001b[0m\u001b[32m(\u001b[0m\u001b[32mSlidePage\u001b[0m\u001b[32m)\u001b[0m\u001b[32m: The slide containing the image.\\\\n    figure_id \u001b[0m\u001b[32m(\u001b[0m\u001b[32mint\u001b[0m\u001b[32m)\u001b[0m\u001b[32m: The ID of the \u001b[0m\n",
       "\u001b[32mimage to delete.\\\\n\\\\ndef clone_paragraph\u001b[0m\u001b[32m(\u001b[0m\u001b[32mdiv_id: int, paragraph_id: int\u001b[0m\u001b[32m)\u001b[0m\u001b[32m\\\\n\\\\tClone a paragraph in a \u001b[0m\n",
       "\u001b[32mslide.\\\\n\\\\nArgs:\\\\n    slide \u001b[0m\u001b[32m(\u001b[0m\u001b[32mSlidePage\u001b[0m\u001b[32m)\u001b[0m\u001b[32m: The slide containing the paragraph.\\\\n    div_id \u001b[0m\u001b[32m(\u001b[0m\u001b[32mint\u001b[0m\u001b[32m)\u001b[0m\u001b[32m: The ID of the \u001b[0m\n",
       "\u001b[32mdivision containing the paragraph.\\\\n    paragraph_id \u001b[0m\u001b[32m(\u001b[0m\u001b[32mint\u001b[0m\u001b[32m)\u001b[0m\u001b[32m: The ID of the paragraph to clone.\\\\n\\\\nRaises:\\\\n    \u001b[0m\n",
       "\u001b[32mIndexError: If the paragraph is not found.\\\\n\\\\nMention: the cloned paragraph will have a paragraph_id one greater \u001b[0m\n",
       "\u001b[32mthan the current maximum in the parent element.\\\\n\\\\ndef replace_paragraph\u001b[0m\u001b[32m(\u001b[0m\u001b[32mdiv_id: int, paragraph_id: int, text: \u001b[0m\n",
       "\u001b[32mstr\u001b[0m\u001b[32m)\u001b[0m\u001b[32m\\\\n\\\\tReplace the text of a paragraph in a slide.\\\\n\\\\nArgs:\\\\n    slide \u001b[0m\u001b[32m(\u001b[0m\u001b[32mSlidePage\u001b[0m\u001b[32m)\u001b[0m\u001b[32m: The slide containing the \u001b[0m\n",
       "\u001b[32mparagraph.\\\\n    div_id \u001b[0m\u001b[32m(\u001b[0m\u001b[32mint\u001b[0m\u001b[32m)\u001b[0m\u001b[32m: The ID of the division containing the paragraph.\\\\n    paragraph_id \u001b[0m\u001b[32m(\u001b[0m\u001b[32mint\u001b[0m\u001b[32m)\u001b[0m\u001b[32m: The ID of\u001b[0m\n",
       "\u001b[32mthe paragraph to replace.\\\\n    text \u001b[0m\u001b[32m(\u001b[0m\u001b[32mstr\u001b[0m\u001b[32m)\u001b[0m\u001b[32m: The new text to replace with.\\\\n\\\\nRaises:\\\\n    IndexError: If the \u001b[0m\n",
       "\u001b[32mparagraph is not found.\\\\n\\\\ndef del_paragraph\u001b[0m\u001b[32m(\u001b[0m\u001b[32mdiv_id: int, paragraph_id: int\u001b[0m\u001b[32m)\u001b[0m\u001b[32m\\\\n\\\\tDelete a paragraph from a \u001b[0m\n",
       "\u001b[32mslide.\\\\n\\\\nArgs:\\\\n    slide \u001b[0m\u001b[32m(\u001b[0m\u001b[32mSlidePage\u001b[0m\u001b[32m)\u001b[0m\u001b[32m: The slide containing the paragraph.\\\\n    div_id \u001b[0m\u001b[32m(\u001b[0m\u001b[32mint\u001b[0m\u001b[32m)\u001b[0m\u001b[32m: The ID of the \u001b[0m\n",
       "\u001b[32mdivision containing the paragraph.\\\\n    paragraph_id \u001b[0m\u001b[32m(\u001b[0m\u001b[32mint\u001b[0m\u001b[32m)\u001b[0m\u001b[32m: The ID of the paragraph to delete.\\\\n\\\\nRaises:\\\\n    \u001b[0m\n",
       "\u001b[32mIndexError: If the paragraph is not found.\\\\n\\\\nSteps\\\\n    1.\\\\tQuantity Adjustment:\\\\n    -\\\\tIf quantity_change \u001b[0m\n",
       "\u001b[32m= 0, modify the content only.\\\\n    -\\\\tIf quantity_change > 0, use clone_paragraph to add the specified number of \u001b[0m\n",
       "\u001b[32mparagraphs from the same element_class. The paragraph_id for newly cloned paragraphs should be the current maximum \u001b[0m\n",
       "\u001b[32mparagraph_id of the parent element plus 1.\\\\n    -\\\\tIf quantity_change < 0, use del_paragraph or del_image to \u001b[0m\n",
       "\u001b[32mremove the specified number of tail elements.\\\\n    -\\\\tEach command’s API call group must exclusively use either \u001b[0m\n",
       "\u001b[32mclone_paragraph or del_paragraph/del_image based on the `quantity_change`\\\\n    2.\\\\tContent Modification:\\\\n    \u001b[0m\n",
       "\u001b[32m-\\\\tText Content: Use replace_paragraph to modify the content.\\\\n    -\\\\tImage Content: Use replace_image to \u001b[0m\n",
       "\u001b[32mreplace image resources.\\\\n    3.\\\\tOutput Format:\\\\n    -\\\\tAdd comments to each API call group, explaining the \u001b[0m\n",
       "\u001b[32mintent of the original command and the associated element_class.\\\\n    -\\\\tFor cloning operations, annotate the \u001b[0m\n",
       "\u001b[32mparagraph_id of the newly created paragraphs.\\\\n\\\\nExample Input:\\\\n\\\\n<div \u001b[0m\u001b[32mid\u001b[0m\u001b[32m=\\\\\"0\\\\\" \u001b[0m\u001b[32mstyle\u001b[0m\u001b[32m=\\\\\"font-size: 24pt; \u001b[0m\n",
       "\u001b[32mcolor: #0D0D0D\\\\\">\\\\n    <p \u001b[0m\u001b[32mid\u001b[0m\u001b[32m=\\\\\"0\\\\\">\\\\n       WorldFAIR: Global cooperation on FAIR data policy and practice\\\\n \u001b[0m\n",
       "\u001b[32m</p>\\\\n</div>\\\\n\\\\n<div \u001b[0m\u001b[32mid\u001b[0m\u001b[32m=\\\\\"1\\\\\" \u001b[0m\u001b[32mstyle\u001b[0m\u001b[32m=\\\\\"font-size: 13pt; color: #404040\\\\\">\\\\n    <ul>\\\\n        <li \u001b[0m\u001b[32mid\u001b[0m\u001b[32m=\\\\\"0\\\\\"\u001b[0m\n",
       "\u001b[32mbullet-\u001b[0m\u001b[32mtype\u001b[0m\u001b[32m=\\\\\"▪\\\\\">\\\\n            Two-year project to advance implementation...\\\\n        </li>\\\\n        <li \u001b[0m\n",
       "\u001b[32mid\u001b[0m\u001b[32m=\\\\\"1\\\\\" \u001b[0m\u001b[32mstyle\u001b[0m\u001b[32m=\\\\\"font-weight: bold\\\\\" bullet-\u001b[0m\u001b[32mtype\u001b[0m\u001b[32m=\\\\\"▪\\\\\">\\\\n            Funded by the European Union...\\\\n     \u001b[0m\n",
       "\u001b[32m</li>\\\\n    </ul>\\\\n</div>\\\\n\\\\n<img \u001b[0m\u001b[32mid\u001b[0m\u001b[32m=\\\\\"2\\\\\" \u001b[0m\u001b[32malt\u001b[0m\u001b[32m=\\\\\"logo: project of xx\\\\\">\\\\n\\\\n\u001b[0m\u001b[32m[\u001b[0m\u001b[32m\\\\n    \u001b[0m\u001b[32m(\u001b[0m\u001b[32m\\\\\"title\\\\\", \u001b[0m\n",
       "\u001b[32m\\\\\"text\\\\\", \\\\\"quantity_change: 0\\\\\", \u001b[0m\u001b[32m[\u001b[0m\u001b[32m\\\\\"WorldFAIR: Global cooperation on FAIR data policy and practice\\\\\"\u001b[0m\u001b[32m]\u001b[0m\u001b[32m, \u001b[0m\n",
       "\u001b[32m[\u001b[0m\u001b[32m\\\\\"New Title\\\\\"\u001b[0m\u001b[32m]\u001b[0m\u001b[32m)\u001b[0m\u001b[32m,\\\\n    \u001b[0m\u001b[32m(\u001b[0m\u001b[32m\\\\\"project_description\\\\\", \\\\\"text\\\\\", \\\\\"quantity_change: 1\\\\\", \u001b[0m\u001b[32m[\u001b[0m\u001b[32m\\\\\"Two-year project to\u001b[0m\n",
       "\u001b[32madvance implementation of the FAIR principles\\\\\"\u001b[0m\u001b[32m]\u001b[0m\u001b[32m, \u001b[0m\u001b[32m[\u001b[0m\u001b[32m\\\\\"New project description1\\\\\", \\\\\"New project \u001b[0m\n",
       "\u001b[32mdescription2\\\\\"\u001b[0m\u001b[32m]\u001b[0m\u001b[32m)\u001b[0m\u001b[32m,\\\\n    \u001b[0m\u001b[32m(\u001b[0m\u001b[32m\\\\\"funding_info\\\\\", \\\\\"text\\\\\", \\\\\"quantity_change: -1\\\\\", \u001b[0m\u001b[32m[\u001b[0m\u001b[32m\\\\\"Funded by the European \u001b[0m\n",
       "\u001b[32mUnion\\\\\"\u001b[0m\u001b[32m]\u001b[0m\u001b[32m, \u001b[0m\u001b[32m[\u001b[0m\u001b[32m]\u001b[0m\u001b[32m)\u001b[0m\u001b[32m,\\\\n    \u001b[0m\u001b[32m(\u001b[0m\u001b[32m\\\\\"project_logo\\\\\", \\\\\"image\\\\\", \\\\\"quantity_change: 0\\\\\", \u001b[0m\u001b[32m[\u001b[0m\u001b[32m\\\\\"logo: project of xx\\\\\"\u001b[0m\u001b[32m]\u001b[0m\u001b[32m, \u001b[0m\n",
       "\u001b[32m[\u001b[0m\u001b[32m\\\\\"new_logo.png\\\\\"\u001b[0m\u001b[32m]\u001b[0m\u001b[32m)\u001b[0m\u001b[32m\\\\n\u001b[0m\u001b[32m]\u001b[0m\u001b[32m\\\\n\\\\nExample Output\\\\n# \u001b[0m\u001b[32m(\u001b[0m\u001b[32m\\\\\"title\\\\\", \\\\\"text\\\\\", \\\\\"quantity_change: 0\\\\\", \u001b[0m\n",
       "\u001b[32m[\u001b[0m\u001b[32m\\\\\"WorldFAIR: Global cooperation on FAIR data policy and practice\\\\\"\u001b[0m\u001b[32m]\u001b[0m\u001b[32m, \u001b[0m\u001b[32m[\u001b[0m\u001b[32m\\\\\"New Title\\\\\"\u001b[0m\u001b[32m]\u001b[0m\u001b[32m)\u001b[0m\u001b[32m\\\\nreplace_paragraph\u001b[0m\u001b[32m(\u001b[0m\u001b[32m0, \u001b[0m\n",
       "\u001b[32m0, \\\\\"New Title\\\\\"\u001b[0m\u001b[32m)\u001b[0m\u001b[32m\\\\n\\\\n# \u001b[0m\u001b[32m(\u001b[0m\u001b[32m\\\\\"project_description\\\\\", \\\\\"text\\\\\", \\\\\"quantity_change: 1\\\\\", \u001b[0m\u001b[32m[\u001b[0m\u001b[32m\\\\\"Two-year project \u001b[0m\n",
       "\u001b[32mto advance implementation of the FAIR principles\\\\\"\u001b[0m\u001b[32m]\u001b[0m\u001b[32m, \u001b[0m\u001b[32m[\u001b[0m\u001b[32m\\\\\"New project description1\\\\\", \\\\\"New project \u001b[0m\n",
       "\u001b[32mdescription2\\\\\"\u001b[0m\u001b[32m]\u001b[0m\u001b[32m)\u001b[0m\u001b[32m\\\\nclone_paragraph\u001b[0m\u001b[32m(\u001b[0m\u001b[32m1, 0\u001b[0m\u001b[32m)\u001b[0m\u001b[32m  # New cloned paragraph_id is 2 as the current max paragraph_id is \u001b[0m\n",
       "\u001b[32m1\\\\nreplace_paragraph\u001b[0m\u001b[32m(\u001b[0m\u001b[32m1, 0, \\\\\"New project description1\\\\\"\u001b[0m\u001b[32m)\u001b[0m\u001b[32m\\\\nreplace_paragraph\u001b[0m\u001b[32m(\u001b[0m\u001b[32m1, 2, \\\\\"New project \u001b[0m\n",
       "\u001b[32mdescription2\\\\\"\u001b[0m\u001b[32m)\u001b[0m\u001b[32m\\\\n\\\\n# \u001b[0m\u001b[32m(\u001b[0m\u001b[32m\\\\\"funding_info\\\\\", \\\\\"text\\\\\", \\\\\"quantity_change: -1\\\\\", \u001b[0m\u001b[32m[\u001b[0m\u001b[32m\\\\\"Funded by the European \u001b[0m\n",
       "\u001b[32mUnion\\\\\"\u001b[0m\u001b[32m]\u001b[0m\u001b[32m, \u001b[0m\u001b[32m[\u001b[0m\u001b[32m]\u001b[0m\u001b[32m)\u001b[0m\u001b[32m\\\\ndel_paragraph\u001b[0m\u001b[32m(\u001b[0m\u001b[32m1, 1\u001b[0m\u001b[32m)\u001b[0m\u001b[32m\\\\n\\\\n# \u001b[0m\u001b[32m(\u001b[0m\u001b[32m\\\\\"project_logo\\\\\", \\\\\"image\\\\\", \\\\\"quantity_change: 0\\\\\", \u001b[0m\u001b[32m[\u001b[0m\u001b[32m\\\\\"logo: \u001b[0m\n",
       "\u001b[32mproject of xx\\\\\"\u001b[0m\u001b[32m]\u001b[0m\u001b[32m, \u001b[0m\u001b[32m[\u001b[0m\u001b[32m\\\\\"new_logo.png\\\\\"\u001b[0m\u001b[32m]\u001b[0m\u001b[32m)\u001b[0m\u001b[32m\\\\nreplace_image\u001b[0m\u001b[32m(\u001b[0m\u001b[32m2, \\\\\"new_logo.png\\\\\"\u001b[0m\u001b[32m)\u001b[0m\u001b[32m\\\\n\\\\nCurrent Slide \u001b[0m\n",
       "\u001b[32mContent:\\\\n<!DOCTYPE html>\\\\n<html>\\\\n<title>Tourism & Culture:</title>\\\\n<body \u001b[0m\u001b[32mstyle\u001b[0m\u001b[32m=\\\\\"width:960pt; \u001b[0m\n",
       "\u001b[32mheight:540pt;\\\\\">\\\\n<div \u001b[0m\u001b[32mid\u001b[0m\u001b[32m=\\'0\\'>\\\\n\\\\t<p \u001b[0m\u001b[32mid\u001b[0m\u001b[32m=\\'0\\'>Tourism & Culture:</p>\\\\n</div>\\\\n\\\\n<div \u001b[0m\u001b[32mid\u001b[0m\u001b[32m=\\'1\\'>\\\\n\\\\t<p \u001b[0m\n",
       "\u001b[32mid\u001b[0m\u001b[32m=\\'0\\' \u001b[0m\u001b[32mstyle\u001b[0m\u001b[32m=\\'font-size: 24pt\\'>APPRECIATING THE TANGIBLE & THE INTANGIBLE OF BHUBANESWAR THROUGH CULTURAL \u001b[0m\n",
       "\u001b[32mTOURISM</p>\\\\n\\\\t<p \u001b[0m\u001b[32mid\u001b[0m\u001b[32m=\\'1\\' \u001b[0m\u001b[32mstyle\u001b[0m\u001b[32m=\\'font-size: 20pt\\'>By Ayona Bhaduri \u001b[0m\n",
       "\u001b[32m</p>\\\\n</div>\\\\n</body>\\\\n</html\u001b[0m\u001b[32m>\u001b[0m\u001b[32m\\\\n\\\\n\\\\nCommand List:\\\\n\u001b[0m\u001b[32m(\u001b[0m\u001b[32m\\'slide_title\\', \\'text\\', \\'quantity_change: 0\\', \u001b[0m\n",
       "\u001b[32m[\u001b[0m\u001b[32m\\'Tourism & Culture:\\'\u001b[0m\u001b[32m]\u001b[0m\u001b[32m, \u001b[0m\u001b[32m[\u001b[0m\u001b[32m\\'Conclusion\\'\u001b[0m\u001b[32m]\u001b[0m\u001b[32m)\u001b[0m\u001b[32m\\\\n\u001b[0m\u001b[32m(\u001b[0m\u001b[32m\\'main_heading\\', \\'text\\', \\'quantity_change: 0\\', \u001b[0m\u001b[32m[\u001b[0m\u001b[32m\\'APPRECIATING \u001b[0m\n",
       "\u001b[32mTHE TANGIBLE & THE INTANGIBLE OF BHUBANESWAR THROUGH CULTURAL TOURISM\\'\u001b[0m\u001b[32m]\u001b[0m\u001b[32m, \u001b[0m\u001b[32m[\u001b[0m\u001b[32m\\\\\"Summarizing OpenAI\\'s Journey & \u001b[0m\n",
       "\u001b[32mVision\\\\\"\u001b[0m\u001b[32m]\u001b[0m\u001b[32m)\u001b[0m\u001b[32m\\\\n\u001b[0m\u001b[32m(\u001b[0m\u001b[32m\\'presenter\\', \\'text\\', \\'quantity_change: 0\\', \u001b[0m\u001b[32m[\u001b[0m\u001b[32m\\'By Ayona Bhaduri\\'\u001b[0m\u001b[32m]\u001b[0m\u001b[32m, \u001b[0m\u001b[32m[\u001b[0m\u001b[32m\\'OpenAI \u001b[0m\n",
       "\u001b[32mTeam\\'\u001b[0m\u001b[32m]\u001b[0m\u001b[32m)\u001b[0m\u001b[32m\\\\n\\\\nPlease output only the API call sequence, one call per line, wrapped in ```python and ```, with \u001b[0m\n",
       "\u001b[32mcomments for corresponding commands.\"\u001b[0m\u001b[32m}\u001b[0m\u001b[32m]\u001b[0m\u001b[32m}\u001b[0m\u001b[32m]\u001b[0m\u001b[32m'\u001b[0m\u001b[1;32m]\u001b[0m\n"
      ]
     },
     "metadata": {},
     "output_type": "display_data"
    },
    {
     "data": {
      "text/html": [
       "<pre style=\"white-space:pre;overflow-x:auto;line-height:normal;font-family:Menlo,'DejaVu Sans Mono',consolas,'Courier New',monospace\"><span style=\"color: #800000; text-decoration-color: #800000\">response from gpt-4o-</span><span style=\"color: #008080; text-decoration-color: #008080; font-weight: bold\">2024</span><span style=\"color: #800000; text-decoration-color: #800000\">-</span><span style=\"color: #008080; text-decoration-color: #008080; font-weight: bold\">11</span><span style=\"color: #800000; text-decoration-color: #800000\">-</span><span style=\"color: #008080; text-decoration-color: #008080; font-weight: bold\">20</span><span style=\"color: #800000; text-decoration-color: #800000\">: ```python</span>\n",
       "<span style=\"color: #800000; text-decoration-color: #800000\"># </span><span style=\"color: #800000; text-decoration-color: #800000; font-weight: bold\">(</span><span style=\"color: #008000; text-decoration-color: #008000\">\"slide_title\"</span><span style=\"color: #800000; text-decoration-color: #800000\">, </span><span style=\"color: #008000; text-decoration-color: #008000\">\"text\"</span><span style=\"color: #800000; text-decoration-color: #800000\">, </span><span style=\"color: #008000; text-decoration-color: #008000\">\"quantity_change: 0\"</span><span style=\"color: #800000; text-decoration-color: #800000\">, </span><span style=\"color: #800000; text-decoration-color: #800000; font-weight: bold\">[</span><span style=\"color: #008000; text-decoration-color: #008000\">\"Tourism &amp; Culture:\"</span><span style=\"color: #800000; text-decoration-color: #800000; font-weight: bold\">]</span><span style=\"color: #800000; text-decoration-color: #800000\">, </span><span style=\"color: #800000; text-decoration-color: #800000; font-weight: bold\">[</span><span style=\"color: #008000; text-decoration-color: #008000\">\"Conclusion\"</span><span style=\"color: #800000; text-decoration-color: #800000; font-weight: bold\">])</span>\n",
       "<span style=\"color: #800080; text-decoration-color: #800080; font-weight: bold\">replace_paragraph</span><span style=\"color: #800000; text-decoration-color: #800000; font-weight: bold\">(</span><span style=\"color: #008080; text-decoration-color: #008080; font-weight: bold\">0</span><span style=\"color: #800000; text-decoration-color: #800000\">, </span><span style=\"color: #008080; text-decoration-color: #008080; font-weight: bold\">0</span><span style=\"color: #800000; text-decoration-color: #800000\">, </span><span style=\"color: #008000; text-decoration-color: #008000\">\"Conclusion\"</span><span style=\"color: #800000; text-decoration-color: #800000; font-weight: bold\">)</span>\n",
       "<span style=\"color: #800000; text-decoration-color: #800000\">```</span>\n",
       "\n",
       "<span style=\"color: #800000; text-decoration-color: #800000\">```python</span>\n",
       "<span style=\"color: #800000; text-decoration-color: #800000\"># </span><span style=\"color: #800000; text-decoration-color: #800000; font-weight: bold\">(</span><span style=\"color: #008000; text-decoration-color: #008000\">\"main_heading\"</span><span style=\"color: #800000; text-decoration-color: #800000\">, </span><span style=\"color: #008000; text-decoration-color: #008000\">\"text\"</span><span style=\"color: #800000; text-decoration-color: #800000\">, </span><span style=\"color: #008000; text-decoration-color: #008000\">\"quantity_change: 0\"</span><span style=\"color: #800000; text-decoration-color: #800000\">, </span><span style=\"color: #800000; text-decoration-color: #800000; font-weight: bold\">[</span><span style=\"color: #008000; text-decoration-color: #008000\">\"APPRECIATING THE TANGIBLE &amp; THE INTANGIBLE OF BHUBANESWAR </span>\n",
       "<span style=\"color: #008000; text-decoration-color: #008000\">THROUGH CULTURAL TOURISM\"</span><span style=\"color: #800000; text-decoration-color: #800000; font-weight: bold\">]</span><span style=\"color: #800000; text-decoration-color: #800000\">, </span><span style=\"color: #800000; text-decoration-color: #800000; font-weight: bold\">[</span><span style=\"color: #008000; text-decoration-color: #008000\">\"Summarizing OpenAI's Journey &amp; Vision\"</span><span style=\"color: #800000; text-decoration-color: #800000; font-weight: bold\">])</span>\n",
       "<span style=\"color: #800080; text-decoration-color: #800080; font-weight: bold\">replace_paragraph</span><span style=\"color: #800000; text-decoration-color: #800000; font-weight: bold\">(</span><span style=\"color: #008080; text-decoration-color: #008080; font-weight: bold\">1</span><span style=\"color: #800000; text-decoration-color: #800000\">, </span><span style=\"color: #008080; text-decoration-color: #008080; font-weight: bold\">0</span><span style=\"color: #800000; text-decoration-color: #800000\">, </span><span style=\"color: #008000; text-decoration-color: #008000\">\"Summarizing OpenAI's Journey &amp; Vision\"</span><span style=\"color: #800000; text-decoration-color: #800000; font-weight: bold\">)</span>\n",
       "<span style=\"color: #800000; text-decoration-color: #800000\">```</span>\n",
       "\n",
       "<span style=\"color: #800000; text-decoration-color: #800000\">```python</span>\n",
       "<span style=\"color: #800000; text-decoration-color: #800000\"># </span><span style=\"color: #800000; text-decoration-color: #800000; font-weight: bold\">(</span><span style=\"color: #008000; text-decoration-color: #008000\">\"presenter\"</span><span style=\"color: #800000; text-decoration-color: #800000\">, </span><span style=\"color: #008000; text-decoration-color: #008000\">\"text\"</span><span style=\"color: #800000; text-decoration-color: #800000\">, </span><span style=\"color: #008000; text-decoration-color: #008000\">\"quantity_change: 0\"</span><span style=\"color: #800000; text-decoration-color: #800000\">, </span><span style=\"color: #800000; text-decoration-color: #800000; font-weight: bold\">[</span><span style=\"color: #008000; text-decoration-color: #008000\">\"By Ayona Bhaduri\"</span><span style=\"color: #800000; text-decoration-color: #800000; font-weight: bold\">]</span><span style=\"color: #800000; text-decoration-color: #800000\">, </span><span style=\"color: #800000; text-decoration-color: #800000; font-weight: bold\">[</span><span style=\"color: #008000; text-decoration-color: #008000\">\"OpenAI Team\"</span><span style=\"color: #800000; text-decoration-color: #800000; font-weight: bold\">])</span>\n",
       "<span style=\"color: #800080; text-decoration-color: #800080; font-weight: bold\">replace_paragraph</span><span style=\"color: #800000; text-decoration-color: #800000; font-weight: bold\">(</span><span style=\"color: #008080; text-decoration-color: #008080; font-weight: bold\">1</span><span style=\"color: #800000; text-decoration-color: #800000\">, </span><span style=\"color: #008080; text-decoration-color: #008080; font-weight: bold\">1</span><span style=\"color: #800000; text-decoration-color: #800000\">, </span><span style=\"color: #008000; text-decoration-color: #008000\">\"OpenAI Team\"</span><span style=\"color: #800000; text-decoration-color: #800000; font-weight: bold\">)</span>\n",
       "<span style=\"color: #800000; text-decoration-color: #800000\">```</span>\n",
       "</pre>\n"
      ],
      "text/plain": [
       "\u001b[31mresponse from gpt-4o-\u001b[0m\u001b[1;36m2024\u001b[0m\u001b[31m-\u001b[0m\u001b[1;36m11\u001b[0m\u001b[31m-\u001b[0m\u001b[1;36m20\u001b[0m\u001b[31m: ```python\u001b[0m\n",
       "\u001b[31m# \u001b[0m\u001b[1;31m(\u001b[0m\u001b[32m\"slide_title\"\u001b[0m\u001b[31m, \u001b[0m\u001b[32m\"text\"\u001b[0m\u001b[31m, \u001b[0m\u001b[32m\"quantity_change: 0\"\u001b[0m\u001b[31m, \u001b[0m\u001b[1;31m[\u001b[0m\u001b[32m\"Tourism & Culture:\"\u001b[0m\u001b[1;31m]\u001b[0m\u001b[31m, \u001b[0m\u001b[1;31m[\u001b[0m\u001b[32m\"Conclusion\"\u001b[0m\u001b[1;31m]\u001b[0m\u001b[1;31m)\u001b[0m\n",
       "\u001b[1;35mreplace_paragraph\u001b[0m\u001b[1;31m(\u001b[0m\u001b[1;36m0\u001b[0m\u001b[31m, \u001b[0m\u001b[1;36m0\u001b[0m\u001b[31m, \u001b[0m\u001b[32m\"Conclusion\"\u001b[0m\u001b[1;31m)\u001b[0m\n",
       "\u001b[31m```\u001b[0m\n",
       "\n",
       "\u001b[31m```python\u001b[0m\n",
       "\u001b[31m# \u001b[0m\u001b[1;31m(\u001b[0m\u001b[32m\"main_heading\"\u001b[0m\u001b[31m, \u001b[0m\u001b[32m\"text\"\u001b[0m\u001b[31m, \u001b[0m\u001b[32m\"quantity_change: 0\"\u001b[0m\u001b[31m, \u001b[0m\u001b[1;31m[\u001b[0m\u001b[32m\"APPRECIATING THE TANGIBLE & THE INTANGIBLE OF BHUBANESWAR \u001b[0m\n",
       "\u001b[32mTHROUGH CULTURAL TOURISM\"\u001b[0m\u001b[1;31m]\u001b[0m\u001b[31m, \u001b[0m\u001b[1;31m[\u001b[0m\u001b[32m\"Summarizing OpenAI's Journey & Vision\"\u001b[0m\u001b[1;31m]\u001b[0m\u001b[1;31m)\u001b[0m\n",
       "\u001b[1;35mreplace_paragraph\u001b[0m\u001b[1;31m(\u001b[0m\u001b[1;36m1\u001b[0m\u001b[31m, \u001b[0m\u001b[1;36m0\u001b[0m\u001b[31m, \u001b[0m\u001b[32m\"Summarizing OpenAI's Journey & Vision\"\u001b[0m\u001b[1;31m)\u001b[0m\n",
       "\u001b[31m```\u001b[0m\n",
       "\n",
       "\u001b[31m```python\u001b[0m\n",
       "\u001b[31m# \u001b[0m\u001b[1;31m(\u001b[0m\u001b[32m\"presenter\"\u001b[0m\u001b[31m, \u001b[0m\u001b[32m\"text\"\u001b[0m\u001b[31m, \u001b[0m\u001b[32m\"quantity_change: 0\"\u001b[0m\u001b[31m, \u001b[0m\u001b[1;31m[\u001b[0m\u001b[32m\"By Ayona Bhaduri\"\u001b[0m\u001b[1;31m]\u001b[0m\u001b[31m, \u001b[0m\u001b[1;31m[\u001b[0m\u001b[32m\"OpenAI Team\"\u001b[0m\u001b[1;31m]\u001b[0m\u001b[1;31m)\u001b[0m\n",
       "\u001b[1;35mreplace_paragraph\u001b[0m\u001b[1;31m(\u001b[0m\u001b[1;36m1\u001b[0m\u001b[31m, \u001b[0m\u001b[1;36m1\u001b[0m\u001b[31m, \u001b[0m\u001b[32m\"OpenAI Team\"\u001b[0m\u001b[1;31m)\u001b[0m\n",
       "\u001b[31m```\u001b[0m\n"
      ]
     },
     "metadata": {},
     "output_type": "display_data"
    },
    {
     "data": {
      "text/html": [
       "<pre style=\"white-space:pre;overflow-x:auto;line-height:normal;font-family:Menlo,'DejaVu Sans Mono',consolas,'Courier New',monospace\"><span style=\"color: #008000; text-decoration-color: #008000\">generated_slides: </span><span style=\"color: #008080; text-decoration-color: #008080; font-weight: bold\">1</span><span style=\"color: #008000; text-decoration-color: #008000\"> Tourism &amp; Culture:</span>\n",
       "</pre>\n"
      ],
      "text/plain": [
       "\u001b[32mgenerated_slides: \u001b[0m\u001b[1;36m1\u001b[0m\u001b[32m Tourism & Culture:\u001b[0m\n"
      ]
     },
     "metadata": {},
     "output_type": "display_data"
    },
    {
     "data": {
      "text/html": [
       "<pre style=\"white-space:pre;overflow-x:auto;line-height:normal;font-family:Menlo,'DejaVu Sans Mono',consolas,'Courier New',monospace\"><span style=\"color: #008000; text-decoration-color: #008000\">shapes</span>\n",
       "<span style=\"color: #008000; text-decoration-color: #008000; font-weight: bold\">[</span><span style=\"color: #008000; text-decoration-color: #008000\">TextBox: shape </span><span style=\"color: #008080; text-decoration-color: #008080; font-weight: bold\">0</span><span style=\"color: #008000; text-decoration-color: #008000\"> of slide </span><span style=\"color: #008080; text-decoration-color: #008080; font-weight: bold\">1</span><span style=\"color: #008000; text-decoration-color: #008000\">, TextBox: shape </span><span style=\"color: #008080; text-decoration-color: #008080; font-weight: bold\">1</span><span style=\"color: #008000; text-decoration-color: #008000\"> of slide </span><span style=\"color: #008080; text-decoration-color: #008080; font-weight: bold\">1</span><span style=\"color: #008000; text-decoration-color: #008000; font-weight: bold\">]</span>\n",
       "</pre>\n"
      ],
      "text/plain": [
       "\u001b[32mshapes\u001b[0m\n",
       "\u001b[1;32m[\u001b[0m\u001b[32mTextBox: shape \u001b[0m\u001b[1;36m0\u001b[0m\u001b[32m of slide \u001b[0m\u001b[1;36m1\u001b[0m\u001b[32m, TextBox: shape \u001b[0m\u001b[1;36m1\u001b[0m\u001b[32m of slide \u001b[0m\u001b[1;36m1\u001b[0m\u001b[1;32m]\u001b[0m\n"
      ]
     },
     "metadata": {},
     "output_type": "display_data"
    },
    {
     "data": {
      "text/html": [
       "<pre style=\"white-space:pre;overflow-x:auto;line-height:normal;font-family:Menlo,'DejaVu Sans Mono',consolas,'Courier New',monospace\"><span style=\"color: #008000; text-decoration-color: #008000\">slide_idx </span><span style=\"color: #008080; text-decoration-color: #008080; font-weight: bold\">1</span>\n",
       "</pre>\n"
      ],
      "text/plain": [
       "\u001b[32mslide_idx \u001b[0m\u001b[1;36m1\u001b[0m\n"
      ]
     },
     "metadata": {},
     "output_type": "display_data"
    },
    {
     "data": {
      "text/html": [
       "<pre style=\"white-space:pre;overflow-x:auto;line-height:normal;font-family:Menlo,'DejaVu Sans Mono',consolas,'Courier New',monospace\"><span style=\"color: #008000; text-decoration-color: #008000\">real_idx </span><span style=\"color: #008080; text-decoration-color: #008080; font-weight: bold\">1</span>\n",
       "</pre>\n"
      ],
      "text/plain": [
       "\u001b[32mreal_idx \u001b[0m\u001b[1;36m1\u001b[0m\n"
      ]
     },
     "metadata": {},
     "output_type": "display_data"
    },
    {
     "data": {
      "text/html": [
       "<pre style=\"white-space:pre;overflow-x:auto;line-height:normal;font-family:Menlo,'DejaVu Sans Mono',consolas,'Courier New',monospace\"><span style=\"color: #008000; text-decoration-color: #008000\">background_xml </span><span style=\"color: #008000; text-decoration-color: #008000; font-weight: bold\">&lt;</span><span style=\"color: #ff00ff; text-decoration-color: #ff00ff; font-weight: bold\">p:bgPr</span><span style=\"color: #000000; text-decoration-color: #000000\"> xmlns:</span><span style=\"color: #808000; text-decoration-color: #808000\">p</span><span style=\"color: #000000; text-decoration-color: #000000\">=</span><span style=\"color: #008000; text-decoration-color: #008000\">\"http://schemas.openxmlformats.org/presentationml/2006/main\"</span><span style=\"color: #000000; text-decoration-color: #000000\"> </span>\n",
       "<span style=\"color: #000000; text-decoration-color: #000000\">xmlns:</span><span style=\"color: #808000; text-decoration-color: #808000\">a</span><span style=\"color: #000000; text-decoration-color: #000000\">=</span><span style=\"color: #008000; text-decoration-color: #008000\">\"http://schemas.openxmlformats.org/drawingml/2006/main\"</span><span style=\"color: #000000; text-decoration-color: #000000\"> </span>\n",
       "<span style=\"color: #000000; text-decoration-color: #000000\">xmlns:</span><span style=\"color: #808000; text-decoration-color: #808000\">r</span><span style=\"color: #000000; text-decoration-color: #000000\">=</span><span style=\"color: #008000; text-decoration-color: #008000\">\"http://schemas.openxmlformats.org/officeDocument/2006/relationships\"</span><span style=\"color: #000000; text-decoration-color: #000000\">&gt;</span>\n",
       "<span style=\"color: #000000; text-decoration-color: #000000\">  &lt;a:noFill/&gt;</span>\n",
       "<span style=\"color: #000000; text-decoration-color: #000000\">  &lt;</span><span style=\"color: #00ff00; text-decoration-color: #00ff00; font-weight: bold\">a:effe</span><span style=\"color: #000000; text-decoration-color: #000000\">ctLst/&gt;</span>\n",
       "<span style=\"color: #000000; text-decoration-color: #000000\">&lt;</span><span style=\"color: #800080; text-decoration-color: #800080\">/</span><span style=\"color: #ff00ff; text-decoration-color: #ff00ff\">p</span><span style=\"color: #000000; text-decoration-color: #000000\">:bgPr</span><span style=\"color: #008000; text-decoration-color: #008000; font-weight: bold\">&gt;</span>\n",
       "\n",
       "</pre>\n"
      ],
      "text/plain": [
       "\u001b[32mbackground_xml \u001b[0m\u001b[1;32m<\u001b[0m\u001b[1;95mp:bgPr\u001b[0m\u001b[39m xmlns:\u001b[0m\u001b[33mp\u001b[0m\u001b[39m=\u001b[0m\u001b[32m\"http\u001b[0m\u001b[32m://schemas.openxmlformats.org/presentationml/2006/main\"\u001b[0m\u001b[39m \u001b[0m\n",
       "\u001b[39mxmlns:\u001b[0m\u001b[33ma\u001b[0m\u001b[39m=\u001b[0m\u001b[32m\"http\u001b[0m\u001b[32m://schemas.openxmlformats.org/drawingml/2006/main\"\u001b[0m\u001b[39m \u001b[0m\n",
       "\u001b[39mxmlns:\u001b[0m\u001b[33mr\u001b[0m\u001b[39m=\u001b[0m\u001b[32m\"http\u001b[0m\u001b[32m://schemas.openxmlformats.org/officeDocument/2006/relationships\"\u001b[0m\u001b[39m>\u001b[0m\n",
       "\u001b[39m  <a:noFill/>\u001b[0m\n",
       "\u001b[39m  <\u001b[0m\u001b[1;92ma:effe\u001b[0m\u001b[39mctLst/>\u001b[0m\n",
       "\u001b[39m<\u001b[0m\u001b[35m/\u001b[0m\u001b[95mp\u001b[0m\u001b[39m:bgPr\u001b[0m\u001b[1;32m>\u001b[0m\n",
       "\n"
      ]
     },
     "metadata": {},
     "output_type": "display_data"
    },
    {
     "data": {
      "text/html": [
       "<pre style=\"white-space:pre;overflow-x:auto;line-height:normal;font-family:Menlo,'DejaVu Sans Mono',consolas,'Courier New',monospace\"><span style=\"color: #008000; text-decoration-color: #008000\">slide_notes </span><span style=\"color: #800080; text-decoration-color: #800080; font-style: italic\">None</span>\n",
       "</pre>\n"
      ],
      "text/plain": [
       "\u001b[32mslide_notes \u001b[0m\u001b[3;35mNone\u001b[0m\n"
      ]
     },
     "metadata": {},
     "output_type": "display_data"
    },
    {
     "data": {
      "text/html": [
       "<pre style=\"white-space:pre;overflow-x:auto;line-height:normal;font-family:Menlo,'DejaVu Sans Mono',consolas,'Courier New',monospace\"><span style=\"color: #008000; text-decoration-color: #008000\">slide_layout_name Title Slide</span>\n",
       "</pre>\n"
      ],
      "text/plain": [
       "\u001b[32mslide_layout_name Title Slide\u001b[0m\n"
      ]
     },
     "metadata": {},
     "output_type": "display_data"
    },
    {
     "data": {
      "text/html": [
       "<pre style=\"white-space:pre;overflow-x:auto;line-height:normal;font-family:Menlo,'DejaVu Sans Mono',consolas,'Courier New',monospace\"><span style=\"color: #008000; text-decoration-color: #008000\">slide_title Tourism &amp; Culture:</span>\n",
       "</pre>\n"
      ],
      "text/plain": [
       "\u001b[32mslide_title Tourism & Culture:\u001b[0m\n"
      ]
     },
     "metadata": {},
     "output_type": "display_data"
    },
    {
     "data": {
      "text/html": [
       "<pre style=\"white-space:pre;overflow-x:auto;line-height:normal;font-family:Menlo,'DejaVu Sans Mono',consolas,'Courier New',monospace\"><span style=\"color: #008000; text-decoration-color: #008000\">slide_width </span><span style=\"color: #008080; text-decoration-color: #008080; font-weight: bold\">960</span>\n",
       "</pre>\n"
      ],
      "text/plain": [
       "\u001b[32mslide_width \u001b[0m\u001b[1;36m960\u001b[0m\n"
      ]
     },
     "metadata": {},
     "output_type": "display_data"
    },
    {
     "data": {
      "text/html": [
       "<pre style=\"white-space:pre;overflow-x:auto;line-height:normal;font-family:Menlo,'DejaVu Sans Mono',consolas,'Courier New',monospace\"><span style=\"color: #008000; text-decoration-color: #008000\">slide_height </span><span style=\"color: #008080; text-decoration-color: #008080; font-weight: bold\">540</span>\n",
       "</pre>\n"
      ],
      "text/plain": [
       "\u001b[32mslide_height \u001b[0m\u001b[1;36m540\u001b[0m\n"
      ]
     },
     "metadata": {},
     "output_type": "display_data"
    },
    {
     "data": {
      "text/html": [
       "<pre style=\"white-space:pre;overflow-x:auto;line-height:normal;font-family:Menlo,'DejaVu Sans Mono',consolas,'Courier New',monospace\"><span style=\"color: #008000; text-decoration-color: #008000\">generated_slides: </span><span style=\"color: #008080; text-decoration-color: #008080; font-weight: bold\">3</span><span style=\"color: #008000; text-decoration-color: #008000\"> What is Tourism?</span>\n",
       "</pre>\n"
      ],
      "text/plain": [
       "\u001b[32mgenerated_slides: \u001b[0m\u001b[1;36m3\u001b[0m\u001b[32m What is Tourism?\u001b[0m\n"
      ]
     },
     "metadata": {},
     "output_type": "display_data"
    },
    {
     "data": {
      "text/html": [
       "<pre style=\"white-space:pre;overflow-x:auto;line-height:normal;font-family:Menlo,'DejaVu Sans Mono',consolas,'Courier New',monospace\"><span style=\"color: #008000; text-decoration-color: #008000\">shapes</span>\n",
       "<span style=\"color: #008000; text-decoration-color: #008000; font-weight: bold\">[</span><span style=\"color: #008000; text-decoration-color: #008000\">TextBox: shape </span><span style=\"color: #008080; text-decoration-color: #008080; font-weight: bold\">0</span><span style=\"color: #008000; text-decoration-color: #008000\"> of slide </span><span style=\"color: #008080; text-decoration-color: #008080; font-weight: bold\">3</span><span style=\"color: #008000; text-decoration-color: #008000\">, TextBox: shape </span><span style=\"color: #008080; text-decoration-color: #008080; font-weight: bold\">1</span><span style=\"color: #008000; text-decoration-color: #008000\"> of slide </span><span style=\"color: #008080; text-decoration-color: #008080; font-weight: bold\">3</span><span style=\"color: #008000; text-decoration-color: #008000; font-weight: bold\">]</span>\n",
       "</pre>\n"
      ],
      "text/plain": [
       "\u001b[32mshapes\u001b[0m\n",
       "\u001b[1;32m[\u001b[0m\u001b[32mTextBox: shape \u001b[0m\u001b[1;36m0\u001b[0m\u001b[32m of slide \u001b[0m\u001b[1;36m3\u001b[0m\u001b[32m, TextBox: shape \u001b[0m\u001b[1;36m1\u001b[0m\u001b[32m of slide \u001b[0m\u001b[1;36m3\u001b[0m\u001b[1;32m]\u001b[0m\n"
      ]
     },
     "metadata": {},
     "output_type": "display_data"
    },
    {
     "data": {
      "text/html": [
       "<pre style=\"white-space:pre;overflow-x:auto;line-height:normal;font-family:Menlo,'DejaVu Sans Mono',consolas,'Courier New',monospace\"><span style=\"color: #008000; text-decoration-color: #008000\">slide_idx </span><span style=\"color: #008080; text-decoration-color: #008080; font-weight: bold\">3</span>\n",
       "</pre>\n"
      ],
      "text/plain": [
       "\u001b[32mslide_idx \u001b[0m\u001b[1;36m3\u001b[0m\n"
      ]
     },
     "metadata": {},
     "output_type": "display_data"
    },
    {
     "data": {
      "text/html": [
       "<pre style=\"white-space:pre;overflow-x:auto;line-height:normal;font-family:Menlo,'DejaVu Sans Mono',consolas,'Courier New',monospace\"><span style=\"color: #008000; text-decoration-color: #008000\">real_idx </span><span style=\"color: #008080; text-decoration-color: #008080; font-weight: bold\">3</span>\n",
       "</pre>\n"
      ],
      "text/plain": [
       "\u001b[32mreal_idx \u001b[0m\u001b[1;36m3\u001b[0m\n"
      ]
     },
     "metadata": {},
     "output_type": "display_data"
    },
    {
     "data": {
      "text/html": [
       "<pre style=\"white-space:pre;overflow-x:auto;line-height:normal;font-family:Menlo,'DejaVu Sans Mono',consolas,'Courier New',monospace\"><span style=\"color: #008000; text-decoration-color: #008000\">background_xml </span><span style=\"color: #008000; text-decoration-color: #008000; font-weight: bold\">&lt;</span><span style=\"color: #ff00ff; text-decoration-color: #ff00ff; font-weight: bold\">p:bgPr</span><span style=\"color: #000000; text-decoration-color: #000000\"> xmlns:</span><span style=\"color: #808000; text-decoration-color: #808000\">p</span><span style=\"color: #000000; text-decoration-color: #000000\">=</span><span style=\"color: #008000; text-decoration-color: #008000\">\"http://schemas.openxmlformats.org/presentationml/2006/main\"</span><span style=\"color: #000000; text-decoration-color: #000000\"> </span>\n",
       "<span style=\"color: #000000; text-decoration-color: #000000\">xmlns:</span><span style=\"color: #808000; text-decoration-color: #808000\">a</span><span style=\"color: #000000; text-decoration-color: #000000\">=</span><span style=\"color: #008000; text-decoration-color: #008000\">\"http://schemas.openxmlformats.org/drawingml/2006/main\"</span><span style=\"color: #000000; text-decoration-color: #000000\"> </span>\n",
       "<span style=\"color: #000000; text-decoration-color: #000000\">xmlns:</span><span style=\"color: #808000; text-decoration-color: #808000\">r</span><span style=\"color: #000000; text-decoration-color: #000000\">=</span><span style=\"color: #008000; text-decoration-color: #008000\">\"http://schemas.openxmlformats.org/officeDocument/2006/relationships\"</span><span style=\"color: #000000; text-decoration-color: #000000\">&gt;</span>\n",
       "<span style=\"color: #000000; text-decoration-color: #000000\">  &lt;a:noFill/&gt;</span>\n",
       "<span style=\"color: #000000; text-decoration-color: #000000\">  &lt;</span><span style=\"color: #00ff00; text-decoration-color: #00ff00; font-weight: bold\">a:effe</span><span style=\"color: #000000; text-decoration-color: #000000\">ctLst/&gt;</span>\n",
       "<span style=\"color: #000000; text-decoration-color: #000000\">&lt;</span><span style=\"color: #800080; text-decoration-color: #800080\">/</span><span style=\"color: #ff00ff; text-decoration-color: #ff00ff\">p</span><span style=\"color: #000000; text-decoration-color: #000000\">:bgPr</span><span style=\"color: #008000; text-decoration-color: #008000; font-weight: bold\">&gt;</span>\n",
       "\n",
       "</pre>\n"
      ],
      "text/plain": [
       "\u001b[32mbackground_xml \u001b[0m\u001b[1;32m<\u001b[0m\u001b[1;95mp:bgPr\u001b[0m\u001b[39m xmlns:\u001b[0m\u001b[33mp\u001b[0m\u001b[39m=\u001b[0m\u001b[32m\"http\u001b[0m\u001b[32m://schemas.openxmlformats.org/presentationml/2006/main\"\u001b[0m\u001b[39m \u001b[0m\n",
       "\u001b[39mxmlns:\u001b[0m\u001b[33ma\u001b[0m\u001b[39m=\u001b[0m\u001b[32m\"http\u001b[0m\u001b[32m://schemas.openxmlformats.org/drawingml/2006/main\"\u001b[0m\u001b[39m \u001b[0m\n",
       "\u001b[39mxmlns:\u001b[0m\u001b[33mr\u001b[0m\u001b[39m=\u001b[0m\u001b[32m\"http\u001b[0m\u001b[32m://schemas.openxmlformats.org/officeDocument/2006/relationships\"\u001b[0m\u001b[39m>\u001b[0m\n",
       "\u001b[39m  <a:noFill/>\u001b[0m\n",
       "\u001b[39m  <\u001b[0m\u001b[1;92ma:effe\u001b[0m\u001b[39mctLst/>\u001b[0m\n",
       "\u001b[39m<\u001b[0m\u001b[35m/\u001b[0m\u001b[95mp\u001b[0m\u001b[39m:bgPr\u001b[0m\u001b[1;32m>\u001b[0m\n",
       "\n"
      ]
     },
     "metadata": {},
     "output_type": "display_data"
    },
    {
     "data": {
      "text/html": [
       "<pre style=\"white-space:pre;overflow-x:auto;line-height:normal;font-family:Menlo,'DejaVu Sans Mono',consolas,'Courier New',monospace\"><span style=\"color: #008000; text-decoration-color: #008000\">slide_notes </span><span style=\"color: #800080; text-decoration-color: #800080; font-style: italic\">None</span>\n",
       "</pre>\n"
      ],
      "text/plain": [
       "\u001b[32mslide_notes \u001b[0m\u001b[3;35mNone\u001b[0m\n"
      ]
     },
     "metadata": {},
     "output_type": "display_data"
    },
    {
     "data": {
      "text/html": [
       "<pre style=\"white-space:pre;overflow-x:auto;line-height:normal;font-family:Menlo,'DejaVu Sans Mono',consolas,'Courier New',monospace\"><span style=\"color: #008000; text-decoration-color: #008000\">slide_layout_name Title and Content</span>\n",
       "</pre>\n"
      ],
      "text/plain": [
       "\u001b[32mslide_layout_name Title and Content\u001b[0m\n"
      ]
     },
     "metadata": {},
     "output_type": "display_data"
    },
    {
     "data": {
      "text/html": [
       "<pre style=\"white-space:pre;overflow-x:auto;line-height:normal;font-family:Menlo,'DejaVu Sans Mono',consolas,'Courier New',monospace\"><span style=\"color: #008000; text-decoration-color: #008000\">slide_title What is Tourism?</span>\n",
       "</pre>\n"
      ],
      "text/plain": [
       "\u001b[32mslide_title What is Tourism?\u001b[0m\n"
      ]
     },
     "metadata": {},
     "output_type": "display_data"
    },
    {
     "data": {
      "text/html": [
       "<pre style=\"white-space:pre;overflow-x:auto;line-height:normal;font-family:Menlo,'DejaVu Sans Mono',consolas,'Courier New',monospace\"><span style=\"color: #008000; text-decoration-color: #008000\">slide_width </span><span style=\"color: #008080; text-decoration-color: #008080; font-weight: bold\">960</span>\n",
       "</pre>\n"
      ],
      "text/plain": [
       "\u001b[32mslide_width \u001b[0m\u001b[1;36m960\u001b[0m\n"
      ]
     },
     "metadata": {},
     "output_type": "display_data"
    },
    {
     "data": {
      "text/html": [
       "<pre style=\"white-space:pre;overflow-x:auto;line-height:normal;font-family:Menlo,'DejaVu Sans Mono',consolas,'Courier New',monospace\"><span style=\"color: #008000; text-decoration-color: #008000\">slide_height </span><span style=\"color: #008080; text-decoration-color: #008080; font-weight: bold\">540</span>\n",
       "</pre>\n"
      ],
      "text/plain": [
       "\u001b[32mslide_height \u001b[0m\u001b[1;36m540\u001b[0m\n"
      ]
     },
     "metadata": {},
     "output_type": "display_data"
    },
    {
     "data": {
      "text/html": [
       "<pre style=\"white-space:pre;overflow-x:auto;line-height:normal;font-family:Menlo,'DejaVu Sans Mono',consolas,'Courier New',monospace\"><span style=\"color: #008000; text-decoration-color: #008000\">generated_slides: </span><span style=\"color: #008080; text-decoration-color: #008080; font-weight: bold\">3</span><span style=\"color: #008000; text-decoration-color: #008000\"> What is Tourism?</span>\n",
       "</pre>\n"
      ],
      "text/plain": [
       "\u001b[32mgenerated_slides: \u001b[0m\u001b[1;36m3\u001b[0m\u001b[32m What is Tourism?\u001b[0m\n"
      ]
     },
     "metadata": {},
     "output_type": "display_data"
    },
    {
     "data": {
      "text/html": [
       "<pre style=\"white-space:pre;overflow-x:auto;line-height:normal;font-family:Menlo,'DejaVu Sans Mono',consolas,'Courier New',monospace\"><span style=\"color: #008000; text-decoration-color: #008000\">shapes</span>\n",
       "<span style=\"color: #008000; text-decoration-color: #008000; font-weight: bold\">[</span><span style=\"color: #008000; text-decoration-color: #008000\">TextBox: shape </span><span style=\"color: #008080; text-decoration-color: #008080; font-weight: bold\">0</span><span style=\"color: #008000; text-decoration-color: #008000\"> of slide </span><span style=\"color: #008080; text-decoration-color: #008080; font-weight: bold\">3</span><span style=\"color: #008000; text-decoration-color: #008000\">, TextBox: shape </span><span style=\"color: #008080; text-decoration-color: #008080; font-weight: bold\">1</span><span style=\"color: #008000; text-decoration-color: #008000\"> of slide </span><span style=\"color: #008080; text-decoration-color: #008080; font-weight: bold\">3</span><span style=\"color: #008000; text-decoration-color: #008000; font-weight: bold\">]</span>\n",
       "</pre>\n"
      ],
      "text/plain": [
       "\u001b[32mshapes\u001b[0m\n",
       "\u001b[1;32m[\u001b[0m\u001b[32mTextBox: shape \u001b[0m\u001b[1;36m0\u001b[0m\u001b[32m of slide \u001b[0m\u001b[1;36m3\u001b[0m\u001b[32m, TextBox: shape \u001b[0m\u001b[1;36m1\u001b[0m\u001b[32m of slide \u001b[0m\u001b[1;36m3\u001b[0m\u001b[1;32m]\u001b[0m\n"
      ]
     },
     "metadata": {},
     "output_type": "display_data"
    },
    {
     "data": {
      "text/html": [
       "<pre style=\"white-space:pre;overflow-x:auto;line-height:normal;font-family:Menlo,'DejaVu Sans Mono',consolas,'Courier New',monospace\"><span style=\"color: #008000; text-decoration-color: #008000\">slide_idx </span><span style=\"color: #008080; text-decoration-color: #008080; font-weight: bold\">3</span>\n",
       "</pre>\n"
      ],
      "text/plain": [
       "\u001b[32mslide_idx \u001b[0m\u001b[1;36m3\u001b[0m\n"
      ]
     },
     "metadata": {},
     "output_type": "display_data"
    },
    {
     "data": {
      "text/html": [
       "<pre style=\"white-space:pre;overflow-x:auto;line-height:normal;font-family:Menlo,'DejaVu Sans Mono',consolas,'Courier New',monospace\"><span style=\"color: #008000; text-decoration-color: #008000\">real_idx </span><span style=\"color: #008080; text-decoration-color: #008080; font-weight: bold\">3</span>\n",
       "</pre>\n"
      ],
      "text/plain": [
       "\u001b[32mreal_idx \u001b[0m\u001b[1;36m3\u001b[0m\n"
      ]
     },
     "metadata": {},
     "output_type": "display_data"
    },
    {
     "data": {
      "text/html": [
       "<pre style=\"white-space:pre;overflow-x:auto;line-height:normal;font-family:Menlo,'DejaVu Sans Mono',consolas,'Courier New',monospace\"><span style=\"color: #008000; text-decoration-color: #008000\">background_xml </span><span style=\"color: #008000; text-decoration-color: #008000; font-weight: bold\">&lt;</span><span style=\"color: #ff00ff; text-decoration-color: #ff00ff; font-weight: bold\">p:bgPr</span><span style=\"color: #000000; text-decoration-color: #000000\"> xmlns:</span><span style=\"color: #808000; text-decoration-color: #808000\">p</span><span style=\"color: #000000; text-decoration-color: #000000\">=</span><span style=\"color: #008000; text-decoration-color: #008000\">\"http://schemas.openxmlformats.org/presentationml/2006/main\"</span><span style=\"color: #000000; text-decoration-color: #000000\"> </span>\n",
       "<span style=\"color: #000000; text-decoration-color: #000000\">xmlns:</span><span style=\"color: #808000; text-decoration-color: #808000\">a</span><span style=\"color: #000000; text-decoration-color: #000000\">=</span><span style=\"color: #008000; text-decoration-color: #008000\">\"http://schemas.openxmlformats.org/drawingml/2006/main\"</span><span style=\"color: #000000; text-decoration-color: #000000\"> </span>\n",
       "<span style=\"color: #000000; text-decoration-color: #000000\">xmlns:</span><span style=\"color: #808000; text-decoration-color: #808000\">r</span><span style=\"color: #000000; text-decoration-color: #000000\">=</span><span style=\"color: #008000; text-decoration-color: #008000\">\"http://schemas.openxmlformats.org/officeDocument/2006/relationships\"</span><span style=\"color: #000000; text-decoration-color: #000000\">&gt;</span>\n",
       "<span style=\"color: #000000; text-decoration-color: #000000\">  &lt;a:noFill/&gt;</span>\n",
       "<span style=\"color: #000000; text-decoration-color: #000000\">  &lt;</span><span style=\"color: #00ff00; text-decoration-color: #00ff00; font-weight: bold\">a:effe</span><span style=\"color: #000000; text-decoration-color: #000000\">ctLst/&gt;</span>\n",
       "<span style=\"color: #000000; text-decoration-color: #000000\">&lt;</span><span style=\"color: #800080; text-decoration-color: #800080\">/</span><span style=\"color: #ff00ff; text-decoration-color: #ff00ff\">p</span><span style=\"color: #000000; text-decoration-color: #000000\">:bgPr</span><span style=\"color: #008000; text-decoration-color: #008000; font-weight: bold\">&gt;</span>\n",
       "\n",
       "</pre>\n"
      ],
      "text/plain": [
       "\u001b[32mbackground_xml \u001b[0m\u001b[1;32m<\u001b[0m\u001b[1;95mp:bgPr\u001b[0m\u001b[39m xmlns:\u001b[0m\u001b[33mp\u001b[0m\u001b[39m=\u001b[0m\u001b[32m\"http\u001b[0m\u001b[32m://schemas.openxmlformats.org/presentationml/2006/main\"\u001b[0m\u001b[39m \u001b[0m\n",
       "\u001b[39mxmlns:\u001b[0m\u001b[33ma\u001b[0m\u001b[39m=\u001b[0m\u001b[32m\"http\u001b[0m\u001b[32m://schemas.openxmlformats.org/drawingml/2006/main\"\u001b[0m\u001b[39m \u001b[0m\n",
       "\u001b[39mxmlns:\u001b[0m\u001b[33mr\u001b[0m\u001b[39m=\u001b[0m\u001b[32m\"http\u001b[0m\u001b[32m://schemas.openxmlformats.org/officeDocument/2006/relationships\"\u001b[0m\u001b[39m>\u001b[0m\n",
       "\u001b[39m  <a:noFill/>\u001b[0m\n",
       "\u001b[39m  <\u001b[0m\u001b[1;92ma:effe\u001b[0m\u001b[39mctLst/>\u001b[0m\n",
       "\u001b[39m<\u001b[0m\u001b[35m/\u001b[0m\u001b[95mp\u001b[0m\u001b[39m:bgPr\u001b[0m\u001b[1;32m>\u001b[0m\n",
       "\n"
      ]
     },
     "metadata": {},
     "output_type": "display_data"
    },
    {
     "data": {
      "text/html": [
       "<pre style=\"white-space:pre;overflow-x:auto;line-height:normal;font-family:Menlo,'DejaVu Sans Mono',consolas,'Courier New',monospace\"><span style=\"color: #008000; text-decoration-color: #008000\">slide_notes </span><span style=\"color: #800080; text-decoration-color: #800080; font-style: italic\">None</span>\n",
       "</pre>\n"
      ],
      "text/plain": [
       "\u001b[32mslide_notes \u001b[0m\u001b[3;35mNone\u001b[0m\n"
      ]
     },
     "metadata": {},
     "output_type": "display_data"
    },
    {
     "data": {
      "text/html": [
       "<pre style=\"white-space:pre;overflow-x:auto;line-height:normal;font-family:Menlo,'DejaVu Sans Mono',consolas,'Courier New',monospace\"><span style=\"color: #008000; text-decoration-color: #008000\">slide_layout_name Title and Content</span>\n",
       "</pre>\n"
      ],
      "text/plain": [
       "\u001b[32mslide_layout_name Title and Content\u001b[0m\n"
      ]
     },
     "metadata": {},
     "output_type": "display_data"
    },
    {
     "data": {
      "text/html": [
       "<pre style=\"white-space:pre;overflow-x:auto;line-height:normal;font-family:Menlo,'DejaVu Sans Mono',consolas,'Courier New',monospace\"><span style=\"color: #008000; text-decoration-color: #008000\">slide_title What is Tourism?</span>\n",
       "</pre>\n"
      ],
      "text/plain": [
       "\u001b[32mslide_title What is Tourism?\u001b[0m\n"
      ]
     },
     "metadata": {},
     "output_type": "display_data"
    },
    {
     "data": {
      "text/html": [
       "<pre style=\"white-space:pre;overflow-x:auto;line-height:normal;font-family:Menlo,'DejaVu Sans Mono',consolas,'Courier New',monospace\"><span style=\"color: #008000; text-decoration-color: #008000\">slide_width </span><span style=\"color: #008080; text-decoration-color: #008080; font-weight: bold\">960</span>\n",
       "</pre>\n"
      ],
      "text/plain": [
       "\u001b[32mslide_width \u001b[0m\u001b[1;36m960\u001b[0m\n"
      ]
     },
     "metadata": {},
     "output_type": "display_data"
    },
    {
     "data": {
      "text/html": [
       "<pre style=\"white-space:pre;overflow-x:auto;line-height:normal;font-family:Menlo,'DejaVu Sans Mono',consolas,'Courier New',monospace\"><span style=\"color: #008000; text-decoration-color: #008000\">slide_height </span><span style=\"color: #008080; text-decoration-color: #008080; font-weight: bold\">540</span>\n",
       "</pre>\n"
      ],
      "text/plain": [
       "\u001b[32mslide_height \u001b[0m\u001b[1;36m540\u001b[0m\n"
      ]
     },
     "metadata": {},
     "output_type": "display_data"
    },
    {
     "data": {
      "text/html": [
       "<pre style=\"white-space:pre;overflow-x:auto;line-height:normal;font-family:Menlo,'DejaVu Sans Mono',consolas,'Courier New',monospace\"><span style=\"color: #008000; text-decoration-color: #008000\">generated_slides: </span><span style=\"color: #008080; text-decoration-color: #008080; font-weight: bold\">3</span><span style=\"color: #008000; text-decoration-color: #008000\"> What is Tourism?</span>\n",
       "</pre>\n"
      ],
      "text/plain": [
       "\u001b[32mgenerated_slides: \u001b[0m\u001b[1;36m3\u001b[0m\u001b[32m What is Tourism?\u001b[0m\n"
      ]
     },
     "metadata": {},
     "output_type": "display_data"
    },
    {
     "data": {
      "text/html": [
       "<pre style=\"white-space:pre;overflow-x:auto;line-height:normal;font-family:Menlo,'DejaVu Sans Mono',consolas,'Courier New',monospace\"><span style=\"color: #008000; text-decoration-color: #008000\">shapes</span>\n",
       "<span style=\"color: #008000; text-decoration-color: #008000; font-weight: bold\">[</span><span style=\"color: #008000; text-decoration-color: #008000\">TextBox: shape </span><span style=\"color: #008080; text-decoration-color: #008080; font-weight: bold\">0</span><span style=\"color: #008000; text-decoration-color: #008000\"> of slide </span><span style=\"color: #008080; text-decoration-color: #008080; font-weight: bold\">3</span><span style=\"color: #008000; text-decoration-color: #008000\">, TextBox: shape </span><span style=\"color: #008080; text-decoration-color: #008080; font-weight: bold\">1</span><span style=\"color: #008000; text-decoration-color: #008000\"> of slide </span><span style=\"color: #008080; text-decoration-color: #008080; font-weight: bold\">3</span><span style=\"color: #008000; text-decoration-color: #008000; font-weight: bold\">]</span>\n",
       "</pre>\n"
      ],
      "text/plain": [
       "\u001b[32mshapes\u001b[0m\n",
       "\u001b[1;32m[\u001b[0m\u001b[32mTextBox: shape \u001b[0m\u001b[1;36m0\u001b[0m\u001b[32m of slide \u001b[0m\u001b[1;36m3\u001b[0m\u001b[32m, TextBox: shape \u001b[0m\u001b[1;36m1\u001b[0m\u001b[32m of slide \u001b[0m\u001b[1;36m3\u001b[0m\u001b[1;32m]\u001b[0m\n"
      ]
     },
     "metadata": {},
     "output_type": "display_data"
    },
    {
     "data": {
      "text/html": [
       "<pre style=\"white-space:pre;overflow-x:auto;line-height:normal;font-family:Menlo,'DejaVu Sans Mono',consolas,'Courier New',monospace\"><span style=\"color: #008000; text-decoration-color: #008000\">slide_idx </span><span style=\"color: #008080; text-decoration-color: #008080; font-weight: bold\">3</span>\n",
       "</pre>\n"
      ],
      "text/plain": [
       "\u001b[32mslide_idx \u001b[0m\u001b[1;36m3\u001b[0m\n"
      ]
     },
     "metadata": {},
     "output_type": "display_data"
    },
    {
     "data": {
      "text/html": [
       "<pre style=\"white-space:pre;overflow-x:auto;line-height:normal;font-family:Menlo,'DejaVu Sans Mono',consolas,'Courier New',monospace\"><span style=\"color: #008000; text-decoration-color: #008000\">real_idx </span><span style=\"color: #008080; text-decoration-color: #008080; font-weight: bold\">3</span>\n",
       "</pre>\n"
      ],
      "text/plain": [
       "\u001b[32mreal_idx \u001b[0m\u001b[1;36m3\u001b[0m\n"
      ]
     },
     "metadata": {},
     "output_type": "display_data"
    },
    {
     "data": {
      "text/html": [
       "<pre style=\"white-space:pre;overflow-x:auto;line-height:normal;font-family:Menlo,'DejaVu Sans Mono',consolas,'Courier New',monospace\"><span style=\"color: #008000; text-decoration-color: #008000\">background_xml </span><span style=\"color: #008000; text-decoration-color: #008000; font-weight: bold\">&lt;</span><span style=\"color: #ff00ff; text-decoration-color: #ff00ff; font-weight: bold\">p:bgPr</span><span style=\"color: #000000; text-decoration-color: #000000\"> xmlns:</span><span style=\"color: #808000; text-decoration-color: #808000\">p</span><span style=\"color: #000000; text-decoration-color: #000000\">=</span><span style=\"color: #008000; text-decoration-color: #008000\">\"http://schemas.openxmlformats.org/presentationml/2006/main\"</span><span style=\"color: #000000; text-decoration-color: #000000\"> </span>\n",
       "<span style=\"color: #000000; text-decoration-color: #000000\">xmlns:</span><span style=\"color: #808000; text-decoration-color: #808000\">a</span><span style=\"color: #000000; text-decoration-color: #000000\">=</span><span style=\"color: #008000; text-decoration-color: #008000\">\"http://schemas.openxmlformats.org/drawingml/2006/main\"</span><span style=\"color: #000000; text-decoration-color: #000000\"> </span>\n",
       "<span style=\"color: #000000; text-decoration-color: #000000\">xmlns:</span><span style=\"color: #808000; text-decoration-color: #808000\">r</span><span style=\"color: #000000; text-decoration-color: #000000\">=</span><span style=\"color: #008000; text-decoration-color: #008000\">\"http://schemas.openxmlformats.org/officeDocument/2006/relationships\"</span><span style=\"color: #000000; text-decoration-color: #000000\">&gt;</span>\n",
       "<span style=\"color: #000000; text-decoration-color: #000000\">  &lt;a:noFill/&gt;</span>\n",
       "<span style=\"color: #000000; text-decoration-color: #000000\">  &lt;</span><span style=\"color: #00ff00; text-decoration-color: #00ff00; font-weight: bold\">a:effe</span><span style=\"color: #000000; text-decoration-color: #000000\">ctLst/&gt;</span>\n",
       "<span style=\"color: #000000; text-decoration-color: #000000\">&lt;</span><span style=\"color: #800080; text-decoration-color: #800080\">/</span><span style=\"color: #ff00ff; text-decoration-color: #ff00ff\">p</span><span style=\"color: #000000; text-decoration-color: #000000\">:bgPr</span><span style=\"color: #008000; text-decoration-color: #008000; font-weight: bold\">&gt;</span>\n",
       "\n",
       "</pre>\n"
      ],
      "text/plain": [
       "\u001b[32mbackground_xml \u001b[0m\u001b[1;32m<\u001b[0m\u001b[1;95mp:bgPr\u001b[0m\u001b[39m xmlns:\u001b[0m\u001b[33mp\u001b[0m\u001b[39m=\u001b[0m\u001b[32m\"http\u001b[0m\u001b[32m://schemas.openxmlformats.org/presentationml/2006/main\"\u001b[0m\u001b[39m \u001b[0m\n",
       "\u001b[39mxmlns:\u001b[0m\u001b[33ma\u001b[0m\u001b[39m=\u001b[0m\u001b[32m\"http\u001b[0m\u001b[32m://schemas.openxmlformats.org/drawingml/2006/main\"\u001b[0m\u001b[39m \u001b[0m\n",
       "\u001b[39mxmlns:\u001b[0m\u001b[33mr\u001b[0m\u001b[39m=\u001b[0m\u001b[32m\"http\u001b[0m\u001b[32m://schemas.openxmlformats.org/officeDocument/2006/relationships\"\u001b[0m\u001b[39m>\u001b[0m\n",
       "\u001b[39m  <a:noFill/>\u001b[0m\n",
       "\u001b[39m  <\u001b[0m\u001b[1;92ma:effe\u001b[0m\u001b[39mctLst/>\u001b[0m\n",
       "\u001b[39m<\u001b[0m\u001b[35m/\u001b[0m\u001b[95mp\u001b[0m\u001b[39m:bgPr\u001b[0m\u001b[1;32m>\u001b[0m\n",
       "\n"
      ]
     },
     "metadata": {},
     "output_type": "display_data"
    },
    {
     "data": {
      "text/html": [
       "<pre style=\"white-space:pre;overflow-x:auto;line-height:normal;font-family:Menlo,'DejaVu Sans Mono',consolas,'Courier New',monospace\"><span style=\"color: #008000; text-decoration-color: #008000\">slide_notes </span><span style=\"color: #800080; text-decoration-color: #800080; font-style: italic\">None</span>\n",
       "</pre>\n"
      ],
      "text/plain": [
       "\u001b[32mslide_notes \u001b[0m\u001b[3;35mNone\u001b[0m\n"
      ]
     },
     "metadata": {},
     "output_type": "display_data"
    },
    {
     "data": {
      "text/html": [
       "<pre style=\"white-space:pre;overflow-x:auto;line-height:normal;font-family:Menlo,'DejaVu Sans Mono',consolas,'Courier New',monospace\"><span style=\"color: #008000; text-decoration-color: #008000\">slide_layout_name Title and Content</span>\n",
       "</pre>\n"
      ],
      "text/plain": [
       "\u001b[32mslide_layout_name Title and Content\u001b[0m\n"
      ]
     },
     "metadata": {},
     "output_type": "display_data"
    },
    {
     "data": {
      "text/html": [
       "<pre style=\"white-space:pre;overflow-x:auto;line-height:normal;font-family:Menlo,'DejaVu Sans Mono',consolas,'Courier New',monospace\"><span style=\"color: #008000; text-decoration-color: #008000\">slide_title What is Tourism?</span>\n",
       "</pre>\n"
      ],
      "text/plain": [
       "\u001b[32mslide_title What is Tourism?\u001b[0m\n"
      ]
     },
     "metadata": {},
     "output_type": "display_data"
    },
    {
     "data": {
      "text/html": [
       "<pre style=\"white-space:pre;overflow-x:auto;line-height:normal;font-family:Menlo,'DejaVu Sans Mono',consolas,'Courier New',monospace\"><span style=\"color: #008000; text-decoration-color: #008000\">slide_width </span><span style=\"color: #008080; text-decoration-color: #008080; font-weight: bold\">960</span>\n",
       "</pre>\n"
      ],
      "text/plain": [
       "\u001b[32mslide_width \u001b[0m\u001b[1;36m960\u001b[0m\n"
      ]
     },
     "metadata": {},
     "output_type": "display_data"
    },
    {
     "data": {
      "text/html": [
       "<pre style=\"white-space:pre;overflow-x:auto;line-height:normal;font-family:Menlo,'DejaVu Sans Mono',consolas,'Courier New',monospace\"><span style=\"color: #008000; text-decoration-color: #008000\">slide_height </span><span style=\"color: #008080; text-decoration-color: #008080; font-weight: bold\">540</span>\n",
       "</pre>\n"
      ],
      "text/plain": [
       "\u001b[32mslide_height \u001b[0m\u001b[1;36m540\u001b[0m\n"
      ]
     },
     "metadata": {},
     "output_type": "display_data"
    },
    {
     "data": {
      "text/html": [
       "<pre style=\"white-space:pre;overflow-x:auto;line-height:normal;font-family:Menlo,'DejaVu Sans Mono',consolas,'Courier New',monospace\"><span style=\"color: #008000; text-decoration-color: #008000\">generated_slides: </span><span style=\"color: #008080; text-decoration-color: #008080; font-weight: bold\">1</span><span style=\"color: #008000; text-decoration-color: #008000\"> Tourism &amp; Culture:</span>\n",
       "</pre>\n"
      ],
      "text/plain": [
       "\u001b[32mgenerated_slides: \u001b[0m\u001b[1;36m1\u001b[0m\u001b[32m Tourism & Culture:\u001b[0m\n"
      ]
     },
     "metadata": {},
     "output_type": "display_data"
    },
    {
     "data": {
      "text/html": [
       "<pre style=\"white-space:pre;overflow-x:auto;line-height:normal;font-family:Menlo,'DejaVu Sans Mono',consolas,'Courier New',monospace\"><span style=\"color: #008000; text-decoration-color: #008000\">shapes</span>\n",
       "<span style=\"color: #008000; text-decoration-color: #008000; font-weight: bold\">[</span><span style=\"color: #008000; text-decoration-color: #008000\">TextBox: shape </span><span style=\"color: #008080; text-decoration-color: #008080; font-weight: bold\">0</span><span style=\"color: #008000; text-decoration-color: #008000\"> of slide </span><span style=\"color: #008080; text-decoration-color: #008080; font-weight: bold\">1</span><span style=\"color: #008000; text-decoration-color: #008000\">, TextBox: shape </span><span style=\"color: #008080; text-decoration-color: #008080; font-weight: bold\">1</span><span style=\"color: #008000; text-decoration-color: #008000\"> of slide </span><span style=\"color: #008080; text-decoration-color: #008080; font-weight: bold\">1</span><span style=\"color: #008000; text-decoration-color: #008000; font-weight: bold\">]</span>\n",
       "</pre>\n"
      ],
      "text/plain": [
       "\u001b[32mshapes\u001b[0m\n",
       "\u001b[1;32m[\u001b[0m\u001b[32mTextBox: shape \u001b[0m\u001b[1;36m0\u001b[0m\u001b[32m of slide \u001b[0m\u001b[1;36m1\u001b[0m\u001b[32m, TextBox: shape \u001b[0m\u001b[1;36m1\u001b[0m\u001b[32m of slide \u001b[0m\u001b[1;36m1\u001b[0m\u001b[1;32m]\u001b[0m\n"
      ]
     },
     "metadata": {},
     "output_type": "display_data"
    },
    {
     "data": {
      "text/html": [
       "<pre style=\"white-space:pre;overflow-x:auto;line-height:normal;font-family:Menlo,'DejaVu Sans Mono',consolas,'Courier New',monospace\"><span style=\"color: #008000; text-decoration-color: #008000\">slide_idx </span><span style=\"color: #008080; text-decoration-color: #008080; font-weight: bold\">1</span>\n",
       "</pre>\n"
      ],
      "text/plain": [
       "\u001b[32mslide_idx \u001b[0m\u001b[1;36m1\u001b[0m\n"
      ]
     },
     "metadata": {},
     "output_type": "display_data"
    },
    {
     "data": {
      "text/html": [
       "<pre style=\"white-space:pre;overflow-x:auto;line-height:normal;font-family:Menlo,'DejaVu Sans Mono',consolas,'Courier New',monospace\"><span style=\"color: #008000; text-decoration-color: #008000\">real_idx </span><span style=\"color: #008080; text-decoration-color: #008080; font-weight: bold\">1</span>\n",
       "</pre>\n"
      ],
      "text/plain": [
       "\u001b[32mreal_idx \u001b[0m\u001b[1;36m1\u001b[0m\n"
      ]
     },
     "metadata": {},
     "output_type": "display_data"
    },
    {
     "data": {
      "text/html": [
       "<pre style=\"white-space:pre;overflow-x:auto;line-height:normal;font-family:Menlo,'DejaVu Sans Mono',consolas,'Courier New',monospace\"><span style=\"color: #008000; text-decoration-color: #008000\">background_xml </span><span style=\"color: #008000; text-decoration-color: #008000; font-weight: bold\">&lt;</span><span style=\"color: #ff00ff; text-decoration-color: #ff00ff; font-weight: bold\">p:bgPr</span><span style=\"color: #000000; text-decoration-color: #000000\"> xmlns:</span><span style=\"color: #808000; text-decoration-color: #808000\">p</span><span style=\"color: #000000; text-decoration-color: #000000\">=</span><span style=\"color: #008000; text-decoration-color: #008000\">\"http://schemas.openxmlformats.org/presentationml/2006/main\"</span><span style=\"color: #000000; text-decoration-color: #000000\"> </span>\n",
       "<span style=\"color: #000000; text-decoration-color: #000000\">xmlns:</span><span style=\"color: #808000; text-decoration-color: #808000\">a</span><span style=\"color: #000000; text-decoration-color: #000000\">=</span><span style=\"color: #008000; text-decoration-color: #008000\">\"http://schemas.openxmlformats.org/drawingml/2006/main\"</span><span style=\"color: #000000; text-decoration-color: #000000\"> </span>\n",
       "<span style=\"color: #000000; text-decoration-color: #000000\">xmlns:</span><span style=\"color: #808000; text-decoration-color: #808000\">r</span><span style=\"color: #000000; text-decoration-color: #000000\">=</span><span style=\"color: #008000; text-decoration-color: #008000\">\"http://schemas.openxmlformats.org/officeDocument/2006/relationships\"</span><span style=\"color: #000000; text-decoration-color: #000000\">&gt;</span>\n",
       "<span style=\"color: #000000; text-decoration-color: #000000\">  &lt;a:noFill/&gt;</span>\n",
       "<span style=\"color: #000000; text-decoration-color: #000000\">  &lt;</span><span style=\"color: #00ff00; text-decoration-color: #00ff00; font-weight: bold\">a:effe</span><span style=\"color: #000000; text-decoration-color: #000000\">ctLst/&gt;</span>\n",
       "<span style=\"color: #000000; text-decoration-color: #000000\">&lt;</span><span style=\"color: #800080; text-decoration-color: #800080\">/</span><span style=\"color: #ff00ff; text-decoration-color: #ff00ff\">p</span><span style=\"color: #000000; text-decoration-color: #000000\">:bgPr</span><span style=\"color: #008000; text-decoration-color: #008000; font-weight: bold\">&gt;</span>\n",
       "\n",
       "</pre>\n"
      ],
      "text/plain": [
       "\u001b[32mbackground_xml \u001b[0m\u001b[1;32m<\u001b[0m\u001b[1;95mp:bgPr\u001b[0m\u001b[39m xmlns:\u001b[0m\u001b[33mp\u001b[0m\u001b[39m=\u001b[0m\u001b[32m\"http\u001b[0m\u001b[32m://schemas.openxmlformats.org/presentationml/2006/main\"\u001b[0m\u001b[39m \u001b[0m\n",
       "\u001b[39mxmlns:\u001b[0m\u001b[33ma\u001b[0m\u001b[39m=\u001b[0m\u001b[32m\"http\u001b[0m\u001b[32m://schemas.openxmlformats.org/drawingml/2006/main\"\u001b[0m\u001b[39m \u001b[0m\n",
       "\u001b[39mxmlns:\u001b[0m\u001b[33mr\u001b[0m\u001b[39m=\u001b[0m\u001b[32m\"http\u001b[0m\u001b[32m://schemas.openxmlformats.org/officeDocument/2006/relationships\"\u001b[0m\u001b[39m>\u001b[0m\n",
       "\u001b[39m  <a:noFill/>\u001b[0m\n",
       "\u001b[39m  <\u001b[0m\u001b[1;92ma:effe\u001b[0m\u001b[39mctLst/>\u001b[0m\n",
       "\u001b[39m<\u001b[0m\u001b[35m/\u001b[0m\u001b[95mp\u001b[0m\u001b[39m:bgPr\u001b[0m\u001b[1;32m>\u001b[0m\n",
       "\n"
      ]
     },
     "metadata": {},
     "output_type": "display_data"
    },
    {
     "data": {
      "text/html": [
       "<pre style=\"white-space:pre;overflow-x:auto;line-height:normal;font-family:Menlo,'DejaVu Sans Mono',consolas,'Courier New',monospace\"><span style=\"color: #008000; text-decoration-color: #008000\">slide_notes </span><span style=\"color: #800080; text-decoration-color: #800080; font-style: italic\">None</span>\n",
       "</pre>\n"
      ],
      "text/plain": [
       "\u001b[32mslide_notes \u001b[0m\u001b[3;35mNone\u001b[0m\n"
      ]
     },
     "metadata": {},
     "output_type": "display_data"
    },
    {
     "data": {
      "text/html": [
       "<pre style=\"white-space:pre;overflow-x:auto;line-height:normal;font-family:Menlo,'DejaVu Sans Mono',consolas,'Courier New',monospace\"><span style=\"color: #008000; text-decoration-color: #008000\">slide_layout_name Title Slide</span>\n",
       "</pre>\n"
      ],
      "text/plain": [
       "\u001b[32mslide_layout_name Title Slide\u001b[0m\n"
      ]
     },
     "metadata": {},
     "output_type": "display_data"
    },
    {
     "data": {
      "text/html": [
       "<pre style=\"white-space:pre;overflow-x:auto;line-height:normal;font-family:Menlo,'DejaVu Sans Mono',consolas,'Courier New',monospace\"><span style=\"color: #008000; text-decoration-color: #008000\">slide_title Tourism &amp; Culture:</span>\n",
       "</pre>\n"
      ],
      "text/plain": [
       "\u001b[32mslide_title Tourism & Culture:\u001b[0m\n"
      ]
     },
     "metadata": {},
     "output_type": "display_data"
    },
    {
     "data": {
      "text/html": [
       "<pre style=\"white-space:pre;overflow-x:auto;line-height:normal;font-family:Menlo,'DejaVu Sans Mono',consolas,'Courier New',monospace\"><span style=\"color: #008000; text-decoration-color: #008000\">slide_width </span><span style=\"color: #008080; text-decoration-color: #008080; font-weight: bold\">960</span>\n",
       "</pre>\n"
      ],
      "text/plain": [
       "\u001b[32mslide_width \u001b[0m\u001b[1;36m960\u001b[0m\n"
      ]
     },
     "metadata": {},
     "output_type": "display_data"
    },
    {
     "data": {
      "text/html": [
       "<pre style=\"white-space:pre;overflow-x:auto;line-height:normal;font-family:Menlo,'DejaVu Sans Mono',consolas,'Courier New',monospace\"><span style=\"color: #008000; text-decoration-color: #008000\">slide_height </span><span style=\"color: #008080; text-decoration-color: #008080; font-weight: bold\">540</span>\n",
       "</pre>\n"
      ],
      "text/plain": [
       "\u001b[32mslide_height \u001b[0m\u001b[1;36m540\u001b[0m\n"
      ]
     },
     "metadata": {},
     "output_type": "display_data"
    },
    {
     "data": {
      "text/html": [
       "<pre style=\"white-space:pre;overflow-x:auto;line-height:normal;font-family:Menlo,'DejaVu Sans Mono',consolas,'Courier New',monospace\"><span style=\"color: #008080; text-decoration-color: #008080; font-weight: bold\">5</span><span style=\"color: #008000; text-decoration-color: #008000\"> paged empty_prs_cutoff.pptx saved</span>\n",
       "</pre>\n"
      ],
      "text/plain": [
       "\u001b[1;36m5\u001b[0m\u001b[32m paged empty_prs_cutoff.pptx saved\u001b[0m\n"
      ]
     },
     "metadata": {},
     "output_type": "display_data"
    },
    {
     "data": {
      "text/html": [
       "<pre style=\"white-space:pre;overflow-x:auto;line-height:normal;font-family:Menlo,'DejaVu Sans Mono',consolas,'Courier New',monospace\"><span style=\"color: #008000; text-decoration-color: #008000\">empty_prs.slides: </span><span style=\"color: #008080; text-decoration-color: #008080; font-weight: bold\">1</span><span style=\"color: #008000; text-decoration-color: #008000\"> Tourism &amp; Culture:</span>\n",
       "</pre>\n"
      ],
      "text/plain": [
       "\u001b[32mempty_prs.slides: \u001b[0m\u001b[1;36m1\u001b[0m\u001b[32m Tourism & Culture:\u001b[0m\n"
      ]
     },
     "metadata": {},
     "output_type": "display_data"
    },
    {
     "data": {
      "text/html": [
       "<pre style=\"white-space:pre;overflow-x:auto;line-height:normal;font-family:Menlo,'DejaVu Sans Mono',consolas,'Courier New',monospace\"><span style=\"color: #008000; text-decoration-color: #008000\">shapes</span>\n",
       "<span style=\"color: #008000; text-decoration-color: #008000; font-weight: bold\">[</span><span style=\"color: #008000; text-decoration-color: #008000\">TextBox: shape </span><span style=\"color: #008080; text-decoration-color: #008080; font-weight: bold\">0</span><span style=\"color: #008000; text-decoration-color: #008000\"> of slide </span><span style=\"color: #008080; text-decoration-color: #008080; font-weight: bold\">1</span><span style=\"color: #008000; text-decoration-color: #008000\">, TextBox: shape </span><span style=\"color: #008080; text-decoration-color: #008080; font-weight: bold\">1</span><span style=\"color: #008000; text-decoration-color: #008000\"> of slide </span><span style=\"color: #008080; text-decoration-color: #008080; font-weight: bold\">1</span><span style=\"color: #008000; text-decoration-color: #008000; font-weight: bold\">]</span>\n",
       "</pre>\n"
      ],
      "text/plain": [
       "\u001b[32mshapes\u001b[0m\n",
       "\u001b[1;32m[\u001b[0m\u001b[32mTextBox: shape \u001b[0m\u001b[1;36m0\u001b[0m\u001b[32m of slide \u001b[0m\u001b[1;36m1\u001b[0m\u001b[32m, TextBox: shape \u001b[0m\u001b[1;36m1\u001b[0m\u001b[32m of slide \u001b[0m\u001b[1;36m1\u001b[0m\u001b[1;32m]\u001b[0m\n"
      ]
     },
     "metadata": {},
     "output_type": "display_data"
    },
    {
     "data": {
      "text/html": [
       "<pre style=\"white-space:pre;overflow-x:auto;line-height:normal;font-family:Menlo,'DejaVu Sans Mono',consolas,'Courier New',monospace\"><span style=\"color: #008000; text-decoration-color: #008000\">slide_idx </span><span style=\"color: #008080; text-decoration-color: #008080; font-weight: bold\">1</span>\n",
       "</pre>\n"
      ],
      "text/plain": [
       "\u001b[32mslide_idx \u001b[0m\u001b[1;36m1\u001b[0m\n"
      ]
     },
     "metadata": {},
     "output_type": "display_data"
    },
    {
     "data": {
      "text/html": [
       "<pre style=\"white-space:pre;overflow-x:auto;line-height:normal;font-family:Menlo,'DejaVu Sans Mono',consolas,'Courier New',monospace\"><span style=\"color: #008000; text-decoration-color: #008000\">real_idx </span><span style=\"color: #008080; text-decoration-color: #008080; font-weight: bold\">1</span>\n",
       "</pre>\n"
      ],
      "text/plain": [
       "\u001b[32mreal_idx \u001b[0m\u001b[1;36m1\u001b[0m\n"
      ]
     },
     "metadata": {},
     "output_type": "display_data"
    },
    {
     "data": {
      "text/html": [
       "<pre style=\"white-space:pre;overflow-x:auto;line-height:normal;font-family:Menlo,'DejaVu Sans Mono',consolas,'Courier New',monospace\"><span style=\"color: #008000; text-decoration-color: #008000\">background_xml </span><span style=\"color: #008000; text-decoration-color: #008000; font-weight: bold\">&lt;</span><span style=\"color: #ff00ff; text-decoration-color: #ff00ff; font-weight: bold\">p:bgPr</span><span style=\"color: #000000; text-decoration-color: #000000\"> xmlns:</span><span style=\"color: #808000; text-decoration-color: #808000\">p</span><span style=\"color: #000000; text-decoration-color: #000000\">=</span><span style=\"color: #008000; text-decoration-color: #008000\">\"http://schemas.openxmlformats.org/presentationml/2006/main\"</span><span style=\"color: #000000; text-decoration-color: #000000\"> </span>\n",
       "<span style=\"color: #000000; text-decoration-color: #000000\">xmlns:</span><span style=\"color: #808000; text-decoration-color: #808000\">a</span><span style=\"color: #000000; text-decoration-color: #000000\">=</span><span style=\"color: #008000; text-decoration-color: #008000\">\"http://schemas.openxmlformats.org/drawingml/2006/main\"</span><span style=\"color: #000000; text-decoration-color: #000000\"> </span>\n",
       "<span style=\"color: #000000; text-decoration-color: #000000\">xmlns:</span><span style=\"color: #808000; text-decoration-color: #808000\">r</span><span style=\"color: #000000; text-decoration-color: #000000\">=</span><span style=\"color: #008000; text-decoration-color: #008000\">\"http://schemas.openxmlformats.org/officeDocument/2006/relationships\"</span><span style=\"color: #000000; text-decoration-color: #000000\">&gt;</span>\n",
       "<span style=\"color: #000000; text-decoration-color: #000000\">  &lt;a:noFill/&gt;</span>\n",
       "<span style=\"color: #000000; text-decoration-color: #000000\">  &lt;</span><span style=\"color: #00ff00; text-decoration-color: #00ff00; font-weight: bold\">a:effe</span><span style=\"color: #000000; text-decoration-color: #000000\">ctLst/&gt;</span>\n",
       "<span style=\"color: #000000; text-decoration-color: #000000\">&lt;</span><span style=\"color: #800080; text-decoration-color: #800080\">/</span><span style=\"color: #ff00ff; text-decoration-color: #ff00ff\">p</span><span style=\"color: #000000; text-decoration-color: #000000\">:bgPr</span><span style=\"color: #008000; text-decoration-color: #008000; font-weight: bold\">&gt;</span>\n",
       "\n",
       "</pre>\n"
      ],
      "text/plain": [
       "\u001b[32mbackground_xml \u001b[0m\u001b[1;32m<\u001b[0m\u001b[1;95mp:bgPr\u001b[0m\u001b[39m xmlns:\u001b[0m\u001b[33mp\u001b[0m\u001b[39m=\u001b[0m\u001b[32m\"http\u001b[0m\u001b[32m://schemas.openxmlformats.org/presentationml/2006/main\"\u001b[0m\u001b[39m \u001b[0m\n",
       "\u001b[39mxmlns:\u001b[0m\u001b[33ma\u001b[0m\u001b[39m=\u001b[0m\u001b[32m\"http\u001b[0m\u001b[32m://schemas.openxmlformats.org/drawingml/2006/main\"\u001b[0m\u001b[39m \u001b[0m\n",
       "\u001b[39mxmlns:\u001b[0m\u001b[33mr\u001b[0m\u001b[39m=\u001b[0m\u001b[32m\"http\u001b[0m\u001b[32m://schemas.openxmlformats.org/officeDocument/2006/relationships\"\u001b[0m\u001b[39m>\u001b[0m\n",
       "\u001b[39m  <a:noFill/>\u001b[0m\n",
       "\u001b[39m  <\u001b[0m\u001b[1;92ma:effe\u001b[0m\u001b[39mctLst/>\u001b[0m\n",
       "\u001b[39m<\u001b[0m\u001b[35m/\u001b[0m\u001b[95mp\u001b[0m\u001b[39m:bgPr\u001b[0m\u001b[1;32m>\u001b[0m\n",
       "\n"
      ]
     },
     "metadata": {},
     "output_type": "display_data"
    },
    {
     "data": {
      "text/html": [
       "<pre style=\"white-space:pre;overflow-x:auto;line-height:normal;font-family:Menlo,'DejaVu Sans Mono',consolas,'Courier New',monospace\"><span style=\"color: #008000; text-decoration-color: #008000\">slide_notes </span><span style=\"color: #800080; text-decoration-color: #800080; font-style: italic\">None</span>\n",
       "</pre>\n"
      ],
      "text/plain": [
       "\u001b[32mslide_notes \u001b[0m\u001b[3;35mNone\u001b[0m\n"
      ]
     },
     "metadata": {},
     "output_type": "display_data"
    },
    {
     "data": {
      "text/html": [
       "<pre style=\"white-space:pre;overflow-x:auto;line-height:normal;font-family:Menlo,'DejaVu Sans Mono',consolas,'Courier New',monospace\"><span style=\"color: #008000; text-decoration-color: #008000\">slide_layout_name Title Slide</span>\n",
       "</pre>\n"
      ],
      "text/plain": [
       "\u001b[32mslide_layout_name Title Slide\u001b[0m\n"
      ]
     },
     "metadata": {},
     "output_type": "display_data"
    },
    {
     "data": {
      "text/html": [
       "<pre style=\"white-space:pre;overflow-x:auto;line-height:normal;font-family:Menlo,'DejaVu Sans Mono',consolas,'Courier New',monospace\"><span style=\"color: #008000; text-decoration-color: #008000\">slide_title Tourism &amp; Culture:</span>\n",
       "</pre>\n"
      ],
      "text/plain": [
       "\u001b[32mslide_title Tourism & Culture:\u001b[0m\n"
      ]
     },
     "metadata": {},
     "output_type": "display_data"
    },
    {
     "data": {
      "text/html": [
       "<pre style=\"white-space:pre;overflow-x:auto;line-height:normal;font-family:Menlo,'DejaVu Sans Mono',consolas,'Courier New',monospace\"><span style=\"color: #008000; text-decoration-color: #008000\">slide_width </span><span style=\"color: #008080; text-decoration-color: #008080; font-weight: bold\">960</span>\n",
       "</pre>\n"
      ],
      "text/plain": [
       "\u001b[32mslide_width \u001b[0m\u001b[1;36m960\u001b[0m\n"
      ]
     },
     "metadata": {},
     "output_type": "display_data"
    },
    {
     "data": {
      "text/html": [
       "<pre style=\"white-space:pre;overflow-x:auto;line-height:normal;font-family:Menlo,'DejaVu Sans Mono',consolas,'Courier New',monospace\"><span style=\"color: #008000; text-decoration-color: #008000\">slide_height </span><span style=\"color: #008080; text-decoration-color: #008080; font-weight: bold\">540</span>\n",
       "</pre>\n"
      ],
      "text/plain": [
       "\u001b[32mslide_height \u001b[0m\u001b[1;36m540\u001b[0m\n"
      ]
     },
     "metadata": {},
     "output_type": "display_data"
    },
    {
     "data": {
      "text/html": [
       "<pre style=\"white-space:pre;overflow-x:auto;line-height:normal;font-family:Menlo,'DejaVu Sans Mono',consolas,'Courier New',monospace\"><span style=\"color: #008000; text-decoration-color: #008000\">empty_prs.slides: </span><span style=\"color: #008080; text-decoration-color: #008080; font-weight: bold\">2</span><span style=\"color: #008000; text-decoration-color: #008000\"> What is culture?</span>\n",
       "</pre>\n"
      ],
      "text/plain": [
       "\u001b[32mempty_prs.slides: \u001b[0m\u001b[1;36m2\u001b[0m\u001b[32m What is culture?\u001b[0m\n"
      ]
     },
     "metadata": {},
     "output_type": "display_data"
    },
    {
     "data": {
      "text/html": [
       "<pre style=\"white-space:pre;overflow-x:auto;line-height:normal;font-family:Menlo,'DejaVu Sans Mono',consolas,'Courier New',monospace\"><span style=\"color: #008000; text-decoration-color: #008000\">shapes</span>\n",
       "<span style=\"color: #008000; text-decoration-color: #008000; font-weight: bold\">[</span><span style=\"color: #008000; text-decoration-color: #008000\">TextBox: shape </span><span style=\"color: #008080; text-decoration-color: #008080; font-weight: bold\">0</span><span style=\"color: #008000; text-decoration-color: #008000\"> of slide </span><span style=\"color: #008080; text-decoration-color: #008080; font-weight: bold\">2</span><span style=\"color: #008000; text-decoration-color: #008000\">, TextBox: shape </span><span style=\"color: #008080; text-decoration-color: #008080; font-weight: bold\">1</span><span style=\"color: #008000; text-decoration-color: #008000\"> of slide </span><span style=\"color: #008080; text-decoration-color: #008080; font-weight: bold\">2</span><span style=\"color: #008000; text-decoration-color: #008000; font-weight: bold\">]</span>\n",
       "</pre>\n"
      ],
      "text/plain": [
       "\u001b[32mshapes\u001b[0m\n",
       "\u001b[1;32m[\u001b[0m\u001b[32mTextBox: shape \u001b[0m\u001b[1;36m0\u001b[0m\u001b[32m of slide \u001b[0m\u001b[1;36m2\u001b[0m\u001b[32m, TextBox: shape \u001b[0m\u001b[1;36m1\u001b[0m\u001b[32m of slide \u001b[0m\u001b[1;36m2\u001b[0m\u001b[1;32m]\u001b[0m\n"
      ]
     },
     "metadata": {},
     "output_type": "display_data"
    },
    {
     "data": {
      "text/html": [
       "<pre style=\"white-space:pre;overflow-x:auto;line-height:normal;font-family:Menlo,'DejaVu Sans Mono',consolas,'Courier New',monospace\"><span style=\"color: #008000; text-decoration-color: #008000\">slide_idx </span><span style=\"color: #008080; text-decoration-color: #008080; font-weight: bold\">2</span>\n",
       "</pre>\n"
      ],
      "text/plain": [
       "\u001b[32mslide_idx \u001b[0m\u001b[1;36m2\u001b[0m\n"
      ]
     },
     "metadata": {},
     "output_type": "display_data"
    },
    {
     "data": {
      "text/html": [
       "<pre style=\"white-space:pre;overflow-x:auto;line-height:normal;font-family:Menlo,'DejaVu Sans Mono',consolas,'Courier New',monospace\"><span style=\"color: #008000; text-decoration-color: #008000\">real_idx </span><span style=\"color: #008080; text-decoration-color: #008080; font-weight: bold\">2</span>\n",
       "</pre>\n"
      ],
      "text/plain": [
       "\u001b[32mreal_idx \u001b[0m\u001b[1;36m2\u001b[0m\n"
      ]
     },
     "metadata": {},
     "output_type": "display_data"
    },
    {
     "data": {
      "text/html": [
       "<pre style=\"white-space:pre;overflow-x:auto;line-height:normal;font-family:Menlo,'DejaVu Sans Mono',consolas,'Courier New',monospace\"><span style=\"color: #008000; text-decoration-color: #008000\">background_xml </span><span style=\"color: #008000; text-decoration-color: #008000; font-weight: bold\">&lt;</span><span style=\"color: #ff00ff; text-decoration-color: #ff00ff; font-weight: bold\">p:bgPr</span><span style=\"color: #000000; text-decoration-color: #000000\"> xmlns:</span><span style=\"color: #808000; text-decoration-color: #808000\">p</span><span style=\"color: #000000; text-decoration-color: #000000\">=</span><span style=\"color: #008000; text-decoration-color: #008000\">\"http://schemas.openxmlformats.org/presentationml/2006/main\"</span><span style=\"color: #000000; text-decoration-color: #000000\"> </span>\n",
       "<span style=\"color: #000000; text-decoration-color: #000000\">xmlns:</span><span style=\"color: #808000; text-decoration-color: #808000\">a</span><span style=\"color: #000000; text-decoration-color: #000000\">=</span><span style=\"color: #008000; text-decoration-color: #008000\">\"http://schemas.openxmlformats.org/drawingml/2006/main\"</span><span style=\"color: #000000; text-decoration-color: #000000\"> </span>\n",
       "<span style=\"color: #000000; text-decoration-color: #000000\">xmlns:</span><span style=\"color: #808000; text-decoration-color: #808000\">r</span><span style=\"color: #000000; text-decoration-color: #000000\">=</span><span style=\"color: #008000; text-decoration-color: #008000\">\"http://schemas.openxmlformats.org/officeDocument/2006/relationships\"</span><span style=\"color: #000000; text-decoration-color: #000000\">&gt;</span>\n",
       "<span style=\"color: #000000; text-decoration-color: #000000\">  &lt;a:noFill/&gt;</span>\n",
       "<span style=\"color: #000000; text-decoration-color: #000000\">  &lt;</span><span style=\"color: #00ff00; text-decoration-color: #00ff00; font-weight: bold\">a:effe</span><span style=\"color: #000000; text-decoration-color: #000000\">ctLst/&gt;</span>\n",
       "<span style=\"color: #000000; text-decoration-color: #000000\">&lt;</span><span style=\"color: #800080; text-decoration-color: #800080\">/</span><span style=\"color: #ff00ff; text-decoration-color: #ff00ff\">p</span><span style=\"color: #000000; text-decoration-color: #000000\">:bgPr</span><span style=\"color: #008000; text-decoration-color: #008000; font-weight: bold\">&gt;</span>\n",
       "\n",
       "</pre>\n"
      ],
      "text/plain": [
       "\u001b[32mbackground_xml \u001b[0m\u001b[1;32m<\u001b[0m\u001b[1;95mp:bgPr\u001b[0m\u001b[39m xmlns:\u001b[0m\u001b[33mp\u001b[0m\u001b[39m=\u001b[0m\u001b[32m\"http\u001b[0m\u001b[32m://schemas.openxmlformats.org/presentationml/2006/main\"\u001b[0m\u001b[39m \u001b[0m\n",
       "\u001b[39mxmlns:\u001b[0m\u001b[33ma\u001b[0m\u001b[39m=\u001b[0m\u001b[32m\"http\u001b[0m\u001b[32m://schemas.openxmlformats.org/drawingml/2006/main\"\u001b[0m\u001b[39m \u001b[0m\n",
       "\u001b[39mxmlns:\u001b[0m\u001b[33mr\u001b[0m\u001b[39m=\u001b[0m\u001b[32m\"http\u001b[0m\u001b[32m://schemas.openxmlformats.org/officeDocument/2006/relationships\"\u001b[0m\u001b[39m>\u001b[0m\n",
       "\u001b[39m  <a:noFill/>\u001b[0m\n",
       "\u001b[39m  <\u001b[0m\u001b[1;92ma:effe\u001b[0m\u001b[39mctLst/>\u001b[0m\n",
       "\u001b[39m<\u001b[0m\u001b[35m/\u001b[0m\u001b[95mp\u001b[0m\u001b[39m:bgPr\u001b[0m\u001b[1;32m>\u001b[0m\n",
       "\n"
      ]
     },
     "metadata": {},
     "output_type": "display_data"
    },
    {
     "data": {
      "text/html": [
       "<pre style=\"white-space:pre;overflow-x:auto;line-height:normal;font-family:Menlo,'DejaVu Sans Mono',consolas,'Courier New',monospace\"><span style=\"color: #008000; text-decoration-color: #008000\">slide_notes </span><span style=\"color: #800080; text-decoration-color: #800080; font-style: italic\">None</span>\n",
       "</pre>\n"
      ],
      "text/plain": [
       "\u001b[32mslide_notes \u001b[0m\u001b[3;35mNone\u001b[0m\n"
      ]
     },
     "metadata": {},
     "output_type": "display_data"
    },
    {
     "data": {
      "text/html": [
       "<pre style=\"white-space:pre;overflow-x:auto;line-height:normal;font-family:Menlo,'DejaVu Sans Mono',consolas,'Courier New',monospace\"><span style=\"color: #008000; text-decoration-color: #008000\">slide_layout_name Title and Content</span>\n",
       "</pre>\n"
      ],
      "text/plain": [
       "\u001b[32mslide_layout_name Title and Content\u001b[0m\n"
      ]
     },
     "metadata": {},
     "output_type": "display_data"
    },
    {
     "data": {
      "text/html": [
       "<pre style=\"white-space:pre;overflow-x:auto;line-height:normal;font-family:Menlo,'DejaVu Sans Mono',consolas,'Courier New',monospace\"><span style=\"color: #008000; text-decoration-color: #008000\">slide_title What is culture?</span>\n",
       "</pre>\n"
      ],
      "text/plain": [
       "\u001b[32mslide_title What is culture?\u001b[0m\n"
      ]
     },
     "metadata": {},
     "output_type": "display_data"
    },
    {
     "data": {
      "text/html": [
       "<pre style=\"white-space:pre;overflow-x:auto;line-height:normal;font-family:Menlo,'DejaVu Sans Mono',consolas,'Courier New',monospace\"><span style=\"color: #008000; text-decoration-color: #008000\">slide_width </span><span style=\"color: #008080; text-decoration-color: #008080; font-weight: bold\">960</span>\n",
       "</pre>\n"
      ],
      "text/plain": [
       "\u001b[32mslide_width \u001b[0m\u001b[1;36m960\u001b[0m\n"
      ]
     },
     "metadata": {},
     "output_type": "display_data"
    },
    {
     "data": {
      "text/html": [
       "<pre style=\"white-space:pre;overflow-x:auto;line-height:normal;font-family:Menlo,'DejaVu Sans Mono',consolas,'Courier New',monospace\"><span style=\"color: #008000; text-decoration-color: #008000\">slide_height </span><span style=\"color: #008080; text-decoration-color: #008080; font-weight: bold\">540</span>\n",
       "</pre>\n"
      ],
      "text/plain": [
       "\u001b[32mslide_height \u001b[0m\u001b[1;36m540\u001b[0m\n"
      ]
     },
     "metadata": {},
     "output_type": "display_data"
    },
    {
     "data": {
      "text/html": [
       "<pre style=\"white-space:pre;overflow-x:auto;line-height:normal;font-family:Menlo,'DejaVu Sans Mono',consolas,'Courier New',monospace\"><span style=\"color: #008000; text-decoration-color: #008000\">empty_prs.slides: </span><span style=\"color: #008080; text-decoration-color: #008080; font-weight: bold\">3</span><span style=\"color: #008000; text-decoration-color: #008000\"> What is Tourism?</span>\n",
       "</pre>\n"
      ],
      "text/plain": [
       "\u001b[32mempty_prs.slides: \u001b[0m\u001b[1;36m3\u001b[0m\u001b[32m What is Tourism?\u001b[0m\n"
      ]
     },
     "metadata": {},
     "output_type": "display_data"
    },
    {
     "data": {
      "text/html": [
       "<pre style=\"white-space:pre;overflow-x:auto;line-height:normal;font-family:Menlo,'DejaVu Sans Mono',consolas,'Courier New',monospace\"><span style=\"color: #008000; text-decoration-color: #008000\">shapes</span>\n",
       "<span style=\"color: #008000; text-decoration-color: #008000; font-weight: bold\">[</span><span style=\"color: #008000; text-decoration-color: #008000\">TextBox: shape </span><span style=\"color: #008080; text-decoration-color: #008080; font-weight: bold\">0</span><span style=\"color: #008000; text-decoration-color: #008000\"> of slide </span><span style=\"color: #008080; text-decoration-color: #008080; font-weight: bold\">3</span><span style=\"color: #008000; text-decoration-color: #008000\">, TextBox: shape </span><span style=\"color: #008080; text-decoration-color: #008080; font-weight: bold\">1</span><span style=\"color: #008000; text-decoration-color: #008000\"> of slide </span><span style=\"color: #008080; text-decoration-color: #008080; font-weight: bold\">3</span><span style=\"color: #008000; text-decoration-color: #008000; font-weight: bold\">]</span>\n",
       "</pre>\n"
      ],
      "text/plain": [
       "\u001b[32mshapes\u001b[0m\n",
       "\u001b[1;32m[\u001b[0m\u001b[32mTextBox: shape \u001b[0m\u001b[1;36m0\u001b[0m\u001b[32m of slide \u001b[0m\u001b[1;36m3\u001b[0m\u001b[32m, TextBox: shape \u001b[0m\u001b[1;36m1\u001b[0m\u001b[32m of slide \u001b[0m\u001b[1;36m3\u001b[0m\u001b[1;32m]\u001b[0m\n"
      ]
     },
     "metadata": {},
     "output_type": "display_data"
    },
    {
     "data": {
      "text/html": [
       "<pre style=\"white-space:pre;overflow-x:auto;line-height:normal;font-family:Menlo,'DejaVu Sans Mono',consolas,'Courier New',monospace\"><span style=\"color: #008000; text-decoration-color: #008000\">slide_idx </span><span style=\"color: #008080; text-decoration-color: #008080; font-weight: bold\">3</span>\n",
       "</pre>\n"
      ],
      "text/plain": [
       "\u001b[32mslide_idx \u001b[0m\u001b[1;36m3\u001b[0m\n"
      ]
     },
     "metadata": {},
     "output_type": "display_data"
    },
    {
     "data": {
      "text/html": [
       "<pre style=\"white-space:pre;overflow-x:auto;line-height:normal;font-family:Menlo,'DejaVu Sans Mono',consolas,'Courier New',monospace\"><span style=\"color: #008000; text-decoration-color: #008000\">real_idx </span><span style=\"color: #008080; text-decoration-color: #008080; font-weight: bold\">3</span>\n",
       "</pre>\n"
      ],
      "text/plain": [
       "\u001b[32mreal_idx \u001b[0m\u001b[1;36m3\u001b[0m\n"
      ]
     },
     "metadata": {},
     "output_type": "display_data"
    },
    {
     "data": {
      "text/html": [
       "<pre style=\"white-space:pre;overflow-x:auto;line-height:normal;font-family:Menlo,'DejaVu Sans Mono',consolas,'Courier New',monospace\"><span style=\"color: #008000; text-decoration-color: #008000\">background_xml </span><span style=\"color: #008000; text-decoration-color: #008000; font-weight: bold\">&lt;</span><span style=\"color: #ff00ff; text-decoration-color: #ff00ff; font-weight: bold\">p:bgPr</span><span style=\"color: #000000; text-decoration-color: #000000\"> xmlns:</span><span style=\"color: #808000; text-decoration-color: #808000\">p</span><span style=\"color: #000000; text-decoration-color: #000000\">=</span><span style=\"color: #008000; text-decoration-color: #008000\">\"http://schemas.openxmlformats.org/presentationml/2006/main\"</span><span style=\"color: #000000; text-decoration-color: #000000\"> </span>\n",
       "<span style=\"color: #000000; text-decoration-color: #000000\">xmlns:</span><span style=\"color: #808000; text-decoration-color: #808000\">a</span><span style=\"color: #000000; text-decoration-color: #000000\">=</span><span style=\"color: #008000; text-decoration-color: #008000\">\"http://schemas.openxmlformats.org/drawingml/2006/main\"</span><span style=\"color: #000000; text-decoration-color: #000000\"> </span>\n",
       "<span style=\"color: #000000; text-decoration-color: #000000\">xmlns:</span><span style=\"color: #808000; text-decoration-color: #808000\">r</span><span style=\"color: #000000; text-decoration-color: #000000\">=</span><span style=\"color: #008000; text-decoration-color: #008000\">\"http://schemas.openxmlformats.org/officeDocument/2006/relationships\"</span><span style=\"color: #000000; text-decoration-color: #000000\">&gt;</span>\n",
       "<span style=\"color: #000000; text-decoration-color: #000000\">  &lt;a:noFill/&gt;</span>\n",
       "<span style=\"color: #000000; text-decoration-color: #000000\">  &lt;</span><span style=\"color: #00ff00; text-decoration-color: #00ff00; font-weight: bold\">a:effe</span><span style=\"color: #000000; text-decoration-color: #000000\">ctLst/&gt;</span>\n",
       "<span style=\"color: #000000; text-decoration-color: #000000\">&lt;</span><span style=\"color: #800080; text-decoration-color: #800080\">/</span><span style=\"color: #ff00ff; text-decoration-color: #ff00ff\">p</span><span style=\"color: #000000; text-decoration-color: #000000\">:bgPr</span><span style=\"color: #008000; text-decoration-color: #008000; font-weight: bold\">&gt;</span>\n",
       "\n",
       "</pre>\n"
      ],
      "text/plain": [
       "\u001b[32mbackground_xml \u001b[0m\u001b[1;32m<\u001b[0m\u001b[1;95mp:bgPr\u001b[0m\u001b[39m xmlns:\u001b[0m\u001b[33mp\u001b[0m\u001b[39m=\u001b[0m\u001b[32m\"http\u001b[0m\u001b[32m://schemas.openxmlformats.org/presentationml/2006/main\"\u001b[0m\u001b[39m \u001b[0m\n",
       "\u001b[39mxmlns:\u001b[0m\u001b[33ma\u001b[0m\u001b[39m=\u001b[0m\u001b[32m\"http\u001b[0m\u001b[32m://schemas.openxmlformats.org/drawingml/2006/main\"\u001b[0m\u001b[39m \u001b[0m\n",
       "\u001b[39mxmlns:\u001b[0m\u001b[33mr\u001b[0m\u001b[39m=\u001b[0m\u001b[32m\"http\u001b[0m\u001b[32m://schemas.openxmlformats.org/officeDocument/2006/relationships\"\u001b[0m\u001b[39m>\u001b[0m\n",
       "\u001b[39m  <a:noFill/>\u001b[0m\n",
       "\u001b[39m  <\u001b[0m\u001b[1;92ma:effe\u001b[0m\u001b[39mctLst/>\u001b[0m\n",
       "\u001b[39m<\u001b[0m\u001b[35m/\u001b[0m\u001b[95mp\u001b[0m\u001b[39m:bgPr\u001b[0m\u001b[1;32m>\u001b[0m\n",
       "\n"
      ]
     },
     "metadata": {},
     "output_type": "display_data"
    },
    {
     "data": {
      "text/html": [
       "<pre style=\"white-space:pre;overflow-x:auto;line-height:normal;font-family:Menlo,'DejaVu Sans Mono',consolas,'Courier New',monospace\"><span style=\"color: #008000; text-decoration-color: #008000\">slide_notes </span><span style=\"color: #800080; text-decoration-color: #800080; font-style: italic\">None</span>\n",
       "</pre>\n"
      ],
      "text/plain": [
       "\u001b[32mslide_notes \u001b[0m\u001b[3;35mNone\u001b[0m\n"
      ]
     },
     "metadata": {},
     "output_type": "display_data"
    },
    {
     "data": {
      "text/html": [
       "<pre style=\"white-space:pre;overflow-x:auto;line-height:normal;font-family:Menlo,'DejaVu Sans Mono',consolas,'Courier New',monospace\"><span style=\"color: #008000; text-decoration-color: #008000\">slide_layout_name Title and Content</span>\n",
       "</pre>\n"
      ],
      "text/plain": [
       "\u001b[32mslide_layout_name Title and Content\u001b[0m\n"
      ]
     },
     "metadata": {},
     "output_type": "display_data"
    },
    {
     "data": {
      "text/html": [
       "<pre style=\"white-space:pre;overflow-x:auto;line-height:normal;font-family:Menlo,'DejaVu Sans Mono',consolas,'Courier New',monospace\"><span style=\"color: #008000; text-decoration-color: #008000\">slide_title What is Tourism?</span>\n",
       "</pre>\n"
      ],
      "text/plain": [
       "\u001b[32mslide_title What is Tourism?\u001b[0m\n"
      ]
     },
     "metadata": {},
     "output_type": "display_data"
    },
    {
     "data": {
      "text/html": [
       "<pre style=\"white-space:pre;overflow-x:auto;line-height:normal;font-family:Menlo,'DejaVu Sans Mono',consolas,'Courier New',monospace\"><span style=\"color: #008000; text-decoration-color: #008000\">slide_width </span><span style=\"color: #008080; text-decoration-color: #008080; font-weight: bold\">960</span>\n",
       "</pre>\n"
      ],
      "text/plain": [
       "\u001b[32mslide_width \u001b[0m\u001b[1;36m960\u001b[0m\n"
      ]
     },
     "metadata": {},
     "output_type": "display_data"
    },
    {
     "data": {
      "text/html": [
       "<pre style=\"white-space:pre;overflow-x:auto;line-height:normal;font-family:Menlo,'DejaVu Sans Mono',consolas,'Courier New',monospace\"><span style=\"color: #008000; text-decoration-color: #008000\">slide_height </span><span style=\"color: #008080; text-decoration-color: #008080; font-weight: bold\">540</span>\n",
       "</pre>\n"
      ],
      "text/plain": [
       "\u001b[32mslide_height \u001b[0m\u001b[1;36m540\u001b[0m\n"
      ]
     },
     "metadata": {},
     "output_type": "display_data"
    },
    {
     "data": {
      "text/html": [
       "<pre style=\"white-space:pre;overflow-x:auto;line-height:normal;font-family:Menlo,'DejaVu Sans Mono',consolas,'Courier New',monospace\"><span style=\"color: #008000; text-decoration-color: #008000\">empty_prs.slides: </span><span style=\"color: #008080; text-decoration-color: #008080; font-weight: bold\">4</span><span style=\"color: #008000; text-decoration-color: #008000\"> What do we mean by Cultural Tourism?</span>\n",
       "</pre>\n"
      ],
      "text/plain": [
       "\u001b[32mempty_prs.slides: \u001b[0m\u001b[1;36m4\u001b[0m\u001b[32m What do we mean by Cultural Tourism?\u001b[0m\n"
      ]
     },
     "metadata": {},
     "output_type": "display_data"
    },
    {
     "data": {
      "text/html": [
       "<pre style=\"white-space:pre;overflow-x:auto;line-height:normal;font-family:Menlo,'DejaVu Sans Mono',consolas,'Courier New',monospace\"><span style=\"color: #008000; text-decoration-color: #008000\">shapes</span>\n",
       "<span style=\"color: #008000; text-decoration-color: #008000; font-weight: bold\">[</span><span style=\"color: #008000; text-decoration-color: #008000\">TextBox: shape </span><span style=\"color: #008080; text-decoration-color: #008080; font-weight: bold\">0</span><span style=\"color: #008000; text-decoration-color: #008000\"> of slide </span><span style=\"color: #008080; text-decoration-color: #008080; font-weight: bold\">4</span><span style=\"color: #008000; text-decoration-color: #008000\">, TextBox: shape </span><span style=\"color: #008080; text-decoration-color: #008080; font-weight: bold\">1</span><span style=\"color: #008000; text-decoration-color: #008000\"> of slide </span><span style=\"color: #008080; text-decoration-color: #008080; font-weight: bold\">4</span><span style=\"color: #008000; text-decoration-color: #008000; font-weight: bold\">]</span>\n",
       "</pre>\n"
      ],
      "text/plain": [
       "\u001b[32mshapes\u001b[0m\n",
       "\u001b[1;32m[\u001b[0m\u001b[32mTextBox: shape \u001b[0m\u001b[1;36m0\u001b[0m\u001b[32m of slide \u001b[0m\u001b[1;36m4\u001b[0m\u001b[32m, TextBox: shape \u001b[0m\u001b[1;36m1\u001b[0m\u001b[32m of slide \u001b[0m\u001b[1;36m4\u001b[0m\u001b[1;32m]\u001b[0m\n"
      ]
     },
     "metadata": {},
     "output_type": "display_data"
    },
    {
     "data": {
      "text/html": [
       "<pre style=\"white-space:pre;overflow-x:auto;line-height:normal;font-family:Menlo,'DejaVu Sans Mono',consolas,'Courier New',monospace\"><span style=\"color: #008000; text-decoration-color: #008000\">slide_idx </span><span style=\"color: #008080; text-decoration-color: #008080; font-weight: bold\">4</span>\n",
       "</pre>\n"
      ],
      "text/plain": [
       "\u001b[32mslide_idx \u001b[0m\u001b[1;36m4\u001b[0m\n"
      ]
     },
     "metadata": {},
     "output_type": "display_data"
    },
    {
     "data": {
      "text/html": [
       "<pre style=\"white-space:pre;overflow-x:auto;line-height:normal;font-family:Menlo,'DejaVu Sans Mono',consolas,'Courier New',monospace\"><span style=\"color: #008000; text-decoration-color: #008000\">real_idx </span><span style=\"color: #008080; text-decoration-color: #008080; font-weight: bold\">4</span>\n",
       "</pre>\n"
      ],
      "text/plain": [
       "\u001b[32mreal_idx \u001b[0m\u001b[1;36m4\u001b[0m\n"
      ]
     },
     "metadata": {},
     "output_type": "display_data"
    },
    {
     "data": {
      "text/html": [
       "<pre style=\"white-space:pre;overflow-x:auto;line-height:normal;font-family:Menlo,'DejaVu Sans Mono',consolas,'Courier New',monospace\"><span style=\"color: #008000; text-decoration-color: #008000\">background_xml </span><span style=\"color: #008000; text-decoration-color: #008000; font-weight: bold\">&lt;</span><span style=\"color: #ff00ff; text-decoration-color: #ff00ff; font-weight: bold\">p:bgPr</span><span style=\"color: #000000; text-decoration-color: #000000\"> xmlns:</span><span style=\"color: #808000; text-decoration-color: #808000\">p</span><span style=\"color: #000000; text-decoration-color: #000000\">=</span><span style=\"color: #008000; text-decoration-color: #008000\">\"http://schemas.openxmlformats.org/presentationml/2006/main\"</span><span style=\"color: #000000; text-decoration-color: #000000\"> </span>\n",
       "<span style=\"color: #000000; text-decoration-color: #000000\">xmlns:</span><span style=\"color: #808000; text-decoration-color: #808000\">a</span><span style=\"color: #000000; text-decoration-color: #000000\">=</span><span style=\"color: #008000; text-decoration-color: #008000\">\"http://schemas.openxmlformats.org/drawingml/2006/main\"</span><span style=\"color: #000000; text-decoration-color: #000000\"> </span>\n",
       "<span style=\"color: #000000; text-decoration-color: #000000\">xmlns:</span><span style=\"color: #808000; text-decoration-color: #808000\">r</span><span style=\"color: #000000; text-decoration-color: #000000\">=</span><span style=\"color: #008000; text-decoration-color: #008000\">\"http://schemas.openxmlformats.org/officeDocument/2006/relationships\"</span><span style=\"color: #000000; text-decoration-color: #000000\">&gt;</span>\n",
       "<span style=\"color: #000000; text-decoration-color: #000000\">  &lt;a:noFill/&gt;</span>\n",
       "<span style=\"color: #000000; text-decoration-color: #000000\">  &lt;</span><span style=\"color: #00ff00; text-decoration-color: #00ff00; font-weight: bold\">a:effe</span><span style=\"color: #000000; text-decoration-color: #000000\">ctLst/&gt;</span>\n",
       "<span style=\"color: #000000; text-decoration-color: #000000\">&lt;</span><span style=\"color: #800080; text-decoration-color: #800080\">/</span><span style=\"color: #ff00ff; text-decoration-color: #ff00ff\">p</span><span style=\"color: #000000; text-decoration-color: #000000\">:bgPr</span><span style=\"color: #008000; text-decoration-color: #008000; font-weight: bold\">&gt;</span>\n",
       "\n",
       "</pre>\n"
      ],
      "text/plain": [
       "\u001b[32mbackground_xml \u001b[0m\u001b[1;32m<\u001b[0m\u001b[1;95mp:bgPr\u001b[0m\u001b[39m xmlns:\u001b[0m\u001b[33mp\u001b[0m\u001b[39m=\u001b[0m\u001b[32m\"http\u001b[0m\u001b[32m://schemas.openxmlformats.org/presentationml/2006/main\"\u001b[0m\u001b[39m \u001b[0m\n",
       "\u001b[39mxmlns:\u001b[0m\u001b[33ma\u001b[0m\u001b[39m=\u001b[0m\u001b[32m\"http\u001b[0m\u001b[32m://schemas.openxmlformats.org/drawingml/2006/main\"\u001b[0m\u001b[39m \u001b[0m\n",
       "\u001b[39mxmlns:\u001b[0m\u001b[33mr\u001b[0m\u001b[39m=\u001b[0m\u001b[32m\"http\u001b[0m\u001b[32m://schemas.openxmlformats.org/officeDocument/2006/relationships\"\u001b[0m\u001b[39m>\u001b[0m\n",
       "\u001b[39m  <a:noFill/>\u001b[0m\n",
       "\u001b[39m  <\u001b[0m\u001b[1;92ma:effe\u001b[0m\u001b[39mctLst/>\u001b[0m\n",
       "\u001b[39m<\u001b[0m\u001b[35m/\u001b[0m\u001b[95mp\u001b[0m\u001b[39m:bgPr\u001b[0m\u001b[1;32m>\u001b[0m\n",
       "\n"
      ]
     },
     "metadata": {},
     "output_type": "display_data"
    },
    {
     "data": {
      "text/html": [
       "<pre style=\"white-space:pre;overflow-x:auto;line-height:normal;font-family:Menlo,'DejaVu Sans Mono',consolas,'Courier New',monospace\"><span style=\"color: #008000; text-decoration-color: #008000\">slide_notes </span><span style=\"color: #800080; text-decoration-color: #800080; font-style: italic\">None</span>\n",
       "</pre>\n"
      ],
      "text/plain": [
       "\u001b[32mslide_notes \u001b[0m\u001b[3;35mNone\u001b[0m\n"
      ]
     },
     "metadata": {},
     "output_type": "display_data"
    },
    {
     "data": {
      "text/html": [
       "<pre style=\"white-space:pre;overflow-x:auto;line-height:normal;font-family:Menlo,'DejaVu Sans Mono',consolas,'Courier New',monospace\"><span style=\"color: #008000; text-decoration-color: #008000\">slide_layout_name Title and Content</span>\n",
       "</pre>\n"
      ],
      "text/plain": [
       "\u001b[32mslide_layout_name Title and Content\u001b[0m\n"
      ]
     },
     "metadata": {},
     "output_type": "display_data"
    },
    {
     "data": {
      "text/html": [
       "<pre style=\"white-space:pre;overflow-x:auto;line-height:normal;font-family:Menlo,'DejaVu Sans Mono',consolas,'Courier New',monospace\"><span style=\"color: #008000; text-decoration-color: #008000\">slide_title What do we mean by Cultural Tourism?</span>\n",
       "</pre>\n"
      ],
      "text/plain": [
       "\u001b[32mslide_title What do we mean by Cultural Tourism?\u001b[0m\n"
      ]
     },
     "metadata": {},
     "output_type": "display_data"
    },
    {
     "data": {
      "text/html": [
       "<pre style=\"white-space:pre;overflow-x:auto;line-height:normal;font-family:Menlo,'DejaVu Sans Mono',consolas,'Courier New',monospace\"><span style=\"color: #008000; text-decoration-color: #008000\">slide_width </span><span style=\"color: #008080; text-decoration-color: #008080; font-weight: bold\">960</span>\n",
       "</pre>\n"
      ],
      "text/plain": [
       "\u001b[32mslide_width \u001b[0m\u001b[1;36m960\u001b[0m\n"
      ]
     },
     "metadata": {},
     "output_type": "display_data"
    },
    {
     "data": {
      "text/html": [
       "<pre style=\"white-space:pre;overflow-x:auto;line-height:normal;font-family:Menlo,'DejaVu Sans Mono',consolas,'Courier New',monospace\"><span style=\"color: #008000; text-decoration-color: #008000\">slide_height </span><span style=\"color: #008080; text-decoration-color: #008080; font-weight: bold\">540</span>\n",
       "</pre>\n"
      ],
      "text/plain": [
       "\u001b[32mslide_height \u001b[0m\u001b[1;36m540\u001b[0m\n"
      ]
     },
     "metadata": {},
     "output_type": "display_data"
    },
    {
     "data": {
      "text/html": [
       "<pre style=\"white-space:pre;overflow-x:auto;line-height:normal;font-family:Menlo,'DejaVu Sans Mono',consolas,'Courier New',monospace\"><span style=\"color: #008000; text-decoration-color: #008000\">empty_prs.slides: </span><span style=\"color: #008080; text-decoration-color: #008080; font-weight: bold\">5</span><span style=\"color: #008000; text-decoration-color: #008000\"> Bhubaneswar – The Temple City of India</span>\n",
       "</pre>\n"
      ],
      "text/plain": [
       "\u001b[32mempty_prs.slides: \u001b[0m\u001b[1;36m5\u001b[0m\u001b[32m Bhubaneswar – The Temple City of India\u001b[0m\n"
      ]
     },
     "metadata": {},
     "output_type": "display_data"
    },
    {
     "data": {
      "text/html": [
       "<pre style=\"white-space:pre;overflow-x:auto;line-height:normal;font-family:Menlo,'DejaVu Sans Mono',consolas,'Courier New',monospace\"><span style=\"color: #008000; text-decoration-color: #008000\">shapes</span>\n",
       "<span style=\"color: #008000; text-decoration-color: #008000; font-weight: bold\">[</span><span style=\"color: #008000; text-decoration-color: #008000\">TextBox: shape </span><span style=\"color: #008080; text-decoration-color: #008080; font-weight: bold\">0</span><span style=\"color: #008000; text-decoration-color: #008000\"> of slide </span><span style=\"color: #008080; text-decoration-color: #008080; font-weight: bold\">5</span><span style=\"color: #008000; text-decoration-color: #008000\">, TextBox: shape </span><span style=\"color: #008080; text-decoration-color: #008080; font-weight: bold\">1</span><span style=\"color: #008000; text-decoration-color: #008000\"> of slide </span><span style=\"color: #008080; text-decoration-color: #008080; font-weight: bold\">5</span><span style=\"color: #008000; text-decoration-color: #008000; font-weight: bold\">]</span>\n",
       "</pre>\n"
      ],
      "text/plain": [
       "\u001b[32mshapes\u001b[0m\n",
       "\u001b[1;32m[\u001b[0m\u001b[32mTextBox: shape \u001b[0m\u001b[1;36m0\u001b[0m\u001b[32m of slide \u001b[0m\u001b[1;36m5\u001b[0m\u001b[32m, TextBox: shape \u001b[0m\u001b[1;36m1\u001b[0m\u001b[32m of slide \u001b[0m\u001b[1;36m5\u001b[0m\u001b[1;32m]\u001b[0m\n"
      ]
     },
     "metadata": {},
     "output_type": "display_data"
    },
    {
     "data": {
      "text/html": [
       "<pre style=\"white-space:pre;overflow-x:auto;line-height:normal;font-family:Menlo,'DejaVu Sans Mono',consolas,'Courier New',monospace\"><span style=\"color: #008000; text-decoration-color: #008000\">slide_idx </span><span style=\"color: #008080; text-decoration-color: #008080; font-weight: bold\">5</span>\n",
       "</pre>\n"
      ],
      "text/plain": [
       "\u001b[32mslide_idx \u001b[0m\u001b[1;36m5\u001b[0m\n"
      ]
     },
     "metadata": {},
     "output_type": "display_data"
    },
    {
     "data": {
      "text/html": [
       "<pre style=\"white-space:pre;overflow-x:auto;line-height:normal;font-family:Menlo,'DejaVu Sans Mono',consolas,'Courier New',monospace\"><span style=\"color: #008000; text-decoration-color: #008000\">real_idx </span><span style=\"color: #008080; text-decoration-color: #008080; font-weight: bold\">5</span>\n",
       "</pre>\n"
      ],
      "text/plain": [
       "\u001b[32mreal_idx \u001b[0m\u001b[1;36m5\u001b[0m\n"
      ]
     },
     "metadata": {},
     "output_type": "display_data"
    },
    {
     "data": {
      "text/html": [
       "<pre style=\"white-space:pre;overflow-x:auto;line-height:normal;font-family:Menlo,'DejaVu Sans Mono',consolas,'Courier New',monospace\"><span style=\"color: #008000; text-decoration-color: #008000\">background_xml </span><span style=\"color: #008000; text-decoration-color: #008000; font-weight: bold\">&lt;</span><span style=\"color: #ff00ff; text-decoration-color: #ff00ff; font-weight: bold\">p:bgPr</span><span style=\"color: #000000; text-decoration-color: #000000\"> xmlns:</span><span style=\"color: #808000; text-decoration-color: #808000\">p</span><span style=\"color: #000000; text-decoration-color: #000000\">=</span><span style=\"color: #008000; text-decoration-color: #008000\">\"http://schemas.openxmlformats.org/presentationml/2006/main\"</span><span style=\"color: #000000; text-decoration-color: #000000\"> </span>\n",
       "<span style=\"color: #000000; text-decoration-color: #000000\">xmlns:</span><span style=\"color: #808000; text-decoration-color: #808000\">a</span><span style=\"color: #000000; text-decoration-color: #000000\">=</span><span style=\"color: #008000; text-decoration-color: #008000\">\"http://schemas.openxmlformats.org/drawingml/2006/main\"</span><span style=\"color: #000000; text-decoration-color: #000000\"> </span>\n",
       "<span style=\"color: #000000; text-decoration-color: #000000\">xmlns:</span><span style=\"color: #808000; text-decoration-color: #808000\">r</span><span style=\"color: #000000; text-decoration-color: #000000\">=</span><span style=\"color: #008000; text-decoration-color: #008000\">\"http://schemas.openxmlformats.org/officeDocument/2006/relationships\"</span><span style=\"color: #000000; text-decoration-color: #000000\">&gt;</span>\n",
       "<span style=\"color: #000000; text-decoration-color: #000000\">  &lt;a:noFill/&gt;</span>\n",
       "<span style=\"color: #000000; text-decoration-color: #000000\">  &lt;</span><span style=\"color: #00ff00; text-decoration-color: #00ff00; font-weight: bold\">a:effe</span><span style=\"color: #000000; text-decoration-color: #000000\">ctLst/&gt;</span>\n",
       "<span style=\"color: #000000; text-decoration-color: #000000\">&lt;</span><span style=\"color: #800080; text-decoration-color: #800080\">/</span><span style=\"color: #ff00ff; text-decoration-color: #ff00ff\">p</span><span style=\"color: #000000; text-decoration-color: #000000\">:bgPr</span><span style=\"color: #008000; text-decoration-color: #008000; font-weight: bold\">&gt;</span>\n",
       "\n",
       "</pre>\n"
      ],
      "text/plain": [
       "\u001b[32mbackground_xml \u001b[0m\u001b[1;32m<\u001b[0m\u001b[1;95mp:bgPr\u001b[0m\u001b[39m xmlns:\u001b[0m\u001b[33mp\u001b[0m\u001b[39m=\u001b[0m\u001b[32m\"http\u001b[0m\u001b[32m://schemas.openxmlformats.org/presentationml/2006/main\"\u001b[0m\u001b[39m \u001b[0m\n",
       "\u001b[39mxmlns:\u001b[0m\u001b[33ma\u001b[0m\u001b[39m=\u001b[0m\u001b[32m\"http\u001b[0m\u001b[32m://schemas.openxmlformats.org/drawingml/2006/main\"\u001b[0m\u001b[39m \u001b[0m\n",
       "\u001b[39mxmlns:\u001b[0m\u001b[33mr\u001b[0m\u001b[39m=\u001b[0m\u001b[32m\"http\u001b[0m\u001b[32m://schemas.openxmlformats.org/officeDocument/2006/relationships\"\u001b[0m\u001b[39m>\u001b[0m\n",
       "\u001b[39m  <a:noFill/>\u001b[0m\n",
       "\u001b[39m  <\u001b[0m\u001b[1;92ma:effe\u001b[0m\u001b[39mctLst/>\u001b[0m\n",
       "\u001b[39m<\u001b[0m\u001b[35m/\u001b[0m\u001b[95mp\u001b[0m\u001b[39m:bgPr\u001b[0m\u001b[1;32m>\u001b[0m\n",
       "\n"
      ]
     },
     "metadata": {},
     "output_type": "display_data"
    },
    {
     "data": {
      "text/html": [
       "<pre style=\"white-space:pre;overflow-x:auto;line-height:normal;font-family:Menlo,'DejaVu Sans Mono',consolas,'Courier New',monospace\"><span style=\"color: #008000; text-decoration-color: #008000\">slide_notes </span><span style=\"color: #800080; text-decoration-color: #800080; font-style: italic\">None</span>\n",
       "</pre>\n"
      ],
      "text/plain": [
       "\u001b[32mslide_notes \u001b[0m\u001b[3;35mNone\u001b[0m\n"
      ]
     },
     "metadata": {},
     "output_type": "display_data"
    },
    {
     "data": {
      "text/html": [
       "<pre style=\"white-space:pre;overflow-x:auto;line-height:normal;font-family:Menlo,'DejaVu Sans Mono',consolas,'Courier New',monospace\"><span style=\"color: #008000; text-decoration-color: #008000\">slide_layout_name Title and Content</span>\n",
       "</pre>\n"
      ],
      "text/plain": [
       "\u001b[32mslide_layout_name Title and Content\u001b[0m\n"
      ]
     },
     "metadata": {},
     "output_type": "display_data"
    },
    {
     "data": {
      "text/html": [
       "<pre style=\"white-space:pre;overflow-x:auto;line-height:normal;font-family:Menlo,'DejaVu Sans Mono',consolas,'Courier New',monospace\"><span style=\"color: #008000; text-decoration-color: #008000\">slide_title Bhubaneswar – The Temple City of India</span>\n",
       "</pre>\n"
      ],
      "text/plain": [
       "\u001b[32mslide_title Bhubaneswar – The Temple City of India\u001b[0m\n"
      ]
     },
     "metadata": {},
     "output_type": "display_data"
    },
    {
     "data": {
      "text/html": [
       "<pre style=\"white-space:pre;overflow-x:auto;line-height:normal;font-family:Menlo,'DejaVu Sans Mono',consolas,'Courier New',monospace\"><span style=\"color: #008000; text-decoration-color: #008000\">slide_width </span><span style=\"color: #008080; text-decoration-color: #008080; font-weight: bold\">960</span>\n",
       "</pre>\n"
      ],
      "text/plain": [
       "\u001b[32mslide_width \u001b[0m\u001b[1;36m960\u001b[0m\n"
      ]
     },
     "metadata": {},
     "output_type": "display_data"
    },
    {
     "data": {
      "text/html": [
       "<pre style=\"white-space:pre;overflow-x:auto;line-height:normal;font-family:Menlo,'DejaVu Sans Mono',consolas,'Courier New',monospace\"><span style=\"color: #008000; text-decoration-color: #008000\">slide_height </span><span style=\"color: #008080; text-decoration-color: #008080; font-weight: bold\">540</span>\n",
       "</pre>\n"
      ],
      "text/plain": [
       "\u001b[32mslide_height \u001b[0m\u001b[1;36m540\u001b[0m\n"
      ]
     },
     "metadata": {},
     "output_type": "display_data"
    },
    {
     "name": "stdout",
     "output_type": "stream",
     "text": [
      "[STAGE] Success!\n",
      "[INFO] Output PPT stored at runs/20250202_215225_6eab0d6a/final.pptx\n"
     ]
    }
   ],
   "source": [
    "# -- 6. PPT Generation --\n",
    "print(\"[STAGE] PPT Generation\")\n",
    "# instantiate the “crew” that handles text generation for slides\n",
    "crew = pptgen.PPTCrew(vision_model, language_model, text_model,\n",
    "                      error_exit=True, retry_times=3)\n",
    "\n",
    "crew.set_reference(template_presentation, slide_induction, generation_config)\n",
    "\n",
    "# Actually generate the new PPT\n",
    "# (the code will produce final.pptx in output_dir)\n",
    "crew.generate_pres(\n",
    "    generation_config,\n",
    "    images,         # PDF or custom images (captions, if any)\n",
    "    slides_count,   # number of pages to generate\n",
    "    doc_json        # the JSON structure\n",
    ")\n",
    "\n",
    "print(\"[STAGE] Success!\")\n",
    "print(f\"[INFO] Output PPT stored at {pjoin(output_dir, 'final.pptx')}\")"
   ]
  },
  {
   "cell_type": "code",
   "execution_count": null,
   "metadata": {},
   "outputs": [],
   "source": []
  },
  {
   "cell_type": "markdown",
   "metadata": {},
   "source": [
    "### PPT gen test"
   ]
  },
  {
   "cell_type": "code",
   "execution_count": 9,
   "metadata": {},
   "outputs": [
    {
     "name": "stdout",
     "output_type": "stream",
     "text": [
      "1 Tourism & Culture:\n",
      "shapes [TextBox: shape 0 of slide 1, TextBox: shape 1 of slide 1]\n",
      "slide_idx 1\n",
      "real_idx 1\n",
      "background_xml <p:bgPr xmlns:p=\"http://schemas.openxmlformats.org/presentationml/2006/main\" xmlns:a=\"http://schemas.openxmlformats.org/drawingml/2006/main\" xmlns:r=\"http://schemas.openxmlformats.org/officeDocument/2006/relationships\">\n",
      "  <a:noFill/>\n",
      "  <a:effectLst/>\n",
      "</p:bgPr>\n",
      "\n",
      "slide_notes None\n",
      "slide_layout_name Title Slide\n",
      "slide_title Tourism & Culture:\n",
      "slide_width 960\n",
      "slide_height 540\n",
      "\n",
      "\n",
      "\n",
      "2 What is culture?\n",
      "shapes [TextBox: shape 0 of slide 2, TextBox: shape 1 of slide 2]\n",
      "slide_idx 2\n",
      "real_idx 2\n",
      "background_xml <p:bgPr xmlns:p=\"http://schemas.openxmlformats.org/presentationml/2006/main\" xmlns:a=\"http://schemas.openxmlformats.org/drawingml/2006/main\" xmlns:r=\"http://schemas.openxmlformats.org/officeDocument/2006/relationships\">\n",
      "  <a:noFill/>\n",
      "  <a:effectLst/>\n",
      "</p:bgPr>\n",
      "\n",
      "slide_notes None\n",
      "slide_layout_name Title and Content\n",
      "slide_title What is culture?\n",
      "slide_width 960\n",
      "slide_height 540\n",
      "\n",
      "\n",
      "\n",
      "3 What is Tourism?\n",
      "shapes [TextBox: shape 0 of slide 3, TextBox: shape 1 of slide 3]\n",
      "slide_idx 3\n",
      "real_idx 3\n",
      "background_xml <p:bgPr xmlns:p=\"http://schemas.openxmlformats.org/presentationml/2006/main\" xmlns:a=\"http://schemas.openxmlformats.org/drawingml/2006/main\" xmlns:r=\"http://schemas.openxmlformats.org/officeDocument/2006/relationships\">\n",
      "  <a:noFill/>\n",
      "  <a:effectLst/>\n",
      "</p:bgPr>\n",
      "\n",
      "slide_notes None\n",
      "slide_layout_name Title and Content\n",
      "slide_title What is Tourism?\n",
      "slide_width 960\n",
      "slide_height 540\n",
      "\n",
      "\n",
      "\n",
      "4 What do we mean by Cultural Tourism?\n",
      "shapes [TextBox: shape 0 of slide 4, TextBox: shape 1 of slide 4]\n",
      "slide_idx 4\n",
      "real_idx 4\n",
      "background_xml <p:bgPr xmlns:p=\"http://schemas.openxmlformats.org/presentationml/2006/main\" xmlns:a=\"http://schemas.openxmlformats.org/drawingml/2006/main\" xmlns:r=\"http://schemas.openxmlformats.org/officeDocument/2006/relationships\">\n",
      "  <a:noFill/>\n",
      "  <a:effectLst/>\n",
      "</p:bgPr>\n",
      "\n",
      "slide_notes None\n",
      "slide_layout_name Title and Content\n",
      "slide_title What do we mean by Cultural Tourism?\n",
      "slide_width 960\n",
      "slide_height 540\n",
      "\n",
      "\n",
      "\n",
      "5 Bhubaneswar – The Temple City of India\n",
      "shapes [TextBox: shape 0 of slide 5, TextBox: shape 1 of slide 5]\n",
      "slide_idx 5\n",
      "real_idx 5\n",
      "background_xml <p:bgPr xmlns:p=\"http://schemas.openxmlformats.org/presentationml/2006/main\" xmlns:a=\"http://schemas.openxmlformats.org/drawingml/2006/main\" xmlns:r=\"http://schemas.openxmlformats.org/officeDocument/2006/relationships\">\n",
      "  <a:noFill/>\n",
      "  <a:effectLst/>\n",
      "</p:bgPr>\n",
      "\n",
      "slide_notes None\n",
      "slide_layout_name Title and Content\n",
      "slide_title Bhubaneswar – The Temple City of India\n",
      "slide_width 960\n",
      "slide_height 540\n",
      "\n",
      "\n",
      "\n"
     ]
    }
   ],
   "source": [
    "for slide in presentation.slides:\n",
    "    print(slide.slide_idx, slide.slide_title)\n",
    "    for key, value in slide.__dict__.items():\n",
    "        print(key, value)\n",
    "    print(\"\\n\\n\")\n",
    "\n",
    "# presentation cut off test\n",
    "\n",
    "presentation = Presentation.from_file(\"./examples/default_template_unedit.pptx\", pptx_config)\n",
    "presentation.slides = presentation.slides[:2]\n",
    "presentation.save(\"cutoff.pptx\")\n"
   ]
  }
 ],
 "metadata": {
  "kernelspec": {
   "display_name": "ppt",
   "language": "python",
   "name": "python3"
  },
  "language_info": {
   "codemirror_mode": {
    "name": "ipython",
    "version": 3
   },
   "file_extension": ".py",
   "mimetype": "text/x-python",
   "name": "python",
   "nbconvert_exporter": "python",
   "pygments_lexer": "ipython3",
   "version": "3.11.11"
  }
 },
 "nbformat": 4,
 "nbformat_minor": 2
}
